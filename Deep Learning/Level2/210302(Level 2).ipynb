{
 "metadata": {
  "language_info": {
   "codemirror_mode": {
    "name": "ipython",
    "version": 3
   },
   "file_extension": ".py",
   "mimetype": "text/x-python",
   "name": "python",
   "nbconvert_exporter": "python",
   "pygments_lexer": "ipython3",
   "version": "3.8.3-final"
  },
  "orig_nbformat": 2,
  "kernelspec": {
   "name": "python3",
   "display_name": "Python 3",
   "language": "python"
  }
 },
 "nbformat": 4,
 "nbformat_minor": 2,
 "cells": [
  {
   "source": [
    "# 1고지"
   ],
   "cell_type": "markdown",
   "metadata": {}
  },
  {
   "cell_type": "code",
   "execution_count": 1,
   "metadata": {},
   "outputs": [],
   "source": [
    "import numpy as np"
   ]
  },
  {
   "cell_type": "code",
   "execution_count": 69,
   "metadata": {},
   "outputs": [],
   "source": [
    "class Variable: # 객체 선언\n",
    "    def __init__(self, data):\n",
    "        if data is not None:\n",
    "            if not isinstance(data, np.ndarray) or isinstance(data, np.float64): # 타입 비교\n",
    "                raise TypeError(f'{type(data)} is not supported.') # Error 표시 및 코드 종료\n",
    "\n",
    "        self.data = data\n",
    "        self.grad = None\n",
    "        self.creator = None\n",
    "\n",
    "    def set_creator(self, func): # self 객체에 사용되는 함수 객체를 설정하는 메서드\n",
    "        self.creator = func \n",
    "\n",
    "    #### 재귀 방식과 반복문 방식의 경우 메모리 할당 측면에서 반복문 방식이 유리하다.\n",
    "    ### 재귀 방식은 호출 시마다 메모리에 누적되나 반복문의 경우 pop을 활용해 메모리가 누적되지 않은 상태로 작업을 수월한다.\n",
    "\n",
    "    ## 1. 재귀 방식의 역전파\n",
    "    # def backward(self):\n",
    "    #     f = self.creator\n",
    "    #     if f is not None:\n",
    "    #         x = f.input\n",
    "    #         x.grad = f.backward(self.grad)\n",
    "    #         x.backward() # 뒤의 인자를 받아 backward 수행 및 새로나온 결과를 다시 뒤의 인자로 활용해 재귀하는 형태\n",
    "\n",
    "    ## 2. 반복문을 이용한 역전파\n",
    "    def backward(self):\n",
    "        if self.grad is None:\n",
    "            self.grad = np.ones_like(self.data)\n",
    "\n",
    "        funcs = [self.creator]\n",
    "        while funcs: # 루프를 통한 역전파 수행\n",
    "            f = funcs.pop() # 메모리 문제를 해결하기 위한 pop\n",
    "            x, y = f.input, f.output\n",
    "            x.grad = f.backward(y.grad)\n",
    "\n",
    "            if x.creator is not None: # 최초 노드로 진입할 경우 creator가 존재하지 않으므로 더이상의 수행이 진행되지 않음\n",
    "                funcs.append(x.creator)"
   ]
  },
  {
   "cell_type": "code",
   "execution_count": 3,
   "metadata": {},
   "outputs": [],
   "source": [
    "class Function:\n",
    "    def __call__(self, input): # 객체를 함수처럼 호출하는 함수 객체로써 역할을 수행하기 위해 사용되는 매직 메서드\n",
    "        x = input.data\n",
    "        y = self.forward(x) # input이라는 variable 객체를 받아 순전파 수행 및 결과 저장\n",
    "\n",
    "        output = Variable(as_array(y)) # 값이 ndarray 타입이 아닐 경우 변환해주고 variable로 감싸주는 형태\n",
    "        output.set_creator(self)\n",
    "        self.input = input\n",
    "        self.output = output\n",
    "        return output\n",
    "\n",
    "    # 기반 클래스로 사용되므로 파생 클래스가 필수적으로 포함해야 하는 메서드인 forward와 backward를 설정하되\n",
    "    # raise로 에러를 주어서 만약 객체에 아래 메서드가 포함되지 않을 경우 Function의 forward, backward 메서드가\n",
    "    # 호출되므로 오류가 발생하고 코드가 종료되는 형태\n",
    "    def forward(self, x):\n",
    "        raise NotImplementedError() # 파생 클래스에서 구현되지 않았음을 알리는 에러\n",
    "\n",
    "    def backward(self, gy):\n",
    "        raise NotImplementedError()"
   ]
  },
  {
   "cell_type": "code",
   "execution_count": 4,
   "metadata": {},
   "outputs": [],
   "source": [
    "def as_array(x): # 타입체크 및 ndarray 형태로 변환해주는 함수\n",
    "    if np.isscalar(x):\n",
    "        return np.array(x)\n",
    "    return x"
   ]
  },
  {
   "cell_type": "code",
   "execution_count": 5,
   "metadata": {},
   "outputs": [],
   "source": [
    "class Square(Function): # Function이라는 기반 클래스로부터 상속받는 Square 파생 클래스\n",
    "    def forward(self, x):\n",
    "        return x ** 2\n",
    "\n",
    "    def backward(self, gy):\n",
    "        x = self.input.data\n",
    "        gx = 2 * x * gy\n",
    "        return gx"
   ]
  },
  {
   "cell_type": "code",
   "execution_count": 6,
   "metadata": {},
   "outputs": [],
   "source": [
    "class Exp(Function): # Function이라는 기반 클래스로부터 상속받는 Exp 파생 클래스\n",
    "    def forward(self, x):\n",
    "        return np.exp(x)\n",
    "\n",
    "    def backward(self, gy):\n",
    "        x = self.input.data\n",
    "        gy = np.exp(x) * gy\n",
    "        return gy"
   ]
  },
  {
   "cell_type": "code",
   "execution_count": 7,
   "metadata": {},
   "outputs": [],
   "source": [
    "def numerical_diff(f, x, eps=1e-4): # 수치 미분을 수행하는 전역 함수\n",
    "    if type(x.data - eps) is np.float64: # 타입 확인 및 형변환 1\n",
    "        temp1 = np.array(x.data - eps)\n",
    "        x0 = Variable(temp1)\n",
    "    else:\n",
    "        x0 = Variable(x.data - eps)\n",
    "    if type(x.data + eps) is np.float64: # 타입 확인 및 형변환 2\n",
    "        temp2 = np.array(x.data + eps)\n",
    "        x1 = Variable(temp2)\n",
    "    else:\n",
    "        x1 = Variable(x.data + eps)\n",
    "    \n",
    "    y0 = f(x0)\n",
    "    y1 = f(x1)\n",
    "    return (y1.data - y0.data) / (2*eps)"
   ]
  },
  {
   "cell_type": "code",
   "execution_count": 8,
   "metadata": {},
   "outputs": [],
   "source": [
    "def f(x): # 함수 테스트\n",
    "    A = Square() # __call__ 메서드를 통해 객체를 그대로 생성\n",
    "    B = Exp() # <__main__.Exp at 0x16a0a3257c0>\n",
    "    C = Square() # <__main__.Square at 0x16a0afa3b80>\n",
    "    return C(B(A(x)))"
   ]
  },
  {
   "cell_type": "code",
   "execution_count": 9,
   "metadata": {},
   "outputs": [
    {
     "output_type": "stream",
     "name": "stdout",
     "text": [
      "<class '__main__.Variable'>\n100.0\n"
     ]
    }
   ],
   "source": [
    "x = Variable(np.array(10.0))\n",
    "f = Square()\n",
    "y = f(x)\n",
    "print(type(y))\n",
    "print(y.data)"
   ]
  },
  {
   "cell_type": "code",
   "execution_count": 10,
   "metadata": {},
   "outputs": [
    {
     "output_type": "stream",
     "name": "stdout",
     "text": [
      "4.000000000004\n"
     ]
    }
   ],
   "source": [
    "x = Variable(np.array(2.0))\n",
    "dy = numerical_diff(f, x)\n",
    "print(dy)"
   ]
  },
  {
   "cell_type": "code",
   "execution_count": 11,
   "metadata": {},
   "outputs": [],
   "source": [
    "A = Square()\n",
    "B = Exp()\n",
    "C = Square()\n",
    "\n",
    "x = Variable(np.array(0.5))\n",
    "a = A(x)\n",
    "b = B(a)\n",
    "y = C(b)\n",
    "\n",
    "# 검증\n",
    "# assert 뒤의 값이 True가 아닐 경우, AssertionError 발생\n",
    "assert y.creator == C\n",
    "assert y.creator.input == b\n",
    "assert y.creator.input.creator == B\n",
    "assert y.creator.input.creator.input == a\n",
    "assert y.creator.input.creator.input.creator == A\n",
    "assert y.creator.input.creator.input.creator.input == x"
   ]
  },
  {
   "cell_type": "code",
   "execution_count": 12,
   "metadata": {},
   "outputs": [
    {
     "output_type": "stream",
     "name": "stdout",
     "text": [
      "3.297442541400256\n"
     ]
    }
   ],
   "source": [
    "# 역전파 1 (내부의 멤버변수를 다루지 않은 상태에서 backprop 수행)\n",
    "y.grad = np.array(1.0)\n",
    "b.grad = C.backward(y.grad)\n",
    "a.grad = B.backward(b.grad)\n",
    "x.grad = A.backward(a.grad)\n",
    "print(x.grad)"
   ]
  },
  {
   "cell_type": "code",
   "execution_count": 13,
   "metadata": {},
   "outputs": [],
   "source": [
    "# 역전파 2 (내부의 멤버변수를 차용해 backprop 수행)\n",
    "y.grad = np.array(1.0)\n",
    "\n",
    "C = y.creator\n",
    "b = C.input\n",
    "b.grad = C.backward(y.grad)\n",
    "\n",
    "B = b.creator\n",
    "a = B.input\n",
    "a.grad = B.backward(b.grad)\n",
    "\n",
    "A = a.creator\n",
    "x = A.input\n",
    "x.grad = A.backward(a.grad)"
   ]
  },
  {
   "cell_type": "code",
   "execution_count": 14,
   "metadata": {},
   "outputs": [
    {
     "output_type": "stream",
     "name": "stdout",
     "text": [
      "3.297442541400256\n"
     ]
    }
   ],
   "source": [
    "print(x.grad)"
   ]
  },
  {
   "cell_type": "code",
   "execution_count": 15,
   "metadata": {},
   "outputs": [
    {
     "output_type": "stream",
     "name": "stdout",
     "text": [
      "3.297442541400256\n"
     ]
    }
   ],
   "source": [
    "y.grad = np.array(1.0)\n",
    "y.backward()\n",
    "print(x.grad)"
   ]
  },
  {
   "cell_type": "code",
   "execution_count": 16,
   "metadata": {},
   "outputs": [],
   "source": [
    "# 함수 객체를 활용해 실제 수학적 연산을 수행하듯이 함수를 정의\n",
    "def square(x):\n",
    "    f = Square()\n",
    "    return f(x)\n",
    "    # return Square()(x)\n",
    "\n",
    "def exp(x):\n",
    "    f = Exp()\n",
    "    return f(x)\n",
    "    # return Exp()(x)"
   ]
  },
  {
   "cell_type": "code",
   "execution_count": 17,
   "metadata": {},
   "outputs": [
    {
     "output_type": "stream",
     "name": "stdout",
     "text": [
      "3.297442541400256\n"
     ]
    }
   ],
   "source": [
    "x = Variable(np.array(0.5))\n",
    "y = square(exp(square(x))) # Sqaure, Exp, Sqaure 3개의 함수 객체를 혼용하여 순전파 수행 (e**(x**2))**2 형태가 됨\n",
    "y.grad = np.array(1.0)\n",
    "y.backward()\n",
    "print(x.grad)"
   ]
  },
  {
   "cell_type": "code",
   "execution_count": 18,
   "metadata": {},
   "outputs": [
    {
     "output_type": "error",
     "ename": "TypeError",
     "evalue": "<class 'float'> is not supported.",
     "traceback": [
      "\u001b[1;31m---------------------------------------------------------------------------\u001b[0m",
      "\u001b[1;31mTypeError\u001b[0m                                 Traceback (most recent call last)",
      "\u001b[1;32m<ipython-input-18-81a250a42eb2>\u001b[0m in \u001b[0;36m<module>\u001b[1;34m\u001b[0m\n\u001b[0;32m      2\u001b[0m \u001b[0mx\u001b[0m \u001b[1;33m=\u001b[0m \u001b[0mVariable\u001b[0m\u001b[1;33m(\u001b[0m\u001b[1;32mNone\u001b[0m\u001b[1;33m)\u001b[0m\u001b[1;33m\u001b[0m\u001b[1;33m\u001b[0m\u001b[0m\n\u001b[0;32m      3\u001b[0m \u001b[1;33m\u001b[0m\u001b[0m\n\u001b[1;32m----> 4\u001b[1;33m \u001b[0mx\u001b[0m \u001b[1;33m=\u001b[0m \u001b[0mVariable\u001b[0m\u001b[1;33m(\u001b[0m\u001b[1;36m1.0\u001b[0m\u001b[1;33m)\u001b[0m \u001b[1;31m# float에 대해서 처리가 되어있지 않으므로 오류 발생 (np.float의 경우 처리됨)\u001b[0m\u001b[1;33m\u001b[0m\u001b[1;33m\u001b[0m\u001b[0m\n\u001b[0m",
      "\u001b[1;32m<ipython-input-2-d11465fed2fb>\u001b[0m in \u001b[0;36m__init__\u001b[1;34m(self, data)\u001b[0m\n\u001b[0;32m      3\u001b[0m         \u001b[1;32mif\u001b[0m \u001b[0mdata\u001b[0m \u001b[1;32mis\u001b[0m \u001b[1;32mnot\u001b[0m \u001b[1;32mNone\u001b[0m\u001b[1;33m:\u001b[0m\u001b[1;33m\u001b[0m\u001b[1;33m\u001b[0m\u001b[0m\n\u001b[0;32m      4\u001b[0m             \u001b[1;32mif\u001b[0m \u001b[1;32mnot\u001b[0m \u001b[0misinstance\u001b[0m\u001b[1;33m(\u001b[0m\u001b[0mdata\u001b[0m\u001b[1;33m,\u001b[0m \u001b[0mnp\u001b[0m\u001b[1;33m.\u001b[0m\u001b[0mndarray\u001b[0m\u001b[1;33m)\u001b[0m \u001b[1;32mor\u001b[0m \u001b[0misinstance\u001b[0m\u001b[1;33m(\u001b[0m\u001b[0mdata\u001b[0m\u001b[1;33m,\u001b[0m \u001b[0mnp\u001b[0m\u001b[1;33m.\u001b[0m\u001b[0mfloat64\u001b[0m\u001b[1;33m)\u001b[0m\u001b[1;33m:\u001b[0m \u001b[1;31m# 타입 비교\u001b[0m\u001b[1;33m\u001b[0m\u001b[1;33m\u001b[0m\u001b[0m\n\u001b[1;32m----> 5\u001b[1;33m                 \u001b[1;32mraise\u001b[0m \u001b[0mTypeError\u001b[0m\u001b[1;33m(\u001b[0m\u001b[1;34mf'{type(data)} is not supported.'\u001b[0m\u001b[1;33m)\u001b[0m \u001b[1;31m# Error 표시 및 코드 종료\u001b[0m\u001b[1;33m\u001b[0m\u001b[1;33m\u001b[0m\u001b[0m\n\u001b[0m\u001b[0;32m      6\u001b[0m \u001b[1;33m\u001b[0m\u001b[0m\n\u001b[0;32m      7\u001b[0m         \u001b[0mself\u001b[0m\u001b[1;33m.\u001b[0m\u001b[0mdata\u001b[0m \u001b[1;33m=\u001b[0m \u001b[0mdata\u001b[0m\u001b[1;33m\u001b[0m\u001b[1;33m\u001b[0m\u001b[0m\n",
      "\u001b[1;31mTypeError\u001b[0m: <class 'float'> is not supported."
     ]
    }
   ],
   "source": [
    "x = Variable(np.array(0.5))\n",
    "x = Variable(None)\n",
    "\n",
    "x = Variable(1.0) # float에 대해서 처리가 되어있지 않으므로 오류 발생 (np.float의 경우 처리됨)"
   ]
  },
  {
   "cell_type": "code",
   "execution_count": 23,
   "metadata": {},
   "outputs": [],
   "source": [
    "# 샘플 테스트 수행\n",
    "# unittest라는 모듈을 받아서 시험하고자 하는 값을 넣고\n",
    "# def 내부에 test로 시작하는 함수를 선언하면 unittest가 수행되고\n",
    "# 이 함수 내부에서 assertEqual과 같은 unittest 모듈의 다른 메서드가\n",
    "# 실행되면서 제대로 동작하는지 확인을 진행\n",
    "# ipynb파일과 다르게 .py파일을 바로 사용해야 하는 경우에는 unittest를 통한\n",
    "# 테스트 검증이 필요하고 만약 이미 release된 파일을 업데이트 해야 하는 경우에는\n",
    "# test가 필요한데 큰 파일을 그대로 가져다 사용할 수 없기 때문에 이와 같은\n",
    "# 테스트 방식을 수행합니다.\n",
    "import unittest\n",
    "\n",
    "class SquareTest(unittest.TestCase): # unittest.TestCase 클래스를 상속받는 파생클래스 생성\n",
    "    # Case 1\n",
    "    def test_forward(self): # unittest를 상속받는 클래스는 필수적으로 def에 들어가는 함수 이름에 test를 넣어주어야 한다.\n",
    "        x = Variable(np.array(2.))\n",
    "        y = square(x)\n",
    "        expected = np.array(4.0)\n",
    "        self.assertEqual(y.data, expected) # assertEqual 함수를 unittest.TestCase로부터 받아서 들어오는 인자값끼리 값을 비교한다.\n",
    "    \n",
    "    # Case 2 (include Case 1)\n",
    "    def test_backward(self):\n",
    "        x = Variable(np.array(3.))\n",
    "        y = square(x)\n",
    "        y.backward()\n",
    "        expected = np.array(6.)\n",
    "        self.assertEqual(x.grad, expected)\n",
    "\n",
    "    # Case 3 (include Case 1, 2)\n",
    "    def test_gradient_check(self):\n",
    "        x = Variable(np.random.rand(1)) # 무작위 입력값 주입\n",
    "        y = square(x)\n",
    "        y.backward()\n",
    "        num_grad = numerical_diff(square, x)\n",
    "        flg = np.allclose(x.grad, num_grad)\n",
    "        self.assertTrue(flg)\n",
    "\n",
    "# np.allclose(a, b, rtol = 1e-05, atol = 1e-08)\n",
    "# https://numpy.org/doc/stable/reference/generated/numpy.allclose.html\n",
    "# 들어오는 a와 b 값의 오차를 측정하는 함수로 |a - b| <= (atol + rtol*|b|)\n",
    "# 구문을 만족할 경우 True 반환, 나머지의 경우 False 반환"
   ]
  },
  {
   "cell_type": "code",
   "execution_count": 20,
   "metadata": {},
   "outputs": [
    {
     "output_type": "stream",
     "name": "stderr",
     "text": [
      "test_forward (__main__.SquareTest) ... ok\n",
      "\n",
      "----------------------------------------------------------------------\n",
      "Ran 1 test in 0.001s\n",
      "\n",
      "OK\n"
     ]
    },
    {
     "output_type": "execute_result",
     "data": {
      "text/plain": [
       "<unittest.main.TestProgram at 0x244c26f1fa0>"
      ]
     },
     "metadata": {},
     "execution_count": 20
    }
   ],
   "source": [
    "#########################################################\n",
    "# test_forward(self) 함수만 선언하고 사용했을 때 결과 확인 #\n",
    "#########################################################\n",
    "\n",
    "# Case 1\n",
    "unittest.main(argv=[''], verbosity=2, exit=False)\n",
    "\n",
    "# .py 파일내에서 unittest.TestCase를 상속받는 클래스를 만든 경우에는\n",
    "# 테스트 시 (첫 번째 경우)\n",
    "# python -m unittest 파일명.py\n",
    "# 라는 명령어를 터미널에 주어야 아래와 같은 실행 결과를 확인할 수 있음\n",
    "\n",
    "# 또 다른 테스트 시 (두 번째 경우)\n",
    "# 함수 본문 마지막에 unittest.main()을 추가한 뒤\n",
    "# 정상적으로 python 파일명.py\n",
    "# 를 터미널에서 실행해도 됨"
   ]
  },
  {
   "cell_type": "code",
   "execution_count": 22,
   "metadata": {},
   "outputs": [
    {
     "output_type": "stream",
     "name": "stderr",
     "text": [
      "test_backward (__main__.SquareTest) ... ok\n",
      "test_forward (__main__.SquareTest) ... ok\n",
      "\n",
      "----------------------------------------------------------------------\n",
      "Ran 2 tests in 0.002s\n",
      "\n",
      "OK\n"
     ]
    },
    {
     "output_type": "execute_result",
     "data": {
      "text/plain": [
       "<unittest.main.TestProgram at 0x244c26f1400>"
      ]
     },
     "metadata": {},
     "execution_count": 22
    }
   ],
   "source": [
    "# Case 2\n",
    "unittest.main(argv=[''], verbosity=2, exit=False)"
   ]
  },
  {
   "cell_type": "code",
   "execution_count": 24,
   "metadata": {},
   "outputs": [
    {
     "output_type": "stream",
     "name": "stderr",
     "text": [
      "test_backward (__main__.SquareTest) ... ok\n",
      "test_forward (__main__.SquareTest) ... ok\n",
      "test_gradient_check (__main__.SquareTest) ... ok\n",
      "\n",
      "----------------------------------------------------------------------\n",
      "Ran 3 tests in 0.021s\n",
      "\n",
      "OK\n"
     ]
    },
    {
     "output_type": "execute_result",
     "data": {
      "text/plain": [
       "<unittest.main.TestProgram at 0x244c27f1f10>"
      ]
     },
     "metadata": {},
     "execution_count": 24
    }
   ],
   "source": [
    "# Case 3\n",
    "unittest.main(argv=[''], verbosity=2, exit=False)"
   ]
  },
  {
   "cell_type": "code",
   "execution_count": 25,
   "metadata": {},
   "outputs": [],
   "source": [
    "# 터미널에서 .py에 있는 tests 디렉토리 내에 있는 테스트 파일들을 한꺼번에 검사하기 위해서는\n",
    "# python -m unittest discover tests\n",
    "# 라는 명령어를 주게 되면 test 폴더 내부에 있는 모든 test 파일들에 대해 검사를 수행한다.\n",
    "# 여기서 discover라는 하위 명령은 discover 뒤에 지정된 디렉터리에 대해 파일이 있는지 탐색하는 명령어."
   ]
  },
  {
   "source": [
    "# 2고지"
   ],
   "cell_type": "markdown",
   "metadata": {}
  },
  {
   "cell_type": "code",
   "execution_count": 66,
   "metadata": {},
   "outputs": [],
   "source": [
    "class Function:\n",
    "    def __call__(self, inputs): # 제 1고지와 다르게 inputs로 값을 받아서 리스트 데이터 처리(list comprehension)\n",
    "        xs = [x.data for x in inputs]\n",
    "        ys = self.forward(xs) # inputs는 Variable 객체의 리스트이므로 리스트를 분리해서 data 추출\n",
    "\n",
    "        outputs = [Variable(as_array(y)) for y in ys] # 순전파된 결과를 array로 변환한 다음 Variable의 인자값으로 주어 리스트에 다시 저장\n",
    "        \n",
    "        for output in outputs:\n",
    "            output.set_creator(self)\n",
    "        self.inputs = inputs\n",
    "        self.outputs = outputs\n",
    "        return outputs\n",
    "\n",
    "    def forward(self, x):\n",
    "        raise NotImplementedError() # 파생 클래스에서 구현되지 않았음을 알리는 에러\n",
    "\n",
    "    def backward(self, gy):\n",
    "        raise NotImplementedError()"
   ]
  },
  {
   "cell_type": "code",
   "execution_count": 67,
   "metadata": {},
   "outputs": [],
   "source": [
    "class Add(Function): # Function 클래스를 상속받는 Add 클래스 선언\n",
    "    def forward(self, xs):\n",
    "        x0, x1 = xs\n",
    "        y = x0 + x1\n",
    "        return (y,)\n",
    "\n",
    "    def backward(self, gy):\n",
    "        return gy, gy"
   ]
  },
  {
   "cell_type": "code",
   "execution_count": 70,
   "metadata": {},
   "outputs": [
    {
     "output_type": "stream",
     "name": "stdout",
     "text": [
      "5\n"
     ]
    }
   ],
   "source": [
    "xs = [Variable(np.array(2)), Variable(np.array(3))]\n",
    "f = Add()\n",
    "ys = f(xs)\n",
    "y = ys[0]\n",
    "print(y.data)"
   ]
  },
  {
   "cell_type": "code",
   "execution_count": 30,
   "metadata": {},
   "outputs": [],
   "source": [
    "class Function:\n",
    "    def __call__(self, *inputs): # 제 2고지와 첫 Function과 다르게 inputs 값을 가변인자 형태로 받음\n",
    "        xs = [x.data for x in inputs]\n",
    "        ys = self.forward(*xs) # inputs는 Variable 객체의 리스트이므로 리스트를 분리해서 data 추출\n",
    "        if not isinstance(ys, tuple):\n",
    "            ys = (ys,)\n",
    "        outputs = [Variable(as_array(y)) for y in ys] # 순전파된 결과를 array로 변환한 다음 Variable의 인자값으로 주어 리스트에 다시 저장\n",
    "        \n",
    "        self.generation = max([x.generation for x in inputs]) # 들어오는 값들의 generation값을 체크한 뒤 가장 높을 값을 현재 generation으로 설정\n",
    "        for output in outputs:\n",
    "            output.set_creator(self)\n",
    "        self.inputs = inputs\n",
    "        self.outputs = outputs\n",
    "\n",
    "        return outputs if len(outputs) > 1 else outputs[0]\n",
    "\n",
    "    def forward(self, x):\n",
    "        raise NotImplementedError() # 파생 클래스에서 구현되지 않았음을 알리는 에러\n",
    "\n",
    "    def backward(self, gy):\n",
    "        raise NotImplementedError()"
   ]
  },
  {
   "cell_type": "code",
   "execution_count": 31,
   "metadata": {},
   "outputs": [],
   "source": [
    "class Add(Function): # Function 클래스를 상속받는 Add 클래스 선언\n",
    "    def forward(self, x0, x1):\n",
    "        y = x0 + x1\n",
    "        return y # 기반 클래스에서 isinstance 여부를 확인하여 tuple로 변환 처리됨\n",
    "\n",
    "    def backward(self, gy):\n",
    "        return gy, gy"
   ]
  },
  {
   "cell_type": "code",
   "execution_count": 32,
   "metadata": {},
   "outputs": [],
   "source": [
    "def add(x0, x1): # 함수 객체 호출을 간편하게 하기 위해서 add 함수 정의\n",
    "    return Add()(x0, x1)"
   ]
  },
  {
   "cell_type": "code",
   "execution_count": 34,
   "metadata": {},
   "outputs": [],
   "source": [
    "class Variable: # 제 1고지에 있던 Variable 클래스를 수정(업데이트)\n",
    "    def __init__(self, data):\n",
    "        if data is not None:\n",
    "            if isinstance(data, list):\n",
    "                pass\n",
    "            elif not isinstance(data, np.ndarray):\n",
    "                raise TypeError(f'{type(data)} is not supported.')\n",
    "            \n",
    "\n",
    "        self.data = data\n",
    "        self.grad = None\n",
    "        self.creator = None\n",
    "        self.generation = 0\n",
    "\n",
    "    def cleargrad(self): # 한 번 사용했던 변수를 재사용하는 경우에 grad 값이 이미 존재하는 경우 충돌이 발생하므로 이를 clear해주는 메서드를 정의\n",
    "        self.grad = None\n",
    "\n",
    "    def set_creator(self, func): \n",
    "        self.creator = func\n",
    "        # generation 추가. Node가 같은 층에서 여러 개가 들어갈 경우 역전파 수행 시 직렬로 수행되므로 한 층에 있는 다른 노드에 대해서 처리가 병렬적으로 되지 않기 때문에 우선순위를 매기는 generation 변수를 설정함\n",
    "        self.generation = func.generation + 1\n",
    "\n",
    "    def backward(self): \n",
    "        if self.grad is None:\n",
    "            self.grad = np.ones_like(self.data)\n",
    "\n",
    "        funcs = [self.creator]\n",
    "        while funcs:\n",
    "            f = funcs.pop()\n",
    "            gys = [output.grad for output in f.outputs]\n",
    "            gxs = f.backward(*gys) # 가변인자로 값을 받아 역전파를 수행하고\n",
    "            if not isinstance(gxs, tuple): # 타입을 체크한 뒤\n",
    "                gxs = (gxs,)\n",
    "            for x, gx in zip(f.inputs, gxs): # zip 함수를 활용해 값을 체크하되\n",
    "                if x.grad is None:\n",
    "                    x.grad = gx\n",
    "                else: # x + x = 2x와 같이 x값을 두 번 사용하는 경우 값이 이미 연산되어 들어가므로 이에 대해서 예외 처리를 진행 & += 연산자를 사용하게 될 경우 메모리 주소를 공유하게 되므로 메모리 주소를 다르게 사용하기 위해서 x.grad = x.grad + gx 구문을 사용함\n",
    "                    x.grad = x.grad + gx\n",
    "                if x.creator is not None:\n",
    "                    funcs.append(x.creator)"
   ]
  },
  {
   "cell_type": "code",
   "execution_count": 35,
   "metadata": {},
   "outputs": [
    {
     "output_type": "stream",
     "name": "stdout",
     "text": [
      "5\n"
     ]
    }
   ],
   "source": [
    "x0 = Variable(np.array(2))\n",
    "x1 = Variable(np.array(3))\n",
    "y = add(x0, x1)\n",
    "print(y.data)"
   ]
  },
  {
   "cell_type": "code",
   "execution_count": 36,
   "metadata": {},
   "outputs": [
    {
     "output_type": "stream",
     "name": "stdout",
     "text": [
      "2.0\n3.0\n"
     ]
    }
   ],
   "source": [
    "x = Variable(np.array(3.))\n",
    "y = add(x, x)\n",
    "y.backward()\n",
    "print(x.grad)\n",
    "x.cleargrad()\n",
    "y = add(add(x, x), x)\n",
    "y.backward()\n",
    "print(x.grad)"
   ]
  },
  {
   "cell_type": "code",
   "execution_count": 153,
   "metadata": {},
   "outputs": [],
   "source": [
    "# weakref 모듈 임포트\n",
    "# 현재 순전파 및 역전파 코드는 서로가 서로를 참조하는 순환 참조 형태의 코드이기 때문에\n",
    "# weakref 모듈을 사용해서 메모리 참조 상에서 누수 문제를 방지\n",
    "import weakref\n",
    "\n",
    "class Function:\n",
    "    def __call__(self, *inputs): # 1고지와 다르게 파라미터 값을 가변 인자로 받음\n",
    "        inputs = [as_variable(x) for x in inputs] # 그에 따라서 inputs 값을 list comprehension을 사용하여 변환\n",
    "        xs = [x.data for x in inputs]\n",
    "        ys = self.forward(*xs)\n",
    "        if not isinstance(ys, tuple): # isinstance 함수를 사용하여 값의 타입 체크\n",
    "            ys = (ys,)\n",
    "        outputs = [Variable(as_array(y)) for y in ys]\n",
    "        \n",
    "        if Config.enable_backprop: # Config 클래스의 클래스 변수를 바로 체크\n",
    "            self.generation = max([x.generation for x in inputs]) # 세대 체크 및 세대값 대입\n",
    "            for output in outputs:\n",
    "                output.set_creator(self)\n",
    "            self.inputs = inputs\n",
    "            self.outputs = [weakref.ref(output) for output in outputs] # weakref.ref를 사용해 객체 내부에 output값 넣기\n",
    "        \n",
    "        return outputs if len(outputs) > 1 else outputs[0]\n",
    "\n",
    "    def forward(self, x):\n",
    "        raise NotImplementedError()\n",
    "\n",
    "    def backward(self, gy):\n",
    "        raise NotImplementedError()"
   ]
  },
  {
   "cell_type": "code",
   "execution_count": 154,
   "metadata": {},
   "outputs": [],
   "source": [
    "def as_variable(obj): # 타입 체크\n",
    "    if isinstance(obj, Variable):\n",
    "        return obj\n",
    "    return Variable(obj)"
   ]
  },
  {
   "cell_type": "code",
   "execution_count": 155,
   "metadata": {},
   "outputs": [],
   "source": [
    "class Config: # Flag 설정 class\n",
    "    enable_backprop = True"
   ]
  },
  {
   "cell_type": "code",
   "execution_count": 157,
   "metadata": {},
   "outputs": [],
   "source": [
    "class Variable:\n",
    "    def __init__(self, data):\n",
    "        if data is not None:\n",
    "            if isinstance(data, list):\n",
    "                pass\n",
    "            elif not isinstance(data, np.ndarray):\n",
    "                raise TypeError(f'{type(data)} is not supported.')\n",
    "            \n",
    "\n",
    "        self.data = data\n",
    "        self.grad = None\n",
    "        self.creator = None\n",
    "        self.generation = 0\n",
    "\n",
    "    def cleargrad(self):\n",
    "        self.grad = None\n",
    "\n",
    "    def set_creator(self, func):\n",
    "        self.creator = func\n",
    "        self.generation = func.generation + 1\n",
    "\n",
    "    # 재귀 방식의 역전파\n",
    "    # def backward(self):\n",
    "    #     f = self.creator\n",
    "    #     if f is not None:\n",
    "    #         x = f.input\n",
    "    #         x.grad = f.backward(self.grad)\n",
    "    #         x.backward()\n",
    "\n",
    "    # 반복문을 이용한 역전파\n",
    "    def backward(self):\n",
    "        if self.grad is None:\n",
    "            self.grad = np.ones_like(self.data)\n",
    "\n",
    "        funcs = [self.creator]\n",
    "        while funcs:\n",
    "            f = funcs.pop()\n",
    "            gys = [output.grad for output in f.outputs]\n",
    "            gxs = f.backward(*gys)\n",
    "            if not isinstance(gxs, tuple):\n",
    "                gxs = (gxs,)\n",
    "\n",
    "            for x, gx in zip(f.inputs, gxs):\n",
    "                if x.grad is None:\n",
    "                    x.grad = gx\n",
    "                else:\n",
    "                    x.grad = x.grad + gx\n",
    "\n",
    "                if x.creator is not None:\n",
    "                    funcs.append(x.creator)"
   ]
  },
  {
   "cell_type": "code",
   "execution_count": 202,
   "metadata": {},
   "outputs": [],
   "source": [
    "class Add(Function): # Function 클래스를 상속받는 Add 클래스 선언\n",
    "    def forward(self, x0, x1):\n",
    "        y = x0 + x1\n",
    "        return y\n",
    "\n",
    "    def backward(self, gy):\n",
    "        return gy, gy"
   ]
  },
  {
   "source": [
    "# 가변인자를 parameter로 받아서 계산\n",
    "x0 = Variable(np.array(2))\n",
    "x1 = Variable(np.array(3))\n",
    "\n",
    "f = Add()\n",
    "\n",
    "y = f(x0, x1)\n",
    "print(y.data)"
   ],
   "cell_type": "code",
   "metadata": {},
   "execution_count": 203,
   "outputs": [
    {
     "output_type": "stream",
     "name": "stdout",
     "text": [
      "5\n"
     ]
    }
   ]
  },
  {
   "cell_type": "code",
   "execution_count": 159,
   "metadata": {},
   "outputs": [],
   "source": [
    "def add(x0, x1):\n",
    "    x1 = as_array(x1)\n",
    "    return Add()(x0, x1)"
   ]
  },
  {
   "cell_type": "code",
   "execution_count": 160,
   "metadata": {},
   "outputs": [
    {
     "output_type": "stream",
     "name": "stdout",
     "text": [
      "5\n"
     ]
    }
   ],
   "source": [
    "x0 = Variable(np.array(2))\n",
    "x1 = Variable(np.array(3))\n",
    "\n",
    "y = add(x0, x1)\n",
    "print(y.data)"
   ]
  },
  {
   "cell_type": "code",
   "execution_count": 195,
   "metadata": {},
   "outputs": [],
   "source": [
    "class Add(Function): # Function 클래스를 상속받는 Add 클래스 선언\n",
    "    def forward(self, *xs):\n",
    "        if isinstance(xs, tuple):\n",
    "            xs = xs[0]\n",
    "        forward_list = [x.data for x in xs]\n",
    "        if len(forward_list) > 1:\n",
    "            y = forward_list[0] + forward_list[1]\n",
    "        else:\n",
    "            raise TypeError(f\"'Length : {len(forward_list)}' isn't worked in Function (That's not correct length).\")\n",
    "        return (y,)\n",
    "\n",
    "    def backward(self, gy):\n",
    "        return gy, gy"
   ]
  },
  {
   "source": [
    "xs = [Variable(np.array(2)), Variable(np.array(3))]\n",
    "# xs = [Variable(np.array(2))] # 오류 테스트\n",
    "f = Add()\n",
    "ys = f(xs)\n",
    "# y = ys[0]\n",
    "print(ys.data)"
   ],
   "cell_type": "code",
   "metadata": {},
   "execution_count": 196,
   "outputs": [
    {
     "output_type": "stream",
     "name": "stdout",
     "text": [
      "5\n"
     ]
    }
   ]
  },
  {
   "cell_type": "code",
   "execution_count": 225,
   "metadata": {},
   "outputs": [],
   "source": [
    "# Variable work-space\n",
    "class Variable:\n",
    "    def __init__(self, data, name = None):\n",
    "        if data is not None:\n",
    "            if not isinstance(data, np.ndarray):\n",
    "                raise TypeError(f'{type(data)} is not supported.')\n",
    "\n",
    "        self.data = data\n",
    "        self.name = name\n",
    "        self.grad = None\n",
    "        self.creator = None\n",
    "        self.generation = 0\n",
    "\n",
    "    def cleargrad(self):\n",
    "        self.grad = None\n",
    "\n",
    "    def set_creator(self, func):\n",
    "        self.creator = func\n",
    "        self.generation = func.generation + 1\n",
    "\n",
    "    # decorator를 활용하여 Variable 클래스의 data 객체는 numpy 타입이므로 해당 타입의 기능들을 Variable 객체의 기능처럼 가져옴 (shape, ndim, size, dtype).\n",
    "    @property\n",
    "    def shape(self):\n",
    "        return self.data.shape\n",
    "\n",
    "    @property\n",
    "    def ndim(self):\n",
    "        return self.data.ndim\n",
    "\n",
    "    @property\n",
    "    def size(self):\n",
    "        return self.data.size\n",
    "\n",
    "    @property\n",
    "    def dtype(self):\n",
    "        return self.data.dtype\n",
    "\n",
    "    def __len__(self): # ndarray의 길이 측정용 매직메서드\n",
    "        return len(self.data) \n",
    "\n",
    "    def __repr__(self): # print문으로 객체 호출 시 반환할 값을 정하는 매직메서드\n",
    "        if self.data is None:\n",
    "            return \"Variable(None)\"\n",
    "        p = str(self.data).replace('\\n', '\\n' + ' ' * 9)\n",
    "        return f'variable({p}) from __repr__' # print 함수로 Variable 호출 시 Variable.data의 값을 리턴하도록 설정\n",
    "\n",
    "    def __mul__(self, other): # 곱셈기능 지원\n",
    "        return mul(self, other)\n",
    "\n",
    "    def backward(self, retain_grad = False):\n",
    "        if self.grad is None:\n",
    "            self.grad = np.ones_like(self.data)\n",
    "\n",
    "        funcs = []\n",
    "        seen_set = set()\n",
    "\n",
    "        def add_func(f):\n",
    "            if f not in seen_set:\n",
    "                funcs.append(f)\n",
    "                seen_set.add(f)\n",
    "                funcs.sort(key = lambda x: x.generation)\n",
    "\n",
    "        add_func(self.creator)\n",
    "\n",
    "        while funcs:\n",
    "            f = funcs.pop()\n",
    "            gys = [output().grad for output in f.outputs]\n",
    "            gxs = f.backward(*gys)\n",
    "            if not isinstance(gxs, tuple):\n",
    "                gxs = (gxs,)\n",
    "\n",
    "            for x, gx in zip(f.inputs, gxs):\n",
    "                if x.grad is None:\n",
    "                    x.grad = gx\n",
    "                else:\n",
    "                    x.grad = x.grad + gx\n",
    "\n",
    "                if x.creator is not None:\n",
    "                    add_func(x.creator)\n",
    "        \n",
    "            if not retain_grad:\n",
    "                for y in f.outputs:\n",
    "                    y().grad = None"
   ]
  },
  {
   "cell_type": "code",
   "execution_count": 226,
   "metadata": {},
   "outputs": [],
   "source": [
    "class Square(Function):\n",
    "    def forward(self, x):\n",
    "        return x ** 2\n",
    "\n",
    "    def backward(self, gy):\n",
    "        x = self.inputs[0].data\n",
    "        gx = 2 * x * gy\n",
    "        return gx"
   ]
  },
  {
   "cell_type": "code",
   "execution_count": 227,
   "metadata": {},
   "outputs": [],
   "source": [
    "def square(x):\n",
    "    f = Square()\n",
    "    return f(x)\n",
    "    # return Square()(x)"
   ]
  },
  {
   "cell_type": "code",
   "execution_count": 228,
   "metadata": {},
   "outputs": [],
   "source": [
    "class Add(Function): # Function 클래스를 상속받는 Add 클래스 선언\n",
    "    def forward(self, x0, x1):\n",
    "        y = x0 + x1\n",
    "        return y\n",
    "\n",
    "    def backward(self, gy):\n",
    "        return gy, gy"
   ]
  },
  {
   "cell_type": "code",
   "execution_count": 229,
   "metadata": {},
   "outputs": [],
   "source": [
    "x = Variable(np.array(2.0))\n",
    "y = Variable(np.array(3.0))\n",
    "\n",
    "z = add(square(x), square(y))\n",
    "z.backward()"
   ]
  },
  {
   "cell_type": "code",
   "execution_count": 230,
   "metadata": {},
   "outputs": [
    {
     "output_type": "stream",
     "name": "stdout",
     "text": [
      "13.0\n4.0\n6.0\n"
     ]
    }
   ],
   "source": [
    "print(z.data)\n",
    "print(x.grad)\n",
    "print(y.grad)"
   ]
  },
  {
   "cell_type": "code",
   "execution_count": 231,
   "metadata": {},
   "outputs": [
    {
     "output_type": "stream",
     "name": "stdout",
     "text": [
      "None\n"
     ]
    }
   ],
   "source": [
    "x = Variable(np.array(3.0))\n",
    "y = add(x, x)\n",
    "y.backward()\n",
    "print(y.grad)"
   ]
  },
  {
   "cell_type": "code",
   "execution_count": 232,
   "metadata": {},
   "outputs": [
    {
     "output_type": "stream",
     "name": "stdout",
     "text": [
      "2.0\n3.0\n"
     ]
    }
   ],
   "source": [
    "x = Variable(np.array(3.0))\n",
    "y = add(x, x)\n",
    "y.backward()\n",
    "print(x.grad)\n",
    "\n",
    "x.cleargrad() # 메모리 절약을 위해 변수를 재사용하는 경우 grad값이 남아있는 상태이므로 초기화 수행\n",
    "y = add(add(x, x), x)\n",
    "y.backward()\n",
    "print(x.grad)"
   ]
  },
  {
   "cell_type": "code",
   "execution_count": 234,
   "metadata": {},
   "outputs": [
    {
     "output_type": "stream",
     "name": "stdout",
     "text": [
      "32.0\n64.0\n"
     ]
    }
   ],
   "source": [
    "x = Variable(np.array(2.0))         \n",
    "a = square(x)\n",
    "y = add(square(a), square(a))\n",
    "y.backward()\n",
    "\n",
    "print(y.data)\n",
    "print(x.grad)"
   ]
  },
  {
   "cell_type": "code",
   "execution_count": 235,
   "metadata": {},
   "outputs": [
    {
     "output_type": "stream",
     "name": "stdout",
     "text": [
      "None None\n2.0 1.0\n"
     ]
    }
   ],
   "source": [
    "x0 = Variable(np.array(1.0))\n",
    "x1 = Variable(np.array(1.0))\n",
    "t = add(x0, x1)\n",
    "y = add(x0, t)\n",
    "y.backward()\n",
    "\n",
    "print(y.grad, t.grad)\n",
    "print(x0.grad, x1.grad)"
   ]
  },
  {
   "cell_type": "code",
   "execution_count": 243,
   "metadata": {},
   "outputs": [],
   "source": [
    "# 메모리 할당 확인을 위한 모듈 설치\n",
    "\n",
    "# !pip install memory_profiler\n",
    "# %load_ext memory_profiler\n",
    "# %memit"
   ]
  },
  {
   "cell_type": "code",
   "execution_count": 244,
   "metadata": {},
   "outputs": [
    {
     "output_type": "stream",
     "name": "stdout",
     "text": [
      "2.0 1.0\n"
     ]
    }
   ],
   "source": [
    "Config.enable_backprop = True\n",
    "x = Variable(np.ones((100, 100, 100)))\n",
    "y = square(square(square(x)))\n",
    "y.backward()\n",
    "print(x0.grad, x1.grad)\n",
    "# %memit # peak memory: 138.91 MiB, increment: 0.00 MiB"
   ]
  },
  {
   "cell_type": "code",
   "execution_count": 245,
   "metadata": {},
   "outputs": [],
   "source": [
    "# Config.enable_backprop = False\n",
    "# x = Variable2(np.ones((100, 100, 100)))\n",
    "# y = square(square(square(x)))\n",
    "# # y.backward() # False일 경우 backward 사용 불가"
   ]
  },
  {
   "cell_type": "code",
   "execution_count": 246,
   "metadata": {},
   "outputs": [],
   "source": [
    "import contextlib\n",
    "\n",
    "@contextlib.contextmanager\n",
    "def using_config(name, value):\n",
    "    print(f\"*** Mode = {value}\")\n",
    "    old_value = getattr(Config, name)\n",
    "    setattr(Config, name, value)\n",
    "    try:\n",
    "        yield\n",
    "    finally:\n",
    "        setattr(Config, name, old_value)\n",
    "        print(\"*** Done\")"
   ]
  },
  {
   "cell_type": "code",
   "execution_count": 247,
   "metadata": {},
   "outputs": [
    {
     "output_type": "stream",
     "name": "stdout",
     "text": [
      "*** Mode = False\ny: 4.0\n*** Done\n"
     ]
    }
   ],
   "source": [
    "with using_config('enable_backprop', False):\n",
    "    x = Variable(np.array(2.0))\n",
    "    y = square(x)\n",
    "    print(\"y:\", y.data)\n",
    "    # %memit # peak memory: 100.75 MiB, increment: 0.00 MiB"
   ]
  },
  {
   "cell_type": "code",
   "execution_count": 248,
   "metadata": {},
   "outputs": [
    {
     "output_type": "stream",
     "name": "stdout",
     "text": [
      "*** Mode = False\n*** Done\n"
     ]
    }
   ],
   "source": [
    "def no_grad():\n",
    "    return using_config('enable_backprop', False)\n",
    "\n",
    "with no_grad():\n",
    "    x = Variable(np.array(2.0))\n",
    "    y = square(x)\n",
    "    # %memit # peak memory: 100.71 MiB, increment: 0.00 MiB"
   ]
  },
  {
   "source": [
    "#### contextlib 예제"
   ],
   "cell_type": "markdown",
   "metadata": {}
  },
  {
   "cell_type": "code",
   "execution_count": 249,
   "metadata": {},
   "outputs": [
    {
     "output_type": "stream",
     "name": "stdout",
     "text": [
      "start\nprocess...\ndone\n"
     ]
    }
   ],
   "source": [
    "import contextlib\n",
    "\n",
    "@contextlib.contextmanager\n",
    "def config_test():\n",
    "    print('start')\n",
    "    try:\n",
    "        yield\n",
    "    finally:\n",
    "        print('done')\n",
    "\n",
    "with config_test():\n",
    "    print('process...')"
   ]
  },
  {
   "source": [
    "#### Mul Class"
   ],
   "cell_type": "markdown",
   "metadata": {}
  },
  {
   "cell_type": "code",
   "execution_count": 251,
   "metadata": {},
   "outputs": [],
   "source": [
    "class Mul(Function):\n",
    "    def forward(self, x0, x1):\n",
    "        y = x0 * x1\n",
    "        return y\n",
    "\n",
    "    def backward(self, gy):\n",
    "        x0, x1 = self.inputs[0].data, self.inputs[1].data\n",
    "        return x1*gy, x0*gy"
   ]
  },
  {
   "cell_type": "code",
   "execution_count": 252,
   "metadata": {},
   "outputs": [],
   "source": [
    "def mul(x0, x1):\n",
    "    x1 = as_array(x1)\n",
    "    return Mul()(x0, x1)"
   ]
  },
  {
   "cell_type": "code",
   "execution_count": 253,
   "metadata": {},
   "outputs": [],
   "source": [
    "a = Variable(np.array(3.))\n",
    "b = Variable(np.array(2.))\n",
    "c = Variable(np.array(1.))\n",
    "\n",
    "y = add(mul(a, b), c)\n",
    "y.backward()"
   ]
  },
  {
   "cell_type": "code",
   "execution_count": 254,
   "metadata": {},
   "outputs": [
    {
     "output_type": "stream",
     "name": "stdout",
     "text": [
      "variable(7.0) from __repr__\n2.0\n3.0\n"
     ]
    }
   ],
   "source": [
    "print(y)\n",
    "print(a.grad)\n",
    "print(b.grad)"
   ]
  },
  {
   "cell_type": "code",
   "execution_count": 255,
   "metadata": {},
   "outputs": [
    {
     "output_type": "stream",
     "name": "stdout",
     "text": [
      "variable(6.0) from __repr__\n"
     ]
    }
   ],
   "source": [
    "a = Variable(np.array(3.))\n",
    "b = Variable(np.array(2.))\n",
    "\n",
    "y = a * b\n",
    "print(y)"
   ]
  },
  {
   "cell_type": "code",
   "execution_count": 256,
   "metadata": {},
   "outputs": [],
   "source": [
    "Variable.__mul__ = mul\n",
    "Variable.__add__ = add\n",
    "Variable.__rmul__ = mul\n",
    "Variable.__radd__ = add"
   ]
  },
  {
   "cell_type": "code",
   "execution_count": 257,
   "metadata": {},
   "outputs": [],
   "source": [
    "a = Variable(np.array(3.))\n",
    "b = Variable(np.array(2.))\n",
    "c = Variable(np.array(1.))\n",
    "\n",
    "y = a * b + c\n",
    "y.backward()"
   ]
  },
  {
   "cell_type": "code",
   "execution_count": 258,
   "metadata": {},
   "outputs": [
    {
     "output_type": "stream",
     "name": "stdout",
     "text": [
      "variable(7.0) from __repr__\n2.0\n3.0\n"
     ]
    }
   ],
   "source": [
    "print(y)\n",
    "print(a.grad)\n",
    "print(b.grad)"
   ]
  },
  {
   "cell_type": "code",
   "execution_count": 259,
   "metadata": {},
   "outputs": [],
   "source": [
    "def as_variable(obj):\n",
    "    if isinstance(obj, Variable):\n",
    "        return obj\n",
    "    return Variable(obj)"
   ]
  },
  {
   "cell_type": "code",
   "execution_count": 260,
   "metadata": {},
   "outputs": [
    {
     "output_type": "stream",
     "name": "stdout",
     "text": [
      "variable(5.0) from __repr__\n"
     ]
    }
   ],
   "source": [
    "x = Variable(np.array(2.))\n",
    "y = x + np.array(3.0)\n",
    "print(y)"
   ]
  },
  {
   "cell_type": "code",
   "execution_count": 261,
   "metadata": {},
   "outputs": [
    {
     "output_type": "stream",
     "name": "stdout",
     "text": [
      "variable(5.0) from __repr__\n"
     ]
    }
   ],
   "source": [
    "x = Variable(np.array(2.))\n",
    "y = x + 3.0\n",
    "print(y)"
   ]
  },
  {
   "cell_type": "code",
   "execution_count": 262,
   "metadata": {},
   "outputs": [
    {
     "output_type": "stream",
     "name": "stdout",
     "text": [
      "variable(5.0) from __repr__\n"
     ]
    }
   ],
   "source": [
    "y = 2.0 * x + 1.0\n",
    "print(y)"
   ]
  },
  {
   "source": [
    "#### 기타 함수 및 메서드 추가"
   ],
   "cell_type": "markdown",
   "metadata": {}
  },
  {
   "cell_type": "code",
   "execution_count": 265,
   "metadata": {},
   "outputs": [],
   "source": [
    "class Neg(Function):\n",
    "    def forward(self, x):\n",
    "        return -x\n",
    "\n",
    "    def backward(self, gy):\n",
    "        return -gy"
   ]
  },
  {
   "cell_type": "code",
   "execution_count": 266,
   "metadata": {},
   "outputs": [],
   "source": [
    "def neg(x):\n",
    "    return Neg()(x)"
   ]
  },
  {
   "cell_type": "code",
   "execution_count": 268,
   "metadata": {},
   "outputs": [],
   "source": [
    "Variable.__neg__ = neg"
   ]
  },
  {
   "cell_type": "code",
   "execution_count": 269,
   "metadata": {},
   "outputs": [],
   "source": [
    "class Sub(Function):\n",
    "    def forward(self, x0, x1):\n",
    "        y = x0 - x1\n",
    "        return y\n",
    "\n",
    "    def backward(self, gy):\n",
    "        return gy, -gy"
   ]
  },
  {
   "cell_type": "code",
   "execution_count": 270,
   "metadata": {},
   "outputs": [],
   "source": [
    "def sub(x0, x1):\n",
    "    x1 = as_array(x1)\n",
    "    return Sub()(x0, x1)\n",
    "\n",
    "def rsub(x0, x1):\n",
    "    x1 = as_array(x1)\n",
    "    return Sub()(x1, x0)"
   ]
  },
  {
   "cell_type": "code",
   "execution_count": 271,
   "metadata": {},
   "outputs": [],
   "source": [
    "Variable.__sub__ = sub\n",
    "Variable.__rsub__ = rsub"
   ]
  },
  {
   "cell_type": "code",
   "execution_count": 272,
   "metadata": {},
   "outputs": [],
   "source": [
    "class Div(Function):\n",
    "    def forward(self, x0, x1):\n",
    "        y = x0 / x1\n",
    "        return y\n",
    "\n",
    "    def backward(self, gy):\n",
    "        x0, x1 = self.inputs[0].data, self.inputs[1].data\n",
    "        gx0 = gy / x1\n",
    "        gx1 = gy * (-x0 / x1 ** 2)\n",
    "        return gx0, gx1"
   ]
  },
  {
   "cell_type": "code",
   "execution_count": 273,
   "metadata": {},
   "outputs": [],
   "source": [
    "def div(x0, x1):\n",
    "    x1 = as_array(x1)\n",
    "    return Div()(x0, x1)\n",
    "\n",
    "def rdiv(x0, x1):\n",
    "    x1 = as_array(x1)\n",
    "    return Div()(x1, x0)"
   ]
  },
  {
   "cell_type": "code",
   "execution_count": 274,
   "metadata": {},
   "outputs": [],
   "source": [
    "Variable.__truediv__ = div\n",
    "Variable.__rtruediv__ = rdiv"
   ]
  },
  {
   "cell_type": "code",
   "execution_count": 275,
   "metadata": {},
   "outputs": [],
   "source": [
    "class Pow(Function):\n",
    "    def __init__(self, c):\n",
    "        self.c = c\n",
    "\n",
    "    def forward(self, x):\n",
    "        y = x ** self.c\n",
    "        return y\n",
    "\n",
    "    def backward(self, gy):\n",
    "        x = self.inputs[0].data\n",
    "        c = self.c\n",
    "        gx = c * x ** (c - 1) * gy\n",
    "        return gx"
   ]
  },
  {
   "cell_type": "code",
   "execution_count": 278,
   "metadata": {},
   "outputs": [],
   "source": [
    "def pow(x, c):\n",
    "    return Pow(c)(x)"
   ]
  },
  {
   "cell_type": "code",
   "execution_count": 279,
   "metadata": {},
   "outputs": [],
   "source": [
    "Variable.__pow__ = pow"
   ]
  },
  {
   "cell_type": "code",
   "execution_count": 280,
   "metadata": {},
   "outputs": [
    {
     "output_type": "stream",
     "name": "stdout",
     "text": [
      "variable(1.0) from __repr__\n"
     ]
    }
   ],
   "source": [
    "x = Variable(np.array(2.0))\n",
    "y = x ** 0\n",
    "print(y)"
   ]
  }
 ]
}