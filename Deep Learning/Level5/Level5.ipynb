{
 "metadata": {
  "language_info": {
   "codemirror_mode": {
    "name": "ipython",
    "version": 3
   },
   "file_extension": ".py",
   "mimetype": "text/x-python",
   "name": "python",
   "nbconvert_exporter": "python",
   "pygments_lexer": "ipython3",
   "version": "3.9.1-final"
  },
  "orig_nbformat": 2,
  "kernelspec": {
   "name": "python3",
   "display_name": "Python 3.9.1 64-bit",
   "metadata": {
    "interpreter": {
     "hash": "3a61b7b83e458b12ef92bcb36bb1978123ef214920c2173bd2b9a204e4ae1c20"
    }
   }
  }
 },
 "nbformat": 4,
 "nbformat_minor": 2,
 "cells": [
  {
   "cell_type": "code",
   "execution_count": 1,
   "metadata": {},
   "outputs": [],
   "source": [
    "import sys\n",
    "sys.path.append('..')"
   ]
  },
  {
   "source": [
    "## GPU 지원"
   ],
   "cell_type": "markdown",
   "metadata": {}
  },
  {
   "cell_type": "code",
   "execution_count": 3,
   "metadata": {},
   "outputs": [
    {
     "output_type": "stream",
     "name": "stdout",
     "text": [
      "Requirement already satisfied: cupy in d:\\anaconda3\\lib\\site-packages (8.3.0)\nRequirement already satisfied: fastrlock>=0.3 in d:\\anaconda3\\lib\\site-packages (from cupy) (0.6)\nRequirement already satisfied: numpy>=1.15 in d:\\anaconda3\\lib\\site-packages (from cupy) (1.19.4)\n"
     ]
    }
   ],
   "source": [
    "#!pip install cupy"
   ]
  },
  {
   "cell_type": "code",
   "execution_count": null,
   "metadata": {},
   "outputs": [],
   "source": [
    "# Jupyter Notebook에서는 cupy 모듈이 인식되지 않음\n",
    "import cupy as cp\n",
    "import numpy as np\n",
    "\n",
    "\n",
    "x = cp.arange(6).reshape(2, 3)\n",
    "y = np.array([1, 2, 3])\n",
    "\n",
    "# NumPy to CuPy\n",
    "a = cp.asarray(y)\n",
    "print(a)\n",
    "print(type(a))\n",
    "print(type(y))\n",
    "assert type(a) == cp.ndarray\n",
    "\n",
    "# CuPy to NumPy\n",
    "b = cp.asnumpy(x)\n",
    "print(b)\n",
    "print(type(b))\n",
    "print(type(x))\n",
    "assert type(b) == np.ndarray\n",
    "\n",
    "xp = cp.get_array_module(y)\n",
    "assert xp == np\n",
    "xp = cp.get_array_module(x)\n",
    "assert xp == cp"
   ]
  },
  {
   "cell_type": "code",
   "execution_count": null,
   "metadata": {},
   "outputs": [],
   "source": [
    "# cuda.py - Update"
   ]
  },
  {
   "source": [
    "### Variable/Layer/DataLoader Class Update"
   ],
   "cell_type": "markdown",
   "metadata": {}
  },
  {
   "cell_type": "code",
   "execution_count": null,
   "metadata": {},
   "outputs": [],
   "source": []
  },
  {
   "cell_type": "code",
   "execution_count": null,
   "metadata": {},
   "outputs": [],
   "source": []
  }
 ]
}