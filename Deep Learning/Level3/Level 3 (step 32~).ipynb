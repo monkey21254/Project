{
 "metadata": {
  "language_info": {
   "codemirror_mode": {
    "name": "ipython",
    "version": 3
   },
   "file_extension": ".py",
   "mimetype": "text/x-python",
   "name": "python",
   "nbconvert_exporter": "python",
   "pygments_lexer": "ipython3",
   "version": "3.8.3-final"
  },
  "orig_nbformat": 2,
  "kernelspec": {
   "name": "python3",
   "display_name": "Python 3.8.3 64-bit (conda)",
   "metadata": {
    "interpreter": {
     "hash": "b3ba2566441a7c06988d0923437866b63cedc61552a5af99d1f4fb67d367b25f"
    }
   }
  }
 },
 "nbformat": 4,
 "nbformat_minor": 2,
 "cells": [
  {
   "source": [
    "## 고차 미분"
   ],
   "cell_type": "markdown",
   "metadata": {}
  },
  {
   "cell_type": "code",
   "execution_count": 1,
   "metadata": {},
   "outputs": [],
   "source": [
    "import numpy as np\n",
    "import weakref\n",
    "import contextlib"
   ]
  },
  {
   "cell_type": "code",
   "execution_count": 2,
   "metadata": {},
   "outputs": [],
   "source": [
    "class Config:\n",
    "    \"\"\"\n",
    "    Flag 설정 class\n",
    "    특징\n",
    "        Flag의 역할을 수행하는 클래스이기 때문에 클래스의 인스턴스를 생성할 필요 없이 클래스 변수를 바로 사용함\n",
    "        메모리 상에서는 이 함수의 클래스 변수가 선언될 때만 메모리가 할당되었다가 메모리 해제 시점이 올 경우 자동 해제되므로 전역변수로 설정하는 것에 비해서 메모리의 효율을 높일 수 있다.\n",
    "    \"\"\"\n",
    "    enable_backprop = True\n",
    "\n",
    "\n",
    "# 데코레이터를 활용해서 후처리를 자동으로 수행하기 위한 함수 생성\n",
    "@contextlib.contextmanager\n",
    "def using_config(name, value):\n",
    "    old_value = getattr(Config, name) # getattr 옵션으로 기존 Config 클래스의 값을 저장\n",
    "    setattr(Config, name, value) # setattr 옵션으로 Config 클래스 값 변경\n",
    "    try:\n",
    "        yield # 들여쓰기 내에 있는 본문을 실행하는 부분\n",
    "    finally:\n",
    "        setattr(Config, name, old_value) # setattr 옵션을 기존 옵션으로 다시 변경\n",
    "\n",
    "\n",
    "# using_config 옵션 설정은 스위치 버튼이나 사용 시마다 쳐야하는 불편함을 제거하고자 추가적으로 함수 생성\n",
    "def no_grad():\n",
    "    return using_config('enable_backprop', False)"
   ]
  },
  {
   "cell_type": "code",
   "execution_count": 3,
   "metadata": {},
   "outputs": [],
   "source": [
    "class Variable:\n",
    "    \"\"\" Update Version (Level 3-1).\n",
    "    Class Variable : np.array 값을 다루되 다른 멤버변수를 추가적인 특징으로 가져 다양한 정보를 모두 포함시키는 클래스.\n",
    "\n",
    "    Parameter\n",
    "    ---------\n",
    "    data : np.array\n",
    "        실제 연산에서 사용되는 값으로, 다양한 연산 및 정보 전달에도 사용\n",
    "    grad : int, float\n",
    "        역전파 수행 시, 현재 역전파 층에서의 gradient 값을 저장하여 다음 역전파에 전달하는 기능을 수행\n",
    "    creator : callable function\n",
    "        Variable 객체(인스턴스)를 연산하기 위한 함수가 무엇인지 저장하여 현재 객체는 creator에 들어온 함수값을 수행하기 위해 존재하는 것으로 판단하면 됨\n",
    "    generation : Variable 객체가 어느 세대(generation)에 포함되어 있는지를 표현하기 위한 변수\n",
    "\n",
    "    Functions\n",
    "    ---------\n",
    "    # 재귀 방식과 반복문 방식의 경우 메모리 할당 측면에서 반복문 방식이 유리하다.\n",
    "    # 재귀 방식은 호출 시마다 메모리에 누적되나 반복문의 경우 pop을 활용해 메모리가 누적되지 않은 상태로 작업을 수월한다.\n",
    "    __init__\n",
    "        isinstance : 첫 번째 파라미터값의 타입과 두 번째 파라미터값의 동등 여부를 확인하는 함수\n",
    "        retain_grad : gradient 값(y().grad)을 유지시킬지 설정하는 변수. default = False\n",
    "        name : 차후 Variable에 이름을 달아주기 위해 설정\n",
    "    cleargrad\n",
    "        메모리 절약을 위해서 한 번 할당했던 변수를 또 다시 사용해야 할 경우 기존 메모리에 있던 Variable.grad 정보가 남아있기 때문에 할당을 해제해주어야 제대로 동작을 수행하게 된다.\n",
    "    backward\n",
    "        반복문을 이용한 역전파 코드\n",
    "        while loop 내에서 zip 함수를 활용하여 x.grad에 중복되게 값이 들어갈 경우 기존 노드에 더해지도록 만들어 x + x = 2x 라는 식을 예로 들었을 때, gradient 값이 2로 정상 출력되게 하였음\n",
    "        add_func\n",
    "            역전파 시 함수가 pop되면서 새로운 값이 들어올 때, 같은 메모리를 참조하는 경우에 중복 방지를 위해서 추가된 함수\n",
    "            이미지 결과를 보면 더 이해가 쉽기 때문에 아래 코드블럭 중 Check로 Markdown 표시를 한 곳에서 이미지를 확인하기를 추천!!!\n",
    "        weakref\n",
    "            순환 참조로 인해 생기는 메모리 누수 문제를 해결하기 위해 import된 weakref 객체에 대해 실제로 값을 출력할 때는 Variable처럼 weakref도 어떠한 기본 데이터타입을 감싸고 있는 형태이므로 기본 생성자를 통해 객체를 호출함과 동시에 output을 사용해 실제 결과값을 확인함\n",
    "        >> Update\n",
    "            self.grad. 즉 역전파 시작 시 기존에는 ndarray 인스턴스를 받았으나 고차 미분을 가능하게 하기 위해 ndarray 인스턴스가 아닌 Variable 인스턴스를 받도록 설정\n",
    "    shape, ndim, size, dtype : numpy에 기본적으로 내장되어있는 메서드를 @property 데코레이터를 활용하여 바로 호출할 수 있도록 설정\n",
    "    __len__ : data의 길이 반환\n",
    "    __repr__ : print로 객체를 표현할 때 return할 값을 설정\n",
    "    __mul__ : 다른 객체 또는 데이터타입과의 multiply 기능 지원\n",
    "    \"\"\"\n",
    "    def __init__(self, data, name = None):\n",
    "        if data is not None:\n",
    "            if not isinstance(data, np.ndarray):\n",
    "                raise TypeError(f'{type(data)} is not supported.')\n",
    "\n",
    "        self.data = data\n",
    "        self.name = name\n",
    "        self.grad = None\n",
    "        self.creator = None\n",
    "        self.generation = 0\n",
    "\n",
    "    def cleargrad(self):\n",
    "        self.grad = None\n",
    "\n",
    "    def set_creator(self, func):\n",
    "        self.creator = func\n",
    "        self.generation = func.generation + 1\n",
    "\n",
    "    @property\n",
    "    def shape(self):\n",
    "        return self.data.shape\n",
    "\n",
    "    @property\n",
    "    def ndim(self):\n",
    "        return self.data.ndim\n",
    "\n",
    "    @property\n",
    "    def size(self):\n",
    "        return self.data.size\n",
    "\n",
    "    @property\n",
    "    def dtype(self):\n",
    "        return self.data.dtype\n",
    "\n",
    "    def __len__(self):\n",
    "        return len(self.data)\n",
    "\n",
    "    def __repr__(self):\n",
    "        if self.data is None:\n",
    "            return \"variable(None)\"\n",
    "        p = str(self.data).replace('\\n', '\\n' + ' ' * 9)\n",
    "        return f\"variable({p}) from class's __repr__\"\n",
    "\n",
    "    def backward(self, retain_grad = False):\n",
    "        if self.grad is None:\n",
    "            self.grad = Variable(np.ones_like(self.data))\n",
    "\n",
    "        funcs = []\n",
    "        seen_set = set()\n",
    "\n",
    "        def add_func(f):\n",
    "            if f not in seen_set:\n",
    "                funcs.append(f)\n",
    "                seen_set.add(f)\n",
    "                funcs.sort(key = lambda x: x.generation)\n",
    "\n",
    "        add_func(self.creator)\n",
    "\n",
    "        while funcs:\n",
    "            f = funcs.pop()\n",
    "            gys = [output().grad for output in f.outputs]\n",
    "            gxs = f.backward(*gys)\n",
    "            if not isinstance(gxs, tuple):\n",
    "                gxs = (gxs,)\n",
    "\n",
    "            for x, gx in zip(f.inputs, gxs):\n",
    "                if x.grad is None:\n",
    "                    x.grad = gx\n",
    "                else:\n",
    "                    x.grad = x.grad + gx\n",
    "\n",
    "                if x.creator is not None:\n",
    "                    add_func(x.creator)\n",
    "        \n",
    "            if not retain_grad:\n",
    "                for y in f.outputs:\n",
    "                    y().grad = None"
   ]
  },
  {
   "cell_type": "code",
   "execution_count": 4,
   "metadata": {},
   "outputs": [],
   "source": [
    "# 타입 체크\n",
    "def as_variable(obj):\n",
    "    if isinstance(obj, Variable):\n",
    "        return obj\n",
    "    return Variable(obj)\n",
    "\n",
    "\n",
    "# 타입 체크\n",
    "def as_array(x):\n",
    "    if np.isscalar(x):\n",
    "        return np.array(x)\n",
    "    return x"
   ]
  },
  {
   "cell_type": "code",
   "execution_count": 5,
   "metadata": {},
   "outputs": [],
   "source": [
    "class Function:\n",
    "    \"\"\" Update Version (Level 3-1).\n",
    "    Class Function : Variable 객체가 수행하는 함수들을 가지고 있는 클래스\n",
    "\n",
    "    Parameter\n",
    "    ---------\n",
    "    input : Variable (Class instance)\n",
    "    output : Variable (Class instance)\n",
    "        input.data에 들어오는 ndarray 값을 함수 클래스를 통해 순전파된 결과인 y을 가지고 as_array 함수로 ndarray로 형변환하고 Variable의 __init__ 메서드로 값을 넣어 생성된 Variable 객체\n",
    "\n",
    "    Functions\n",
    "    ---------\n",
    "    __call__\n",
    "        위 클래스는 function 객체를 다루고 function 객체 내부에 input을 함수를 사용하듯이 값을 받음을 알 수 있음        \n",
    "        inputs 파라미터를 리스트 데이터로 받아서 처리. 각각의 값은 Variable 객체로 구성되어 있음\n",
    "        list comprehension을 사용하여 묶여진 객체들을 다시 인덱싱하여 결론을 도출함\n",
    "        Level 2 버전의 Function 클래스와 큰 차이는 없으나 처음에 받는 인자를 가변인자를 받을 수 있도록 설정되어 있음\n",
    "        generation 설정 : 이전까지의 Function 클래스의 경우 단일 노드들간의 연산이었으나, 지금부터는 여러 노드들에 대한 연산(ex. 더하기, 빼기 등)도 수행해야 하기 때문에 여러 노드들의 역전파를 효율적으로 수행하기 위해 함수 단계마다 세대(generation)를 설정하여 우선순위를 매긴 다음 역전파를 수행하도록 함\n",
    "        return : outputs\n",
    "        inputs 값을 가변인자로 받기 때문에 1개인 경우에 대한 예외처리가 필요하여 삼항 연산자를 활용해 조건에 따라 return되는 값을 다르게 하였음\n",
    "        >> Update\n",
    "            Config.enable_backprop : Config 라는 클래스를 생성하되 Flag 역할을 수행하도록 하여 해당 변수가 True값을 지니고 있을 경우 역전파 수행이 가능하도록 하였음. 이로 인해 생기는 효과는 역전파 수행이 필요 없을 경우 메모리를 절약할 수 있다는 장점이 있음\n",
    "            weakref.ref : 현재 코드에서의 문제점은 메모리 누수가 발생할 수 밖에 없는 구조라는 것인데, 메모리 누수의 원인은 함수와 노드 사이의 연결이 서로가 서로를 참조하는 순환참조의 형태를 지니고 있기 때문임. 하여 weakref 모듈을 import하여 weakref가 참조하고 있는 변수의 메모리가 해제될 경우 이 변수도 정상적으로 메모리가 해제될 수 있도록 하였음\n",
    "    forward, backward\n",
    "        순전파 및 역전파 수행하는 클래스로써 기반클래스의 기본 포함 메서드. 파생 클래스에서 위 메서드들을 생성하지 않고 호출하게 되면 NotImplementedError를 raise하게 됨\n",
    "        NotImplementedError : 파생 클래스에서 구현되지 않았음을 알리는 에러\n",
    "    \"\"\"\n",
    "    def __call__(self, *inputs):\n",
    "        inputs = [as_variable(x) for x in inputs]\n",
    "\n",
    "        xs = [x.data for x in inputs]\n",
    "        ys = self.forward(*xs)\n",
    "        if not isinstance(ys, tuple):\n",
    "            ys = (ys,)\n",
    "        outputs = [Variable(as_array(y)) for y in ys]\n",
    "        \n",
    "        if Config.enable_backprop:\n",
    "            self.generation = max([x.generation for x in inputs])\n",
    "            for output in outputs:\n",
    "                output.set_creator(self)\n",
    "            self.inputs = inputs\n",
    "            self.outputs = [weakref.ref(output) for output in outputs]\n",
    "        \n",
    "        return outputs if len(outputs) > 1 else outputs[0]\n",
    "\n",
    "    def forward(self, x):\n",
    "        raise NotImplementedError()\n",
    "\n",
    "    def backward(self, gy):\n",
    "        raise NotImplementedError()"
   ]
  },
  {
   "cell_type": "code",
   "execution_count": 6,
   "metadata": {},
   "outputs": [],
   "source": [
    "class Add(Function):\n",
    "    def forward(self, x0, x1):\n",
    "        y = x0 + x1\n",
    "        return y\n",
    "\n",
    "    def backward(self, gy):\n",
    "        return gy, gy\n",
    "\n",
    "def add(x0, x1):\n",
    "    return Add()(x0, x1)"
   ]
  },
  {
   "cell_type": "code",
   "execution_count": 7,
   "metadata": {},
   "outputs": [],
   "source": [
    "class Mul(Function):\n",
    "    def forward(self, x0, x1):\n",
    "        y = x0 * x1\n",
    "        return y\n",
    "\n",
    "    def backward(self, gy):\n",
    "        \"\"\" Update: self.inputs[0].data, self.inputs[1].data >> self.inputs \"\"\"\n",
    "        x0, x1 = self.inputs\n",
    "        return x1 * gy, x0 * gy\n",
    "\n",
    "def mul(x0, x1):\n",
    "    x1 = as_array(x1)\n",
    "    return Mul()(x0, x1)"
   ]
  },
  {
   "cell_type": "code",
   "execution_count": 8,
   "metadata": {},
   "outputs": [],
   "source": [
    "class Sub(Function):\n",
    "    def forward(self, x0, x1):\n",
    "        y = x0 - x1\n",
    "        return y\n",
    "\n",
    "    def backward(self, gy):\n",
    "        return gy, -gy\n",
    "\n",
    "\n",
    "def sub(x0, x1):\n",
    "    x1 = as_array(x1)\n",
    "    return Sub()(x0, x1)\n",
    "\n",
    "def rsub(x0, x1):\n",
    "    x1 = as_array(x1)\n",
    "    return Sub()(x1, x0)"
   ]
  },
  {
   "cell_type": "code",
   "execution_count": 9,
   "metadata": {},
   "outputs": [],
   "source": [
    "class Div(Function):\n",
    "    def forward(self, x0, x1):\n",
    "        y = x0 / x1\n",
    "        return y\n",
    "\n",
    "    def backward(self, gy):\n",
    "        x0, x1 = self.inputs\n",
    "        gx0 = gy / x1\n",
    "        gx1 = gy * (-x0 / x1 ** 2)\n",
    "        return gx0, gx1\n",
    "\n",
    "\n",
    "def div(x0, x1):\n",
    "    x1 = as_array(x1)\n",
    "    return Div()(x0, x1)\n",
    "\n",
    "def rdiv(x0, x1):\n",
    "    x1 = as_array(x1)\n",
    "    return Div()(x1, x0)"
   ]
  },
  {
   "cell_type": "code",
   "execution_count": 10,
   "metadata": {},
   "outputs": [],
   "source": [
    "class Neg(Function):\n",
    "    def forward(self, x):\n",
    "        return -x\n",
    "\n",
    "    def backward(self, gy):\n",
    "        return -gy\n",
    "\n",
    "\n",
    "def neg(x):\n",
    "    return Neg()(x)"
   ]
  },
  {
   "cell_type": "code",
   "execution_count": 11,
   "metadata": {},
   "outputs": [],
   "source": [
    "class Pow(Function):\n",
    "    def __init__(self, c):\n",
    "        self.c = c\n",
    "\n",
    "    def forward(self, x):\n",
    "        y = x ** self.c\n",
    "        return y\n",
    "\n",
    "    def backward(self, gy):\n",
    "        x = self.inputs[0]\n",
    "        c = self.c\n",
    "\n",
    "        gx = c * x ** (c - 1) * gy\n",
    "        return gx\n",
    "\n",
    "\n",
    "def pow(x, c):\n",
    "    return Pow(c)(x)"
   ]
  },
  {
   "cell_type": "code",
   "execution_count": 12,
   "metadata": {},
   "outputs": [],
   "source": [
    "class Variable:\n",
    "    \"\"\" Update Version (Level 3-2).\n",
    "    Class Variable : np.array 값을 다루되 다른 멤버변수를 추가적인 특징으로 가져 다양한 정보를 모두 포함시키는 클래스.\n",
    "\n",
    "    Parameter\n",
    "    ---------\n",
    "    data : np.array\n",
    "        실제 연산에서 사용되는 값으로, 다양한 연산 및 정보 전달에도 사용\n",
    "    grad : int, float\n",
    "        역전파 수행 시, 현재 역전파 층에서의 gradient 값을 저장하여 다음 역전파에 전달하는 기능을 수행\n",
    "    creator : callable function\n",
    "        Variable 객체(인스턴스)를 연산하기 위한 함수가 무엇인지 저장하여 현재 객체는 creator에 들어온 함수값을 수행하기 위해 존재하는 것으로 판단하면 됨\n",
    "    generation : Variable 객체가 어느 세대(generation)에 포함되어 있는지를 표현하기 위한 변수\n",
    "\n",
    "    Functions\n",
    "    ---------\n",
    "    # 재귀 방식과 반복문 방식의 경우 메모리 할당 측면에서 반복문 방식이 유리하다.\n",
    "    # 재귀 방식은 호출 시마다 메모리에 누적되나 반복문의 경우 pop을 활용해 메모리가 누적되지 않은 상태로 작업을 수월한다.\n",
    "    __init__\n",
    "        isinstance : 첫 번째 파라미터값의 타입과 두 번째 파라미터값의 동등 여부를 확인하는 함수\n",
    "        retain_grad : gradient 값(y().grad)을 유지시킬지 설정하는 변수. default = False\n",
    "        name : 차후 Variable에 이름을 달아주기 위해 설정\n",
    "    cleargrad\n",
    "        메모리 절약을 위해서 한 번 할당했던 변수를 또 다시 사용해야 할 경우 기존 메모리에 있던 Variable.grad 정보가 남아있기 때문에 할당을 해제해주어야 제대로 동작을 수행하게 된다.\n",
    "    backward\n",
    "        반복문을 이용한 역전파 코드\n",
    "        while loop 내에서 zip 함수를 활용하여 x.grad에 중복되게 값이 들어갈 경우 기존 노드에 더해지도록 만들어 x + x = 2x 라는 식을 예로 들었을 때, gradient 값이 2로 정상 출력되게 하였음\n",
    "        add_func\n",
    "            역전파 시 함수가 pop되면서 새로운 값이 들어올 때, 같은 메모리를 참조하는 경우에 중복 방지를 위해서 추가된 함수\n",
    "            이미지 결과를 보면 더 이해가 쉽기 때문에 아래 코드블럭 중 Check로 Markdown 표시를 한 곳에서 이미지를 확인하기를 추천!!!\n",
    "        weakref\n",
    "            순환 참조로 인해 생기는 메모리 누수 문제를 해결하기 위해 import된 weakref 객체에 대해 실제로 값을 출력할 때는 Variable처럼 weakref도 어떠한 기본 데이터타입을 감싸고 있는 형태이므로 기본 생성자를 통해 객체를 호출함과 동시에 output을 사용해 실제 결과값을 확인함\n",
    "        self.grad. 즉 역전파 시작 시 기존에는 ndarray 인스턴스를 받았으나 고차 미분을 가능하게 하기 위해 ndarray 인스턴스가 아닌 Variable 인스턴스를 받도록 설정\n",
    "        >> Update\n",
    "            create_graph 변수 추가: 역전파 1회 계산 후 역전파를 비활성 모드로 실행하게 만드는 파라미터\n",
    "            with using_config(name, value): with 구문을 생성하여 역전파 설정을 통해 들여쓰기된 구문의 수행 여부를 판단\n",
    "            쉽게 예를 들면, 가령 Mul 클래스의 backward 메서드는 gy * x1 계산을 수행하는데, 여기서 '* 연산자'는 오버로드 되어 있으므로 실제로는 Mul()(gy, x1) 코드가 호출되고, 이에 따라 Function의 __call__()이 호출되어 __call__() 메서드에서 Config.enable_backprop을 체크하여 역전파의 활성여부를 판단하게 됨. 만약 여기서 True값이 들어가게 되면 generation이 추가되고 input & output 값이 생성되므로 역전파를 한 번 더 수행하게 된다. 이런 식으로 연결고리가 계속 있을 경우에는 입력 변수 x.grad의 값을 볼 때까지 계속해서 역전파를 수행한다.\n",
    "    shape, ndim, size, dtype : numpy에 기본적으로 내장되어있는 메서드를 @property 데코레이터를 활용하여 바로 호출할 수 있도록 설정\n",
    "    __len__ : data의 길이 반환\n",
    "    __repr__ : print로 객체를 표현할 때 return할 값을 설정\n",
    "    __mul__ : 다른 객체 또는 데이터타입과의 multiply 기능 지원\n",
    "    \"\"\"\n",
    "    def __init__(self, data, name = None):\n",
    "        if data is not None:\n",
    "            if not isinstance(data, np.ndarray):\n",
    "                raise TypeError(f'{type(data)} is not supported.')\n",
    "\n",
    "        self.data = data\n",
    "        self.name = name\n",
    "        self.grad = None\n",
    "        self.creator = None\n",
    "        self.generation = 0\n",
    "\n",
    "    def cleargrad(self):\n",
    "        self.grad = None\n",
    "\n",
    "    def set_creator(self, func):\n",
    "        self.creator = func\n",
    "        self.generation = func.generation + 1\n",
    "\n",
    "    @property\n",
    "    def shape(self):\n",
    "        return self.data.shape\n",
    "\n",
    "    @property\n",
    "    def ndim(self):\n",
    "        return self.data.ndim\n",
    "\n",
    "    @property\n",
    "    def size(self):\n",
    "        return self.data.size\n",
    "\n",
    "    @property\n",
    "    def dtype(self):\n",
    "        return self.data.dtype\n",
    "\n",
    "    def __len__(self):\n",
    "        return len(self.data)\n",
    "\n",
    "    def __repr__(self):\n",
    "        if self.data is None:\n",
    "            return \"variable(None)\"\n",
    "        p = str(self.data).replace('\\n', '\\n' + ' ' * 9)\n",
    "        return f\"variable({p}) from class's __repr__\"\n",
    "\n",
    "    def backward(self, retain_grad = False, create_graph = False):\n",
    "        if self.grad is None:\n",
    "            self.grad = Variable(np.ones_like(self.data))\n",
    "\n",
    "        funcs = []\n",
    "        seen_set = set()\n",
    "\n",
    "        def add_func(f):\n",
    "            if f not in seen_set:\n",
    "                funcs.append(f)\n",
    "                seen_set.add(f)\n",
    "                funcs.sort(key = lambda x: x.generation)\n",
    "                # print(\"add_func: \", funcs)\n",
    "\n",
    "        add_func(self.creator)\n",
    "\n",
    "        while funcs:\n",
    "            f = funcs.pop()\n",
    "            gys = [output().grad for output in f.outputs]\n",
    "            # print(f\"f: {f}, {f.inputs[0].generation}\")\n",
    "\n",
    "            with using_config('enable_backprop', create_graph):\n",
    "                gxs = f.backward(*gys)\n",
    "                if not isinstance(gxs, tuple):\n",
    "                    gxs = (gxs,)\n",
    "\n",
    "                for x, gx in zip(f.inputs, gxs):\n",
    "                    if x.grad is None:\n",
    "                        x.grad = gx\n",
    "                    else:\n",
    "                        x.grad = x.grad + gx\n",
    "\n",
    "                    if x.creator is not None:\n",
    "                        add_func(x.creator)\n",
    "\n",
    "            if not retain_grad:\n",
    "                for y in f.outputs:\n",
    "                    y().grad = None"
   ]
  },
  {
   "cell_type": "code",
   "execution_count": 13,
   "metadata": {},
   "outputs": [],
   "source": [
    "Variable.__add__ = add\n",
    "Variable.__radd__ = add\n",
    "Variable.__neg__ = neg\n",
    "Variable.__sub__ = sub\n",
    "Variable.__rsub__ = rsub\n",
    "Variable.__mul__ = mul\n",
    "Variable.__rmul__ = mul\n",
    "Variable.__truediv__ = div\n",
    "Variable.__rtruediv__ = rdiv\n",
    "Variable.__pow__ = pow"
   ]
  },
  {
   "source": [
    "## 뉴턴 방식을 사용한 최적화(자동 계산)"
   ],
   "cell_type": "markdown",
   "metadata": {}
  },
  {
   "cell_type": "code",
   "execution_count": 14,
   "metadata": {},
   "outputs": [],
   "source": [
    "# Jupyter Notebook에서는 .py 파일의 __file__ 변수를 지원하지 않기 때문에 sys 모듈을 import해서 경로를 추가해준 다음 사용해야 한다.\n",
    "# import sys\n",
    "# sys.path.append('..')\n",
    "# from myPackage import Variable"
   ]
  },
  {
   "cell_type": "code",
   "execution_count": 15,
   "metadata": {},
   "outputs": [],
   "source": [
    "def f(x):\n",
    "    y = x ** 4 - 2 * x ** 2\n",
    "    return y"
   ]
  },
  {
   "cell_type": "code",
   "execution_count": 16,
   "metadata": {},
   "outputs": [
    {
     "output_type": "stream",
     "name": "stdout",
     "text": [
      "variable(24.0) from class's __repr__\n\nvariable(68.0) from class's __repr__\n"
     ]
    }
   ],
   "source": [
    "x = Variable(np.array(2.))\n",
    "y = f(x)\n",
    "y.backward(create_graph=True)\n",
    "print(x.grad)\n",
    "print()\n",
    "\n",
    "gx = x.grad\n",
    "gx.backward()\n",
    "print(x.grad)"
   ]
  },
  {
   "cell_type": "code",
   "execution_count": 17,
   "metadata": {},
   "outputs": [
    {
     "output_type": "stream",
     "name": "stdout",
     "text": [
      "variable(24.0) from class's __repr__\n\nvariable(44.0) from class's __repr__\n"
     ]
    }
   ],
   "source": [
    "x = Variable(np.array(2.))\n",
    "y = f(x)\n",
    "y.backward(create_graph=True)\n",
    "print(x.grad)\n",
    "print()\n",
    "\n",
    "gx = x.grad\n",
    "x.cleargrad()\n",
    "gx.backward()\n",
    "print(x.grad)"
   ]
  },
  {
   "cell_type": "code",
   "execution_count": 18,
   "metadata": {},
   "outputs": [
    {
     "output_type": "stream",
     "name": "stdout",
     "text": [
      "0 variable(2.0) from class's __repr__\n1 variable(1.4545454545454546) from class's __repr__\n2 variable(1.1510467893775467) from class's __repr__\n3 variable(1.0253259289766978) from class's __repr__\n4 variable(1.0009084519430513) from class's __repr__\n5 variable(1.0000012353089454) from class's __repr__\n6 variable(1.000000000002289) from class's __repr__\n7 variable(1.0) from class's __repr__\n8 variable(1.0) from class's __repr__\n9 variable(1.0) from class's __repr__\n"
     ]
    }
   ],
   "source": [
    "x = Variable(np.array(2.))\n",
    "iters = 10\n",
    "\n",
    "for i in range(iters):\n",
    "    print(i, x)\n",
    "\n",
    "    y = f(x)\n",
    "    x.cleargrad()\n",
    "    y.backward(create_graph=True)\n",
    "\n",
    "    gx = x.grad\n",
    "    x.cleargrad()\n",
    "    gx.backward()\n",
    "    gx2 = x.grad\n",
    "\n",
    "    x.data -= gx.data / gx2.data"
   ]
  },
  {
   "source": [
    "## sin 함수 고차 미분"
   ],
   "cell_type": "markdown",
   "metadata": {}
  },
  {
   "cell_type": "code",
   "execution_count": 19,
   "metadata": {},
   "outputs": [],
   "source": [
    "class Sin(Function):\n",
    "    def forward(self, x):\n",
    "        y = np.sin(x)\n",
    "        return y\n",
    "\n",
    "    def backward(self, gy):\n",
    "        x, = self.inputs\n",
    "        gx = gy * cos(x)\n",
    "        return gx\n",
    "\n",
    "def sin(x):\n",
    "    return Sin()(x)"
   ]
  },
  {
   "cell_type": "code",
   "execution_count": 20,
   "metadata": {},
   "outputs": [],
   "source": [
    "class Cos(Function):\n",
    "    def forward(self, x):\n",
    "        y = np.cos(x)\n",
    "        return y\n",
    "\n",
    "    def backward(self, gy):\n",
    "        x, = self.inputs\n",
    "        gx = gy * -sin(x)\n",
    "        return gx\n",
    "    \n",
    "def cos(x):\n",
    "    return Cos()(x)"
   ]
  },
  {
   "cell_type": "code",
   "execution_count": 21,
   "metadata": {},
   "outputs": [
    {
     "output_type": "stream",
     "name": "stdout",
     "text": [
      "variable(-0.8414709848078965) from class's __repr__\nvariable(-0.5403023058681398) from class's __repr__\nvariable(0.8414709848078965) from class's __repr__\nvariable(0.5403023058681398) from class's __repr__\nvariable(-0.8414709848078965) from class's __repr__\n"
     ]
    }
   ],
   "source": [
    "x = Variable(np.array(1.))\n",
    "y = sin(x)\n",
    "y.backward(create_graph =  True)\n",
    "\n",
    "for i in range(5):\n",
    "    gx = x.grad\n",
    "    x.cleargrad()\n",
    "    gx.backward(create_graph=True)\n",
    "    print(x.grad)"
   ]
  },
  {
   "cell_type": "code",
   "execution_count": 22,
   "metadata": {},
   "outputs": [],
   "source": [
    "import matplotlib.pyplot as plt\n",
    "%matplotlib inline"
   ]
  },
  {
   "cell_type": "code",
   "execution_count": 23,
   "metadata": {},
   "outputs": [
    {
     "output_type": "display_data",
     "data": {
      "text/plain": "<Figure size 432x288 with 1 Axes>",
      "image/svg+xml": "<?xml version=\"1.0\" encoding=\"utf-8\" standalone=\"no\"?>\r\n<!DOCTYPE svg PUBLIC \"-//W3C//DTD SVG 1.1//EN\"\r\n  \"http://www.w3.org/Graphics/SVG/1.1/DTD/svg11.dtd\">\r\n<!-- Created with matplotlib (https://matplotlib.org/) -->\r\n<svg height=\"248.518125pt\" version=\"1.1\" viewBox=\"0 0 386.845312 248.518125\" width=\"386.845312pt\" xmlns=\"http://www.w3.org/2000/svg\" xmlns:xlink=\"http://www.w3.org/1999/xlink\">\r\n <defs>\r\n  <style type=\"text/css\">\r\n*{stroke-linecap:butt;stroke-linejoin:round;}\r\n  </style>\r\n </defs>\r\n <g id=\"figure_1\">\r\n  <g id=\"patch_1\">\r\n   <path d=\"M 0 248.518125 \r\nL 386.845312 248.518125 \r\nL 386.845312 0 \r\nL 0 0 \r\nz\r\n\" style=\"fill:none;\"/>\r\n  </g>\r\n  <g id=\"axes_1\">\r\n   <g id=\"patch_2\">\r\n    <path d=\"M 44.845313 224.64 \r\nL 379.645313 224.64 \r\nL 379.645313 7.2 \r\nL 44.845313 7.2 \r\nz\r\n\" style=\"fill:#ffffff;\"/>\r\n   </g>\r\n   <g id=\"matplotlib.axis_1\">\r\n    <g id=\"xtick_1\">\r\n     <g id=\"line2d_1\">\r\n      <defs>\r\n       <path d=\"M 0 0 \r\nL 0 3.5 \r\n\" id=\"mc12a30e60c\" style=\"stroke:#000000;stroke-width:0.8;\"/>\r\n      </defs>\r\n      <g>\r\n       <use style=\"stroke:#000000;stroke-width:0.8;\" x=\"81.803754\" xlink:href=\"#mc12a30e60c\" y=\"224.64\"/>\r\n      </g>\r\n     </g>\r\n     <g id=\"text_1\">\r\n      <!-- −6 -->\r\n      <defs>\r\n       <path d=\"M 10.59375 35.5 \r\nL 73.1875 35.5 \r\nL 73.1875 27.203125 \r\nL 10.59375 27.203125 \r\nz\r\n\" id=\"DejaVuSans-8722\"/>\r\n       <path d=\"M 33.015625 40.375 \r\nQ 26.375 40.375 22.484375 35.828125 \r\nQ 18.609375 31.296875 18.609375 23.390625 \r\nQ 18.609375 15.53125 22.484375 10.953125 \r\nQ 26.375 6.390625 33.015625 6.390625 \r\nQ 39.65625 6.390625 43.53125 10.953125 \r\nQ 47.40625 15.53125 47.40625 23.390625 \r\nQ 47.40625 31.296875 43.53125 35.828125 \r\nQ 39.65625 40.375 33.015625 40.375 \r\nz\r\nM 52.59375 71.296875 \r\nL 52.59375 62.3125 \r\nQ 48.875 64.0625 45.09375 64.984375 \r\nQ 41.3125 65.921875 37.59375 65.921875 \r\nQ 27.828125 65.921875 22.671875 59.328125 \r\nQ 17.53125 52.734375 16.796875 39.40625 \r\nQ 19.671875 43.65625 24.015625 45.921875 \r\nQ 28.375 48.1875 33.59375 48.1875 \r\nQ 44.578125 48.1875 50.953125 41.515625 \r\nQ 57.328125 34.859375 57.328125 23.390625 \r\nQ 57.328125 12.15625 50.6875 5.359375 \r\nQ 44.046875 -1.421875 33.015625 -1.421875 \r\nQ 20.359375 -1.421875 13.671875 8.265625 \r\nQ 6.984375 17.96875 6.984375 36.375 \r\nQ 6.984375 53.65625 15.1875 63.9375 \r\nQ 23.390625 74.21875 37.203125 74.21875 \r\nQ 40.921875 74.21875 44.703125 73.484375 \r\nQ 48.484375 72.75 52.59375 71.296875 \r\nz\r\n\" id=\"DejaVuSans-54\"/>\r\n      </defs>\r\n      <g transform=\"translate(74.43266 239.238437)scale(0.1 -0.1)\">\r\n       <use xlink:href=\"#DejaVuSans-8722\"/>\r\n       <use x=\"83.789062\" xlink:href=\"#DejaVuSans-54\"/>\r\n      </g>\r\n     </g>\r\n    </g>\r\n    <g id=\"xtick_2\">\r\n     <g id=\"line2d_2\">\r\n      <g>\r\n       <use style=\"stroke:#000000;stroke-width:0.8;\" x=\"125.284274\" xlink:href=\"#mc12a30e60c\" y=\"224.64\"/>\r\n      </g>\r\n     </g>\r\n     <g id=\"text_2\">\r\n      <!-- −4 -->\r\n      <defs>\r\n       <path d=\"M 37.796875 64.3125 \r\nL 12.890625 25.390625 \r\nL 37.796875 25.390625 \r\nz\r\nM 35.203125 72.90625 \r\nL 47.609375 72.90625 \r\nL 47.609375 25.390625 \r\nL 58.015625 25.390625 \r\nL 58.015625 17.1875 \r\nL 47.609375 17.1875 \r\nL 47.609375 0 \r\nL 37.796875 0 \r\nL 37.796875 17.1875 \r\nL 4.890625 17.1875 \r\nL 4.890625 26.703125 \r\nz\r\n\" id=\"DejaVuSans-52\"/>\r\n      </defs>\r\n      <g transform=\"translate(117.91318 239.238437)scale(0.1 -0.1)\">\r\n       <use xlink:href=\"#DejaVuSans-8722\"/>\r\n       <use x=\"83.789062\" xlink:href=\"#DejaVuSans-52\"/>\r\n      </g>\r\n     </g>\r\n    </g>\r\n    <g id=\"xtick_3\">\r\n     <g id=\"line2d_3\">\r\n      <g>\r\n       <use style=\"stroke:#000000;stroke-width:0.8;\" x=\"168.764793\" xlink:href=\"#mc12a30e60c\" y=\"224.64\"/>\r\n      </g>\r\n     </g>\r\n     <g id=\"text_3\">\r\n      <!-- −2 -->\r\n      <defs>\r\n       <path d=\"M 19.1875 8.296875 \r\nL 53.609375 8.296875 \r\nL 53.609375 0 \r\nL 7.328125 0 \r\nL 7.328125 8.296875 \r\nQ 12.9375 14.109375 22.625 23.890625 \r\nQ 32.328125 33.6875 34.8125 36.53125 \r\nQ 39.546875 41.84375 41.421875 45.53125 \r\nQ 43.3125 49.21875 43.3125 52.78125 \r\nQ 43.3125 58.59375 39.234375 62.25 \r\nQ 35.15625 65.921875 28.609375 65.921875 \r\nQ 23.96875 65.921875 18.8125 64.3125 \r\nQ 13.671875 62.703125 7.8125 59.421875 \r\nL 7.8125 69.390625 \r\nQ 13.765625 71.78125 18.9375 73 \r\nQ 24.125 74.21875 28.421875 74.21875 \r\nQ 39.75 74.21875 46.484375 68.546875 \r\nQ 53.21875 62.890625 53.21875 53.421875 \r\nQ 53.21875 48.921875 51.53125 44.890625 \r\nQ 49.859375 40.875 45.40625 35.40625 \r\nQ 44.1875 33.984375 37.640625 27.21875 \r\nQ 31.109375 20.453125 19.1875 8.296875 \r\nz\r\n\" id=\"DejaVuSans-50\"/>\r\n      </defs>\r\n      <g transform=\"translate(161.393699 239.238437)scale(0.1 -0.1)\">\r\n       <use xlink:href=\"#DejaVuSans-8722\"/>\r\n       <use x=\"83.789062\" xlink:href=\"#DejaVuSans-50\"/>\r\n      </g>\r\n     </g>\r\n    </g>\r\n    <g id=\"xtick_4\">\r\n     <g id=\"line2d_4\">\r\n      <g>\r\n       <use style=\"stroke:#000000;stroke-width:0.8;\" x=\"212.245313\" xlink:href=\"#mc12a30e60c\" y=\"224.64\"/>\r\n      </g>\r\n     </g>\r\n     <g id=\"text_4\">\r\n      <!-- 0 -->\r\n      <defs>\r\n       <path d=\"M 31.78125 66.40625 \r\nQ 24.171875 66.40625 20.328125 58.90625 \r\nQ 16.5 51.421875 16.5 36.375 \r\nQ 16.5 21.390625 20.328125 13.890625 \r\nQ 24.171875 6.390625 31.78125 6.390625 \r\nQ 39.453125 6.390625 43.28125 13.890625 \r\nQ 47.125 21.390625 47.125 36.375 \r\nQ 47.125 51.421875 43.28125 58.90625 \r\nQ 39.453125 66.40625 31.78125 66.40625 \r\nz\r\nM 31.78125 74.21875 \r\nQ 44.046875 74.21875 50.515625 64.515625 \r\nQ 56.984375 54.828125 56.984375 36.375 \r\nQ 56.984375 17.96875 50.515625 8.265625 \r\nQ 44.046875 -1.421875 31.78125 -1.421875 \r\nQ 19.53125 -1.421875 13.0625 8.265625 \r\nQ 6.59375 17.96875 6.59375 36.375 \r\nQ 6.59375 54.828125 13.0625 64.515625 \r\nQ 19.53125 74.21875 31.78125 74.21875 \r\nz\r\n\" id=\"DejaVuSans-48\"/>\r\n      </defs>\r\n      <g transform=\"translate(209.064063 239.238437)scale(0.1 -0.1)\">\r\n       <use xlink:href=\"#DejaVuSans-48\"/>\r\n      </g>\r\n     </g>\r\n    </g>\r\n    <g id=\"xtick_5\">\r\n     <g id=\"line2d_5\">\r\n      <g>\r\n       <use style=\"stroke:#000000;stroke-width:0.8;\" x=\"255.725832\" xlink:href=\"#mc12a30e60c\" y=\"224.64\"/>\r\n      </g>\r\n     </g>\r\n     <g id=\"text_5\">\r\n      <!-- 2 -->\r\n      <g transform=\"translate(252.544582 239.238437)scale(0.1 -0.1)\">\r\n       <use xlink:href=\"#DejaVuSans-50\"/>\r\n      </g>\r\n     </g>\r\n    </g>\r\n    <g id=\"xtick_6\">\r\n     <g id=\"line2d_6\">\r\n      <g>\r\n       <use style=\"stroke:#000000;stroke-width:0.8;\" x=\"299.206351\" xlink:href=\"#mc12a30e60c\" y=\"224.64\"/>\r\n      </g>\r\n     </g>\r\n     <g id=\"text_6\">\r\n      <!-- 4 -->\r\n      <g transform=\"translate(296.025101 239.238437)scale(0.1 -0.1)\">\r\n       <use xlink:href=\"#DejaVuSans-52\"/>\r\n      </g>\r\n     </g>\r\n    </g>\r\n    <g id=\"xtick_7\">\r\n     <g id=\"line2d_7\">\r\n      <g>\r\n       <use style=\"stroke:#000000;stroke-width:0.8;\" x=\"342.686871\" xlink:href=\"#mc12a30e60c\" y=\"224.64\"/>\r\n      </g>\r\n     </g>\r\n     <g id=\"text_7\">\r\n      <!-- 6 -->\r\n      <g transform=\"translate(339.505621 239.238437)scale(0.1 -0.1)\">\r\n       <use xlink:href=\"#DejaVuSans-54\"/>\r\n      </g>\r\n     </g>\r\n    </g>\r\n   </g>\r\n   <g id=\"matplotlib.axis_2\">\r\n    <g id=\"ytick_1\">\r\n     <g id=\"line2d_8\">\r\n      <defs>\r\n       <path d=\"M 0 0 \r\nL -3.5 0 \r\n\" id=\"mfeabbaeeed\" style=\"stroke:#000000;stroke-width:0.8;\"/>\r\n      </defs>\r\n      <g>\r\n       <use style=\"stroke:#000000;stroke-width:0.8;\" x=\"44.845313\" xlink:href=\"#mfeabbaeeed\" y=\"214.762278\"/>\r\n      </g>\r\n     </g>\r\n     <g id=\"text_8\">\r\n      <!-- −1.00 -->\r\n      <defs>\r\n       <path d=\"M 12.40625 8.296875 \r\nL 28.515625 8.296875 \r\nL 28.515625 63.921875 \r\nL 10.984375 60.40625 \r\nL 10.984375 69.390625 \r\nL 28.421875 72.90625 \r\nL 38.28125 72.90625 \r\nL 38.28125 8.296875 \r\nL 54.390625 8.296875 \r\nL 54.390625 0 \r\nL 12.40625 0 \r\nz\r\n\" id=\"DejaVuSans-49\"/>\r\n       <path d=\"M 10.6875 12.40625 \r\nL 21 12.40625 \r\nL 21 0 \r\nL 10.6875 0 \r\nz\r\n\" id=\"DejaVuSans-46\"/>\r\n      </defs>\r\n      <g transform=\"translate(7.2 218.561497)scale(0.1 -0.1)\">\r\n       <use xlink:href=\"#DejaVuSans-8722\"/>\r\n       <use x=\"83.789062\" xlink:href=\"#DejaVuSans-49\"/>\r\n       <use x=\"147.412109\" xlink:href=\"#DejaVuSans-46\"/>\r\n       <use x=\"179.199219\" xlink:href=\"#DejaVuSans-48\"/>\r\n       <use x=\"242.822266\" xlink:href=\"#DejaVuSans-48\"/>\r\n      </g>\r\n     </g>\r\n    </g>\r\n    <g id=\"ytick_2\">\r\n     <g id=\"line2d_9\">\r\n      <g>\r\n       <use style=\"stroke:#000000;stroke-width:0.8;\" x=\"44.845313\" xlink:href=\"#mfeabbaeeed\" y=\"190.051708\"/>\r\n      </g>\r\n     </g>\r\n     <g id=\"text_9\">\r\n      <!-- −0.75 -->\r\n      <defs>\r\n       <path d=\"M 8.203125 72.90625 \r\nL 55.078125 72.90625 \r\nL 55.078125 68.703125 \r\nL 28.609375 0 \r\nL 18.3125 0 \r\nL 43.21875 64.59375 \r\nL 8.203125 64.59375 \r\nz\r\n\" id=\"DejaVuSans-55\"/>\r\n       <path d=\"M 10.796875 72.90625 \r\nL 49.515625 72.90625 \r\nL 49.515625 64.59375 \r\nL 19.828125 64.59375 \r\nL 19.828125 46.734375 \r\nQ 21.96875 47.46875 24.109375 47.828125 \r\nQ 26.265625 48.1875 28.421875 48.1875 \r\nQ 40.625 48.1875 47.75 41.5 \r\nQ 54.890625 34.8125 54.890625 23.390625 \r\nQ 54.890625 11.625 47.5625 5.09375 \r\nQ 40.234375 -1.421875 26.90625 -1.421875 \r\nQ 22.3125 -1.421875 17.546875 -0.640625 \r\nQ 12.796875 0.140625 7.71875 1.703125 \r\nL 7.71875 11.625 \r\nQ 12.109375 9.234375 16.796875 8.0625 \r\nQ 21.484375 6.890625 26.703125 6.890625 \r\nQ 35.15625 6.890625 40.078125 11.328125 \r\nQ 45.015625 15.765625 45.015625 23.390625 \r\nQ 45.015625 31 40.078125 35.4375 \r\nQ 35.15625 39.890625 26.703125 39.890625 \r\nQ 22.75 39.890625 18.8125 39.015625 \r\nQ 14.890625 38.140625 10.796875 36.28125 \r\nz\r\n\" id=\"DejaVuSans-53\"/>\r\n      </defs>\r\n      <g transform=\"translate(7.2 193.850927)scale(0.1 -0.1)\">\r\n       <use xlink:href=\"#DejaVuSans-8722\"/>\r\n       <use x=\"83.789062\" xlink:href=\"#DejaVuSans-48\"/>\r\n       <use x=\"147.412109\" xlink:href=\"#DejaVuSans-46\"/>\r\n       <use x=\"179.199219\" xlink:href=\"#DejaVuSans-55\"/>\r\n       <use x=\"242.822266\" xlink:href=\"#DejaVuSans-53\"/>\r\n      </g>\r\n     </g>\r\n    </g>\r\n    <g id=\"ytick_3\">\r\n     <g id=\"line2d_10\">\r\n      <g>\r\n       <use style=\"stroke:#000000;stroke-width:0.8;\" x=\"44.845313\" xlink:href=\"#mfeabbaeeed\" y=\"165.341139\"/>\r\n      </g>\r\n     </g>\r\n     <g id=\"text_10\">\r\n      <!-- −0.50 -->\r\n      <g transform=\"translate(7.2 169.140358)scale(0.1 -0.1)\">\r\n       <use xlink:href=\"#DejaVuSans-8722\"/>\r\n       <use x=\"83.789062\" xlink:href=\"#DejaVuSans-48\"/>\r\n       <use x=\"147.412109\" xlink:href=\"#DejaVuSans-46\"/>\r\n       <use x=\"179.199219\" xlink:href=\"#DejaVuSans-53\"/>\r\n       <use x=\"242.822266\" xlink:href=\"#DejaVuSans-48\"/>\r\n      </g>\r\n     </g>\r\n    </g>\r\n    <g id=\"ytick_4\">\r\n     <g id=\"line2d_11\">\r\n      <g>\r\n       <use style=\"stroke:#000000;stroke-width:0.8;\" x=\"44.845313\" xlink:href=\"#mfeabbaeeed\" y=\"140.630569\"/>\r\n      </g>\r\n     </g>\r\n     <g id=\"text_11\">\r\n      <!-- −0.25 -->\r\n      <g transform=\"translate(7.2 144.429788)scale(0.1 -0.1)\">\r\n       <use xlink:href=\"#DejaVuSans-8722\"/>\r\n       <use x=\"83.789062\" xlink:href=\"#DejaVuSans-48\"/>\r\n       <use x=\"147.412109\" xlink:href=\"#DejaVuSans-46\"/>\r\n       <use x=\"179.199219\" xlink:href=\"#DejaVuSans-50\"/>\r\n       <use x=\"242.822266\" xlink:href=\"#DejaVuSans-53\"/>\r\n      </g>\r\n     </g>\r\n    </g>\r\n    <g id=\"ytick_5\">\r\n     <g id=\"line2d_12\">\r\n      <g>\r\n       <use style=\"stroke:#000000;stroke-width:0.8;\" x=\"44.845313\" xlink:href=\"#mfeabbaeeed\" y=\"115.92\"/>\r\n      </g>\r\n     </g>\r\n     <g id=\"text_12\">\r\n      <!-- 0.00 -->\r\n      <g transform=\"translate(15.579688 119.719219)scale(0.1 -0.1)\">\r\n       <use xlink:href=\"#DejaVuSans-48\"/>\r\n       <use x=\"63.623047\" xlink:href=\"#DejaVuSans-46\"/>\r\n       <use x=\"95.410156\" xlink:href=\"#DejaVuSans-48\"/>\r\n       <use x=\"159.033203\" xlink:href=\"#DejaVuSans-48\"/>\r\n      </g>\r\n     </g>\r\n    </g>\r\n    <g id=\"ytick_6\">\r\n     <g id=\"line2d_13\">\r\n      <g>\r\n       <use style=\"stroke:#000000;stroke-width:0.8;\" x=\"44.845313\" xlink:href=\"#mfeabbaeeed\" y=\"91.209431\"/>\r\n      </g>\r\n     </g>\r\n     <g id=\"text_13\">\r\n      <!-- 0.25 -->\r\n      <g transform=\"translate(15.579688 95.008649)scale(0.1 -0.1)\">\r\n       <use xlink:href=\"#DejaVuSans-48\"/>\r\n       <use x=\"63.623047\" xlink:href=\"#DejaVuSans-46\"/>\r\n       <use x=\"95.410156\" xlink:href=\"#DejaVuSans-50\"/>\r\n       <use x=\"159.033203\" xlink:href=\"#DejaVuSans-53\"/>\r\n      </g>\r\n     </g>\r\n    </g>\r\n    <g id=\"ytick_7\">\r\n     <g id=\"line2d_14\">\r\n      <g>\r\n       <use style=\"stroke:#000000;stroke-width:0.8;\" x=\"44.845313\" xlink:href=\"#mfeabbaeeed\" y=\"66.498861\"/>\r\n      </g>\r\n     </g>\r\n     <g id=\"text_14\">\r\n      <!-- 0.50 -->\r\n      <g transform=\"translate(15.579688 70.29808)scale(0.1 -0.1)\">\r\n       <use xlink:href=\"#DejaVuSans-48\"/>\r\n       <use x=\"63.623047\" xlink:href=\"#DejaVuSans-46\"/>\r\n       <use x=\"95.410156\" xlink:href=\"#DejaVuSans-53\"/>\r\n       <use x=\"159.033203\" xlink:href=\"#DejaVuSans-48\"/>\r\n      </g>\r\n     </g>\r\n    </g>\r\n    <g id=\"ytick_8\">\r\n     <g id=\"line2d_15\">\r\n      <g>\r\n       <use style=\"stroke:#000000;stroke-width:0.8;\" x=\"44.845313\" xlink:href=\"#mfeabbaeeed\" y=\"41.788292\"/>\r\n      </g>\r\n     </g>\r\n     <g id=\"text_15\">\r\n      <!-- 0.75 -->\r\n      <g transform=\"translate(15.579688 45.58751)scale(0.1 -0.1)\">\r\n       <use xlink:href=\"#DejaVuSans-48\"/>\r\n       <use x=\"63.623047\" xlink:href=\"#DejaVuSans-46\"/>\r\n       <use x=\"95.410156\" xlink:href=\"#DejaVuSans-55\"/>\r\n       <use x=\"159.033203\" xlink:href=\"#DejaVuSans-53\"/>\r\n      </g>\r\n     </g>\r\n    </g>\r\n    <g id=\"ytick_9\">\r\n     <g id=\"line2d_16\">\r\n      <g>\r\n       <use style=\"stroke:#000000;stroke-width:0.8;\" x=\"44.845313\" xlink:href=\"#mfeabbaeeed\" y=\"17.077722\"/>\r\n      </g>\r\n     </g>\r\n     <g id=\"text_16\">\r\n      <!-- 1.00 -->\r\n      <g transform=\"translate(15.579688 20.876941)scale(0.1 -0.1)\">\r\n       <use xlink:href=\"#DejaVuSans-49\"/>\r\n       <use x=\"63.623047\" xlink:href=\"#DejaVuSans-46\"/>\r\n       <use x=\"95.410156\" xlink:href=\"#DejaVuSans-48\"/>\r\n       <use x=\"159.033203\" xlink:href=\"#DejaVuSans-48\"/>\r\n      </g>\r\n     </g>\r\n    </g>\r\n   </g>\r\n   <g id=\"line2d_17\">\r\n    <path clip-path=\"url(#p48f70bbbb4)\" d=\"M 60.063494 180.858052 \r\nL 63.122425 169.766006 \r\nL 66.181356 157.609702 \r\nL 69.240287 144.629408 \r\nL 73.828684 124.178405 \r\nL 81.476011 89.735755 \r\nL 84.534942 76.628135 \r\nL 87.593873 64.297113 \r\nL 90.652805 52.986409 \r\nL 93.711736 42.919577 \r\nL 95.241201 38.415863 \r\nL 96.770667 34.295587 \r\nL 98.300132 30.579134 \r\nL 99.829598 27.28489 \r\nL 101.359063 24.429153 \r\nL 102.888529 22.026052 \r\nL 104.417994 20.087475 \r\nL 105.94746 18.623013 \r\nL 107.476925 17.639911 \r\nL 109.006391 17.143033 \r\nL 110.535856 17.134838 \r\nL 112.065322 17.615364 \r\nL 113.594787 18.582237 \r\nL 115.124253 20.030671 \r\nL 116.653718 21.953501 \r\nL 118.183184 24.341215 \r\nL 119.712649 27.181999 \r\nL 121.242115 30.461798 \r\nL 122.77158 34.164388 \r\nL 124.301046 38.27145 \r\nL 125.830511 42.762664 \r\nL 128.889442 52.806884 \r\nL 131.948373 64.098524 \r\nL 135.007304 76.414407 \r\nL 139.595701 96.271845 \r\nL 151.831425 150.989059 \r\nL 154.890356 163.602309 \r\nL 157.949287 175.273125 \r\nL 161.008218 185.770836 \r\nL 162.537683 190.513917 \r\nL 164.067149 194.887957 \r\nL 165.596614 198.871317 \r\nL 167.12608 202.444289 \r\nL 168.655545 205.589197 \r\nL 170.185011 208.290482 \r\nL 171.714477 210.53478 \r\nL 173.243942 212.310987 \r\nL 174.773408 213.610317 \r\nL 176.302873 214.42634 \r\nL 177.832339 214.75502 \r\nL 179.361804 214.594731 \r\nL 180.89127 213.946265 \r\nL 182.420735 212.812832 \r\nL 183.950201 211.200037 \r\nL 185.479666 209.115861 \r\nL 187.009132 206.570614 \r\nL 188.538597 203.576889 \r\nL 190.068063 200.149496 \r\nL 191.597528 196.305393 \r\nL 193.126994 192.063596 \r\nL 194.656459 187.445092 \r\nL 197.71539 177.171109 \r\nL 200.774321 165.686508 \r\nL 203.833252 153.21828 \r\nL 208.421649 133.214832 \r\nL 220.657373 78.62172 \r\nL 223.716304 66.153492 \r\nL 226.775235 54.668891 \r\nL 229.834166 44.394908 \r\nL 231.363631 39.776404 \r\nL 232.893097 35.534607 \r\nL 234.422562 31.690504 \r\nL 235.952028 28.263111 \r\nL 237.481493 25.269386 \r\nL 239.010959 22.724139 \r\nL 240.540424 20.639963 \r\nL 242.06989 19.027168 \r\nL 243.599355 17.893735 \r\nL 245.128821 17.245269 \r\nL 246.658286 17.08498 \r\nL 248.187752 17.41366 \r\nL 249.717217 18.229683 \r\nL 251.246683 19.529013 \r\nL 252.776148 21.30522 \r\nL 254.305614 23.549518 \r\nL 255.83508 26.250803 \r\nL 257.364545 29.395711 \r\nL 258.894011 32.968683 \r\nL 260.423476 36.952043 \r\nL 261.952942 41.326083 \r\nL 265.011873 51.157819 \r\nL 268.070804 62.26957 \r\nL 271.129735 74.441713 \r\nL 274.188666 87.433667 \r\nL 278.777062 107.893845 \r\nL 286.42439 142.328889 \r\nL 289.483321 155.425593 \r\nL 292.542252 167.741476 \r\nL 295.601183 179.033116 \r\nL 298.660114 189.077336 \r\nL 300.189579 193.56855 \r\nL 301.719045 197.675612 \r\nL 303.24851 201.378202 \r\nL 304.777976 204.658001 \r\nL 306.307441 207.498785 \r\nL 307.836907 209.886499 \r\nL 309.366372 211.809329 \r\nL 310.895838 213.257763 \r\nL 312.425303 214.224636 \r\nL 313.954769 214.705162 \r\nL 315.484234 214.696967 \r\nL 317.0137 214.200089 \r\nL 318.543165 213.216987 \r\nL 320.072631 211.752525 \r\nL 321.602096 209.813948 \r\nL 323.131562 207.410847 \r\nL 324.661027 204.55511 \r\nL 326.190493 201.260866 \r\nL 327.719958 197.544413 \r\nL 329.249424 193.424137 \r\nL 330.778889 188.920423 \r\nL 333.83782 178.853591 \r\nL 336.896752 167.542887 \r\nL 339.955683 155.211865 \r\nL 344.544079 135.33971 \r\nL 356.779803 80.633158 \r\nL 359.838734 68.033692 \r\nL 362.897665 56.380691 \r\nL 364.427131 50.981948 \r\nL 364.427131 50.981948 \r\n\" style=\"fill:none;stroke:#1f77b4;stroke-linecap:square;stroke-width:1.5;\"/>\r\n   </g>\r\n   <g id=\"line2d_18\">\r\n    <path clip-path=\"url(#p48f70bbbb4)\" d=\"M 60.063494 41.402584 \r\nL 61.59296 37.022176 \r\nL 63.122425 33.032102 \r\nL 64.651891 29.452102 \r\nL 66.181356 26.299887 \r\nL 67.710822 23.591052 \r\nL 69.240287 21.338999 \r\nL 70.769753 19.554869 \r\nL 72.299218 18.247489 \r\nL 73.828684 17.423327 \r\nL 75.358149 17.08646 \r\nL 76.887615 17.238556 \r\nL 78.41708 17.878861 \r\nL 79.946546 19.004208 \r\nL 81.476011 20.609029 \r\nL 83.005477 22.685385 \r\nL 84.534942 25.223003 \r\nL 86.064408 28.209329 \r\nL 87.593873 31.629589 \r\nL 89.123339 35.466861 \r\nL 90.652805 39.702161 \r\nL 92.18227 44.314536 \r\nL 95.241201 54.577482 \r\nL 98.300132 66.052852 \r\nL 101.359063 78.513839 \r\nL 105.94746 98.510456 \r\nL 118.183184 153.110348 \r\nL 121.242115 165.5858 \r\nL 124.301046 177.079615 \r\nL 127.359977 187.364621 \r\nL 128.889442 191.989248 \r\nL 130.418908 196.237535 \r\nL 131.948373 200.088465 \r\nL 133.477839 203.522986 \r\nL 135.007304 206.524106 \r\nL 136.53677 209.076977 \r\nL 138.066235 211.168971 \r\nL 139.595701 212.789737 \r\nL 141.125166 213.931256 \r\nL 142.654632 214.587881 \r\nL 144.184097 214.756364 \r\nL 145.713563 214.43587 \r\nL 147.243028 213.627987 \r\nL 148.772494 212.336709 \r\nL 150.301959 210.568427 \r\nL 151.831425 208.331888 \r\nL 153.36089 205.638156 \r\nL 154.890356 202.50056 \r\nL 156.419821 198.934621 \r\nL 157.949287 194.957981 \r\nL 159.478752 190.590314 \r\nL 162.537683 180.770161 \r\nL 165.596614 169.668255 \r\nL 168.655545 157.504023 \r\nL 171.714477 144.51789 \r\nL 176.302873 124.062286 \r\nL 183.950201 89.623415 \r\nL 187.009132 76.521243 \r\nL 190.068063 64.197782 \r\nL 193.126994 52.896602 \r\nL 196.185925 42.84107 \r\nL 197.71539 38.343602 \r\nL 199.244856 34.229931 \r\nL 200.774321 30.520407 \r\nL 202.303787 27.233383 \r\nL 203.833252 24.38512 \r\nL 205.362718 21.989711 \r\nL 206.892183 20.059006 \r\nL 208.421649 18.602557 \r\nL 209.951114 17.62757 \r\nL 211.48058 17.138867 \r\nL 213.010045 17.138867 \r\nL 214.539511 17.62757 \r\nL 216.068976 18.602557 \r\nL 217.598442 20.059006 \r\nL 219.127907 21.989711 \r\nL 220.657373 24.38512 \r\nL 222.186838 27.233383 \r\nL 223.716304 30.520407 \r\nL 225.245769 34.229931 \r\nL 226.775235 38.343602 \r\nL 228.3047 42.84107 \r\nL 231.363631 52.896602 \r\nL 234.422562 64.197782 \r\nL 237.481493 76.521243 \r\nL 242.06989 96.386054 \r\nL 254.305614 151.097975 \r\nL 257.364545 163.704342 \r\nL 260.423476 175.366258 \r\nL 263.482407 185.853229 \r\nL 265.011873 190.590314 \r\nL 266.541338 194.957981 \r\nL 268.070804 198.934621 \r\nL 269.600269 202.50056 \r\nL 271.129735 205.638156 \r\nL 272.6592 208.331888 \r\nL 274.188666 210.568427 \r\nL 275.718131 212.336709 \r\nL 277.247597 213.627987 \r\nL 278.777062 214.43587 \r\nL 280.306528 214.756364 \r\nL 281.835993 214.587881 \r\nL 283.365459 213.931256 \r\nL 284.894924 212.789737 \r\nL 286.42439 211.168971 \r\nL 287.953855 209.076977 \r\nL 289.483321 206.524106 \r\nL 291.012786 203.522986 \r\nL 292.542252 200.088465 \r\nL 294.071717 196.237535 \r\nL 295.601183 191.989248 \r\nL 298.660114 182.386534 \r\nL 301.719045 171.47012 \r\nL 304.777976 159.455767 \r\nL 307.836907 146.580936 \r\nL 312.425303 126.215363 \r\nL 321.602096 85.037603 \r\nL 324.661027 72.175135 \r\nL 327.719958 60.177278 \r\nL 330.778889 49.281167 \r\nL 333.83782 39.702161 \r\nL 335.367286 35.466861 \r\nL 336.896752 31.629589 \r\nL 338.426217 28.209329 \r\nL 339.955683 25.223003 \r\nL 341.485148 22.685385 \r\nL 343.014614 20.609029 \r\nL 344.544079 19.004208 \r\nL 346.073545 17.878861 \r\nL 347.60301 17.238556 \r\nL 349.132476 17.08646 \r\nL 350.661941 17.423327 \r\nL 352.191407 18.247489 \r\nL 353.720872 19.554869 \r\nL 355.250338 21.338999 \r\nL 356.779803 23.591052 \r\nL 358.309269 26.299887 \r\nL 359.838734 29.452102 \r\nL 361.3682 33.032102 \r\nL 362.897665 37.022176 \r\nL 364.427131 41.402584 \r\nL 364.427131 41.402584 \r\n\" style=\"fill:none;stroke:#ff7f0e;stroke-linecap:square;stroke-width:1.5;\"/>\r\n   </g>\r\n   <g id=\"line2d_19\">\r\n    <path clip-path=\"url(#p48f70bbbb4)\" d=\"M 60.063494 50.981948 \r\nL 63.122425 62.073994 \r\nL 66.181356 74.230298 \r\nL 69.240287 87.210592 \r\nL 73.828684 107.661595 \r\nL 81.476011 142.104245 \r\nL 84.534942 155.211865 \r\nL 87.593873 167.542887 \r\nL 90.652805 178.853591 \r\nL 93.711736 188.920423 \r\nL 95.241201 193.424137 \r\nL 96.770667 197.544413 \r\nL 98.300132 201.260866 \r\nL 99.829598 204.55511 \r\nL 101.359063 207.410847 \r\nL 102.888529 209.813948 \r\nL 104.417994 211.752525 \r\nL 105.94746 213.216987 \r\nL 107.476925 214.200089 \r\nL 109.006391 214.696967 \r\nL 110.535856 214.705162 \r\nL 112.065322 214.224636 \r\nL 113.594787 213.257763 \r\nL 115.124253 211.809329 \r\nL 116.653718 209.886499 \r\nL 118.183184 207.498785 \r\nL 119.712649 204.658001 \r\nL 121.242115 201.378202 \r\nL 122.77158 197.675612 \r\nL 124.301046 193.56855 \r\nL 125.830511 189.077336 \r\nL 128.889442 179.033116 \r\nL 131.948373 167.741476 \r\nL 135.007304 155.425593 \r\nL 139.595701 135.568155 \r\nL 151.831425 80.850941 \r\nL 154.890356 68.237691 \r\nL 157.949287 56.566875 \r\nL 161.008218 46.069164 \r\nL 162.537683 41.326083 \r\nL 164.067149 36.952043 \r\nL 165.596614 32.968683 \r\nL 167.12608 29.395711 \r\nL 168.655545 26.250803 \r\nL 170.185011 23.549518 \r\nL 171.714477 21.30522 \r\nL 173.243942 19.529013 \r\nL 174.773408 18.229683 \r\nL 176.302873 17.41366 \r\nL 177.832339 17.08498 \r\nL 179.361804 17.245269 \r\nL 180.89127 17.893735 \r\nL 182.420735 19.027168 \r\nL 183.950201 20.639963 \r\nL 185.479666 22.724139 \r\nL 187.009132 25.269386 \r\nL 188.538597 28.263111 \r\nL 190.068063 31.690504 \r\nL 191.597528 35.534607 \r\nL 193.126994 39.776404 \r\nL 194.656459 44.394908 \r\nL 197.71539 54.668891 \r\nL 200.774321 66.153492 \r\nL 203.833252 78.62172 \r\nL 208.421649 98.625168 \r\nL 220.657373 153.21828 \r\nL 223.716304 165.686508 \r\nL 226.775235 177.171109 \r\nL 229.834166 187.445092 \r\nL 231.363631 192.063596 \r\nL 232.893097 196.305393 \r\nL 234.422562 200.149496 \r\nL 235.952028 203.576889 \r\nL 237.481493 206.570614 \r\nL 239.010959 209.115861 \r\nL 240.540424 211.200037 \r\nL 242.06989 212.812832 \r\nL 243.599355 213.946265 \r\nL 245.128821 214.594731 \r\nL 246.658286 214.75502 \r\nL 248.187752 214.42634 \r\nL 249.717217 213.610317 \r\nL 251.246683 212.310987 \r\nL 252.776148 210.53478 \r\nL 254.305614 208.290482 \r\nL 255.83508 205.589197 \r\nL 257.364545 202.444289 \r\nL 258.894011 198.871317 \r\nL 260.423476 194.887957 \r\nL 261.952942 190.513917 \r\nL 265.011873 180.682181 \r\nL 268.070804 169.57043 \r\nL 271.129735 157.398287 \r\nL 274.188666 144.406333 \r\nL 278.777062 123.946155 \r\nL 286.42439 89.511111 \r\nL 289.483321 76.414407 \r\nL 292.542252 64.098524 \r\nL 295.601183 52.806884 \r\nL 298.660114 42.762664 \r\nL 300.189579 38.27145 \r\nL 301.719045 34.164388 \r\nL 303.24851 30.461798 \r\nL 304.777976 27.181999 \r\nL 306.307441 24.341215 \r\nL 307.836907 21.953501 \r\nL 309.366372 20.030671 \r\nL 310.895838 18.582237 \r\nL 312.425303 17.615364 \r\nL 313.954769 17.134838 \r\nL 315.484234 17.143033 \r\nL 317.0137 17.639911 \r\nL 318.543165 18.623013 \r\nL 320.072631 20.087475 \r\nL 321.602096 22.026052 \r\nL 323.131562 24.429153 \r\nL 324.661027 27.28489 \r\nL 326.190493 30.579134 \r\nL 327.719958 34.295587 \r\nL 329.249424 38.415863 \r\nL 330.778889 42.919577 \r\nL 333.83782 52.986409 \r\nL 336.896752 64.297113 \r\nL 339.955683 76.628135 \r\nL 344.544079 96.50029 \r\nL 356.779803 151.206842 \r\nL 359.838734 163.806308 \r\nL 362.897665 175.459309 \r\nL 364.427131 180.858052 \r\nL 364.427131 180.858052 \r\n\" style=\"fill:none;stroke:#2ca02c;stroke-linecap:square;stroke-width:1.5;\"/>\r\n   </g>\r\n   <g id=\"line2d_20\">\r\n    <path clip-path=\"url(#p48f70bbbb4)\" d=\"M 60.063494 190.437416 \r\nL 61.59296 194.817824 \r\nL 63.122425 198.807898 \r\nL 64.651891 202.387898 \r\nL 66.181356 205.540113 \r\nL 67.710822 208.248948 \r\nL 69.240287 210.501001 \r\nL 70.769753 212.285131 \r\nL 72.299218 213.592511 \r\nL 73.828684 214.416673 \r\nL 75.358149 214.75354 \r\nL 76.887615 214.601444 \r\nL 78.41708 213.961139 \r\nL 79.946546 212.835792 \r\nL 81.476011 211.230971 \r\nL 83.005477 209.154615 \r\nL 84.534942 206.616997 \r\nL 86.064408 203.630671 \r\nL 87.593873 200.210411 \r\nL 89.123339 196.373139 \r\nL 90.652805 192.137839 \r\nL 92.18227 187.525464 \r\nL 95.241201 177.262518 \r\nL 98.300132 165.787148 \r\nL 101.359063 153.326161 \r\nL 105.94746 133.329544 \r\nL 118.183184 78.729652 \r\nL 121.242115 66.2542 \r\nL 124.301046 54.760385 \r\nL 127.359977 44.475379 \r\nL 128.889442 39.850752 \r\nL 130.418908 35.602465 \r\nL 131.948373 31.751535 \r\nL 133.477839 28.317014 \r\nL 135.007304 25.315894 \r\nL 136.53677 22.763023 \r\nL 138.066235 20.671029 \r\nL 139.595701 19.050263 \r\nL 141.125166 17.908744 \r\nL 142.654632 17.252119 \r\nL 144.184097 17.083636 \r\nL 145.713563 17.40413 \r\nL 147.243028 18.212013 \r\nL 148.772494 19.503291 \r\nL 150.301959 21.271573 \r\nL 151.831425 23.508112 \r\nL 153.36089 26.201844 \r\nL 154.890356 29.33944 \r\nL 156.419821 32.905379 \r\nL 157.949287 36.882019 \r\nL 159.478752 41.249686 \r\nL 162.537683 51.069839 \r\nL 165.596614 62.171745 \r\nL 168.655545 74.335977 \r\nL 171.714477 87.32211 \r\nL 176.302873 107.777714 \r\nL 183.950201 142.216585 \r\nL 187.009132 155.318757 \r\nL 190.068063 167.642218 \r\nL 193.126994 178.943398 \r\nL 196.185925 188.99893 \r\nL 197.71539 193.496398 \r\nL 199.244856 197.610069 \r\nL 200.774321 201.319593 \r\nL 202.303787 204.606617 \r\nL 203.833252 207.45488 \r\nL 205.362718 209.850289 \r\nL 206.892183 211.780994 \r\nL 208.421649 213.237443 \r\nL 209.951114 214.21243 \r\nL 211.48058 214.701133 \r\nL 213.010045 214.701133 \r\nL 214.539511 214.21243 \r\nL 216.068976 213.237443 \r\nL 217.598442 211.780994 \r\nL 219.127907 209.850289 \r\nL 220.657373 207.45488 \r\nL 222.186838 204.606617 \r\nL 223.716304 201.319593 \r\nL 225.245769 197.610069 \r\nL 226.775235 193.496398 \r\nL 228.3047 188.99893 \r\nL 231.363631 178.943398 \r\nL 234.422562 167.642218 \r\nL 237.481493 155.318757 \r\nL 242.06989 135.453946 \r\nL 254.305614 80.742025 \r\nL 257.364545 68.135658 \r\nL 260.423476 56.473742 \r\nL 263.482407 45.986771 \r\nL 265.011873 41.249686 \r\nL 266.541338 36.882019 \r\nL 268.070804 32.905379 \r\nL 269.600269 29.33944 \r\nL 271.129735 26.201844 \r\nL 272.6592 23.508112 \r\nL 274.188666 21.271573 \r\nL 275.718131 19.503291 \r\nL 277.247597 18.212013 \r\nL 278.777062 17.40413 \r\nL 280.306528 17.083636 \r\nL 281.835993 17.252119 \r\nL 283.365459 17.908744 \r\nL 284.894924 19.050263 \r\nL 286.42439 20.671029 \r\nL 287.953855 22.763023 \r\nL 289.483321 25.315894 \r\nL 291.012786 28.317014 \r\nL 292.542252 31.751535 \r\nL 294.071717 35.602465 \r\nL 295.601183 39.850752 \r\nL 298.660114 49.453466 \r\nL 301.719045 60.36988 \r\nL 304.777976 72.384233 \r\nL 307.836907 85.259064 \r\nL 312.425303 105.624637 \r\nL 321.602096 146.802397 \r\nL 324.661027 159.664865 \r\nL 327.719958 171.662722 \r\nL 330.778889 182.558833 \r\nL 333.83782 192.137839 \r\nL 335.367286 196.373139 \r\nL 336.896752 200.210411 \r\nL 338.426217 203.630671 \r\nL 339.955683 206.616997 \r\nL 341.485148 209.154615 \r\nL 343.014614 211.230971 \r\nL 344.544079 212.835792 \r\nL 346.073545 213.961139 \r\nL 347.60301 214.601444 \r\nL 349.132476 214.75354 \r\nL 350.661941 214.416673 \r\nL 352.191407 213.592511 \r\nL 353.720872 212.285131 \r\nL 355.250338 210.501001 \r\nL 356.779803 208.248948 \r\nL 358.309269 205.540113 \r\nL 359.838734 202.387898 \r\nL 361.3682 198.807898 \r\nL 362.897665 194.817824 \r\nL 364.427131 190.437416 \r\nL 364.427131 190.437416 \r\n\" style=\"fill:none;stroke:#d62728;stroke-linecap:square;stroke-width:1.5;\"/>\r\n   </g>\r\n   <g id=\"patch_3\">\r\n    <path d=\"M 44.845313 224.64 \r\nL 44.845313 7.2 \r\n\" style=\"fill:none;stroke:#000000;stroke-linecap:square;stroke-linejoin:miter;stroke-width:0.8;\"/>\r\n   </g>\r\n   <g id=\"patch_4\">\r\n    <path d=\"M 379.645313 224.64 \r\nL 379.645313 7.2 \r\n\" style=\"fill:none;stroke:#000000;stroke-linecap:square;stroke-linejoin:miter;stroke-width:0.8;\"/>\r\n   </g>\r\n   <g id=\"patch_5\">\r\n    <path d=\"M 44.845313 224.64 \r\nL 379.645313 224.64 \r\n\" style=\"fill:none;stroke:#000000;stroke-linecap:square;stroke-linejoin:miter;stroke-width:0.8;\"/>\r\n   </g>\r\n   <g id=\"patch_6\">\r\n    <path d=\"M 44.845313 7.2 \r\nL 379.645313 7.2 \r\n\" style=\"fill:none;stroke:#000000;stroke-linecap:square;stroke-linejoin:miter;stroke-width:0.8;\"/>\r\n   </g>\r\n   <g id=\"legend_1\">\r\n    <g id=\"patch_7\">\r\n     <path d=\"M 298.3 219.64 \r\nL 372.645313 219.64 \r\nQ 374.645313 219.64 374.645313 217.64 \r\nL 374.645313 159.9275 \r\nQ 374.645313 157.9275 372.645313 157.9275 \r\nL 298.3 157.9275 \r\nQ 296.3 157.9275 296.3 159.9275 \r\nL 296.3 217.64 \r\nQ 296.3 219.64 298.3 219.64 \r\nz\r\n\" style=\"fill:#ffffff;opacity:0.8;stroke:#cccccc;stroke-linejoin:miter;\"/>\r\n    </g>\r\n    <g id=\"line2d_21\">\r\n     <path d=\"M 300.3 166.025937 \r\nL 320.3 166.025937 \r\n\" style=\"fill:none;stroke:#1f77b4;stroke-linecap:square;stroke-width:1.5;\"/>\r\n    </g>\r\n    <g id=\"line2d_22\"/>\r\n    <g id=\"text_17\">\r\n     <!-- y=sin(x) -->\r\n     <defs>\r\n      <path d=\"M 32.171875 -5.078125 \r\nQ 28.375 -14.84375 24.75 -17.8125 \r\nQ 21.140625 -20.796875 15.09375 -20.796875 \r\nL 7.90625 -20.796875 \r\nL 7.90625 -13.28125 \r\nL 13.1875 -13.28125 \r\nQ 16.890625 -13.28125 18.9375 -11.515625 \r\nQ 21 -9.765625 23.484375 -3.21875 \r\nL 25.09375 0.875 \r\nL 2.984375 54.6875 \r\nL 12.5 54.6875 \r\nL 29.59375 11.921875 \r\nL 46.6875 54.6875 \r\nL 56.203125 54.6875 \r\nz\r\n\" id=\"DejaVuSans-121\"/>\r\n      <path d=\"M 10.59375 45.40625 \r\nL 73.1875 45.40625 \r\nL 73.1875 37.203125 \r\nL 10.59375 37.203125 \r\nz\r\nM 10.59375 25.484375 \r\nL 73.1875 25.484375 \r\nL 73.1875 17.1875 \r\nL 10.59375 17.1875 \r\nz\r\n\" id=\"DejaVuSans-61\"/>\r\n      <path d=\"M 44.28125 53.078125 \r\nL 44.28125 44.578125 \r\nQ 40.484375 46.53125 36.375 47.5 \r\nQ 32.28125 48.484375 27.875 48.484375 \r\nQ 21.1875 48.484375 17.84375 46.4375 \r\nQ 14.5 44.390625 14.5 40.28125 \r\nQ 14.5 37.15625 16.890625 35.375 \r\nQ 19.28125 33.59375 26.515625 31.984375 \r\nL 29.59375 31.296875 \r\nQ 39.15625 29.25 43.1875 25.515625 \r\nQ 47.21875 21.78125 47.21875 15.09375 \r\nQ 47.21875 7.46875 41.1875 3.015625 \r\nQ 35.15625 -1.421875 24.609375 -1.421875 \r\nQ 20.21875 -1.421875 15.453125 -0.5625 \r\nQ 10.6875 0.296875 5.421875 2 \r\nL 5.421875 11.28125 \r\nQ 10.40625 8.6875 15.234375 7.390625 \r\nQ 20.0625 6.109375 24.8125 6.109375 \r\nQ 31.15625 6.109375 34.5625 8.28125 \r\nQ 37.984375 10.453125 37.984375 14.40625 \r\nQ 37.984375 18.0625 35.515625 20.015625 \r\nQ 33.0625 21.96875 24.703125 23.78125 \r\nL 21.578125 24.515625 \r\nQ 13.234375 26.265625 9.515625 29.90625 \r\nQ 5.8125 33.546875 5.8125 39.890625 \r\nQ 5.8125 47.609375 11.28125 51.796875 \r\nQ 16.75 56 26.8125 56 \r\nQ 31.78125 56 36.171875 55.265625 \r\nQ 40.578125 54.546875 44.28125 53.078125 \r\nz\r\n\" id=\"DejaVuSans-115\"/>\r\n      <path d=\"M 9.421875 54.6875 \r\nL 18.40625 54.6875 \r\nL 18.40625 0 \r\nL 9.421875 0 \r\nz\r\nM 9.421875 75.984375 \r\nL 18.40625 75.984375 \r\nL 18.40625 64.59375 \r\nL 9.421875 64.59375 \r\nz\r\n\" id=\"DejaVuSans-105\"/>\r\n      <path d=\"M 54.890625 33.015625 \r\nL 54.890625 0 \r\nL 45.90625 0 \r\nL 45.90625 32.71875 \r\nQ 45.90625 40.484375 42.875 44.328125 \r\nQ 39.84375 48.1875 33.796875 48.1875 \r\nQ 26.515625 48.1875 22.3125 43.546875 \r\nQ 18.109375 38.921875 18.109375 30.90625 \r\nL 18.109375 0 \r\nL 9.078125 0 \r\nL 9.078125 54.6875 \r\nL 18.109375 54.6875 \r\nL 18.109375 46.1875 \r\nQ 21.34375 51.125 25.703125 53.5625 \r\nQ 30.078125 56 35.796875 56 \r\nQ 45.21875 56 50.046875 50.171875 \r\nQ 54.890625 44.34375 54.890625 33.015625 \r\nz\r\n\" id=\"DejaVuSans-110\"/>\r\n      <path d=\"M 31 75.875 \r\nQ 24.46875 64.65625 21.28125 53.65625 \r\nQ 18.109375 42.671875 18.109375 31.390625 \r\nQ 18.109375 20.125 21.3125 9.0625 \r\nQ 24.515625 -2 31 -13.1875 \r\nL 23.1875 -13.1875 \r\nQ 15.875 -1.703125 12.234375 9.375 \r\nQ 8.59375 20.453125 8.59375 31.390625 \r\nQ 8.59375 42.28125 12.203125 53.3125 \r\nQ 15.828125 64.359375 23.1875 75.875 \r\nz\r\n\" id=\"DejaVuSans-40\"/>\r\n      <path d=\"M 54.890625 54.6875 \r\nL 35.109375 28.078125 \r\nL 55.90625 0 \r\nL 45.3125 0 \r\nL 29.390625 21.484375 \r\nL 13.484375 0 \r\nL 2.875 0 \r\nL 24.125 28.609375 \r\nL 4.6875 54.6875 \r\nL 15.28125 54.6875 \r\nL 29.78125 35.203125 \r\nL 44.28125 54.6875 \r\nz\r\n\" id=\"DejaVuSans-120\"/>\r\n      <path d=\"M 8.015625 75.875 \r\nL 15.828125 75.875 \r\nQ 23.140625 64.359375 26.78125 53.3125 \r\nQ 30.421875 42.28125 30.421875 31.390625 \r\nQ 30.421875 20.453125 26.78125 9.375 \r\nQ 23.140625 -1.703125 15.828125 -13.1875 \r\nL 8.015625 -13.1875 \r\nQ 14.5 -2 17.703125 9.0625 \r\nQ 20.90625 20.125 20.90625 31.390625 \r\nQ 20.90625 42.671875 17.703125 53.65625 \r\nQ 14.5 64.65625 8.015625 75.875 \r\nz\r\n\" id=\"DejaVuSans-41\"/>\r\n     </defs>\r\n     <g transform=\"translate(328.3 169.525937)scale(0.1 -0.1)\">\r\n      <use xlink:href=\"#DejaVuSans-121\"/>\r\n      <use x=\"59.179688\" xlink:href=\"#DejaVuSans-61\"/>\r\n      <use x=\"142.96875\" xlink:href=\"#DejaVuSans-115\"/>\r\n      <use x=\"195.068359\" xlink:href=\"#DejaVuSans-105\"/>\r\n      <use x=\"222.851562\" xlink:href=\"#DejaVuSans-110\"/>\r\n      <use x=\"286.230469\" xlink:href=\"#DejaVuSans-40\"/>\r\n      <use x=\"325.244141\" xlink:href=\"#DejaVuSans-120\"/>\r\n      <use x=\"384.423828\" xlink:href=\"#DejaVuSans-41\"/>\r\n     </g>\r\n    </g>\r\n    <g id=\"line2d_23\">\r\n     <path d=\"M 300.3 180.704062 \r\nL 320.3 180.704062 \r\n\" style=\"fill:none;stroke:#ff7f0e;stroke-linecap:square;stroke-width:1.5;\"/>\r\n    </g>\r\n    <g id=\"line2d_24\"/>\r\n    <g id=\"text_18\">\r\n     <!-- y' -->\r\n     <defs>\r\n      <path d=\"M 17.921875 72.90625 \r\nL 17.921875 45.796875 \r\nL 9.625 45.796875 \r\nL 9.625 72.90625 \r\nz\r\n\" id=\"DejaVuSans-39\"/>\r\n     </defs>\r\n     <g transform=\"translate(328.3 184.204062)scale(0.1 -0.1)\">\r\n      <use xlink:href=\"#DejaVuSans-121\"/>\r\n      <use x=\"59.179688\" xlink:href=\"#DejaVuSans-39\"/>\r\n     </g>\r\n    </g>\r\n    <g id=\"line2d_25\">\r\n     <path d=\"M 300.3 195.382187 \r\nL 320.3 195.382187 \r\n\" style=\"fill:none;stroke:#2ca02c;stroke-linecap:square;stroke-width:1.5;\"/>\r\n    </g>\r\n    <g id=\"line2d_26\"/>\r\n    <g id=\"text_19\">\r\n     <!-- y'' -->\r\n     <g transform=\"translate(328.3 198.882187)scale(0.1 -0.1)\">\r\n      <use xlink:href=\"#DejaVuSans-121\"/>\r\n      <use x=\"59.179688\" xlink:href=\"#DejaVuSans-39\"/>\r\n      <use x=\"86.669922\" xlink:href=\"#DejaVuSans-39\"/>\r\n     </g>\r\n    </g>\r\n    <g id=\"line2d_27\">\r\n     <path d=\"M 300.3 210.060312 \r\nL 320.3 210.060312 \r\n\" style=\"fill:none;stroke:#d62728;stroke-linecap:square;stroke-width:1.5;\"/>\r\n    </g>\r\n    <g id=\"line2d_28\"/>\r\n    <g id=\"text_20\">\r\n     <!-- y''' -->\r\n     <g transform=\"translate(328.3 213.560312)scale(0.1 -0.1)\">\r\n      <use xlink:href=\"#DejaVuSans-121\"/>\r\n      <use x=\"59.179688\" xlink:href=\"#DejaVuSans-39\"/>\r\n      <use x=\"86.669922\" xlink:href=\"#DejaVuSans-39\"/>\r\n      <use x=\"114.160156\" xlink:href=\"#DejaVuSans-39\"/>\r\n     </g>\r\n    </g>\r\n   </g>\r\n  </g>\r\n </g>\r\n <defs>\r\n  <clipPath id=\"p48f70bbbb4\">\r\n   <rect height=\"217.44\" width=\"334.8\" x=\"44.845313\" y=\"7.2\"/>\r\n  </clipPath>\r\n </defs>\r\n</svg>\r\n",
      "image/png": "[encoded data removed]"
     },
     "metadata": {
      "needs_background": "light"
     }
    }
   ],
   "source": [
    "x = Variable(np.linspace(-7, 7, 200))\n",
    "y = sin(x)\n",
    "y.backward(create_graph=True)\n",
    "\n",
    "logs = [y.data]\n",
    "\n",
    "for i in range(3):\n",
    "    logs.append(x.grad.data)\n",
    "    gx = x.grad\n",
    "    x.cleargrad()\n",
    "    gx.backward(create_graph=True)\n",
    "\n",
    "labels = [\"y=sin(x)\", \"y'\", \"y''\", \"y'''\"]\n",
    "for i, v in enumerate(logs):\n",
    "    plt.plot(x.data, logs[i], label=labels[i])\n",
    "plt.legend(loc = 'lower right')\n",
    "plt.show()"
   ]
  },
  {
   "source": [
    "## 고차 미분 계산 그래프\n",
    "#### 쌍곡탄젠트(하이퍼볼릭 탄젠트)\n",
    "# $$ y = tanh(x) = \\frac{e^{x}-e^{-x}}{e^{x}+e^{-x}} $$"
   ],
   "cell_type": "markdown",
   "metadata": {}
  },
  {
   "cell_type": "code",
   "execution_count": 24,
   "metadata": {},
   "outputs": [],
   "source": [
    "class Tanh(Function):\n",
    "    def forward(self, x):\n",
    "        y = np.tanh(x)\n",
    "        return y\n",
    "\n",
    "    def backward(self, gy):\n",
    "        y = self.outputs[0]()\n",
    "        gx = gy * (1 - y * y)\n",
    "        return gx\n",
    "\n",
    "def tanh(x):\n",
    "    return Tanh()(x)"
   ]
  },
  {
   "cell_type": "code",
   "execution_count": 25,
   "metadata": {},
   "outputs": [
    {
     "output_type": "stream",
     "name": "stdout",
     "text": [
      "variable(0.41997434161402614) from class's __repr__\n"
     ]
    }
   ],
   "source": [
    "x = Variable(np.array(1.))\n",
    "y = tanh(x)\n",
    "x.name = 'x'\n",
    "y.name = 'y'\n",
    "y.backward(create_graph=True)\n",
    "print(x.grad)\n",
    "iters = 0\n",
    "\n",
    "for i in range(iters):\n",
    "    gx = x.grad\n",
    "    x.cleargrad()\n",
    "    gx.backward(create_graph=True)\n",
    "    print(x.grad)"
   ]
  },
  {
   "cell_type": "code",
   "execution_count": null,
   "metadata": {},
   "outputs": [],
   "source": []
  }
 ]
}