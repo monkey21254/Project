{
 "metadata": {
  "language_info": {
   "codemirror_mode": {
    "name": "ipython",
    "version": 3
   },
   "file_extension": ".py",
   "mimetype": "text/x-python",
   "name": "python",
   "nbconvert_exporter": "python",
   "pygments_lexer": "ipython3",
   "version": "3.8.3-final"
  },
  "orig_nbformat": 2,
  "kernelspec": {
   "name": "python3",
   "display_name": "Python 3.8.3 64-bit ('ProgramData': virtualenv)",
   "metadata": {
    "interpreter": {
     "hash": "b3ba2566441a7c06988d0923437866b63cedc61552a5af99d1f4fb67d367b25f"
    }
   }
  }
 },
 "nbformat": 4,
 "nbformat_minor": 2,
 "cells": [
  {
   "source": [
    "# Graphviz\n",
    "## 그래프 시각화 도구\n",
    "#### '그래프' : 계산 그래프와 같이 노드와 화살표로 이루어진 데이터 구조\n",
    "나의 경우 가상환경이 아닌 환경에서는 conda와 pycharm이 충돌하고 있어서 base 가상환경을 활용해 설치하였다.\n",
    "\n",
    "Documents : https://graphviz.org/doc/info/lang.html"
   ],
   "cell_type": "markdown",
   "metadata": {}
  },
  {
   "cell_type": "code",
   "execution_count": 1,
   "metadata": {},
   "outputs": [
    {
     "output_type": "execute_result",
     "data": {
      "text/plain": [
       "'simple_diagraph.png'"
      ]
     },
     "metadata": {},
     "execution_count": 1
    }
   ],
   "source": [
    "# TEST\n",
    "from graphviz import Source\n",
    "\n",
    "dot_diagraph = \"\"\"\n",
    "digraph graphname {\n",
    "    rankdir=LR;\n",
    "    a -> b -> c -> e -> f;\n",
    "    b -> d;\n",
    "}\n",
    "\"\"\"\n",
    "s = Source(dot_diagraph, filename='simple_diagraph', format='png')\n",
    "s.view()"
   ]
  },
  {
   "cell_type": "code",
   "execution_count": 2,
   "metadata": {},
   "outputs": [
    {
     "output_type": "stream",
     "name": "stderr",
     "text": [
      "dot - graphviz version 2.38.0 (20140413.2041)\n"
     ]
    }
   ],
   "source": [
    "!dot -V # Graphviz 버전 확인"
   ]
  },
  {
   "cell_type": "code",
   "execution_count": 3,
   "metadata": {},
   "outputs": [
    {
     "output_type": "stream",
     "name": "stderr",
     "text": [
      "Error: dot: can't open sample.dot\n"
     ]
    }
   ],
   "source": [
    "!dot sample.dot -T png -o sample.png\n",
    "# sample.dot 라는 파일을 sample.png 파일로 변환하는 명령어. png 외에 pdf, svg 등도 지원함"
   ]
  },
  {
   "source": [
    "## 노드 생성"
   ],
   "cell_type": "markdown",
   "metadata": {}
  },
  {
   "cell_type": "code",
   "execution_count": 4,
   "metadata": {},
   "outputs": [
    {
     "output_type": "execute_result",
     "data": {
      "text/plain": [
       "'simple_diagraph.png'"
      ]
     },
     "metadata": {},
     "execution_count": 4
    }
   ],
   "source": [
    "test = \"\"\"\n",
    "digraph g{\n",
    "    x\n",
    "    y\n",
    "}\n",
    "\"\"\"\n",
    "\n",
    "# Source 객체 내부에 사용할 digraph 모양을 지정한 변수를 넣고, 파일명과 포맷방식을 설정한다.\n",
    "s = Source(test, filename='simple_diagraph', format='png')\n",
    "# 이후 s.view()를 통해서 이미지 뷰어를 통해 창을 띄운다.\n",
    "s.view()"
   ]
  },
  {
   "cell_type": "code",
   "execution_count": 5,
   "metadata": {},
   "outputs": [
    {
     "output_type": "execute_result",
     "data": {
      "text/plain": [
       "'diagraph_3_1.png'"
      ]
     },
     "metadata": {},
     "execution_count": 5
    }
   ],
   "source": [
    "# \"\"가 아닌 ''값을 넣게 되면 syntax error가 발생하므로 쌍따옴표를 무조건 사용해야 함\n",
    "diagraph_3_1 = \"\"\"\n",
    "digraph g {\n",
    "1 [label=\"x\"; color=orange; style=filled]\n",
    "2 [label=\"y\", color=orange, style=filled]\n",
    "}\n",
    "\"\"\"\n",
    "\n",
    "s = Source(diagraph_3_1, filename='diagraph_3_1', format='png')\n",
    "s.view()"
   ]
  },
  {
   "cell_type": "code",
   "execution_count": 6,
   "metadata": {},
   "outputs": [
    {
     "output_type": "execute_result",
     "data": {
      "text/plain": [
       "'diagraph_3_2.png'"
      ]
     },
     "metadata": {},
     "execution_count": 6
    }
   ],
   "source": [
    "diagraph_3_2 = \"\"\"\n",
    "digraph g {\n",
    "1 [label=\"x\"; color=orange; style=filled]\n",
    "2 [label=\"y\", color=orange, style=filled]\n",
    "3 [label=\"Exp\", color=lightblue, style=filled; shape=box]\n",
    "}\n",
    "\"\"\"\n",
    "\n",
    "s = Source(diagraph_3_2, filename='diagraph_3_2', format='png')\n",
    "s.view()"
   ]
  },
  {
   "source": [
    "## 노드 연결"
   ],
   "cell_type": "markdown",
   "metadata": {}
  },
  {
   "cell_type": "code",
   "execution_count": 7,
   "metadata": {},
   "outputs": [
    {
     "output_type": "execute_result",
     "data": {
      "text/plain": [
       "'diagraph_3_3.png'"
      ]
     },
     "metadata": {},
     "execution_count": 7
    }
   ],
   "source": [
    "diagraph_3_3 = \"\"\"\n",
    "digraph g {\n",
    "1 [label=\"x\"; color=orange; style=filled]\n",
    "2 [label=\"y\", color=orange, style=filled]\n",
    "3 [label=\"Exp\", color=lightblue, style=filled; shape=box]\n",
    "1 -> 3 [color=red]\n",
    "3 -> 2 [color=black]\n",
    "3 -> 2 [color=green]\n",
    "}\n",
    "\"\"\"\n",
    "\n",
    "s = Source(diagraph_3_3, filename='diagraph_3_3', format='png')\n",
    "s.view()"
   ]
  },
  {
   "source": [
    "## 계산 그래프에서 DOT 언어로 변환\n",
    "#### 모듈 검색 경로와 관련된 에러 (Stackoverflow, Jupyter Notebook)\n",
    "https://stackoverflow.com/questions/53049195/importing-custom-module-into-jupyter-notebook/53052990"
   ],
   "cell_type": "markdown",
   "metadata": {}
  },
  {
   "cell_type": "code",
   "execution_count": 60,
   "metadata": {},
   "outputs": [],
   "source": [
    "def _dot_var(v, verbose=False):\n",
    "    \"\"\"\n",
    "    _dot_var : Local 형식으로 사용될 함수\n",
    "\n",
    "    - 차후 get_dot_graph 함수 전용으로 사용 예정\n",
    "    \n",
    "    Parameter\n",
    "    ---------\n",
    "    v: Variable 객체를 의미\n",
    "    dot_var : 노드(변수) id, label, color, style 의 총 4가지 양식에 따라서 노드를 그리기 위한 제작틀\n",
    "    name : 인자 v의 name이 지정되어 있는 경우에는 그 이름을 그대로 활용하고 아닌 경우에는 None으로 대체\n",
    "    verbose : Flag 역할을 하는 파라미터로 True일 경우 Varaible로 들어오는 x 파라미터에 대해 추가 정보를 제공\n",
    "\n",
    "    Function\n",
    "    --------\n",
    "    id : 파이썬 기본 내장 함수(객체의 ID를 반환)\n",
    "    \"\"\"\n",
    "    dot_var = '{} [label=\"{}\", color=orange, style=filled]\\n'\n",
    "\n",
    "    name = '' if v.name is None else v.name\n",
    "    if verbose and v.data is not None:\n",
    "        if v.name is not None:\n",
    "            name += ': '\n",
    "        name += str(v.shape) + ' ' + str(v.dtype)\n",
    "    return dot_var.format(id(v), name)"
   ]
  },
  {
   "cell_type": "code",
   "execution_count": 61,
   "metadata": {},
   "outputs": [
    {
     "output_type": "stream",
     "name": "stdout",
     "text": [
      "\n    _dot_var : Local 형식으로 사용될 함수\n\n    - 차후 get_dot_graph 함수 전용으로 사용 예정\n    \n    Parameter\n    ---------\n    v: Variable 객체를 의미\n    dot_var : 노드(변수) id, label, color, style 의 총 4가지 양식에 따라서 노드를 그리기 위한 제작틀\n    name : 인자 v의 name이 지정되어 있는 경우에는 그 이름을 그대로 활용하고 아닌 경우에는 None으로 대체\n    verbose : Flag 역할을 하는 파라미터로 True일 경우 Varaible로 들어오는 x 파라미터에 대해 추가 정보를 제공\n\n    Function\n    --------\n    id : 파이썬 기본 내장 함수(객체의 ID를 반환)\n    \n"
     ]
    }
   ],
   "source": [
    "print(_dot_var.__doc__)"
   ]
  },
  {
   "cell_type": "code",
   "execution_count": 62,
   "metadata": {},
   "outputs": [],
   "source": [
    "# Jupyter Notebook에서는 .py 파일의 __file__ 변수를 지원하지 않기 때문에 sys 모듈을 import해서 경로를 추가해준 다음 사용해야 한다.\n",
    "import sys\n",
    "sys.path.append('..')\n",
    "from myPackage import Variable"
   ]
  },
  {
   "cell_type": "code",
   "execution_count": 63,
   "metadata": {},
   "outputs": [],
   "source": [
    "import numpy as np"
   ]
  },
  {
   "cell_type": "code",
   "execution_count": 64,
   "metadata": {},
   "outputs": [
    {
     "output_type": "stream",
     "name": "stdout",
     "text": [
      "2048130069072 [label=\"x\", color=orange, style=filled]\n\n2048130069072 [label=\"x: (2, 3) float64\", color=orange, style=filled]\n\n"
     ]
    }
   ],
   "source": [
    "x = Variable(np.random.randn(2, 3))\n",
    "x.name = 'x'\n",
    "print(_dot_var(x))\n",
    "print(_dot_var(x, verbose = True))"
   ]
  },
  {
   "cell_type": "code",
   "execution_count": 65,
   "metadata": {},
   "outputs": [],
   "source": [
    "def _dot_func(f):\n",
    "    \"\"\"\n",
    "    _dot_func: 함수와 입력 변수간의 관계 및 함수와 출력 변수간의 관계를 표현하는 함수\n",
    "    \n",
    "    Parameter\n",
    "    ---------\n",
    "    dot_func : 노드(함수) id, label, color, style 의 총 4가지 양식에 따라서 노드를 그리기 위한 제작틀\n",
    "    txt : 최종적으로 DOT digraph에 들어가는 문자열\n",
    "    dot_edge : txt에 들어가는 edge를 표현하는 제작틀\n",
    "    \"\"\"\n",
    "    dot_func = '{} [label=\"{}\", color=lightblue, style=filled, shape=box]\\n'\n",
    "    txt = dot_func.format(id(f), f.__class__.__name__)\n",
    "\n",
    "    dot_edge = '{} -> {}\\n'\n",
    "    for x in f.inputs:\n",
    "        txt += dot_edge.format(id(x), id(f))\n",
    "    for y in f.outputs:\n",
    "        txt += dot_edge.format(id(f), id(y()))\n",
    "    return txt"
   ]
  },
  {
   "cell_type": "code",
   "execution_count": 66,
   "metadata": {},
   "outputs": [
    {
     "output_type": "stream",
     "name": "stdout",
     "text": [
      "2048130034176 [label=\"Add\", color=lightblue, style=filled, shape=box]\n2048130071760 -> 2048130034176\n2048130069888 -> 2048130034176\n2048130034176 -> 2048130031824\n\n"
     ]
    }
   ],
   "source": [
    "x0 = Variable(np.array(1.))\n",
    "x1 = Variable(np.array(1.))\n",
    "y = x0 + x1\n",
    "txt = _dot_func(y.creator)\n",
    "print(txt)"
   ]
  },
  {
   "cell_type": "code",
   "execution_count": 67,
   "metadata": {},
   "outputs": [],
   "source": [
    "def get_dot_graph(output, verbose=True):\n",
    "    \"\"\"\n",
    "    get_dot_graph : 역전파 수행(backward)에서 사용했던 방식을 가져와서 노드형태로 구현하는 함수\n",
    "\n",
    "    Parameter\n",
    "    ---------\n",
    "    output : 최종 결과물(y)를 의미\n",
    "    txt : 최종적으로 출력될 결과물로써 노드(Variable 객체, 함수 객체) 정보를 포함하고 있음\n",
    "    funcs : 함수 객체가 들어갈 리스트로 차후 연결된 모든 관계를 표현하기 위해 사용될 예정\n",
    "    seen_set : 함수 객체의 중복 append를 방지하기 위해 set을 사용\n",
    "    \"\"\"\n",
    "    txt = ''\n",
    "    funcs = []\n",
    "    seen_set = set()\n",
    "\n",
    "    def add_func(f):\n",
    "        if f not in seen_set:\n",
    "            funcs.append(f)\n",
    "            # funcs.sort(key=lambda x: x.generation) # update (주석처리), 역전파는 순서가 중요했으나 DOT 언어에서는 edge가 표시되므로 상관없음\n",
    "            seen_set.add(f)\n",
    "\n",
    "    add_func(output.creator)\n",
    "    txt += _dot_var(output, verbose) # update\n",
    "\n",
    "    while funcs:\n",
    "        func = funcs.pop()\n",
    "        txt += _dot_func(func) # update\n",
    "        for x in func.inputs:\n",
    "            txt += _dot_var(x, verbose) # update\n",
    "\n",
    "            if x.creator is not None:\n",
    "                add_func(x.creator)\n",
    "\n",
    "    return 'digraph g {\\n' + txt + '}' # update"
   ]
  },
  {
   "source": [
    "## DOT 언어를 활용한 이미지 변환\n",
    " DOT 언어를 활용한 이미지 변환\n",
    "현재의 코드로는 DOT 언어를 이미지로 변환하려면 수동으로 진행해야 하기에 이것까지도 자동화시켜주는 함수를 설계"
   ],
   "cell_type": "markdown",
   "metadata": {}
  },
  {
   "cell_type": "code",
   "execution_count": 84,
   "metadata": {},
   "outputs": [],
   "source": [
    "import os\n",
    "import subprocess\n",
    "from graphviz import render"
   ]
  },
  {
   "cell_type": "code",
   "execution_count": 159,
   "metadata": {},
   "outputs": [],
   "source": [
    "def plot_dot_graph(output, verbose=True, to_file='graph.png'):\n",
    "    \"\"\"\n",
    "    plot_dot_graph : dot + edge 그래프를 표현하는 함수\n",
    "\n",
    "    Parameter\n",
    "    ---------\n",
    "    tmp_dir\n",
    "        os.path.join을 활용하여 directory 경로를 가지고 있는 변수\n",
    "        여기서 os.path.expanduser('~'), '.abc'는 ~/.abc라는 디렉터리를 의미\n",
    "        ※ '~' : 사용자의 홈 디렉터리를 의미하는 '~'를 expanduser를 활용해 절대 경로로 풀어서 해석\n",
    "    os.path.exists 구문 : tmp_dir 경로에 파일이 존재하지 않을 경우에 폴더를 추가하는 구문\n",
    "    graph_path : tmp_graph.dot 파일의 경로를 설정하는 변수\n",
    "\n",
    "    extension : 파일의 포맷 형식을 뽑기 위한 변수\n",
    "    cmd : 최종 Graphviz를 그리되 dot 파일을 extension에 지정된 확장자로 표현하기 위한 command 명령어\n",
    "    render : Graphviz 모듈의 render 객체로써 dot 파일을 png 파일로 변환한다.\n",
    "    os.path.isfile : isfile 함수를 통해서 파라미터에 들어온 값이 파일인지 여부를 확인한다.\n",
    "    os.rename : 첫 번째 인자로 들어온 값을 두 번째 인자의 값으로 이름을 변경한다.\n",
    "    \"\"\"\n",
    "    dot_graph = get_dot_graph(output, verbose)\n",
    "\n",
    "    # dot 데이터를 파일에 저장\n",
    "    # tmp_dir = os.path.join(os.path.expanduser('~'), '.DL_level3')\n",
    "    tmp_dir = os.path.join('..', 'Level3')\n",
    "    if not os.path.exists(tmp_dir):\n",
    "        os.mkdir(tmp_dir)\n",
    "    graph_path = os.path.join(tmp_dir, 'tmp_graph.dot')\n",
    "\n",
    "    with open(graph_path, 'w') as f:\n",
    "        f.write(dot_graph)\n",
    "\n",
    "    # dot 명령 호출\n",
    "    extension = os.path.splitext(to_file)[1][1:] # 확장자(png, pdf 등)\n",
    "\n",
    "    # Python 전용\n",
    "    # cmd = f'dot {graph_path} -T {extension} -o {to_file}'\n",
    "    # subprocess.run(cmd, shell=True) \n",
    "\n",
    "    # Jupyter 전용\n",
    "    render('dot', 'png', graph_path) \n",
    "    print(os.path.isfile('tmp_graph.dot.png'))\n",
    "    os.rename('tmp_graph.dot.png', 'goldstein.png')"
   ]
  },
  {
   "cell_type": "code",
   "execution_count": 160,
   "metadata": {},
   "outputs": [],
   "source": [
    "def goldstein(x, y):\n",
    "    z = (1 + (x + y + 1)**2 * (19 - 14*x + 3*x**2 - 14*y + 6*x*y + 3*y**2)) * \\\n",
    "        (30 + (2*x - 3*y)**2 * (18 - 32*x + 12*x**2 + 48*y - 36*x*y + 27*y**2))\n",
    "    return z"
   ]
  },
  {
   "cell_type": "code",
   "execution_count": 163,
   "metadata": {},
   "outputs": [
    {
     "output_type": "stream",
     "name": "stdout",
     "text": [
      "True\n"
     ]
    }
   ],
   "source": [
    "x = Variable(np.array(1.))\n",
    "y = Variable(np.array(1.))\n",
    "z = goldstein(x, y)\n",
    "z.backward()\n",
    "\n",
    "x.name = 'x'\n",
    "y.name = 'y'\n",
    "z.name = 'z'\n",
    "plot_dot_graph(z, verbose=False, to_file='goldstein.png')"
   ]
  },
  {
   "source": [
    "## 테일러 급수 미분"
   ],
   "cell_type": "markdown",
   "metadata": {}
  },
  {
   "cell_type": "code",
   "execution_count": null,
   "metadata": {},
   "outputs": [],
   "source": []
  },
  {
   "cell_type": "code",
   "execution_count": null,
   "metadata": {},
   "outputs": [],
   "source": []
  },
  {
   "cell_type": "code",
   "execution_count": null,
   "metadata": {},
   "outputs": [],
   "source": []
  },
  {
   "cell_type": "code",
   "execution_count": null,
   "metadata": {},
   "outputs": [],
   "source": []
  }
 ]
}