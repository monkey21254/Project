{
 "metadata": {
  "language_info": {
   "codemirror_mode": {
    "name": "ipython",
    "version": 3
   },
   "file_extension": ".py",
   "mimetype": "text/x-python",
   "name": "python",
   "nbconvert_exporter": "python",
   "pygments_lexer": "ipython3",
   "version": "3.8.3-final"
  },
  "orig_nbformat": 2,
  "kernelspec": {
   "name": "python3",
   "display_name": "Python 3.8.3 64-bit (conda)",
   "metadata": {
    "interpreter": {
     "hash": "b3ba2566441a7c06988d0923437866b63cedc61552a5af99d1f4fb67d367b25f"
    }
   }
  }
 },
 "nbformat": 4,
 "nbformat_minor": 2,
 "cells": [
  {
   "source": [
    "# Graphviz\n",
    "## 그래프 시각화 도구\n",
    "#### '그래프' : 계산 그래프와 같이 노드와 화살표로 이루어진 데이터 구조\n",
    "나의 경우 가상환경이 아닌 환경에서는 conda와 pycharm이 충돌하고 있어서 base 가상환경을 활용해 설치하였다.\n",
    "\n",
    "Documents : https://graphviz.org/doc/info/lang.html"
   ],
   "cell_type": "markdown",
   "metadata": {}
  },
  {
   "cell_type": "code",
   "execution_count": 11,
   "metadata": {},
   "outputs": [
    {
     "output_type": "execute_result",
     "data": {
      "text/plain": [
       "'simple_diagraph.png'"
      ]
     },
     "metadata": {},
     "execution_count": 11
    }
   ],
   "source": [
    "# TEST\n",
    "from graphviz import Source\n",
    "\n",
    "dot_diagraph = \"\"\"\n",
    "digraph graphname {\n",
    "    rankdir=LR;\n",
    "    a -> b -> c -> e -> f;\n",
    "    b -> d;\n",
    "}\n",
    "\"\"\"\n",
    "s = Source(dot_diagraph, filename='simple_diagraph', format='png')\n",
    "s.view()"
   ]
  },
  {
   "cell_type": "code",
   "execution_count": 5,
   "metadata": {},
   "outputs": [
    {
     "output_type": "stream",
     "name": "stderr",
     "text": [
      "dot - graphviz version 2.38.0 (20140413.2041)\n"
     ]
    }
   ],
   "source": [
    "!dot -V # Graphviz 버전 확인"
   ]
  },
  {
   "cell_type": "code",
   "execution_count": 7,
   "metadata": {},
   "outputs": [
    {
     "output_type": "stream",
     "name": "stderr",
     "text": [
      "Error: dot: can't open sample.dot\n"
     ]
    }
   ],
   "source": [
    "!dot sample.dot -T png -o sample.png\n",
    "# sample.dot 라는 파일을 sample.png 파일로 변환하는 명령어. png 외에 pdf, svg 등도 지원함"
   ]
  },
  {
   "source": [
    "## 노드 생성"
   ],
   "cell_type": "markdown",
   "metadata": {}
  },
  {
   "cell_type": "code",
   "execution_count": 15,
   "metadata": {},
   "outputs": [
    {
     "output_type": "execute_result",
     "data": {
      "text/plain": [
       "'simple_diagraph.png'"
      ]
     },
     "metadata": {},
     "execution_count": 15
    }
   ],
   "source": [
    "test = \"\"\"\n",
    "digraph g{\n",
    "    x\n",
    "    y\n",
    "}\n",
    "\"\"\"\n",
    "\n",
    "# Source 객체 내부에 사용할 digraph 모양을 지정한 변수를 넣고, 파일명과 포맷방식을 설정한다.\n",
    "s = Source(test, filename='simple_diagraph', format='png')\n",
    "# 이후 s.view()를 통해서 이미지 뷰어를 통해 창을 띄운다.\n",
    "s.view()"
   ]
  },
  {
   "cell_type": "code",
   "execution_count": 22,
   "metadata": {},
   "outputs": [
    {
     "output_type": "execute_result",
     "data": {
      "text/plain": [
       "'diagraph_3_1.png'"
      ]
     },
     "metadata": {},
     "execution_count": 22
    }
   ],
   "source": [
    "# \"\"가 아닌 ''값을 넣게 되면 syntax error가 발생하므로 쌍따옴표를 무조건 사용해야 함\n",
    "diagraph_3_1 = \"\"\"\n",
    "digraph g {\n",
    "1 [label=\"x\"; color=orange; style=filled]\n",
    "2 [label=\"y\", color=orange, style=filled]\n",
    "}\n",
    "\"\"\"\n",
    "\n",
    "s = Source(diagraph_3_1, filename='diagraph_3_1', format='png')\n",
    "s.view()"
   ]
  },
  {
   "cell_type": "code",
   "execution_count": 23,
   "metadata": {},
   "outputs": [
    {
     "output_type": "execute_result",
     "data": {
      "text/plain": [
       "'diagraph_3_2.png'"
      ]
     },
     "metadata": {},
     "execution_count": 23
    }
   ],
   "source": [
    "diagraph_3_2 = \"\"\"\n",
    "digraph g {\n",
    "1 [label=\"x\"; color=orange; style=filled]\n",
    "2 [label=\"y\", color=orange, style=filled]\n",
    "3 [label=\"Exp\", color=lightblue, style=filled; shape=box]\n",
    "}\n",
    "\"\"\"\n",
    "\n",
    "s = Source(diagraph_3_2, filename='diagraph_3_2', format='png')\n",
    "s.view()"
   ]
  },
  {
   "source": [
    "## 노드 연결"
   ],
   "cell_type": "markdown",
   "metadata": {}
  },
  {
   "cell_type": "code",
   "execution_count": 30,
   "metadata": {},
   "outputs": [
    {
     "output_type": "execute_result",
     "data": {
      "text/plain": [
       "'diagraph_3_3.png'"
      ]
     },
     "metadata": {},
     "execution_count": 30
    }
   ],
   "source": [
    "diagraph_3_3 = \"\"\"\n",
    "digraph g {\n",
    "1 [label=\"x\"; color=orange; style=filled]\n",
    "2 [label=\"y\", color=orange, style=filled]\n",
    "3 [label=\"Exp\", color=lightblue, style=filled; shape=box]\n",
    "1 -> 3 [color=red]\n",
    "3 -> 2 [color=black]\n",
    "3 -> 2 [color=green]\n",
    "}\n",
    "\"\"\"\n",
    "\n",
    "s = Source(diagraph_3_3, filename='diagraph_3_3', format='png')\n",
    "s.view()"
   ]
  },
  {
   "source": [
    "## 계산 그래프에서 DOT 언어로 변환\n",
    "#### 모듈 검색 경로와 관련된 에러 (Stackoverflow, Jupyter Notebook)\n",
    "https://stackoverflow.com/questions/53049195/importing-custom-module-into-jupyter-notebook/53052990"
   ],
   "cell_type": "markdown",
   "metadata": {}
  },
  {
   "cell_type": "code",
   "execution_count": 31,
   "metadata": {},
   "outputs": [],
   "source": [
    "def _dot_var(v, verbose=False):\n",
    "    dot_var = '{} [label=\"{}\", color=orange, style=filled]\\n'\n",
    "\n",
    "    name = '' if v.name is None else v.name\n",
    "    if verbose and v.data is not None:\n",
    "        if v.name is not None:\n",
    "            name += ': '\n",
    "        name += str(v.shape) + ' ' + str(v.dtype)\n",
    "    return dot_var.format(id(v), name)"
   ]
  },
  {
   "cell_type": "code",
   "execution_count": 39,
   "metadata": {},
   "outputs": [],
   "source": [
    "# Jupyter Notebook에서는 .py 파일의 __file__ 변수를 지원하지 않기 때문에 sys 모듈을 import해서 경로를 추가해준 다음 사용해야 한다.\n",
    "import sys\n",
    "sys.path.append('..')\n",
    "from myPackage import Variable"
   ]
  },
  {
   "cell_type": "code",
   "execution_count": 41,
   "metadata": {},
   "outputs": [],
   "source": [
    "import numpy as np"
   ]
  },
  {
   "cell_type": "code",
   "execution_count": 42,
   "metadata": {},
   "outputs": [
    {
     "output_type": "stream",
     "name": "stdout",
     "text": [
      "2513295016576 [label=\"x\", color=orange, style=filled]\n\n2513295016576 [label=\"x: (2, 3) float64\", color=orange, style=filled]\n\n"
     ]
    }
   ],
   "source": [
    "x = Variable(np.random.randn(2, 3))\n",
    "x.name = 'x'\n",
    "print(_dot_var(x))\n",
    "print(_dot_var(x, verbose = True))"
   ]
  },
  {
   "source": [
    "# 217 PAGE"
   ],
   "cell_type": "markdown",
   "metadata": {}
  },
  {
   "cell_type": "code",
   "execution_count": null,
   "metadata": {},
   "outputs": [],
   "source": []
  },
  {
   "cell_type": "code",
   "execution_count": null,
   "metadata": {},
   "outputs": [],
   "source": []
  },
  {
   "cell_type": "code",
   "execution_count": null,
   "metadata": {},
   "outputs": [],
   "source": []
  },
  {
   "cell_type": "code",
   "execution_count": null,
   "metadata": {},
   "outputs": [],
   "source": []
  },
  {
   "cell_type": "code",
   "execution_count": null,
   "metadata": {},
   "outputs": [],
   "source": []
  }
 ]
}