{
 "metadata": {
  "language_info": {
   "codemirror_mode": {
    "name": "ipython",
    "version": 3
   },
   "file_extension": ".py",
   "mimetype": "text/x-python",
   "name": "python",
   "nbconvert_exporter": "python",
   "pygments_lexer": "ipython3",
   "version": "3.8.3-final"
  },
  "orig_nbformat": 2,
  "kernelspec": {
   "name": "python3",
   "display_name": "Python 3",
   "language": "python"
  }
 },
 "nbformat": 4,
 "nbformat_minor": 2,
 "cells": [
  {
   "source": [
    "## 텐서(원소별 계산)"
   ],
   "cell_type": "markdown",
   "metadata": {}
  },
  {
   "cell_type": "code",
   "execution_count": 1,
   "metadata": {},
   "outputs": [],
   "source": [
    "import sys\n",
    "sys.path.append('..')"
   ]
  },
  {
   "cell_type": "code",
   "execution_count": 2,
   "metadata": {},
   "outputs": [
    {
     "output_type": "stream",
     "name": "stdout",
     "text": [
      "__file__ in globals at layers.py\n__file__ in globals at utils.py\n__file__ in globals at models.py\n"
     ]
    }
   ],
   "source": [
    "import numpy as np\n",
    "import myPackage.functions as F\n",
    "from myPackage import Variable"
   ]
  },
  {
   "cell_type": "code",
   "execution_count": 4,
   "metadata": {},
   "outputs": [
    {
     "output_type": "stream",
     "name": "stdout",
     "text": [
      "variable(0.8414709848078965)\n"
     ]
    }
   ],
   "source": [
    "x = Variable(np.array(1.))\n",
    "y = F.sin(x)\n",
    "print(y)"
   ]
  },
  {
   "cell_type": "code",
   "execution_count": 4,
   "metadata": {},
   "outputs": [
    {
     "output_type": "stream",
     "name": "stdout",
     "text": [
      "variable([[ 0.84147098  0.90929743  0.14112001]\n          [-0.7568025  -0.95892427 -0.2794155 ]]) from class's __repr__\n"
     ]
    }
   ],
   "source": [
    "temp = np.array([[1, 2, 3], [4, 5, 6]])\n",
    "x = Variable(temp)\n",
    "y = F.sin(x)\n",
    "print(y)"
   ]
  },
  {
   "cell_type": "code",
   "execution_count": 3,
   "metadata": {},
   "outputs": [
    {
     "output_type": "stream",
     "name": "stdout",
     "text": [
      "variable([[11 22 33]\n          [44 55 66]]) from class's __repr__\n"
     ]
    }
   ],
   "source": [
    "temp1 = np.array([[1, 2, 3], [4, 5, 6]])\n",
    "temp2 = np.array([[10, 20, 30], [40, 50, 60]])\n",
    "x = Variable(temp1)\n",
    "c = Variable(temp2)\n",
    "y = x + c\n",
    "print(y)"
   ]
  },
  {
   "source": [
    "## 텐서 + 역전파\n",
    "### 39장의 합계 함수가 포함된 장으로, sum 함수가 정의된 다음 다음의 코드블럭들을 실행할 수 있음"
   ],
   "cell_type": "markdown",
   "metadata": {}
  },
  {
   "cell_type": "code",
   "execution_count": 4,
   "metadata": {},
   "outputs": [
    {
     "output_type": "stream",
     "name": "stdout",
     "text": [
      "variable(231) from class's __repr__\n"
     ]
    }
   ],
   "source": [
    "x = Variable(temp1)\n",
    "c = Variable(temp2)\n",
    "t = x + c\n",
    "y = F.sum(t)\n",
    "print(y)"
   ]
  },
  {
   "cell_type": "code",
   "execution_count": 5,
   "metadata": {},
   "outputs": [
    {
     "output_type": "stream",
     "name": "stdout",
     "text": [
      "variable(1) from class's __repr__\nvariable([[1 1 1]\n          [1 1 1]]) from class's __repr__\nvariable([[1 1 1]\n          [1 1 1]]) from class's __repr__\nvariable([[1 1 1]\n          [1 1 1]]) from class's __repr__\n"
     ]
    }
   ],
   "source": [
    "y.backward(retain_grad=True)\n",
    "print(y.grad) # Variable(1)\n",
    "print(t.grad) # Variable([[1 1 1], [1 1 1]])\n",
    "print(x.grad) # Variable([[1 1 1], [1 1 1]])\n",
    "print(c.grad) # Variable([[1 1 1], [1 1 1]])"
   ]
  },
  {
   "source": [
    "## myPackage.functions에 정의된 reshape 함수 사용"
   ],
   "cell_type": "markdown",
   "metadata": {}
  },
  {
   "cell_type": "code",
   "execution_count": null,
   "metadata": {},
   "outputs": [],
   "source": [
    "# myPackage.functions에 update된 클래스\n",
    "class Reshape(Function):\n",
    "    \"\"\"\n",
    "    Reshape Class\n",
    "\n",
    "    Methods\n",
    "    -------\n",
    "    __inif__ : Get parameter(shape) means ndarray.shape and save that.\n",
    "    forward : Work forward propagation with parameter(x) is Variable class's instance. This methods's goal is save the x's shape and change the shape by self.shape.\n",
    "    backward : Work backward propagation with parameter(gy) is Variable class's instance (come from previous layer having Function.outputs.grad).\n",
    "    \"\"\"\n",
    "    def __init__(self, shape):\n",
    "        self.shape = shape\n",
    "\n",
    "    def forward(self, x):\n",
    "        self.x_shape = x.shape\n",
    "        y = x.reshape(self.shape)\n",
    "        return y\n",
    "\n",
    "    def backward(self, gy):\n",
    "        return reshape(gy, self.x_shape)\n",
    "\n",
    "def reshape(x, shape):\n",
    "    \"\"\"\n",
    "    Def reshape\n",
    "\n",
    "    Explanation\n",
    "    -----------\n",
    "    Get parameter(shape) is ndarray.shape and reshape parameter(x)'s shape from parameter(shape).\n",
    "    \"\"\"\n",
    "    if x.shape == shape:\n",
    "        return as_variable(x)\n",
    "    return Reshape(shape)(x)"
   ]
  },
  {
   "cell_type": "code",
   "execution_count": 6,
   "metadata": {},
   "outputs": [],
   "source": [
    "import numpy as np\n",
    "import myPackage.functions as F\n",
    "from myPackage import Variable"
   ]
  },
  {
   "cell_type": "code",
   "execution_count": 7,
   "metadata": {},
   "outputs": [
    {
     "output_type": "stream",
     "name": "stdout",
     "text": [
      "variable([[1 1 1]\n          [1 1 1]]) from class's __repr__\n"
     ]
    }
   ],
   "source": [
    "temp = np.arange(1, 7).reshape(2, 3)\n",
    "x = Variable(temp)\n",
    "y = F.reshape(x, (6,))\n",
    "y.backward(retain_grad=True)\n",
    "print(x.grad)"
   ]
  },
  {
   "source": [
    "## Variable에서 reshape 사용하기"
   ],
   "cell_type": "markdown",
   "metadata": {}
  },
  {
   "cell_type": "code",
   "execution_count": 9,
   "metadata": {},
   "outputs": [
    {
     "output_type": "stream",
     "name": "stdout",
     "text": [
      "[[[0.29796314 0.46905022 0.5587009 ]\n  [0.35107913 0.95100032 0.35477522]]]\n[[0.29796314 0.46905022 0.5587009 ]\n [0.35107913 0.95100032 0.35477522]]\n[[0.29796314 0.46905022 0.5587009 ]\n [0.35107913 0.95100032 0.35477522]]\n[[0.29796314 0.46905022 0.5587009 ]\n [0.35107913 0.95100032 0.35477522]]\n"
     ]
    }
   ],
   "source": [
    "# np.reshape 사용 방식\n",
    "x = np.random.rand(1, 2, 3) # x.shape = (1, 2, 3)\n",
    "print(x)\n",
    "\n",
    "y1 = x.reshape((2, 3)) # tuple\n",
    "print(y1)\n",
    "y2 = x.reshape([2, 3]) # list\n",
    "print(y2)\n",
    "y3 = x.reshape(2, 3) # row, col\n",
    "print(y3)"
   ]
  },
  {
   "cell_type": "code",
   "execution_count": null,
   "metadata": {},
   "outputs": [],
   "source": [
    "import myPackage # update\n",
    "\n",
    "class Variable:\n",
    "    \"\"\" Update Version (Level 4-1).\n",
    "    Class Variable : np.array 값을 다루되 다른 멤버변수를 추가적인 특징으로 가져 다양한 정보를 모두 포함시키는 클래스.\n",
    "\n",
    "    Parameter\n",
    "    ---------\n",
    "    data : np.array\n",
    "        실제 연산에서 사용되는 값으로, 다양한 연산 및 정보 전달에도 사용\n",
    "    grad : int, float\n",
    "        역전파 수행 시, 현재 역전파 층에서의 gradient 값을 저장하여 다음 역전파에 전달하는 기능을 수행\n",
    "    creator : callable function\n",
    "        Variable 객체(인스턴스)를 연산하기 위한 함수가 무엇인지 저장하여 현재 객체는 creator에 들어온 함수값을 수행하기 위해 존재하는 것으로 판단하면 됨\n",
    "    generation : Variable 객체가 어느 세대(generation)에 포함되어 있는지를 표현하기 위한 변수\n",
    "\n",
    "    Functions\n",
    "    ---------\n",
    "    # 재귀 방식과 반복문 방식의 경우 메모리 할당 측면에서 반복문 방식이 유리하다.\n",
    "    # 재귀 방식은 호출 시마다 메모리에 누적되나 반복문의 경우 pop을 활용해 메모리가 누적되지 않은 상태로 작업을 수월한다.\n",
    "    __init__\n",
    "        isinstance : 첫 번째 파라미터값의 타입과 두 번째 파라미터값의 동등 여부를 확인하는 함수\n",
    "        retain_grad : gradient 값(y().grad)을 유지시킬지 설정하는 변수. default = False\n",
    "        name : 차후 Variable에 이름을 달아주기 위해 설정\n",
    "    cleargrad\n",
    "        메모리 절약을 위해서 한 번 할당했던 변수를 또 다시 사용해야 할 경우 기존 메모리에 있던 Variable.grad 정보가 남아있기 때문에 할당을 해제해주어야 제대로 동작을 수행하게 된다.\n",
    "    backward\n",
    "        반복문을 이용한 역전파 코드\n",
    "        while loop 내에서 zip 함수를 활용하여 x.grad에 중복되게 값이 들어갈 경우 기존 노드에 더해지도록 만들어 x + x = 2x 라는 식을 예로 들었을 때, gradient 값이 2로 정상 출력되게 하였음\n",
    "        add_func\n",
    "            역전파 시 함수가 pop되면서 새로운 값이 들어올 때, 같은 메모리를 참조하는 경우에 중복 방지를 위해서 추가된 함수\n",
    "            이미지 결과를 보면 더 이해가 쉽기 때문에 아래 코드블럭 중 Check로 Markdown 표시를 한 곳에서 이미지를 확인하기를 추천!!!\n",
    "        weakref\n",
    "            순환 참조로 인해 생기는 메모리 누수 문제를 해결하기 위해 import된 weakref 객체에 대해 실제로 값을 출력할 때는 Variable처럼 weakref도 어떠한 기본 데이터타입을 감싸고 있는 형태이므로 기본 생성자를 통해 객체를 호출함과 동시에 output을 사용해 실제 결과값을 확인함\n",
    "        self.grad. 즉 역전파 시작 시 기존에는 ndarray 인스턴스를 받았으나 고차 미분을 가능하게 하기 위해 ndarray 인스턴스가 아닌 Variable 인스턴스를 받도록 설정\n",
    "        입력 파라미터에 create_graph 변수 추가. 역전파 1회 계산 후 역전파를 비활성 모드로 실행하게 만드는 파라미터\n",
    "        with using_config(name, value) 구문을 생성하여 역전파 설정을 통해 들여쓰기된 구문의 수행 여부를 판단\n",
    "    shape, ndim, size, dtype : numpy에 기본적으로 내장되어있는 메서드를 @property 데코레이터를 활용하여 바로 호출할 수 있도록 설정\n",
    "    __len__ : data의 길이 반환\n",
    "    __repr__ : print로 객체를 표현할 때 return할 값을 설정\n",
    "    __mul__ : 다른 객체 또는 데이터타입과의 multiply 기능 지원\n",
    "    >> Update\n",
    "        reshape(self, *shape) : 만약에 가변인자로 들어오는 shape 값이 1개인 경우 그 값의 instance가 tuple or list일 때 shape[0]를 shape로 지정하고 그 외의 경우에는 myPackage.functions.reshape 함수를 사용하여 *shape의 값을 그대로 반영하여 reshape 진행\n",
    "    \"\"\"\n",
    "    def __init__(self, data, name = None):\n",
    "        if data is not None:\n",
    "            if not isinstance(data, np.ndarray):\n",
    "                raise TypeError(f'{type(data)} is not supported.')\n",
    "\n",
    "        self.data = data\n",
    "        self.name = name\n",
    "        self.grad = None\n",
    "        self.creator = None\n",
    "        self.generation = 0\n",
    "\n",
    "    def cleargrad(self):\n",
    "        self.grad = None\n",
    "\n",
    "    def set_creator(self, func):\n",
    "        self.creator = func\n",
    "        self.generation = func.generation + 1\n",
    "\n",
    "    @property\n",
    "    def shape(self):\n",
    "        return self.data.shape\n",
    "\n",
    "    @property\n",
    "    def ndim(self):\n",
    "        return self.data.ndim\n",
    "\n",
    "    @property\n",
    "    def size(self):\n",
    "        return self.data.size\n",
    "\n",
    "    @property\n",
    "    def dtype(self):\n",
    "        return self.data.dtype\n",
    "\n",
    "    def __len__(self):\n",
    "        return len(self.data)\n",
    "\n",
    "    def __repr__(self):\n",
    "        if self.data is None:\n",
    "            return \"variable(None)\"\n",
    "        p = str(self.data).replace('\\n', '\\n' + ' ' * 9)\n",
    "        return f\"variable({p}) from class's __repr__\"\n",
    "\n",
    "    def reshape(self, *shape):\n",
    "        if len(shape) == 1 and isinstance(shape[0], (tuple, list)):\n",
    "            shape = shape[0]\n",
    "        return myPackage.functions.reshape(self, shape)\n",
    "\n",
    "    def backward(self, retain_grad = False, create_graph = False):\n",
    "        if self.grad is None:\n",
    "            self.grad = Variable(np.ones_like(self.data))\n",
    "\n",
    "        funcs = []\n",
    "        seen_set = set()\n",
    "\n",
    "        def add_func(f):\n",
    "            if f not in seen_set:\n",
    "                funcs.append(f)\n",
    "                seen_set.add(f)\n",
    "                funcs.sort(key = lambda x: x.generation)\n",
    "\n",
    "        add_func(self.creator)\n",
    "\n",
    "        while funcs:\n",
    "            f = funcs.pop()\n",
    "            gys = [output().grad for output in f.outputs]\n",
    "\n",
    "            with using_config('enable_backprop', create_graph):\n",
    "                gxs = f.backward(*gys)\n",
    "                if not isinstance(gxs, tuple):\n",
    "                    gxs = (gxs,)\n",
    "\n",
    "                for x, gx in zip(f.inputs, gxs):\n",
    "                    if x.grad is None:\n",
    "                        x.grad = gx\n",
    "                    else:\n",
    "                        x.grad = x.grad + gx\n",
    "\n",
    "                    if x.creator is not None:\n",
    "                        add_func(x.creator)\n",
    "            \n",
    "            if not retain_grad:\n",
    "                for y in f.outputs:\n",
    "                    y().grad = None"
   ]
  },
  {
   "cell_type": "code",
   "execution_count": 3,
   "metadata": {},
   "outputs": [],
   "source": [
    "x = Variable(np.random.randn(1, 2, 3))\n",
    "y = x.reshape((2, 3))\n",
    "y = x.reshape(2, 3)"
   ]
  },
  {
   "cell_type": "code",
   "execution_count": 4,
   "metadata": {},
   "outputs": [
    {
     "output_type": "execute_result",
     "data": {
      "text/plain": [
       "variable([[-0.70855515  1.5145279  -0.25885624]\n",
       "          [ 0.71299628 -0.5526742   0.37114441]]) from class's __repr__"
      ]
     },
     "metadata": {},
     "execution_count": 4
    }
   ],
   "source": [
    "y"
   ]
  },
  {
   "source": [
    "## 행렬의 전치"
   ],
   "cell_type": "markdown",
   "metadata": {}
  },
  {
   "cell_type": "code",
   "execution_count": 5,
   "metadata": {},
   "outputs": [
    {
     "output_type": "stream",
     "name": "stdout",
     "text": [
      "[[1 4]\n [2 5]\n [3 6]]\n"
     ]
    }
   ],
   "source": [
    "# numpy 예제\n",
    "x = np.array(np.arange(1, 7).reshape(2, 3))\n",
    "y = np.transpose(x)\n",
    "print(y)"
   ]
  },
  {
   "cell_type": "code",
   "execution_count": null,
   "metadata": {},
   "outputs": [],
   "source": [
    "# myPackage.functions에 update된 중간 단계의 Transpose 클래스\n",
    "class Transpose(Function):\n",
    "    def forward(self, x):\n",
    "        y = np.transpose(x)\n",
    "        return y\n",
    "\n",
    "    def backward(self, gy):\n",
    "        gx = transpose(gy)\n",
    "        return gx\n",
    "\n",
    "def transpose(x):\n",
    "    return Transpose()(x)"
   ]
  },
  {
   "cell_type": "code",
   "execution_count": 3,
   "metadata": {},
   "outputs": [
    {
     "output_type": "stream",
     "name": "stdout",
     "text": [
      "variable([[1 1 1]\n          [1 1 1]]) from class's __repr__\n"
     ]
    }
   ],
   "source": [
    "temp = np.arange(1, 7).reshape(2, 3)\n",
    "x = Variable(temp)\n",
    "y = F.transpose(x)\n",
    "y.backward()\n",
    "print(x.grad)"
   ]
  },
  {
   "cell_type": "code",
   "execution_count": null,
   "metadata": {},
   "outputs": [],
   "source": [
    "class Variable:\n",
    "    \"\"\" Update Version (Level 4-2).\n",
    "    Class Variable : np.array 값을 다루되 다른 멤버변수를 추가적인 특징으로 가져 다양한 정보를 모두 포함시키는 클래스.\n",
    "\n",
    "    Parameter\n",
    "    ---------\n",
    "    data : np.array\n",
    "        실제 연산에서 사용되는 값으로, 다양한 연산 및 정보 전달에도 사용\n",
    "    grad : int, float\n",
    "        역전파 수행 시, 현재 역전파 층에서의 gradient 값을 저장하여 다음 역전파에 전달하는 기능을 수행\n",
    "    creator : callable function\n",
    "        Variable 객체(인스턴스)를 연산하기 위한 함수가 무엇인지 저장하여 현재 객체는 creator에 들어온 함수값을 수행하기 위해 존재하는 것으로 판단하면 됨\n",
    "    generation : Variable 객체가 어느 세대(generation)에 포함되어 있는지를 표현하기 위한 변수\n",
    "\n",
    "    Functions\n",
    "    ---------\n",
    "    # 재귀 방식과 반복문 방식의 경우 메모리 할당 측면에서 반복문 방식이 유리하다.\n",
    "    # 재귀 방식은 호출 시마다 메모리에 누적되나 반복문의 경우 pop을 활용해 메모리가 누적되지 않은 상태로 작업을 수월한다.\n",
    "    __init__\n",
    "        isinstance : 첫 번째 파라미터값의 타입과 두 번째 파라미터값의 동등 여부를 확인하는 함수\n",
    "        retain_grad : gradient 값(y().grad)을 유지시킬지 설정하는 변수. default = False\n",
    "        name : 차후 Variable에 이름을 달아주기 위해 설정\n",
    "    cleargrad\n",
    "        메모리 절약을 위해서 한 번 할당했던 변수를 또 다시 사용해야 할 경우 기존 메모리에 있던 Variable.grad 정보가 남아있기 때문에 할당을 해제해주어야 제대로 동작을 수행하게 된다.\n",
    "    backward\n",
    "        반복문을 이용한 역전파 코드\n",
    "        while loop 내에서 zip 함수를 활용하여 x.grad에 중복되게 값이 들어갈 경우 기존 노드에 더해지도록 만들어 x + x = 2x 라는 식을 예로 들었을 때, gradient 값이 2로 정상 출력되게 하였음\n",
    "        add_func\n",
    "            역전파 시 함수가 pop되면서 새로운 값이 들어올 때, 같은 메모리를 참조하는 경우에 중복 방지를 위해서 추가된 함수\n",
    "            이미지 결과를 보면 더 이해가 쉽기 때문에 아래 코드블럭 중 Check로 Markdown 표시를 한 곳에서 이미지를 확인하기를 추천!!!\n",
    "        weakref\n",
    "            순환 참조로 인해 생기는 메모리 누수 문제를 해결하기 위해 import된 weakref 객체에 대해 실제로 값을 출력할 때는 Variable처럼 weakref도 어떠한 기본 데이터타입을 감싸고 있는 형태이므로 기본 생성자를 통해 객체를 호출함과 동시에 output을 사용해 실제 결과값을 확인함\n",
    "        self.grad. 즉 역전파 시작 시 기존에는 ndarray 인스턴스를 받았으나 고차 미분을 가능하게 하기 위해 ndarray 인스턴스가 아닌 Variable 인스턴스를 받도록 설정\n",
    "        입력 파라미터에 create_graph 변수 추가. 역전파 1회 계산 후 역전파를 비활성 모드로 실행하게 만드는 파라미터\n",
    "        with using_config(name, value) 구문을 생성하여 역전파 설정을 통해 들여쓰기된 구문의 수행 여부를 판단\n",
    "    shape, ndim, size, dtype : numpy에 기본적으로 내장되어있는 메서드를 @property 데코레이터를 활용하여 바로 호출할 수 있도록 설정\n",
    "    __len__ : data의 길이 반환\n",
    "    __repr__ : print로 객체를 표현할 때 return할 값을 설정\n",
    "    __mul__ : 다른 객체 또는 데이터타입과의 multiply 기능 지원\n",
    "    reshape(self, *shape) : 만약에 가변인자로 들어오는 shape 값이 1개인 경우 그 값의 instance가 tuple or list일 때 shape[0]를 shape로 지정하고 그 외의 경우에는 myPackage.functions.reshape 함수를 사용하여 *shape의 값을 그대로 반영하여 reshape 진행\n",
    "    >> Update\n",
    "        transpose : Variable 인스턴스에서 transpose 메서드를 호출했을 때, myPackage.functions에서 transpose 함수를 바로 호출할 수 있도록 설정\n",
    "        T : transpose를 바로 실행할 수 있도록 만든 @property function. @property 데코레이터를 사용하여 self 객체를 instance 변수로 바로 사용할 수 있도록 설정하였음\n",
    "    \"\"\"\n",
    "    def __init__(self, data, name = None):\n",
    "        if data is not None:\n",
    "            if not isinstance(data, np.ndarray):\n",
    "                raise TypeError(f'{type(data)} is not supported.')\n",
    "\n",
    "        self.data = data\n",
    "        self.name = name\n",
    "        self.grad = None\n",
    "        self.creator = None\n",
    "        self.generation = 0\n",
    "\n",
    "    def cleargrad(self):\n",
    "        self.grad = None\n",
    "\n",
    "    def set_creator(self, func):\n",
    "        self.creator = func\n",
    "        self.generation = func.generation + 1\n",
    "\n",
    "    @property\n",
    "    def shape(self):\n",
    "        return self.data.shape\n",
    "\n",
    "    @property\n",
    "    def ndim(self):\n",
    "        return self.data.ndim\n",
    "\n",
    "    @property\n",
    "    def size(self):\n",
    "        return self.data.size\n",
    "\n",
    "    @property\n",
    "    def dtype(self):\n",
    "        return self.data.dtype\n",
    "\n",
    "    @property\n",
    "    def T(self):\n",
    "        return myPackage.functions.transpose(self)\n",
    "\n",
    "    def __len__(self):\n",
    "        return len(self.data)\n",
    "\n",
    "    def __repr__(self):\n",
    "        if self.data is None:\n",
    "            return \"variable(None)\"\n",
    "        p = str(self.data).replace('\\n', '\\n' + ' ' * 9)\n",
    "        return f\"variable({p}) from class's __repr__\"\n",
    "\n",
    "    def reshape(self, *shape):\n",
    "        if len(shape) == 1 and isinstance(shape[0], (tuple, list)):\n",
    "            shape = shape[0]\n",
    "        return myPackage.functions.reshape(self, shape)\n",
    "\n",
    "    def transpose(self):\n",
    "        return myPackage.functions.transpose(self)\n",
    "\n",
    "    def backward(self, retain_grad = False, create_graph = False):\n",
    "        if self.grad is None:\n",
    "            self.grad = Variable(np.ones_like(self.data))\n",
    "\n",
    "        funcs = []\n",
    "        seen_set = set()\n",
    "\n",
    "        def add_func(f):\n",
    "            if f not in seen_set:\n",
    "                funcs.append(f)\n",
    "                seen_set.add(f)\n",
    "                funcs.sort(key = lambda x: x.generation)\n",
    "\n",
    "        add_func(self.creator)\n",
    "\n",
    "        while funcs:\n",
    "            f = funcs.pop()\n",
    "            gys = [output().grad for output in f.outputs]\n",
    "\n",
    "            with using_config('enable_backprop', create_graph):\n",
    "                gxs = f.backward(*gys)\n",
    "                if not isinstance(gxs, tuple):\n",
    "                    gxs = (gxs,)\n",
    "\n",
    "                for x, gx in zip(f.inputs, gxs):\n",
    "                    if x.grad is None:\n",
    "                        x.grad = gx\n",
    "                    else:\n",
    "                        x.grad = x.grad + gx\n",
    "\n",
    "                    if x.creator is not None:\n",
    "                        add_func(x.creator)\n",
    "            \n",
    "            if not retain_grad:\n",
    "                for y in f.outputs:\n",
    "                    y().grad = None"
   ]
  },
  {
   "source": [
    "## (보충) 실제 transpose 함수"
   ],
   "cell_type": "markdown",
   "metadata": {}
  },
  {
   "cell_type": "code",
   "execution_count": null,
   "metadata": {},
   "outputs": [],
   "source": [
    "# 축의 데이터 순서 변경\n",
    "A, B, C, D = 1, 2, 3, 4\n",
    "x = np.random.rand(A, B, C, D)\n",
    "y = x.transpose(1, 0, 3, 2)"
   ]
  },
  {
   "cell_type": "code",
   "execution_count": null,
   "metadata": {},
   "outputs": [],
   "source": [
    "# myPackage.functions에 update된 최종 Trnaspose 클래스\n",
    "class Transpose(Function):\n",
    "    def __init__(self, axes=None):\n",
    "        self.axes = axes\n",
    "\n",
    "    def forward(self, x):\n",
    "        y = x.transpose(self.axes)\n",
    "        return y\n",
    "\n",
    "    def backward(self, gy):\n",
    "        if self.axes is None:\n",
    "            return transpose(gy)\n",
    "        \n",
    "        axes_len = len(self.axes)\n",
    "        inv_axes = tuple(np.argsort([ax % axes_len for ax in self.axes]))\n",
    "        return transpose(gy, inv_axes)\n",
    "\n",
    "def transpose(x, axes=None):\n",
    "    return Transpose(axes)(x)"
   ]
  },
  {
   "cell_type": "code",
   "execution_count": 3,
   "metadata": {},
   "outputs": [],
   "source": [
    "x = Variable(np.random.rand(2, 3))\n",
    "y = x.transpose()\n",
    "y = x.T"
   ]
  },
  {
   "cell_type": "code",
   "execution_count": 4,
   "metadata": {},
   "outputs": [
    {
     "output_type": "execute_result",
     "data": {
      "text/plain": [
       "variable([[0.83565085 0.49163507]\n",
       "          [0.66753849 0.44648439]\n",
       "          [0.46673935 0.52092064]]) from class's __repr__"
      ]
     },
     "metadata": {},
     "execution_count": 4
    }
   ],
   "source": [
    "y"
   ]
  },
  {
   "source": [
    "## 합계 함수"
   ],
   "cell_type": "markdown",
   "metadata": {}
  },
  {
   "cell_type": "code",
   "execution_count": null,
   "metadata": {},
   "outputs": [],
   "source": [
    "class Sum(Function):\n",
    "    def forward(self, x):\n",
    "        self.x_shape = x.shape\n",
    "        y = x.sum()\n",
    "        return y\n",
    "\n",
    "    def backward(self, gy):\n",
    "        gx = broadcast_to(gy, self.x_shape)\n",
    "        return gx\n",
    "\n",
    "def sum(x):\n",
    "    return Sum()(x)"
   ]
  },
  {
   "source": [
    "### 40장의 합계 함수가 포함된 장으로, broadcast_to 함수가 정의된 다음 다음의 코드블럭들을 실행할 수 있음"
   ],
   "cell_type": "markdown",
   "metadata": {}
  },
  {
   "cell_type": "code",
   "execution_count": 6,
   "metadata": {},
   "outputs": [
    {
     "output_type": "stream",
     "name": "stdout",
     "text": [
      "variable(21) from class's __repr__\nvariable([1 1 1 1 1 1]) from class's __repr__\n"
     ]
    }
   ],
   "source": [
    "# Case 1: vector\n",
    "x = Variable(np.array([1, 2, 3, 4, 5, 6]))\n",
    "y = F.sum(x)\n",
    "y.backward()\n",
    "print(y) # Variable(21)\n",
    "print(x.grad) # Variable([1 1 1 1 1 1])"
   ]
  },
  {
   "cell_type": "code",
   "execution_count": 7,
   "metadata": {},
   "outputs": [
    {
     "output_type": "stream",
     "name": "stdout",
     "text": [
      "variable(21) from class's __repr__\nvariable([[1 1 1]\n          [1 1 1]]) from class's __repr__\n"
     ]
    }
   ],
   "source": [
    "# Case 2: matrix\n",
    "x = Variable(np.array([[1, 2, 3], [4, 5, 6]]))\n",
    "y = F.sum(x)\n",
    "y.backward()\n",
    "print(y) # Variable(21)\n",
    "print(x.grad) # Variable([[1 1 1], [1 1 1]])"
   ]
  },
  {
   "source": [
    "## axis, keepdims (in numpy.sum)"
   ],
   "cell_type": "markdown",
   "metadata": {}
  },
  {
   "cell_type": "code",
   "execution_count": 5,
   "metadata": {},
   "outputs": [
    {
     "output_type": "stream",
     "name": "stdout",
     "text": [
      "[5 7 9]\n(2, 3)  ->  (3,)\n"
     ]
    }
   ],
   "source": [
    "x = np.array([[1, 2, 3], [4, 5, 6]])\n",
    "y = np.sum(x, axis = 0)\n",
    "print(y)\n",
    "print(x.shape, ' -> ', y.shape)"
   ]
  },
  {
   "cell_type": "code",
   "execution_count": 8,
   "metadata": {},
   "outputs": [
    {
     "output_type": "stream",
     "name": "stdout",
     "text": [
      "(1, 3, 3)\n[ 6 15 24]\n(1, 3, 3)  ->  (3,)\n"
     ]
    }
   ],
   "source": [
    "x = np.array([[[1, 2, 3], [4, 5, 6], [7, 8, 9]]])\n",
    "print(x.shape)\n",
    "y = np.sum(x, axis = (0, 2))\n",
    "print(y)\n",
    "print(x.shape, ' -> ', y.shape)"
   ]
  },
  {
   "cell_type": "code",
   "execution_count": 9,
   "metadata": {},
   "outputs": [
    {
     "output_type": "stream",
     "name": "stdout",
     "text": [
      "[[21]]\n(1, 1)\n"
     ]
    }
   ],
   "source": [
    "x = np.array([[1, 2, 3], [4, 5, 6]])\n",
    "y = np.sum(x, keepdims=True)\n",
    "print(y)\n",
    "print(y.shape)"
   ]
  },
  {
   "source": [
    "## 합계 클래스 및 함수(Sum, sum) 수정"
   ],
   "cell_type": "markdown",
   "metadata": {}
  },
  {
   "cell_type": "code",
   "execution_count": null,
   "metadata": {},
   "outputs": [],
   "source": [
    "class Sum(Function):\n",
    "    def __init__(self, axis, keepdims):\n",
    "        self.axis = axis\n",
    "        self.keepdims = keepdims\n",
    "\n",
    "    def forward(self, x):\n",
    "        self.x_shape = x.shape\n",
    "        y = x.sum(axis=self.axis, keepdims=self.keepdims)\n",
    "        return y\n",
    "\n",
    "    def backward(self, gy):\n",
    "        gy = utils.reshape_sum_backward(gy, self.x_shape, self.axis, self.keepdims)\n",
    "        gx = broadcast_to(gy, self.x_shape)\n",
    "        return gx\n",
    "\n",
    "def sum(x, axis=None, keepdims=False):\n",
    "    return Sum(axis, keepdims)(x)"
   ]
  },
  {
   "cell_type": "code",
   "execution_count": null,
   "metadata": {},
   "outputs": [],
   "source": [
    "# myPackage.utils.py에 update된 function\n",
    "\n",
    "def reshape_sum_backward(gy, x_shape, axis, keepdims):\n",
    "    \"\"\"Reshape gradient appropriately for myPackage.functions.sum's backward.\n",
    "    Args:\n",
    "        gy (myPackage.Variable): Gradient variable from the output by backprop.\n",
    "        x_shape (tuple): Shape used at sum function's forward.\n",
    "        axis (None or int or tuple of ints): Axis used at sum function's\n",
    "            forward.\n",
    "        keepdims (bool): Keepdims used at sum function's forward.\n",
    "    Returns:\n",
    "        myPackage.Variable: Gradient variable which is reshaped appropriately\n",
    "    \"\"\"\n",
    "    ndim = len(x_shape)\n",
    "    tupled_axis = axis\n",
    "    if axis is None:\n",
    "        tupled_axis = None\n",
    "    elif not isinstance(axis, tuple):\n",
    "        tupled_axis = (axis,)\n",
    "\n",
    "    if not (ndim == 0 or tupled_axis is None or keepdims):\n",
    "        actual_axis = [a if a >= 0 else a + ndim for a in tupled_axis]\n",
    "        shape = list(gy.shape)\n",
    "        for a in sorted(actual_axis):\n",
    "            shape.insert(a, 1)\n",
    "    else:\n",
    "        shape = gy.shape\n",
    "\n",
    "    gy = gy.reshape(shape)  # reshape\n",
    "    return gy"
   ]
  },
  {
   "cell_type": "code",
   "execution_count": null,
   "metadata": {},
   "outputs": [],
   "source": [
    "class Variable:\n",
    "    \"\"\" Update Version (Level 4-3).\n",
    "    Class Variable : np.array 값을 다루되 다른 멤버변수를 추가적인 특징으로 가져 다양한 정보를 모두 포함시키는 클래스.\n",
    "\n",
    "    Parameter\n",
    "    ---------\n",
    "    data : np.array\n",
    "        실제 연산에서 사용되는 값으로, 다양한 연산 및 정보 전달에도 사용\n",
    "    grad : int, float\n",
    "        역전파 수행 시, 현재 역전파 층에서의 gradient 값을 저장하여 다음 역전파에 전달하는 기능을 수행\n",
    "    creator : callable function\n",
    "        Variable 객체(인스턴스)를 연산하기 위한 함수가 무엇인지 저장하여 현재 객체는 creator에 들어온 함수값을 수행하기 위해 존재하는 것으로 판단하면 됨\n",
    "    generation : Variable 객체가 어느 세대(generation)에 포함되어 있는지를 표현하기 위한 변수\n",
    "\n",
    "    Functions\n",
    "    ---------\n",
    "    # 재귀 방식과 반복문 방식의 경우 메모리 할당 측면에서 반복문 방식이 유리하다.\n",
    "    # 재귀 방식은 호출 시마다 메모리에 누적되나 반복문의 경우 pop을 활용해 메모리가 누적되지 않은 상태로 작업을 수월한다.\n",
    "    __init__\n",
    "        isinstance : 첫 번째 파라미터값의 타입과 두 번째 파라미터값의 동등 여부를 확인하는 함수\n",
    "        retain_grad : gradient 값(y().grad)을 유지시킬지 설정하는 변수. default = False\n",
    "        name : 차후 Variable에 이름을 달아주기 위해 설정\n",
    "    cleargrad\n",
    "        메모리 절약을 위해서 한 번 할당했던 변수를 또 다시 사용해야 할 경우 기존 메모리에 있던 Variable.grad 정보가 남아있기 때문에 할당을 해제해주어야 제대로 동작을 수행하게 된다.\n",
    "    backward\n",
    "        반복문을 이용한 역전파 코드\n",
    "        while loop 내에서 zip 함수를 활용하여 x.grad에 중복되게 값이 들어갈 경우 기존 노드에 더해지도록 만들어 x + x = 2x 라는 식을 예로 들었을 때, gradient 값이 2로 정상 출력되게 하였음\n",
    "        add_func\n",
    "            역전파 시 함수가 pop되면서 새로운 값이 들어올 때, 같은 메모리를 참조하는 경우에 중복 방지를 위해서 추가된 함수\n",
    "            이미지 결과를 보면 더 이해가 쉽기 때문에 아래 코드블럭 중 Check로 Markdown 표시를 한 곳에서 이미지를 확인하기를 추천!!!\n",
    "        weakref\n",
    "            순환 참조로 인해 생기는 메모리 누수 문제를 해결하기 위해 import된 weakref 객체에 대해 실제로 값을 출력할 때는 Variable처럼 weakref도 어떠한 기본 데이터타입을 감싸고 있는 형태이므로 기본 생성자를 통해 객체를 호출함과 동시에 output을 사용해 실제 결과값을 확인함\n",
    "        self.grad. 즉 역전파 시작 시 기존에는 ndarray 인스턴스를 받았으나 고차 미분을 가능하게 하기 위해 ndarray 인스턴스가 아닌 Variable 인스턴스를 받도록 설정\n",
    "        입력 파라미터에 create_graph 변수 추가. 역전파 1회 계산 후 역전파를 비활성 모드로 실행하게 만드는 파라미터\n",
    "        with using_config(name, value) 구문을 생성하여 역전파 설정을 통해 들여쓰기된 구문의 수행 여부를 판단\n",
    "    shape, ndim, size, dtype : numpy에 기본적으로 내장되어있는 메서드를 @property 데코레이터를 활용하여 바로 호출할 수 있도록 설정\n",
    "    __len__ : data의 길이 반환\n",
    "    __repr__ : print로 객체를 표현할 때 return할 값을 설정\n",
    "    __mul__ : 다른 객체 또는 데이터타입과의 multiply 기능 지원\n",
    "    reshape(self, *shape) : 만약에 가변인자로 들어오는 shape 값이 1개인 경우 그 값의 instance가 tuple or list일 때 shape[0]를 shape로 지정하고 그 외의 경우에는 myPackage.functions.reshape 함수를 사용하여 *shape의 값을 그대로 반영하여 reshape 진행\n",
    "    transpose : Variable 인스턴스에서 transpose 메서드를 호출했을 때, myPackage.functions에서 transpose 함수를 바로 호출할 수 있도록 설정\n",
    "    T : transpose를 바로 실행할 수 있도록 만든 @property function. @property 데코레이터를 사용하여 self 객체를 instance 변수로 바로 사용할 수 있도록 설정하였음\n",
    "    >> Update\n",
    "        sum : myPackage.functions.sum 함수를 호출하여 Variable 인스턴스에서 바로 sum 함수를 호출할 수 있도록 설정\n",
    "    \"\"\"\n",
    "    def __init__(self, data, name = None):\n",
    "        if data is not None:\n",
    "            if not isinstance(data, np.ndarray):\n",
    "                raise TypeError(f'{type(data)} is not supported.')\n",
    "\n",
    "        self.data = data\n",
    "        self.name = name\n",
    "        self.grad = None\n",
    "        self.creator = None\n",
    "        self.generation = 0\n",
    "\n",
    "    def cleargrad(self):\n",
    "        self.grad = None\n",
    "\n",
    "    def set_creator(self, func):\n",
    "        self.creator = func\n",
    "        self.generation = func.generation + 1\n",
    "\n",
    "    @property\n",
    "    def shape(self):\n",
    "        return self.data.shape\n",
    "\n",
    "    @property\n",
    "    def ndim(self):\n",
    "        return self.data.ndim\n",
    "\n",
    "    @property\n",
    "    def size(self):\n",
    "        return self.data.size\n",
    "\n",
    "    @property\n",
    "    def dtype(self):\n",
    "        return self.data.dtype\n",
    "\n",
    "    @property\n",
    "    def T(self):\n",
    "        return myPackage.functions.transpose(self)\n",
    "\n",
    "    def __len__(self):\n",
    "        return len(self.data)\n",
    "\n",
    "    def __repr__(self):\n",
    "        if self.data is None:\n",
    "            return \"variable(None)\"\n",
    "        p = str(self.data).replace('\\n', '\\n' + ' ' * 9)\n",
    "        return f\"variable({p}) from class's __repr__\"\n",
    "\n",
    "    def reshape(self, *shape):\n",
    "        if len(shape) == 1 and isinstance(shape[0], (tuple, list)):\n",
    "            shape = shape[0]\n",
    "        return myPackage.functions.reshape(self, shape)\n",
    "\n",
    "    def transpose(self):\n",
    "        return myPackage.functions.transpose(self)\n",
    "\n",
    "    def sum(self, axis=None, keepdims=False):\n",
    "        return myPackage.functions.sum(self, axis, keepdims)\n",
    "\n",
    "    def backward(self, retain_grad = False, create_graph = False):\n",
    "        if self.grad is None:\n",
    "            self.grad = Variable(np.ones_like(self.data))\n",
    "\n",
    "        funcs = []\n",
    "        seen_set = set()\n",
    "\n",
    "        def add_func(f):\n",
    "            if f not in seen_set:\n",
    "                funcs.append(f)\n",
    "                seen_set.add(f)\n",
    "                funcs.sort(key = lambda x: x.generation)\n",
    "\n",
    "        add_func(self.creator)\n",
    "\n",
    "        while funcs:\n",
    "            f = funcs.pop()\n",
    "            gys = [output().grad for output in f.outputs]\n",
    "\n",
    "            with using_config('enable_backprop', create_graph):\n",
    "                gxs = f.backward(*gys)\n",
    "                if not isinstance(gxs, tuple):\n",
    "                    gxs = (gxs,)\n",
    "\n",
    "                for x, gx in zip(f.inputs, gxs):\n",
    "                    if x.grad is None:\n",
    "                        x.grad = gx\n",
    "                    else:\n",
    "                        x.grad = x.grad + gx\n",
    "\n",
    "                    if x.creator is not None:\n",
    "                        add_func(x.creator)\n",
    "            \n",
    "            if not retain_grad:\n",
    "                for y in f.outputs:\n",
    "                    y().grad = None"
   ]
  },
  {
   "cell_type": "code",
   "execution_count": null,
   "metadata": {},
   "outputs": [],
   "source": [
    "class Sum(Function):\n",
    "    def __init__(self, axis, keepdims):\n",
    "        self.axis = axis\n",
    "        self.keepdims = keepdims\n",
    "\n",
    "    def forward(self, x):\n",
    "        self.x_shape = x.shape\n",
    "        y = x.sum(axis=self.axis, keepdims=self.keepdims)\n",
    "        return y\n",
    "\n",
    "    def backward(self, gy):\n",
    "        gy = utils.reshape_sum_backward(gy, self.x_shape, self.axis, self.keepdims)\n",
    "        gx = broadcast_to(gy, self.x_shape)\n",
    "        return gx\n",
    "\n",
    "def sum(x, axis=None, keepdims=False):\n",
    "    return Sum(axis, keepdims)(x)"
   ]
  },
  {
   "cell_type": "code",
   "execution_count": 6,
   "metadata": {},
   "outputs": [
    {
     "output_type": "stream",
     "name": "stdout",
     "text": [
      "[1, 3]\nvariable([5 7 9]) from class's __repr__\nvariable([[1 1 1]\n          [1 1 1]]) from class's __repr__\n(1, 1, 1, 1)\n"
     ]
    }
   ],
   "source": [
    "x = Variable(np.array([[1, 2, 3], [4, 5, 6]]))\n",
    "y = F.sum(x, axis=0)\n",
    "y.backward()\n",
    "print(y) # Variable([5 7 9])\n",
    "print(x.grad) # Variable([[1 1 1], [1 1 1]])\n",
    "\n",
    "x = Variable(np.random.randn(2, 3, 4, 5))\n",
    "y = x.sum(keepdims=True)\n",
    "print(y.shape) # (1, 1, 1, 1)"
   ]
  },
  {
   "source": [
    "## 브로드캐스트 함수"
   ],
   "cell_type": "markdown",
   "metadata": {}
  },
  {
   "cell_type": "code",
   "execution_count": 10,
   "metadata": {},
   "outputs": [
    {
     "output_type": "stream",
     "name": "stdout",
     "text": [
      "[[1 2 3]\n [1 2 3]]\n"
     ]
    }
   ],
   "source": [
    "# numpy 예제\n",
    "x = np.array([1, 2, 3])\n",
    "y = np.broadcast_to(x, (2, 3))\n",
    "print(y)"
   ]
  },
  {
   "source": [
    "## sum_to 함수 (myPackage.utils)"
   ],
   "cell_type": "markdown",
   "metadata": {}
  },
  {
   "cell_type": "code",
   "execution_count": 3,
   "metadata": {},
   "outputs": [],
   "source": [
    "from myPackage.utils import sum_to"
   ]
  },
  {
   "cell_type": "code",
   "execution_count": 4,
   "metadata": {},
   "outputs": [
    {
     "output_type": "stream",
     "name": "stdout",
     "text": [
      "[[5 7 9]]\n"
     ]
    }
   ],
   "source": [
    "x = np.array([[1, 2, 3], [4, 5, 6]])\n",
    "y = sum_to(x, (1, 3))\n",
    "print(y)"
   ]
  },
  {
   "cell_type": "code",
   "execution_count": 5,
   "metadata": {},
   "outputs": [
    {
     "output_type": "stream",
     "name": "stdout",
     "text": [
      "[[ 6]\n [15]]\n"
     ]
    }
   ],
   "source": [
    "y = sum_to(x, (2, 1))\n",
    "print(y)"
   ]
  },
  {
   "source": [
    "## broadcast_to & sum_to (ver.myPackage)"
   ],
   "cell_type": "markdown",
   "metadata": {}
  },
  {
   "cell_type": "code",
   "execution_count": null,
   "metadata": {},
   "outputs": [],
   "source": [
    "# myPackage.functions.py\n",
    "\n",
    "class BroadcastTo(Function):\n",
    "    def __init__(self, shape):\n",
    "        self.shape = shape\n",
    "\n",
    "    def forward(self, x):\n",
    "        self.x_shape = x.shape\n",
    "        y = np.broadcast_to(x, self.shape)\n",
    "        return y\n",
    "\n",
    "    def backward(self, gy):\n",
    "        gx = sum_to(gy, self.x_shape)\n",
    "        return gx\n",
    "\n",
    "def broadcast_to(x, shape):\n",
    "    if x.shape == shape:\n",
    "        return as_variable(x)\n",
    "    return BroadcastTo(shape)(x)"
   ]
  },
  {
   "cell_type": "code",
   "execution_count": null,
   "metadata": {},
   "outputs": [],
   "source": [
    "# myPackage.functions.py\n",
    "\n",
    "from myPackage import utils\n",
    "\n",
    "class SumTo(Function):\n",
    "    def __init__(self, shape):\n",
    "        self.shape = shape\n",
    "\n",
    "    def forward(self, x):\n",
    "        self.x_shape = x.shape\n",
    "        y = utils.sum_to(x, self.shape)\n",
    "        return y\n",
    "\n",
    "    def backward(self, gy):\n",
    "        gx = broadcast_to(gy, self.x_shape)\n",
    "        return gx\n",
    "\n",
    "def sum_to(x, shape):\n",
    "    if x.shape == shape:\n",
    "        return as_variable(x)\n",
    "    return SumTo(shape)(x)"
   ]
  },
  {
   "source": [
    "## 브로드캐스트 대응"
   ],
   "cell_type": "markdown",
   "metadata": {}
  },
  {
   "cell_type": "code",
   "execution_count": 21,
   "metadata": {},
   "outputs": [
    {
     "output_type": "stream",
     "name": "stdout",
     "text": [
      "[11 12 13]\n"
     ]
    }
   ],
   "source": [
    "# numpy 예제\n",
    "x0 = np.array([1, 2, 3])\n",
    "x1 = np.array([10])\n",
    "y = x0 + x1\n",
    "print(y)"
   ]
  },
  {
   "cell_type": "code",
   "execution_count": null,
   "metadata": {},
   "outputs": [],
   "source": [
    "# myPackage.core_complex.py\n",
    "\n",
    "class Add(Function):\n",
    "    \"\"\" class Add\n",
    "    Update : 텐서에 대한 add 함수 사용 시, x0, x1의 shape을 저장하게 함으로써 브로드캐스트가 되도록 설정하고, backprop 단계에서 gx0와 gx1의 grad 값을 그대로 사용하되 shape이 달라지는 경우 broadcast의 역전파에 대응되는 sum_to가 적용되어야 하므로 그에 대한 코드가 추가되었다.\n",
    "    \"\"\"\n",
    "    def forward(self, x0, x1):\n",
    "        self.x0_shape, self.x1_shape = x0.shape, x1.shape\n",
    "        y = x0 + x1\n",
    "        return y\n",
    "\n",
    "    def backward(self, gy):\n",
    "        gx0, gx1 = gy, gy\n",
    "        if self.x0_shape != self.x1_shape:\n",
    "            gx0 = myPackage.functions.sum_to(gx0, self.x0_shape)\n",
    "            gx1 = myPackage.functions.sum_to(gx1, self.x1_shape)\n",
    "        return gx0, gx1"
   ]
  },
  {
   "cell_type": "code",
   "execution_count": 17,
   "metadata": {},
   "outputs": [
    {
     "output_type": "stream",
     "name": "stdout",
     "text": [
      "variable([11 12 13]) from class's __repr__\nvariable([1 1 1]) from class's __repr__\nvariable([3]) from class's __repr__\n"
     ]
    }
   ],
   "source": [
    "x0 = Variable(np.array([1, 2, 3]))\n",
    "x1 = Variable(np.array([10]))\n",
    "y = x0 + x1\n",
    "print(y)\n",
    "\n",
    "y.backward()\n",
    "print(x0.grad)\n",
    "print(x1.grad)"
   ]
  },
  {
   "source": [
    "## 행렬의 곱"
   ],
   "cell_type": "markdown",
   "metadata": {}
  },
  {
   "cell_type": "code",
   "execution_count": 3,
   "metadata": {},
   "outputs": [
    {
     "output_type": "stream",
     "name": "stdout",
     "text": [
      "32\n[[19 22]\n [43 50]]\n"
     ]
    }
   ],
   "source": [
    "# 예제\n",
    "\n",
    "# 내적\n",
    "a = np.array([1, 2, 3])\n",
    "b = np.array([4, 5, 6])\n",
    "c = np.dot(a, b)\n",
    "print(c)\n",
    "\n",
    "# 행렬곱\n",
    "a = np.array([[1, 2], [3, 4]])\n",
    "b = np.array([[1, 2], [3, 4]]) + 4\n",
    "c = np.dot(a, b)\n",
    "print(c)"
   ]
  },
  {
   "cell_type": "code",
   "execution_count": null,
   "metadata": {},
   "outputs": [],
   "source": [
    "# myPackage.functions.py\n",
    "class MatMul(Function):\n",
    "    def forward(self, x, W):\n",
    "        y = x.dot(W)\n",
    "        return y\n",
    "\n",
    "    def backward(self, gy):\n",
    "        x, W = self.inputs\n",
    "        gx = matmul(gy, W.T)\n",
    "        gW = matmul(x.T, gy)\n",
    "        return gx, gW\n",
    "\n",
    "def matmul(x, W):\n",
    "    return MatMul()(x, W)"
   ]
  },
  {
   "cell_type": "code",
   "execution_count": 3,
   "metadata": {},
   "outputs": [
    {
     "output_type": "stream",
     "name": "stdout",
     "text": [
      "variable([[-0.29886004 -3.24390226  3.81256893]\n          [-0.29886004 -3.24390226  3.81256893]]) from class's __repr__\n(2, 3)\n\nvariable([[ 0.85520194  0.85520194  0.85520194  0.85520194]\n          [ 3.8234061   3.8234061   3.8234061   3.8234061 ]\n          [-0.02787203 -0.02787203 -0.02787203 -0.02787203]]) from class's __repr__\n(3, 4)\n"
     ]
    }
   ],
   "source": [
    "x = Variable(np.random.randn(2, 3))\n",
    "W = Variable(np.random.randn(3, 4))\n",
    "y = F.matmul(x, W)\n",
    "y.backward()\n",
    "\n",
    "print(x.grad)\n",
    "print(x.grad.shape)\n",
    "print()\n",
    "print(W.grad)\n",
    "print(W.grad.shape)"
   ]
  },
  {
   "source": [
    "## 선형 회귀\n",
    "#### 머신러닝 문제에 대응하기 위해 실험용으로 작은 데이터셋을 생성(이러한 데이터셋을 '토이 데이터셋'이라고 함)"
   ],
   "cell_type": "markdown",
   "metadata": {}
  },
  {
   "cell_type": "code",
   "execution_count": 4,
   "metadata": {},
   "outputs": [],
   "source": [
    "np.random.seed(0) # seed 고정\n",
    "x = np.random.rand(100, 1)\n",
    "y = 5 + 2 * x + np.random.rand(100, 1)"
   ]
  },
  {
   "cell_type": "code",
   "execution_count": 10,
   "metadata": {},
   "outputs": [],
   "source": [
    "import matplotlib.pyplot as plt\n",
    "%matplotlib inline"
   ]
  },
  {
   "cell_type": "code",
   "execution_count": 13,
   "metadata": {},
   "outputs": [
    {
     "output_type": "display_data",
     "data": {
      "text/plain": "<Figure size 360x360 with 1 Axes>",
      "image/svg+xml": "<?xml version=\"1.0\" encoding=\"utf-8\" standalone=\"no\"?>\r\n<!DOCTYPE svg PUBLIC \"-//W3C//DTD SVG 1.1//EN\"\r\n  \"http://www.w3.org/Graphics/SVG/1.1/DTD/svg11.dtd\">\r\n<!-- Created with matplotlib (https://matplotlib.org/) -->\r\n<svg height=\"302.878125pt\" version=\"1.1\" viewBox=\"0 0 316.303125 302.878125\" width=\"316.303125pt\" xmlns=\"http://www.w3.org/2000/svg\" xmlns:xlink=\"http://www.w3.org/1999/xlink\">\r\n <defs>\r\n  <style type=\"text/css\">\r\n*{stroke-linecap:butt;stroke-linejoin:round;}\r\n  </style>\r\n </defs>\r\n <g id=\"figure_1\">\r\n  <g id=\"patch_1\">\r\n   <path d=\"M 0 302.878125 \r\nL 316.303125 302.878125 \r\nL 316.303125 0 \r\nL 0 0 \r\nz\r\n\" style=\"fill:none;\"/>\r\n  </g>\r\n  <g id=\"axes_1\">\r\n   <g id=\"patch_2\">\r\n    <path d=\"M 30.103125 279 \r\nL 309.103125 279 \r\nL 309.103125 7.2 \r\nL 30.103125 7.2 \r\nz\r\n\" style=\"fill:#ffffff;\"/>\r\n   </g>\r\n   <g id=\"PathCollection_1\">\r\n    <defs>\r\n     <path d=\"M 0 3 \r\nC 0.795609 3 1.55874 2.683901 2.12132 2.12132 \r\nC 2.683901 1.55874 3 0.795609 3 0 \r\nC 3 -0.795609 2.683901 -1.55874 2.12132 -2.12132 \r\nC 1.55874 -2.683901 0.795609 -3 0 -3 \r\nC -0.795609 -3 -1.55874 -2.683901 -2.12132 -2.12132 \r\nC -2.683901 -1.55874 -3 -0.795609 -3 0 \r\nC -3 0.795609 -2.683901 1.55874 -2.12132 2.12132 \r\nC -1.55874 2.683901 -0.795609 3 0 3 \r\nz\r\n\" id=\"C0_0_2d232e6167\"/>\r\n    </defs>\r\n    <g clip-path=\"url(#paca9a8c0eb)\">\r\n     <use style=\"fill:#f1e51d;stroke:#f1e51d;\" x=\"183.082954\" xlink:href=\"#C0_0_2d232e6167\" y=\"112.428525\"/>\r\n    </g>\r\n    <g clip-path=\"url(#paca9a8c0eb)\">\r\n     <use style=\"fill:#e5e419;stroke:#e5e419;\" x=\"225.982108\" xlink:href=\"#C0_0_2d232e6167\" y=\"120.11371\"/>\r\n    </g>\r\n    <g clip-path=\"url(#paca9a8c0eb)\">\r\n     <use style=\"fill:#404588;stroke:#404588;\" x=\"196.993649\" xlink:href=\"#C0_0_2d232e6167\" y=\"95.505535\"/>\r\n    </g>\r\n    <g clip-path=\"url(#paca9a8c0eb)\">\r\n     <use style=\"fill:#cae11f;stroke:#cae11f;\" x=\"182.069542\" xlink:href=\"#C0_0_2d232e6167\" y=\"84.116101\"/>\r\n    </g>\r\n    <g clip-path=\"url(#paca9a8c0eb)\">\r\n     <use style=\"fill:#84d44b;stroke:#84d44b;\" x=\"150.811432\" xlink:href=\"#C0_0_2d232e6167\" y=\"181.99137\"/>\r\n    </g>\r\n    <g clip-path=\"url(#paca9a8c0eb)\">\r\n     <use style=\"fill:#25ab82;stroke:#25ab82;\" x=\"208.114686\" xlink:href=\"#C0_0_2d232e6167\" y=\"102.957101\"/>\r\n    </g>\r\n    <g clip-path=\"url(#paca9a8c0eb)\">\r\n     <use style=\"fill:#1e9d89;stroke:#1e9d89;\" x=\"154.403832\" xlink:href=\"#C0_0_2d232e6167\" y=\"143.988381\"/>\r\n    </g>\r\n    <g clip-path=\"url(#paca9a8c0eb)\">\r\n     <use style=\"fill:#addc30;stroke:#addc30;\" x=\"271.513282\" xlink:href=\"#C0_0_2d232e6167\" y=\"53.00515\"/>\r\n    </g>\r\n    <g clip-path=\"url(#paca9a8c0eb)\">\r\n     <use style=\"fill:#29af7f;stroke:#29af7f;\" x=\"290.049684\" xlink:href=\"#C0_0_2d232e6167\" y=\"74.035425\"/>\r\n    </g>\r\n    <g clip-path=\"url(#paca9a8c0eb)\">\r\n     <use style=\"fill:#297a8e;stroke:#297a8e;\" x=\"140.442646\" xlink:href=\"#C0_0_2d232e6167\" y=\"118.14315\"/>\r\n    </g>\r\n    <g clip-path=\"url(#paca9a8c0eb)\">\r\n     <use style=\"fill:#472c7a;stroke:#472c7a;\" x=\"245.716434\" xlink:href=\"#C0_0_2d232e6167\" y=\"86.305177\"/>\r\n    </g>\r\n    <g clip-path=\"url(#paca9a8c0eb)\">\r\n     <use style=\"fill:#423f85;stroke:#423f85;\" x=\"177.947051\" xlink:href=\"#C0_0_2d232e6167\" y=\"99.245106\"/>\r\n    </g>\r\n    <g clip-path=\"url(#paca9a8c0eb)\">\r\n     <use style=\"fill:#1e9d89;stroke:#1e9d89;\" x=\"188.041583\" xlink:href=\"#C0_0_2d232e6167\" y=\"106.272249\"/>\r\n    </g>\r\n    <g clip-path=\"url(#paca9a8c0eb)\">\r\n     <use style=\"fill:#e5e419;stroke:#e5e419;\" x=\"280.234531\" xlink:href=\"#C0_0_2d232e6167\" y=\"74.217367\"/>\r\n    </g>\r\n    <g clip-path=\"url(#paca9a8c0eb)\">\r\n     <use style=\"fill:#4ac16d;stroke:#4ac16d;\" x=\"59.890518\" xlink:href=\"#C0_0_2d232e6167\" y=\"196.345927\"/>\r\n    </g>\r\n    <g clip-path=\"url(#paca9a8c0eb)\">\r\n     <use style=\"fill:#2b758e;stroke:#2b758e;\" x=\"64.040077\" xlink:href=\"#C0_0_2d232e6167\" y=\"235.777481\"/>\r\n    </g>\r\n    <g clip-path=\"url(#paca9a8c0eb)\">\r\n     <use style=\"fill:#3c508b;stroke:#3c508b;\" x=\"46.787448\" xlink:href=\"#C0_0_2d232e6167\" y=\"199.861022\"/>\r\n    </g>\r\n    <g clip-path=\"url(#paca9a8c0eb)\">\r\n     <use style=\"fill:#2d718e;stroke:#2d718e;\" x=\"256.260948\" xlink:href=\"#C0_0_2d232e6167\" y=\"64.195044\"/>\r\n    </g>\r\n    <g clip-path=\"url(#paca9a8c0eb)\">\r\n     <use style=\"fill:#fde725;stroke:#fde725;\" x=\"242.217921\" xlink:href=\"#C0_0_2d232e6167\" y=\"44.583348\"/>\r\n    </g>\r\n    <g clip-path=\"url(#paca9a8c0eb)\">\r\n     <use style=\"fill:#404588;stroke:#404588;\" x=\"265.902359\" xlink:href=\"#C0_0_2d232e6167\" y=\"45.145782\"/>\r\n    </g>\r\n    <g clip-path=\"url(#paca9a8c0eb)\">\r\n     <use style=\"fill:#40bd72;stroke:#40bd72;\" x=\"293.905903\" xlink:href=\"#C0_0_2d232e6167\" y=\"19.554545\"/>\r\n    </g>\r\n    <g clip-path=\"url(#paca9a8c0eb)\">\r\n     <use style=\"fill:#38b977;stroke:#38b977;\" x=\"247.63313\" xlink:href=\"#C0_0_2d232e6167\" y=\"79.233397\"/>\r\n    </g>\r\n    <g clip-path=\"url(#paca9a8c0eb)\">\r\n     <use style=\"fill:#addc30;stroke:#addc30;\" x=\"160.564299\" xlink:href=\"#C0_0_2d232e6167\" y=\"101.820883\"/>\r\n    </g>\r\n    <g clip-path=\"url(#paca9a8c0eb)\">\r\n     <use style=\"fill:#481769;stroke:#481769;\" x=\"242.829639\" xlink:href=\"#C0_0_2d232e6167\" y=\"68.440608\"/>\r\n    </g>\r\n    <g clip-path=\"url(#paca9a8c0eb)\">\r\n     <use style=\"fill:#3c508b;stroke:#3c508b;\" x=\"72.070686\" xlink:href=\"#C0_0_2d232e6167\" y=\"226.599148\"/>\r\n    </g>\r\n    <g clip-path=\"url(#paca9a8c0eb)\">\r\n     <use style=\"fill:#56c667;stroke:#56c667;\" x=\"206.574555\" xlink:href=\"#C0_0_2d232e6167\" y=\"101.084391\"/>\r\n    </g>\r\n    <g clip-path=\"url(#paca9a8c0eb)\">\r\n     <use style=\"fill:#46085c;stroke:#46085c;\" x=\"78.537141\" xlink:href=\"#C0_0_2d232e6167\" y=\"262.897371\"/>\r\n    </g>\r\n    <g clip-path=\"url(#paca9a8c0eb)\">\r\n     <use style=\"fill:#fde725;stroke:#fde725;\" x=\"285.15222\" xlink:href=\"#C0_0_2d232e6167\" y=\"69.888005\"/>\r\n    </g>\r\n    <g clip-path=\"url(#paca9a8c0eb)\">\r\n     <use style=\"fill:#440154;stroke:#440154;\" x=\"176.130122\" xlink:href=\"#C0_0_2d232e6167\" y=\"119.757032\"/>\r\n    </g>\r\n    <g clip-path=\"url(#paca9a8c0eb)\">\r\n     <use style=\"fill:#77d153;stroke:#77d153;\" x=\"148.49267\" xlink:href=\"#C0_0_2d232e6167\" y=\"179.60168\"/>\r\n    </g>\r\n    <g clip-path=\"url(#paca9a8c0eb)\">\r\n     <use style=\"fill:#218e8d;stroke:#218e8d;\" x=\"109.788531\" xlink:href=\"#C0_0_2d232e6167\" y=\"176.762857\"/>\r\n    </g>\r\n    <g clip-path=\"url(#paca9a8c0eb)\">\r\n     <use style=\"fill:#56c667;stroke:#56c667;\" x=\"241.20638\" xlink:href=\"#C0_0_2d232e6167\" y=\"91.766677\"/>\r\n    </g>\r\n    <g clip-path=\"url(#paca9a8c0eb)\">\r\n     <use style=\"fill:#4ac16d;stroke:#4ac16d;\" x=\"159.190236\" xlink:href=\"#C0_0_2d232e6167\" y=\"186.935654\"/>\r\n    </g>\r\n    <g clip-path=\"url(#paca9a8c0eb)\">\r\n     <use style=\"fill:#482576;stroke:#482576;\" x=\"188.141984\" xlink:href=\"#C0_0_2d232e6167\" y=\"147.271681\"/>\r\n    </g>\r\n    <g clip-path=\"url(#paca9a8c0eb)\">\r\n     <use style=\"fill:#472c7a;stroke:#472c7a;\" x=\"46.419092\" xlink:href=\"#C0_0_2d232e6167\" y=\"232.011502\"/>\r\n    </g>\r\n    <g clip-path=\"url(#paca9a8c0eb)\">\r\n     <use style=\"fill:#481769;stroke:#481769;\" x=\"200.828348\" xlink:href=\"#C0_0_2d232e6167\" y=\"107.237253\"/>\r\n    </g>\r\n    <g clip-path=\"url(#paca9a8c0eb)\">\r\n     <use style=\"fill:#40bd72;stroke:#40bd72;\" x=\"199.399946\" xlink:href=\"#C0_0_2d232e6167\" y=\"110.06603\"/>\r\n    </g>\r\n    <g clip-path=\"url(#paca9a8c0eb)\">\r\n     <use style=\"fill:#84d44b;stroke:#84d44b;\" x=\"200.64747\" xlink:href=\"#C0_0_2d232e6167\" y=\"100.999042\"/>\r\n    </g>\r\n    <g clip-path=\"url(#paca9a8c0eb)\">\r\n     <use style=\"fill:#38b977;stroke:#38b977;\" x=\"284.914786\" xlink:href=\"#C0_0_2d232e6167\" y=\"34.18543\"/>\r\n    </g>\r\n    <g clip-path=\"url(#paca9a8c0eb)\">\r\n     <use style=\"fill:#1fa187;stroke:#1fa187;\" x=\"217.378067\" xlink:href=\"#C0_0_2d232e6167\" y=\"110.420065\"/>\r\n    </g>\r\n    <g clip-path=\"url(#paca9a8c0eb)\">\r\n     <use style=\"fill:#481d6f;stroke:#481d6f;\" x=\"134.271487\" xlink:href=\"#C0_0_2d232e6167\" y=\"128.799002\"/>\r\n    </g>\r\n    <g clip-path=\"url(#paca9a8c0eb)\">\r\n     <use style=\"fill:#1f978b;stroke:#1f978b;\" x=\"154.260662\" xlink:href=\"#C0_0_2d232e6167\" y=\"167.086947\"/>\r\n    </g>\r\n    <g clip-path=\"url(#paca9a8c0eb)\">\r\n     <use style=\"fill:#31b57b;stroke:#31b57b;\" x=\"221.454825\" xlink:href=\"#C0_0_2d232e6167\" y=\"106.726978\"/>\r\n    </g>\r\n    <g clip-path=\"url(#paca9a8c0eb)\">\r\n     <use style=\"fill:#cae11f;stroke:#cae11f;\" x=\"57.103064\" xlink:href=\"#C0_0_2d232e6167\" y=\"190.560358\"/>\r\n    </g>\r\n    <g clip-path=\"url(#paca9a8c0eb)\">\r\n     <use style=\"fill:#423f85;stroke:#423f85;\" x=\"213.496578\" xlink:href=\"#C0_0_2d232e6167\" y=\"75.128939\"/>\r\n    </g>\r\n    <g clip-path=\"url(#paca9a8c0eb)\">\r\n     <use style=\"fill:#482576;stroke:#482576;\" x=\"214.494735\" xlink:href=\"#C0_0_2d232e6167\" y=\"84.8114\"/>\r\n    </g>\r\n    <g clip-path=\"url(#paca9a8c0eb)\">\r\n     <use style=\"fill:#38b977;stroke:#38b977;\" x=\"95.820291\" xlink:href=\"#C0_0_2d232e6167\" y=\"240.873746\"/>\r\n    </g>\r\n    <g clip-path=\"url(#paca9a8c0eb)\">\r\n     <use style=\"fill:#46327e;stroke:#46327e;\" x=\"74.817216\" xlink:href=\"#C0_0_2d232e6167\" y=\"173.669757\"/>\r\n    </g>\r\n    <g clip-path=\"url(#paca9a8c0eb)\">\r\n     <use style=\"fill:#25ab82;stroke:#25ab82;\" x=\"122.905803\" xlink:href=\"#C0_0_2d232e6167\" y=\"156.492267\"/>\r\n    </g>\r\n    <g clip-path=\"url(#paca9a8c0eb)\">\r\n     <use style=\"fill:#453882;stroke:#453882;\" x=\"135.355175\" xlink:href=\"#C0_0_2d232e6167\" y=\"117.463629\"/>\r\n    </g>\r\n    <g clip-path=\"url(#paca9a8c0eb)\">\r\n     <use style=\"fill:#297a8e;stroke:#297a8e;\" x=\"188.596519\" xlink:href=\"#C0_0_2d232e6167\" y=\"162.150029\"/>\r\n    </g>\r\n    <g clip-path=\"url(#paca9a8c0eb)\">\r\n     <use style=\"fill:#46327e;stroke:#46327e;\" x=\"154.665364\" xlink:href=\"#C0_0_2d232e6167\" y=\"115.511991\"/>\r\n    </g>\r\n    <g clip-path=\"url(#paca9a8c0eb)\">\r\n     <use style=\"fill:#481769;stroke:#481769;\" x=\"296.421307\" xlink:href=\"#C0_0_2d232e6167\" y=\"75.178784\"/>\r\n    </g>\r\n    <g clip-path=\"url(#paca9a8c0eb)\">\r\n     <use style=\"fill:#277f8e;stroke:#277f8e;\" x=\"67.885964\" xlink:href=\"#C0_0_2d232e6167\" y=\"210.293779\"/>\r\n    </g>\r\n    <g clip-path=\"url(#paca9a8c0eb)\">\r\n     <use style=\"fill:#1e9d89;stroke:#1e9d89;\" x=\"95.432027\" xlink:href=\"#C0_0_2d232e6167\" y=\"238.766376\"/>\r\n    </g>\r\n    <g clip-path=\"url(#paca9a8c0eb)\">\r\n     <use style=\"fill:#bade28;stroke:#bade28;\" x=\"83.167062\" xlink:href=\"#C0_0_2d232e6167\" y=\"174.356594\"/>\r\n    </g>\r\n    <g clip-path=\"url(#paca9a8c0eb)\">\r\n     <use style=\"fill:#481769;stroke:#481769;\" x=\"209.974833\" xlink:href=\"#C0_0_2d232e6167\" y=\"77.810759\"/>\r\n    </g>\r\n    <g clip-path=\"url(#paca9a8c0eb)\">\r\n     <use style=\"fill:#6ccd5a;stroke:#6ccd5a;\" x=\"106.884165\" xlink:href=\"#C0_0_2d232e6167\" y=\"184.077986\"/>\r\n    </g>\r\n    <g clip-path=\"url(#paca9a8c0eb)\">\r\n     <use style=\"fill:#297a8e;stroke:#297a8e;\" x=\"161.810053\" xlink:href=\"#C0_0_2d232e6167\" y=\"157.034241\"/>\r\n    </g>\r\n    <g clip-path=\"url(#paca9a8c0eb)\">\r\n     <use style=\"fill:#46327e;stroke:#46327e;\" x=\"104.59811\" xlink:href=\"#C0_0_2d232e6167\" y=\"237.08258\"/>\r\n    </g>\r\n    <g clip-path=\"url(#paca9a8c0eb)\">\r\n     <use style=\"fill:#2b758e;stroke:#2b758e;\" x=\"82.563722\" xlink:href=\"#C0_0_2d232e6167\" y=\"190.253835\"/>\r\n    </g>\r\n    <g clip-path=\"url(#paca9a8c0eb)\">\r\n     <use style=\"fill:#29af7f;stroke:#29af7f;\" x=\"70.033897\" xlink:href=\"#C0_0_2d232e6167\" y=\"225.177026\"/>\r\n    </g>\r\n    <g clip-path=\"url(#paca9a8c0eb)\">\r\n     <use style=\"fill:#440154;stroke:#440154;\" x=\"210.80542\" xlink:href=\"#C0_0_2d232e6167\" y=\"85.881345\"/>\r\n    </g>\r\n    <g clip-path=\"url(#paca9a8c0eb)\">\r\n     <use style=\"fill:#482576;stroke:#482576;\" x=\"77.203996\" xlink:href=\"#C0_0_2d232e6167\" y=\"177.211171\"/>\r\n    </g>\r\n    <g clip-path=\"url(#paca9a8c0eb)\">\r\n     <use style=\"fill:#1e9d89;stroke:#1e9d89;\" x=\"92.261981\" xlink:href=\"#C0_0_2d232e6167\" y=\"154.077032\"/>\r\n    </g>\r\n    <g clip-path=\"url(#paca9a8c0eb)\">\r\n     <use style=\"fill:#addc30;stroke:#addc30;\" x=\"136.648112\" xlink:href=\"#C0_0_2d232e6167\" y=\"131.083225\"/>\r\n    </g>\r\n    <g clip-path=\"url(#paca9a8c0eb)\">\r\n     <use style=\"fill:#25ab82;stroke:#25ab82;\" x=\"253.263085\" xlink:href=\"#C0_0_2d232e6167\" y=\"124.893978\"/>\r\n    </g>\r\n    <g clip-path=\"url(#paca9a8c0eb)\">\r\n     <use style=\"fill:#423f85;stroke:#423f85;\" x=\"66.611299\" xlink:href=\"#C0_0_2d232e6167\" y=\"237.475514\"/>\r\n    </g>\r\n    <g clip-path=\"url(#paca9a8c0eb)\">\r\n     <use style=\"fill:#2b758e;stroke:#2b758e;\" x=\"257.633987\" xlink:href=\"#C0_0_2d232e6167\" y=\"47.877129\"/>\r\n    </g>\r\n    <g clip-path=\"url(#paca9a8c0eb)\">\r\n     <use style=\"fill:#46327e;stroke:#46327e;\" x=\"66.352715\" xlink:href=\"#C0_0_2d232e6167\" y=\"256.966165\"/>\r\n    </g>\r\n    <g clip-path=\"url(#paca9a8c0eb)\">\r\n     <use style=\"fill:#277f8e;stroke:#277f8e;\" x=\"293.349248\" xlink:href=\"#C0_0_2d232e6167\" y=\"40.906808\"/>\r\n    </g>\r\n    <g clip-path=\"url(#paca9a8c0eb)\">\r\n     <use style=\"fill:#60ca60;stroke:#60ca60;\" x=\"162.413521\" xlink:href=\"#C0_0_2d232e6167\" y=\"192.683335\"/>\r\n    </g>\r\n    <g clip-path=\"url(#paca9a8c0eb)\">\r\n     <use style=\"fill:#1fa187;stroke:#1fa187;\" x=\"293.427019\" xlink:href=\"#C0_0_2d232e6167\" y=\"73.716829\"/>\r\n    </g>\r\n    <g clip-path=\"url(#paca9a8c0eb)\">\r\n     <use style=\"fill:#453882;stroke:#453882;\" x=\"197.530519\" xlink:href=\"#C0_0_2d232e6167\" y=\"168.460319\"/>\r\n    </g>\r\n    <g clip-path=\"url(#paca9a8c0eb)\">\r\n     <use style=\"fill:#addc30;stroke:#addc30;\" x=\"232.189519\" xlink:href=\"#C0_0_2d232e6167\" y=\"61.562322\"/>\r\n    </g>\r\n    <g clip-path=\"url(#paca9a8c0eb)\">\r\n     <use style=\"fill:#d8e219;stroke:#d8e219;\" x=\"51.678608\" xlink:href=\"#C0_0_2d232e6167\" y=\"263.265929\"/>\r\n    </g>\r\n    <g clip-path=\"url(#paca9a8c0eb)\">\r\n     <use style=\"fill:#440154;stroke:#440154;\" x=\"114.494547\" xlink:href=\"#C0_0_2d232e6167\" y=\"200.94375\"/>\r\n    </g>\r\n    <g clip-path=\"url(#paca9a8c0eb)\">\r\n     <use style=\"fill:#84d44b;stroke:#84d44b;\" x=\"72.566299\" xlink:href=\"#C0_0_2d232e6167\" y=\"174.577027\"/>\r\n    </g>\r\n    <g clip-path=\"url(#paca9a8c0eb)\">\r\n     <use style=\"fill:#6ccd5a;stroke:#6ccd5a;\" x=\"117.932453\" xlink:href=\"#C0_0_2d232e6167\" y=\"161.448345\"/>\r\n    </g>\r\n    <g clip-path=\"url(#paca9a8c0eb)\">\r\n     <use style=\"fill:#20928c;stroke:#20928c;\" x=\"72.187566\" xlink:href=\"#C0_0_2d232e6167\" y=\"266.645455\"/>\r\n    </g>\r\n    <g clip-path=\"url(#paca9a8c0eb)\">\r\n     <use style=\"fill:#404588;stroke:#404588;\" x=\"123.564553\" xlink:href=\"#C0_0_2d232e6167\" y=\"212.238058\"/>\r\n    </g>\r\n    <g clip-path=\"url(#paca9a8c0eb)\">\r\n     <use style=\"fill:#40bd72;stroke:#40bd72;\" x=\"148.389804\" xlink:href=\"#C0_0_2d232e6167\" y=\"145.75074\"/>\r\n    </g>\r\n    <g clip-path=\"url(#paca9a8c0eb)\">\r\n     <use style=\"fill:#23898e;stroke:#23898e;\" x=\"58.114338\" xlink:href=\"#C0_0_2d232e6167\" y=\"221.979275\"/>\r\n    </g>\r\n    <g clip-path=\"url(#paca9a8c0eb)\">\r\n     <use style=\"fill:#31b57b;stroke:#31b57b;\" x=\"220.124583\" xlink:href=\"#C0_0_2d232e6167\" y=\"128.054138\"/>\r\n    </g>\r\n    <g clip-path=\"url(#paca9a8c0eb)\">\r\n     <use style=\"fill:#2b758e;stroke:#2b758e;\" x=\"187.669485\" xlink:href=\"#C0_0_2d232e6167\" y=\"82.532924\"/>\r\n    </g>\r\n    <g clip-path=\"url(#paca9a8c0eb)\">\r\n     <use style=\"fill:#1f978b;stroke:#1f978b;\" x=\"110.003543\" xlink:href=\"#C0_0_2d232e6167\" y=\"177.006725\"/>\r\n    </g>\r\n    <g clip-path=\"url(#paca9a8c0eb)\">\r\n     <use style=\"fill:#365c8d;stroke:#365c8d;\" x=\"176.491036\" xlink:href=\"#C0_0_2d232e6167\" y=\"132.222308\"/>\r\n    </g>\r\n    <g clip-path=\"url(#paca9a8c0eb)\">\r\n     <use style=\"fill:#31b57b;stroke:#31b57b;\" x=\"65.796312\" xlink:href=\"#C0_0_2d232e6167\" y=\"214.579703\"/>\r\n    </g>\r\n    <g clip-path=\"url(#paca9a8c0eb)\">\r\n     <use style=\"fill:#472c7a;stroke:#472c7a;\" x=\"190.079056\" xlink:href=\"#C0_0_2d232e6167\" y=\"101.516508\"/>\r\n    </g>\r\n    <g clip-path=\"url(#paca9a8c0eb)\">\r\n     <use style=\"fill:#38b977;stroke:#38b977;\" x=\"281.188444\" xlink:href=\"#C0_0_2d232e6167\" y=\"71.974259\"/>\r\n    </g>\r\n    <g clip-path=\"url(#paca9a8c0eb)\">\r\n     <use style=\"fill:#bade28;stroke:#bade28;\" x=\"123.715591\" xlink:href=\"#C0_0_2d232e6167\" y=\"188.206923\"/>\r\n    </g>\r\n    <g clip-path=\"url(#paca9a8c0eb)\">\r\n     <use style=\"fill:#cae11f;stroke:#cae11f;\" x=\"213.662544\" xlink:href=\"#C0_0_2d232e6167\" y=\"136.058345\"/>\r\n    </g>\r\n    <g clip-path=\"url(#paca9a8c0eb)\">\r\n     <use style=\"fill:#93d741;stroke:#93d741;\" x=\"75.557634\" xlink:href=\"#C0_0_2d232e6167\" y=\"248.164359\"/>\r\n    </g>\r\n    <g clip-path=\"url(#paca9a8c0eb)\">\r\n     <use style=\"fill:#481d6f;stroke:#481d6f;\" x=\"226.275493\" xlink:href=\"#C0_0_2d232e6167\" y=\"50.831491\"/>\r\n    </g>\r\n    <g clip-path=\"url(#paca9a8c0eb)\">\r\n     <use style=\"fill:#21a685;stroke:#21a685;\" x=\"116.196099\" xlink:href=\"#C0_0_2d232e6167\" y=\"159.229707\"/>\r\n    </g>\r\n    <g clip-path=\"url(#paca9a8c0eb)\">\r\n     <use style=\"fill:#1e9d89;stroke:#1e9d89;\" x=\"88.809182\" xlink:href=\"#C0_0_2d232e6167\" y=\"206.485597\"/>\r\n    </g>\r\n    <g clip-path=\"url(#paca9a8c0eb)\">\r\n     <use style=\"fill:#2f6b8e;stroke:#2f6b8e;\" x=\"192.803557\" xlink:href=\"#C0_0_2d232e6167\" y=\"150.825663\"/>\r\n    </g>\r\n    <g clip-path=\"url(#paca9a8c0eb)\">\r\n     <use style=\"fill:#4ac16d;stroke:#4ac16d;\" x=\"46.758865\" xlink:href=\"#C0_0_2d232e6167\" y=\"264.057282\"/>\r\n    </g>\r\n    <g clip-path=\"url(#paca9a8c0eb)\">\r\n     <use style=\"fill:#471063;stroke:#471063;\" x=\"255.312126\" xlink:href=\"#C0_0_2d232e6167\" y=\"118.524336\"/>\r\n    </g>\r\n    <g clip-path=\"url(#paca9a8c0eb)\">\r\n     <use style=\"fill:#297a8e;stroke:#297a8e;\" x=\"42.784943\" xlink:href=\"#C0_0_2d232e6167\" y=\"248.776779\"/>\r\n    </g>\r\n   </g>\r\n   <g id=\"matplotlib.axis_1\">\r\n    <g id=\"xtick_1\">\r\n     <g id=\"line2d_1\">\r\n      <defs>\r\n       <path d=\"M 0 0 \r\nL 0 3.5 \r\n\" id=\"m1789bcb5cb\" style=\"stroke:#000000;stroke-width:0.8;\"/>\r\n      </defs>\r\n      <g>\r\n       <use style=\"stroke:#000000;stroke-width:0.8;\" x=\"41.574239\" xlink:href=\"#m1789bcb5cb\" y=\"279\"/>\r\n      </g>\r\n     </g>\r\n     <g id=\"text_1\">\r\n      <!-- 0.0 -->\r\n      <defs>\r\n       <path d=\"M 31.78125 66.40625 \r\nQ 24.171875 66.40625 20.328125 58.90625 \r\nQ 16.5 51.421875 16.5 36.375 \r\nQ 16.5 21.390625 20.328125 13.890625 \r\nQ 24.171875 6.390625 31.78125 6.390625 \r\nQ 39.453125 6.390625 43.28125 13.890625 \r\nQ 47.125 21.390625 47.125 36.375 \r\nQ 47.125 51.421875 43.28125 58.90625 \r\nQ 39.453125 66.40625 31.78125 66.40625 \r\nz\r\nM 31.78125 74.21875 \r\nQ 44.046875 74.21875 50.515625 64.515625 \r\nQ 56.984375 54.828125 56.984375 36.375 \r\nQ 56.984375 17.96875 50.515625 8.265625 \r\nQ 44.046875 -1.421875 31.78125 -1.421875 \r\nQ 19.53125 -1.421875 13.0625 8.265625 \r\nQ 6.59375 17.96875 6.59375 36.375 \r\nQ 6.59375 54.828125 13.0625 64.515625 \r\nQ 19.53125 74.21875 31.78125 74.21875 \r\nz\r\n\" id=\"DejaVuSans-48\"/>\r\n       <path d=\"M 10.6875 12.40625 \r\nL 21 12.40625 \r\nL 21 0 \r\nL 10.6875 0 \r\nz\r\n\" id=\"DejaVuSans-46\"/>\r\n      </defs>\r\n      <g transform=\"translate(33.622676 293.598437)scale(0.1 -0.1)\">\r\n       <use xlink:href=\"#DejaVuSans-48\"/>\r\n       <use x=\"63.623047\" xlink:href=\"#DejaVuSans-46\"/>\r\n       <use x=\"95.410156\" xlink:href=\"#DejaVuSans-48\"/>\r\n      </g>\r\n     </g>\r\n    </g>\r\n    <g id=\"xtick_2\">\r\n     <g id=\"line2d_2\">\r\n      <g>\r\n       <use style=\"stroke:#000000;stroke-width:0.8;\" x=\"93.143202\" xlink:href=\"#m1789bcb5cb\" y=\"279\"/>\r\n      </g>\r\n     </g>\r\n     <g id=\"text_2\">\r\n      <!-- 0.2 -->\r\n      <defs>\r\n       <path d=\"M 19.1875 8.296875 \r\nL 53.609375 8.296875 \r\nL 53.609375 0 \r\nL 7.328125 0 \r\nL 7.328125 8.296875 \r\nQ 12.9375 14.109375 22.625 23.890625 \r\nQ 32.328125 33.6875 34.8125 36.53125 \r\nQ 39.546875 41.84375 41.421875 45.53125 \r\nQ 43.3125 49.21875 43.3125 52.78125 \r\nQ 43.3125 58.59375 39.234375 62.25 \r\nQ 35.15625 65.921875 28.609375 65.921875 \r\nQ 23.96875 65.921875 18.8125 64.3125 \r\nQ 13.671875 62.703125 7.8125 59.421875 \r\nL 7.8125 69.390625 \r\nQ 13.765625 71.78125 18.9375 73 \r\nQ 24.125 74.21875 28.421875 74.21875 \r\nQ 39.75 74.21875 46.484375 68.546875 \r\nQ 53.21875 62.890625 53.21875 53.421875 \r\nQ 53.21875 48.921875 51.53125 44.890625 \r\nQ 49.859375 40.875 45.40625 35.40625 \r\nQ 44.1875 33.984375 37.640625 27.21875 \r\nQ 31.109375 20.453125 19.1875 8.296875 \r\nz\r\n\" id=\"DejaVuSans-50\"/>\r\n      </defs>\r\n      <g transform=\"translate(85.191639 293.598437)scale(0.1 -0.1)\">\r\n       <use xlink:href=\"#DejaVuSans-48\"/>\r\n       <use x=\"63.623047\" xlink:href=\"#DejaVuSans-46\"/>\r\n       <use x=\"95.410156\" xlink:href=\"#DejaVuSans-50\"/>\r\n      </g>\r\n     </g>\r\n    </g>\r\n    <g id=\"xtick_3\">\r\n     <g id=\"line2d_3\">\r\n      <g>\r\n       <use style=\"stroke:#000000;stroke-width:0.8;\" x=\"144.712164\" xlink:href=\"#m1789bcb5cb\" y=\"279\"/>\r\n      </g>\r\n     </g>\r\n     <g id=\"text_3\">\r\n      <!-- 0.4 -->\r\n      <defs>\r\n       <path d=\"M 37.796875 64.3125 \r\nL 12.890625 25.390625 \r\nL 37.796875 25.390625 \r\nz\r\nM 35.203125 72.90625 \r\nL 47.609375 72.90625 \r\nL 47.609375 25.390625 \r\nL 58.015625 25.390625 \r\nL 58.015625 17.1875 \r\nL 47.609375 17.1875 \r\nL 47.609375 0 \r\nL 37.796875 0 \r\nL 37.796875 17.1875 \r\nL 4.890625 17.1875 \r\nL 4.890625 26.703125 \r\nz\r\n\" id=\"DejaVuSans-52\"/>\r\n      </defs>\r\n      <g transform=\"translate(136.760602 293.598437)scale(0.1 -0.1)\">\r\n       <use xlink:href=\"#DejaVuSans-48\"/>\r\n       <use x=\"63.623047\" xlink:href=\"#DejaVuSans-46\"/>\r\n       <use x=\"95.410156\" xlink:href=\"#DejaVuSans-52\"/>\r\n      </g>\r\n     </g>\r\n    </g>\r\n    <g id=\"xtick_4\">\r\n     <g id=\"line2d_4\">\r\n      <g>\r\n       <use style=\"stroke:#000000;stroke-width:0.8;\" x=\"196.281127\" xlink:href=\"#m1789bcb5cb\" y=\"279\"/>\r\n      </g>\r\n     </g>\r\n     <g id=\"text_4\">\r\n      <!-- 0.6 -->\r\n      <defs>\r\n       <path d=\"M 33.015625 40.375 \r\nQ 26.375 40.375 22.484375 35.828125 \r\nQ 18.609375 31.296875 18.609375 23.390625 \r\nQ 18.609375 15.53125 22.484375 10.953125 \r\nQ 26.375 6.390625 33.015625 6.390625 \r\nQ 39.65625 6.390625 43.53125 10.953125 \r\nQ 47.40625 15.53125 47.40625 23.390625 \r\nQ 47.40625 31.296875 43.53125 35.828125 \r\nQ 39.65625 40.375 33.015625 40.375 \r\nz\r\nM 52.59375 71.296875 \r\nL 52.59375 62.3125 \r\nQ 48.875 64.0625 45.09375 64.984375 \r\nQ 41.3125 65.921875 37.59375 65.921875 \r\nQ 27.828125 65.921875 22.671875 59.328125 \r\nQ 17.53125 52.734375 16.796875 39.40625 \r\nQ 19.671875 43.65625 24.015625 45.921875 \r\nQ 28.375 48.1875 33.59375 48.1875 \r\nQ 44.578125 48.1875 50.953125 41.515625 \r\nQ 57.328125 34.859375 57.328125 23.390625 \r\nQ 57.328125 12.15625 50.6875 5.359375 \r\nQ 44.046875 -1.421875 33.015625 -1.421875 \r\nQ 20.359375 -1.421875 13.671875 8.265625 \r\nQ 6.984375 17.96875 6.984375 36.375 \r\nQ 6.984375 53.65625 15.1875 63.9375 \r\nQ 23.390625 74.21875 37.203125 74.21875 \r\nQ 40.921875 74.21875 44.703125 73.484375 \r\nQ 48.484375 72.75 52.59375 71.296875 \r\nz\r\n\" id=\"DejaVuSans-54\"/>\r\n      </defs>\r\n      <g transform=\"translate(188.329565 293.598437)scale(0.1 -0.1)\">\r\n       <use xlink:href=\"#DejaVuSans-48\"/>\r\n       <use x=\"63.623047\" xlink:href=\"#DejaVuSans-46\"/>\r\n       <use x=\"95.410156\" xlink:href=\"#DejaVuSans-54\"/>\r\n      </g>\r\n     </g>\r\n    </g>\r\n    <g id=\"xtick_5\">\r\n     <g id=\"line2d_5\">\r\n      <g>\r\n       <use style=\"stroke:#000000;stroke-width:0.8;\" x=\"247.85009\" xlink:href=\"#m1789bcb5cb\" y=\"279\"/>\r\n      </g>\r\n     </g>\r\n     <g id=\"text_5\">\r\n      <!-- 0.8 -->\r\n      <defs>\r\n       <path d=\"M 31.78125 34.625 \r\nQ 24.75 34.625 20.71875 30.859375 \r\nQ 16.703125 27.09375 16.703125 20.515625 \r\nQ 16.703125 13.921875 20.71875 10.15625 \r\nQ 24.75 6.390625 31.78125 6.390625 \r\nQ 38.8125 6.390625 42.859375 10.171875 \r\nQ 46.921875 13.96875 46.921875 20.515625 \r\nQ 46.921875 27.09375 42.890625 30.859375 \r\nQ 38.875 34.625 31.78125 34.625 \r\nz\r\nM 21.921875 38.8125 \r\nQ 15.578125 40.375 12.03125 44.71875 \r\nQ 8.5 49.078125 8.5 55.328125 \r\nQ 8.5 64.0625 14.71875 69.140625 \r\nQ 20.953125 74.21875 31.78125 74.21875 \r\nQ 42.671875 74.21875 48.875 69.140625 \r\nQ 55.078125 64.0625 55.078125 55.328125 \r\nQ 55.078125 49.078125 51.53125 44.71875 \r\nQ 48 40.375 41.703125 38.8125 \r\nQ 48.828125 37.15625 52.796875 32.3125 \r\nQ 56.78125 27.484375 56.78125 20.515625 \r\nQ 56.78125 9.90625 50.3125 4.234375 \r\nQ 43.84375 -1.421875 31.78125 -1.421875 \r\nQ 19.734375 -1.421875 13.25 4.234375 \r\nQ 6.78125 9.90625 6.78125 20.515625 \r\nQ 6.78125 27.484375 10.78125 32.3125 \r\nQ 14.796875 37.15625 21.921875 38.8125 \r\nz\r\nM 18.3125 54.390625 \r\nQ 18.3125 48.734375 21.84375 45.5625 \r\nQ 25.390625 42.390625 31.78125 42.390625 \r\nQ 38.140625 42.390625 41.71875 45.5625 \r\nQ 45.3125 48.734375 45.3125 54.390625 \r\nQ 45.3125 60.0625 41.71875 63.234375 \r\nQ 38.140625 66.40625 31.78125 66.40625 \r\nQ 25.390625 66.40625 21.84375 63.234375 \r\nQ 18.3125 60.0625 18.3125 54.390625 \r\nz\r\n\" id=\"DejaVuSans-56\"/>\r\n      </defs>\r\n      <g transform=\"translate(239.898527 293.598437)scale(0.1 -0.1)\">\r\n       <use xlink:href=\"#DejaVuSans-48\"/>\r\n       <use x=\"63.623047\" xlink:href=\"#DejaVuSans-46\"/>\r\n       <use x=\"95.410156\" xlink:href=\"#DejaVuSans-56\"/>\r\n      </g>\r\n     </g>\r\n    </g>\r\n    <g id=\"xtick_6\">\r\n     <g id=\"line2d_6\">\r\n      <g>\r\n       <use style=\"stroke:#000000;stroke-width:0.8;\" x=\"299.419052\" xlink:href=\"#m1789bcb5cb\" y=\"279\"/>\r\n      </g>\r\n     </g>\r\n     <g id=\"text_6\">\r\n      <!-- 1.0 -->\r\n      <defs>\r\n       <path d=\"M 12.40625 8.296875 \r\nL 28.515625 8.296875 \r\nL 28.515625 63.921875 \r\nL 10.984375 60.40625 \r\nL 10.984375 69.390625 \r\nL 28.421875 72.90625 \r\nL 38.28125 72.90625 \r\nL 38.28125 8.296875 \r\nL 54.390625 8.296875 \r\nL 54.390625 0 \r\nL 12.40625 0 \r\nz\r\n\" id=\"DejaVuSans-49\"/>\r\n      </defs>\r\n      <g transform=\"translate(291.46749 293.598437)scale(0.1 -0.1)\">\r\n       <use xlink:href=\"#DejaVuSans-49\"/>\r\n       <use x=\"63.623047\" xlink:href=\"#DejaVuSans-46\"/>\r\n       <use x=\"95.410156\" xlink:href=\"#DejaVuSans-48\"/>\r\n      </g>\r\n     </g>\r\n    </g>\r\n   </g>\r\n   <g id=\"matplotlib.axis_2\">\r\n    <g id=\"ytick_1\">\r\n     <g id=\"line2d_7\">\r\n      <defs>\r\n       <path d=\"M 0 0 \r\nL -3.5 0 \r\n\" id=\"m33c7299bf4\" style=\"stroke:#000000;stroke-width:0.8;\"/>\r\n      </defs>\r\n      <g>\r\n       <use style=\"stroke:#000000;stroke-width:0.8;\" x=\"30.103125\" xlink:href=\"#m33c7299bf4\" y=\"243.02315\"/>\r\n      </g>\r\n     </g>\r\n     <g id=\"text_7\">\r\n      <!-- 5.5 -->\r\n      <defs>\r\n       <path d=\"M 10.796875 72.90625 \r\nL 49.515625 72.90625 \r\nL 49.515625 64.59375 \r\nL 19.828125 64.59375 \r\nL 19.828125 46.734375 \r\nQ 21.96875 47.46875 24.109375 47.828125 \r\nQ 26.265625 48.1875 28.421875 48.1875 \r\nQ 40.625 48.1875 47.75 41.5 \r\nQ 54.890625 34.8125 54.890625 23.390625 \r\nQ 54.890625 11.625 47.5625 5.09375 \r\nQ 40.234375 -1.421875 26.90625 -1.421875 \r\nQ 22.3125 -1.421875 17.546875 -0.640625 \r\nQ 12.796875 0.140625 7.71875 1.703125 \r\nL 7.71875 11.625 \r\nQ 12.109375 9.234375 16.796875 8.0625 \r\nQ 21.484375 6.890625 26.703125 6.890625 \r\nQ 35.15625 6.890625 40.078125 11.328125 \r\nQ 45.015625 15.765625 45.015625 23.390625 \r\nQ 45.015625 31 40.078125 35.4375 \r\nQ 35.15625 39.890625 26.703125 39.890625 \r\nQ 22.75 39.890625 18.8125 39.015625 \r\nQ 14.890625 38.140625 10.796875 36.28125 \r\nz\r\n\" id=\"DejaVuSans-53\"/>\r\n      </defs>\r\n      <g transform=\"translate(7.2 246.822369)scale(0.1 -0.1)\">\r\n       <use xlink:href=\"#DejaVuSans-53\"/>\r\n       <use x=\"63.623047\" xlink:href=\"#DejaVuSans-46\"/>\r\n       <use x=\"95.410156\" xlink:href=\"#DejaVuSans-53\"/>\r\n      </g>\r\n     </g>\r\n    </g>\r\n    <g id=\"ytick_2\">\r\n     <g id=\"line2d_8\">\r\n      <g>\r\n       <use style=\"stroke:#000000;stroke-width:0.8;\" x=\"30.103125\" xlink:href=\"#m33c7299bf4\" y=\"191.827382\"/>\r\n      </g>\r\n     </g>\r\n     <g id=\"text_8\">\r\n      <!-- 6.0 -->\r\n      <g transform=\"translate(7.2 195.6266)scale(0.1 -0.1)\">\r\n       <use xlink:href=\"#DejaVuSans-54\"/>\r\n       <use x=\"63.623047\" xlink:href=\"#DejaVuSans-46\"/>\r\n       <use x=\"95.410156\" xlink:href=\"#DejaVuSans-48\"/>\r\n      </g>\r\n     </g>\r\n    </g>\r\n    <g id=\"ytick_3\">\r\n     <g id=\"line2d_9\">\r\n      <g>\r\n       <use style=\"stroke:#000000;stroke-width:0.8;\" x=\"30.103125\" xlink:href=\"#m33c7299bf4\" y=\"140.631613\"/>\r\n      </g>\r\n     </g>\r\n     <g id=\"text_9\">\r\n      <!-- 6.5 -->\r\n      <g transform=\"translate(7.2 144.430832)scale(0.1 -0.1)\">\r\n       <use xlink:href=\"#DejaVuSans-54\"/>\r\n       <use x=\"63.623047\" xlink:href=\"#DejaVuSans-46\"/>\r\n       <use x=\"95.410156\" xlink:href=\"#DejaVuSans-53\"/>\r\n      </g>\r\n     </g>\r\n    </g>\r\n    <g id=\"ytick_4\">\r\n     <g id=\"line2d_10\">\r\n      <g>\r\n       <use style=\"stroke:#000000;stroke-width:0.8;\" x=\"30.103125\" xlink:href=\"#m33c7299bf4\" y=\"89.435844\"/>\r\n      </g>\r\n     </g>\r\n     <g id=\"text_10\">\r\n      <!-- 7.0 -->\r\n      <defs>\r\n       <path d=\"M 8.203125 72.90625 \r\nL 55.078125 72.90625 \r\nL 55.078125 68.703125 \r\nL 28.609375 0 \r\nL 18.3125 0 \r\nL 43.21875 64.59375 \r\nL 8.203125 64.59375 \r\nz\r\n\" id=\"DejaVuSans-55\"/>\r\n      </defs>\r\n      <g transform=\"translate(7.2 93.235063)scale(0.1 -0.1)\">\r\n       <use xlink:href=\"#DejaVuSans-55\"/>\r\n       <use x=\"63.623047\" xlink:href=\"#DejaVuSans-46\"/>\r\n       <use x=\"95.410156\" xlink:href=\"#DejaVuSans-48\"/>\r\n      </g>\r\n     </g>\r\n    </g>\r\n    <g id=\"ytick_5\">\r\n     <g id=\"line2d_11\">\r\n      <g>\r\n       <use style=\"stroke:#000000;stroke-width:0.8;\" x=\"30.103125\" xlink:href=\"#m33c7299bf4\" y=\"38.240076\"/>\r\n      </g>\r\n     </g>\r\n     <g id=\"text_11\">\r\n      <!-- 7.5 -->\r\n      <g transform=\"translate(7.2 42.039295)scale(0.1 -0.1)\">\r\n       <use xlink:href=\"#DejaVuSans-55\"/>\r\n       <use x=\"63.623047\" xlink:href=\"#DejaVuSans-46\"/>\r\n       <use x=\"95.410156\" xlink:href=\"#DejaVuSans-53\"/>\r\n      </g>\r\n     </g>\r\n    </g>\r\n   </g>\r\n   <g id=\"patch_3\">\r\n    <path d=\"M 30.103125 279 \r\nL 30.103125 7.2 \r\n\" style=\"fill:none;stroke:#000000;stroke-linecap:square;stroke-linejoin:miter;stroke-width:0.8;\"/>\r\n   </g>\r\n   <g id=\"patch_4\">\r\n    <path d=\"M 309.103125 279 \r\nL 309.103125 7.2 \r\n\" style=\"fill:none;stroke:#000000;stroke-linecap:square;stroke-linejoin:miter;stroke-width:0.8;\"/>\r\n   </g>\r\n   <g id=\"patch_5\">\r\n    <path d=\"M 30.103125 279 \r\nL 309.103125 279 \r\n\" style=\"fill:none;stroke:#000000;stroke-linecap:square;stroke-linejoin:miter;stroke-width:0.8;\"/>\r\n   </g>\r\n   <g id=\"patch_6\">\r\n    <path d=\"M 30.103125 7.2 \r\nL 309.103125 7.2 \r\n\" style=\"fill:none;stroke:#000000;stroke-linecap:square;stroke-linejoin:miter;stroke-width:0.8;\"/>\r\n   </g>\r\n  </g>\r\n </g>\r\n <defs>\r\n  <clipPath id=\"paca9a8c0eb\">\r\n   <rect height=\"271.8\" width=\"279\" x=\"30.103125\" y=\"7.2\"/>\r\n  </clipPath>\r\n </defs>\r\n</svg>\r\n",
      "image/png": "[encoded data removed]"
     },
     "metadata": {
      "needs_background": "light"
     }
    }
   ],
   "source": [
    "c = np.random.randint(0, 50, 100)\n",
    "plt.figure(figsize=(5, 5))\n",
    "plt.scatter(x, y, c=c)\n",
    "plt.show()"
   ]
  },
  {
   "source": [
    "#### 선형 회귀에서는 오차를 나타내는 지표로 MSE(Mean Squared Error) 방식을 활용\n",
    "모델의 성능이 얼마나 '나쁜가'를 평가하는 함수를 Loss function으로 정의"
   ],
   "cell_type": "markdown",
   "metadata": {}
  },
  {
   "cell_type": "code",
   "execution_count": 15,
   "metadata": {},
   "outputs": [],
   "source": [
    "np.random.seed(0)\n",
    "x = np.random.rand(100, 1)\n",
    "y = 5 + 2 * x + np.random.rand(100, 1)\n",
    "x, y = Variable(x), Variable(y)\n",
    "\n",
    "W = Variable(np.zeros((1, 1)))\n",
    "b = Variable(np.zeros(1))\n",
    "\n",
    "def predict(x):\n",
    "    y = F.matmul(x, W) + b\n",
    "    return y"
   ]
  },
  {
   "cell_type": "code",
   "execution_count": 16,
   "metadata": {},
   "outputs": [],
   "source": [
    "def mean_squared_error(x0, x1):\n",
    "    diff = x0 - x1\n",
    "    return F.sum(diff ** 2) / len(diff)"
   ]
  },
  {
   "cell_type": "code",
   "execution_count": 17,
   "metadata": {},
   "outputs": [
    {
     "output_type": "stream",
     "name": "stdout",
     "text": [
      "variable([[0.64433458]]) from class's __repr__ variable([1.29473389]) from class's __repr__ variable(42.296340129442335) from class's __repr__\nvariable([[1.12672345]]) from class's __repr__ variable([2.26959351]) from class's __repr__ variable(23.97380754378544) from class's __repr__\nvariable([[1.48734571]]) from class's __repr__ variable([3.00386712]) from class's __repr__ variable(13.609686745040522) from class's __repr__\nvariable([[1.75641886]]) from class's __repr__ variable([3.557186]) from class's __repr__ variable(7.747049961219976) from class's __repr__\nvariable([[1.95666851]]) from class's __repr__ variable([3.97439789]) from class's __repr__ variable(4.43057410592155) from class's __repr__\nvariable([[2.10518573]]) from class's __repr__ variable([4.28923203]) from class's __repr__ variable(2.5542803813535926) from class's __repr__\nvariable([[2.21482401]]) from class's __repr__ variable([4.52705574]) from class's __repr__ variable(1.4925998690471942) from class's __repr__\nvariable([[2.29524981]]) from class's __repr__ variable([4.70694745]) from class's __repr__ variable(0.8916952181756932) from class's __repr__\nvariable([[2.35373273]]) from class's __repr__ variable([4.84325585]) from class's __repr__ variable(0.5514270962227453) from class's __repr__\nvariable([[2.39573972]]) from class's __repr__ variable([4.9467725]) from class's __repr__ variable(0.35859153083192785) from class's __repr__\nvariable([[2.425382]]) from class's __repr__ variable([5.02561369]) from class's __repr__ variable(0.2491573197756112) from class's __repr__\nvariable([[2.44575118]]) from class's __repr__ variable([5.08588371]) from class's __repr__ variable(0.18690658765397886) from class's __repr__\nvariable([[2.45917205]]) from class's __repr__ variable([5.13217364]) from class's __repr__ variable(0.15135336296314875) from class's __repr__\nvariable([[2.4673927]]) from class's __repr__ variable([5.16793652]) from class's __repr__ variable(0.13091003006317078) from class's __repr__\nvariable([[2.47172747]]) from class's __repr__ variable([5.19576949]) from class's __repr__ variable(0.11902210735018462) from class's __repr__\nvariable([[2.47316455]]) from class's __repr__ variable([5.21762597]) from class's __repr__ variable(0.11198198322254362) from class's __repr__\nvariable([[2.47244676]]) from class's __repr__ variable([5.23497527]) from class's __repr__ variable(0.10769231158094322) from class's __repr__\nvariable([[2.47013247]]) from class's __repr__ variable([5.24892259]) from class's __repr__ variable(0.10496655795675108) from class's __repr__\nvariable([[2.46664127]]) from class's __repr__ variable([5.26029927]) from class's __repr__ variable(0.10313337115761934) from class's __repr__\nvariable([[2.46228843]]) from class's __repr__ variable([5.26973075]) from class's __repr__ variable(0.10181280604960247) from class's __repr__\nvariable([[2.45731071]]) from class's __repr__ variable([5.27768752]) from class's __repr__ variable(0.10078974954301653) from class's __repr__\nvariable([[2.4518859]]) from class's __repr__ variable([5.28452363]) from class's __repr__ variable(0.09994232708821608) from class's __repr__\nvariable([[2.44614738]]) from class's __repr__ variable([5.29050548]) from class's __repr__ variable(0.09920140749444824) from class's __repr__\nvariable([[2.44019517]]) from class's __repr__ variable([5.29583359]) from class's __repr__ variable(0.09852769772358987) from class's __repr__\nvariable([[2.4341042]]) from class's __repr__ variable([5.30065891]) from class's __repr__ variable(0.09789878700703991) from class's __repr__\nvariable([[2.4279305]]) from class's __repr__ variable([5.30509512]) from class's __repr__ variable(0.09730181854646197) from class's __repr__\nvariable([[2.42171596]]) from class's __repr__ variable([5.30922787]) from class's __repr__ variable(0.0967293443169877) from class's __repr__\nvariable([[2.41549177]]) from class's __repr__ variable([5.3131217]) from class's __repr__ variable(0.09617698031441604) from class's __repr__\nvariable([[2.40928112]]) from class's __repr__ variable([5.31682532]) from class's __repr__ variable(0.09564208018092028) from class's __repr__\nvariable([[2.40310116]]) from class's __repr__ variable([5.32037549]) from class's __repr__ variable(0.09512298485383605) from class's __repr__\nvariable([[2.39696452]]) from class's __repr__ variable([5.3238]) from class's __repr__ variable(0.09461859803040694) from class's __repr__\nvariable([[2.39088043]]) from class's __repr__ variable([5.32711987]) from class's __repr__ variable(0.09412814592514404) from class's __repr__\nvariable([[2.38485555]]) from class's __repr__ variable([5.33035108]) from class's __repr__ variable(0.09365104127065577) from class's __repr__\nvariable([[2.37889464]]) from class's __repr__ variable([5.33350575]) from class's __repr__ variable(0.09318680628411545) from class's __repr__\nvariable([[2.37300101]]) from class's __repr__ variable([5.33659314]) from class's __repr__ variable(0.09273502898904006) from class's __repr__\nvariable([[2.3671769]]) from class's __repr__ variable([5.33962035]) from class's __repr__ variable(0.09229533840647547) from class's __repr__\nvariable([[2.36142374]]) from class's __repr__ variable([5.34259283]) from class's __repr__ variable(0.09186739042193233) from class's __repr__\nvariable([[2.35574235]]) from class's __repr__ variable([5.34551483]) from class's __repr__ variable(0.09145085969346782) from class's __repr__\nvariable([[2.35013309]]) from class's __repr__ variable([5.34838966]) from class's __repr__ variable(0.09104543497939387) from class's __repr__\nvariable([[2.34459602]]) from class's __repr__ variable([5.35121993]) from class's __repr__ variable(0.09065081640275062) from class's __repr__\nvariable([[2.33913091]]) from class's __repr__ variable([5.35400772]) from class's __repr__ variable(0.0902667138137311) from class's __repr__\nvariable([[2.33373736]]) from class's __repr__ variable([5.35675472]) from class's __repr__ variable(0.08989284577554084) from class's __repr__\nvariable([[2.32841486]]) from class's __repr__ variable([5.35946234]) from class's __repr__ variable(0.0895289389052284) from class's __repr__\nvariable([[2.32316275]]) from class's __repr__ variable([5.36213172]) from class's __repr__ variable(0.08917472741757472) from class's __repr__\nvariable([[2.31798034]]) from class's __repr__ variable([5.36476385]) from class's __repr__ variable(0.08882995278605695) from class's __repr__\nvariable([[2.31286689]]) from class's __repr__ variable([5.3673596]) from class's __repr__ variable(0.08849436347219049) from class's __repr__\nvariable([[2.30782159]]) from class's __repr__ variable([5.36991973]) from class's __repr__ variable(0.08816771469564999) from class's __repr__\nvariable([[2.30284363]]) from class's __repr__ variable([5.3724449]) from class's __repr__ variable(0.08784976822950144) from class's __repr__\nvariable([[2.29793221]]) from class's __repr__ variable([5.37493575]) from class's __repr__ variable(0.08754029221162851) from class's __repr__\nvariable([[2.29308646]]) from class's __repr__ variable([5.37739285]) from class's __repr__ variable(0.08723906096725743) from class's __repr__\nvariable([[2.28830557]]) from class's __repr__ variable([5.37981674]) from class's __repr__ variable(0.08694585483964615) from class's __repr__\nvariable([[2.2835887]]) from class's __repr__ variable([5.38220792]) from class's __repr__ variable(0.0866604600272269) from class's __repr__\nvariable([[2.278935]]) from class's __repr__ variable([5.38456689]) from class's __repr__ variable(0.08638266842618712) from class's __repr__\nvariable([[2.27434366]]) from class's __repr__ variable([5.38689411]) from class's __repr__ variable(0.0861122774778659) from class's __repr__\nvariable([[2.26981384]]) from class's __repr__ variable([5.38919004]) from class's __repr__ variable(0.08584909002056745) from class's __repr__\nvariable([[2.26534474]]) from class's __repr__ variable([5.39145512]) from class's __repr__ variable(0.08559291414552149) from class's __repr__\nvariable([[2.26093555]]) from class's __repr__ variable([5.39368978]) from class's __repr__ variable(0.08534356305679344) from class's __repr__\nvariable([[2.25658547]]) from class's __repr__ variable([5.39589443]) from class's __repr__ variable(0.08510085493499035) from class's __repr__\nvariable([[2.25229371]]) from class's __repr__ variable([5.39806949]) from class's __repr__ variable(0.08486461280463413) from class's __repr__\nvariable([[2.2480595]]) from class's __repr__ variable([5.40021536]) from class's __repr__ variable(0.08463466440508784) from class's __repr__\nvariable([[2.24388206]]) from class's __repr__ variable([5.40233244]) from class's __repr__ variable(0.08441084206493275) from class's __repr__\nvariable([[2.23976064]]) from class's __repr__ variable([5.40442111]) from class's __repr__ variable(0.08419298257969864) from class's __repr__\nvariable([[2.23569448]]) from class's __repr__ variable([5.40648177]) from class's __repr__ variable(0.08398092709285435) from class's __repr__\nvariable([[2.23168285]]) from class's __repr__ variable([5.40851479]) from class's __repr__ variable(0.08377452097997208) from class's __repr__\nvariable([[2.22772501]]) from class's __repr__ variable([5.41052054]) from class's __repr__ variable(0.08357361373597812) from class's __repr__\nvariable([[2.22382025]]) from class's __repr__ variable([5.41249938]) from class's __repr__ variable(0.08337805886540826) from class's __repr__\nvariable([[2.21996785]]) from class's __repr__ variable([5.41445169]) from class's __repr__ variable(0.08318771377558704) from class's __repr__\nvariable([[2.21616712]]) from class's __repr__ variable([5.41637782]) from class's __repr__ variable(0.08300243967265336) from class's __repr__\nvariable([[2.21241735]]) from class's __repr__ variable([5.41827811]) from class's __repr__ variable(0.08282210146035615) from class's __repr__\nvariable([[2.20871786]]) from class's __repr__ variable([5.42015291]) from class's __repr__ variable(0.08264656764154595) from class's __repr__\nvariable([[2.20506799]]) from class's __repr__ variable([5.42200258]) from class's __repr__ variable(0.08247571022229121) from class's __repr__\nvariable([[2.20146706]]) from class's __repr__ variable([5.42382744]) from class's __repr__ variable(0.08230940461854906) from class's __repr__\nvariable([[2.19791443]]) from class's __repr__ variable([5.42562782]) from class's __repr__ variable(0.08214752956532231) from class's __repr__\nvariable([[2.19440943]]) from class's __repr__ variable([5.42740407]) from class's __repr__ variable(0.08198996702823673) from class's __repr__\nvariable([[2.19095144]]) from class's __repr__ variable([5.42915649]) from class's __repr__ variable(0.08183660211747391) from class's __repr__\nvariable([[2.18753983]]) from class's __repr__ variable([5.43088541]) from class's __repr__ variable(0.08168732300399718) from class's __repr__\nvariable([[2.18417396]]) from class's __repr__ variable([5.43259114]) from class's __repr__ variable(0.08154202083800904) from class's __repr__\nvariable([[2.18085323]]) from class's __repr__ variable([5.434274]) from class's __repr__ variable(0.08140058966958151) from class's __repr__\nvariable([[2.17757703]]) from class's __repr__ variable([5.4359343]) from class's __repr__ variable(0.08126292637140048) from class's __repr__\nvariable([[2.17434477]]) from class's __repr__ variable([5.43757232]) from class's __repr__ variable(0.0811289305635685) from class's __repr__\nvariable([[2.17115586]]) from class's __repr__ variable([5.43918838]) from class's __repr__ variable(0.08099850454041051) from class's __repr__\nvariable([[2.16800971]]) from class's __repr__ variable([5.44078277]) from class's __repr__ variable(0.0808715531992303) from class's __repr__\nvariable([[2.16490575]]) from class's __repr__ variable([5.44235578]) from class's __repr__ variable(0.08074798397096412) from class's __repr__\nvariable([[2.16184341]]) from class's __repr__ variable([5.44390769]) from class's __repr__ variable(0.08062770675268231) from class's __repr__\nvariable([[2.15882214]]) from class's __repr__ variable([5.44543879]) from class's __repr__ variable(0.08051063384188899) from class's __repr__\nvariable([[2.15584139]]) from class's __repr__ variable([5.44694936]) from class's __repr__ variable(0.08039667987257197) from class's __repr__\nvariable([[2.15290062]]) from class's __repr__ variable([5.44843967]) from class's __repr__ variable(0.08028576175295649) from class's __repr__\nvariable([[2.14999928]]) from class's __repr__ variable([5.44990999]) from class's __repr__ variable(0.08017779860491725) from class's __repr__\nvariable([[2.14713684]]) from class's __repr__ variable([5.4513606]) from class's __repr__ variable(0.08007271170500452) from class's __repr__\nvariable([[2.1443128]]) from class's __repr__ variable([5.45279175]) from class's __repr__ variable(0.07997042442704135) from class's __repr__\nvariable([[2.14152662]]) from class's __repr__ variable([5.45420371]) from class's __repr__ variable(0.07987086218625004) from class's __repr__\nvariable([[2.13877781]]) from class's __repr__ variable([5.45559674]) from class's __repr__ variable(0.07977395238486742) from class's __repr__\nvariable([[2.13606587]]) from class's __repr__ variable([5.45697108]) from class's __repr__ variable(0.07967962435920853) from class's __repr__\nvariable([[2.13339029]]) from class's __repr__ variable([5.458327]) from class's __repr__ variable(0.07958780932814088) from class's __repr__\nvariable([[2.13075059]]) from class's __repr__ variable([5.45966473]) from class's __repr__ variable(0.07949844034293135) from class's __repr__\nvariable([[2.12814629]]) from class's __repr__ variable([5.46098452]) from class's __repr__ variable(0.07941145223842926) from class's __repr__\nvariable([[2.12557692]]) from class's __repr__ variable([5.46228661]) from class's __repr__ variable(0.07932678158554966) from class's __repr__\nvariable([[2.123042]]) from class's __repr__ variable([5.46357124]) from class's __repr__ variable(0.07924436664502324) from class's __repr__\nvariable([[2.12054108]]) from class's __repr__ variable([5.46483864]) from class's __repr__ variable(0.07916414732237737) from class's __repr__\nvariable([[2.11807369]]) from class's __repr__ variable([5.46608905]) from class's __repr__ variable(0.07908606512411756) from class's __repr__\n"
     ]
    }
   ],
   "source": [
    "lr = 0.1\n",
    "iters = 100\n",
    "\n",
    "for i in range(iters):\n",
    "    y_pred = predict(x)\n",
    "    loss = mean_squared_error(y, y_pred)\n",
    "\n",
    "    W.cleargrad()\n",
    "    b.cleargrad()\n",
    "    loss.backward()\n",
    "\n",
    "    W.data -= lr * W.grad.data\n",
    "    b.data -= lr * b.grad.data\n",
    "    print(W, b, loss)"
   ]
  },
  {
   "cell_type": "code",
   "execution_count": 42,
   "metadata": {},
   "outputs": [
    {
     "output_type": "display_data",
     "data": {
      "text/plain": "<Figure size 360x360 with 1 Axes>",
      "image/svg+xml": "<?xml version=\"1.0\" encoding=\"utf-8\" standalone=\"no\"?>\r\n<!DOCTYPE svg PUBLIC \"-//W3C//DTD SVG 1.1//EN\"\r\n  \"http://www.w3.org/Graphics/SVG/1.1/DTD/svg11.dtd\">\r\n<!-- Created with matplotlib (https://matplotlib.org/) -->\r\n<svg height=\"302.878125pt\" version=\"1.1\" viewBox=\"0 0 316.303125 302.878125\" width=\"316.303125pt\" xmlns=\"http://www.w3.org/2000/svg\" xmlns:xlink=\"http://www.w3.org/1999/xlink\">\r\n <defs>\r\n  <style type=\"text/css\">\r\n*{stroke-linecap:butt;stroke-linejoin:round;}\r\n  </style>\r\n </defs>\r\n <g id=\"figure_1\">\r\n  <g id=\"patch_1\">\r\n   <path d=\"M 0 302.878125 \r\nL 316.303125 302.878125 \r\nL 316.303125 0 \r\nL 0 0 \r\nz\r\n\" style=\"fill:none;\"/>\r\n  </g>\r\n  <g id=\"axes_1\">\r\n   <g id=\"patch_2\">\r\n    <path d=\"M 30.103125 279 \r\nL 309.103125 279 \r\nL 309.103125 7.2 \r\nL 30.103125 7.2 \r\nz\r\n\" style=\"fill:#ffffff;\"/>\r\n   </g>\r\n   <g id=\"PathCollection_1\">\r\n    <defs>\r\n     <path d=\"M 0 3 \r\nC 0.795609 3 1.55874 2.683901 2.12132 2.12132 \r\nC 2.683901 1.55874 3 0.795609 3 0 \r\nC 3 -0.795609 2.683901 -1.55874 2.12132 -2.12132 \r\nC 1.55874 -2.683901 0.795609 -3 0 -3 \r\nC -0.795609 -3 -1.55874 -2.683901 -2.12132 -2.12132 \r\nC -2.683901 -1.55874 -3 -0.795609 -3 0 \r\nC -3 0.795609 -2.683901 1.55874 -2.12132 2.12132 \r\nC -1.55874 2.683901 -0.795609 3 0 3 \r\nz\r\n\" id=\"C0_0_916ce35478\"/>\r\n    </defs>\r\n    <g clip-path=\"url(#p30da47ca3b)\">\r\n     <use style=\"fill:#3c508b;stroke:#3c508b;\" x=\"183.082954\" xlink:href=\"#C0_0_916ce35478\" y=\"112.428525\"/>\r\n    </g>\r\n    <g clip-path=\"url(#p30da47ca3b)\">\r\n     <use style=\"fill:#d8e219;stroke:#d8e219;\" x=\"225.982108\" xlink:href=\"#C0_0_916ce35478\" y=\"120.11371\"/>\r\n    </g>\r\n    <g clip-path=\"url(#p30da47ca3b)\">\r\n     <use style=\"fill:#31b57b;stroke:#31b57b;\" x=\"196.993649\" xlink:href=\"#C0_0_916ce35478\" y=\"95.505535\"/>\r\n    </g>\r\n    <g clip-path=\"url(#p30da47ca3b)\">\r\n     <use style=\"fill:#40bd72;stroke:#40bd72;\" x=\"182.069542\" xlink:href=\"#C0_0_916ce35478\" y=\"84.116101\"/>\r\n    </g>\r\n    <g clip-path=\"url(#p30da47ca3b)\">\r\n     <use style=\"fill:#23898e;stroke:#23898e;\" x=\"150.811432\" xlink:href=\"#C0_0_916ce35478\" y=\"181.99137\"/>\r\n    </g>\r\n    <g clip-path=\"url(#p30da47ca3b)\">\r\n     <use style=\"fill:#20928c;stroke:#20928c;\" x=\"208.114686\" xlink:href=\"#C0_0_916ce35478\" y=\"102.957101\"/>\r\n    </g>\r\n    <g clip-path=\"url(#p30da47ca3b)\">\r\n     <use style=\"fill:#d8e219;stroke:#d8e219;\" x=\"154.403832\" xlink:href=\"#C0_0_916ce35478\" y=\"143.988381\"/>\r\n    </g>\r\n    <g clip-path=\"url(#p30da47ca3b)\">\r\n     <use style=\"fill:#addc30;stroke:#addc30;\" x=\"271.513282\" xlink:href=\"#C0_0_916ce35478\" y=\"53.00515\"/>\r\n    </g>\r\n    <g clip-path=\"url(#p30da47ca3b)\">\r\n     <use style=\"fill:#93d741;stroke:#93d741;\" x=\"290.049684\" xlink:href=\"#C0_0_916ce35478\" y=\"74.035425\"/>\r\n    </g>\r\n    <g clip-path=\"url(#p30da47ca3b)\">\r\n     <use style=\"fill:#d8e219;stroke:#d8e219;\" x=\"140.442646\" xlink:href=\"#C0_0_916ce35478\" y=\"118.14315\"/>\r\n    </g>\r\n    <g clip-path=\"url(#p30da47ca3b)\">\r\n     <use style=\"fill:#440154;stroke:#440154;\" x=\"245.716434\" xlink:href=\"#C0_0_916ce35478\" y=\"86.305177\"/>\r\n    </g>\r\n    <g clip-path=\"url(#p30da47ca3b)\">\r\n     <use style=\"fill:#3c508b;stroke:#3c508b;\" x=\"177.947051\" xlink:href=\"#C0_0_916ce35478\" y=\"99.245106\"/>\r\n    </g>\r\n    <g clip-path=\"url(#p30da47ca3b)\">\r\n     <use style=\"fill:#423f85;stroke:#423f85;\" x=\"188.041583\" xlink:href=\"#C0_0_916ce35478\" y=\"106.272249\"/>\r\n    </g>\r\n    <g clip-path=\"url(#p30da47ca3b)\">\r\n     <use style=\"fill:#2d718e;stroke:#2d718e;\" x=\"280.234531\" xlink:href=\"#C0_0_916ce35478\" y=\"74.217367\"/>\r\n    </g>\r\n    <g clip-path=\"url(#p30da47ca3b)\">\r\n     <use style=\"fill:#481d6f;stroke:#481d6f;\" x=\"59.890518\" xlink:href=\"#C0_0_916ce35478\" y=\"196.345927\"/>\r\n    </g>\r\n    <g clip-path=\"url(#p30da47ca3b)\">\r\n     <use style=\"fill:#46327e;stroke:#46327e;\" x=\"64.040077\" xlink:href=\"#C0_0_916ce35478\" y=\"235.777481\"/>\r\n    </g>\r\n    <g clip-path=\"url(#p30da47ca3b)\">\r\n     <use style=\"fill:#481769;stroke:#481769;\" x=\"46.787448\" xlink:href=\"#C0_0_916ce35478\" y=\"199.861022\"/>\r\n    </g>\r\n    <g clip-path=\"url(#p30da47ca3b)\">\r\n     <use style=\"fill:#f1e51d;stroke:#f1e51d;\" x=\"256.260948\" xlink:href=\"#C0_0_916ce35478\" y=\"64.195044\"/>\r\n    </g>\r\n    <g clip-path=\"url(#p30da47ca3b)\">\r\n     <use style=\"fill:#3c508b;stroke:#3c508b;\" x=\"242.217921\" xlink:href=\"#C0_0_916ce35478\" y=\"44.583348\"/>\r\n    </g>\r\n    <g clip-path=\"url(#p30da47ca3b)\">\r\n     <use style=\"fill:#60ca60;stroke:#60ca60;\" x=\"265.902359\" xlink:href=\"#C0_0_916ce35478\" y=\"45.145782\"/>\r\n    </g>\r\n    <g clip-path=\"url(#p30da47ca3b)\">\r\n     <use style=\"fill:#cae11f;stroke:#cae11f;\" x=\"293.905903\" xlink:href=\"#C0_0_916ce35478\" y=\"19.554545\"/>\r\n    </g>\r\n    <g clip-path=\"url(#p30da47ca3b)\">\r\n     <use style=\"fill:#f1e51d;stroke:#f1e51d;\" x=\"247.63313\" xlink:href=\"#C0_0_916ce35478\" y=\"79.233397\"/>\r\n    </g>\r\n    <g clip-path=\"url(#p30da47ca3b)\">\r\n     <use style=\"fill:#cae11f;stroke:#cae11f;\" x=\"160.564299\" xlink:href=\"#C0_0_916ce35478\" y=\"101.820883\"/>\r\n    </g>\r\n    <g clip-path=\"url(#p30da47ca3b)\">\r\n     <use style=\"fill:#2d718e;stroke:#2d718e;\" x=\"242.829639\" xlink:href=\"#C0_0_916ce35478\" y=\"68.440608\"/>\r\n    </g>\r\n    <g clip-path=\"url(#p30da47ca3b)\">\r\n     <use style=\"fill:#fde725;stroke:#fde725;\" x=\"72.070686\" xlink:href=\"#C0_0_916ce35478\" y=\"226.599148\"/>\r\n    </g>\r\n    <g clip-path=\"url(#p30da47ca3b)\">\r\n     <use style=\"fill:#46327e;stroke:#46327e;\" x=\"206.574555\" xlink:href=\"#C0_0_916ce35478\" y=\"101.084391\"/>\r\n    </g>\r\n    <g clip-path=\"url(#p30da47ca3b)\">\r\n     <use style=\"fill:#1f978b;stroke:#1f978b;\" x=\"78.537141\" xlink:href=\"#C0_0_916ce35478\" y=\"262.897371\"/>\r\n    </g>\r\n    <g clip-path=\"url(#p30da47ca3b)\">\r\n     <use style=\"fill:#fde725;stroke:#fde725;\" x=\"285.15222\" xlink:href=\"#C0_0_916ce35478\" y=\"69.888005\"/>\r\n    </g>\r\n    <g clip-path=\"url(#p30da47ca3b)\">\r\n     <use style=\"fill:#d8e219;stroke:#d8e219;\" x=\"176.130122\" xlink:href=\"#C0_0_916ce35478\" y=\"119.757032\"/>\r\n    </g>\r\n    <g clip-path=\"url(#p30da47ca3b)\">\r\n     <use style=\"fill:#21a685;stroke:#21a685;\" x=\"148.49267\" xlink:href=\"#C0_0_916ce35478\" y=\"179.60168\"/>\r\n    </g>\r\n    <g clip-path=\"url(#p30da47ca3b)\">\r\n     <use style=\"fill:#481769;stroke:#481769;\" x=\"109.788531\" xlink:href=\"#C0_0_916ce35478\" y=\"176.762857\"/>\r\n    </g>\r\n    <g clip-path=\"url(#p30da47ca3b)\">\r\n     <use style=\"fill:#404588;stroke:#404588;\" x=\"241.20638\" xlink:href=\"#C0_0_916ce35478\" y=\"91.766677\"/>\r\n    </g>\r\n    <g clip-path=\"url(#p30da47ca3b)\">\r\n     <use style=\"fill:#297a8e;stroke:#297a8e;\" x=\"159.190236\" xlink:href=\"#C0_0_916ce35478\" y=\"186.935654\"/>\r\n    </g>\r\n    <g clip-path=\"url(#p30da47ca3b)\">\r\n     <use style=\"fill:#a0da39;stroke:#a0da39;\" x=\"188.141984\" xlink:href=\"#C0_0_916ce35478\" y=\"147.271681\"/>\r\n    </g>\r\n    <g clip-path=\"url(#p30da47ca3b)\">\r\n     <use style=\"fill:#46085c;stroke:#46085c;\" x=\"46.419092\" xlink:href=\"#C0_0_916ce35478\" y=\"232.011502\"/>\r\n    </g>\r\n    <g clip-path=\"url(#p30da47ca3b)\">\r\n     <use style=\"fill:#297a8e;stroke:#297a8e;\" x=\"200.828348\" xlink:href=\"#C0_0_916ce35478\" y=\"107.237253\"/>\r\n    </g>\r\n    <g clip-path=\"url(#p30da47ca3b)\">\r\n     <use style=\"fill:#31668e;stroke:#31668e;\" x=\"199.399946\" xlink:href=\"#C0_0_916ce35478\" y=\"110.06603\"/>\r\n    </g>\r\n    <g clip-path=\"url(#p30da47ca3b)\">\r\n     <use style=\"fill:#a0da39;stroke:#a0da39;\" x=\"200.64747\" xlink:href=\"#C0_0_916ce35478\" y=\"100.999042\"/>\r\n    </g>\r\n    <g clip-path=\"url(#p30da47ca3b)\">\r\n     <use style=\"fill:#1fa187;stroke:#1fa187;\" x=\"284.914786\" xlink:href=\"#C0_0_916ce35478\" y=\"34.18543\"/>\r\n    </g>\r\n    <g clip-path=\"url(#p30da47ca3b)\">\r\n     <use style=\"fill:#1f978b;stroke:#1f978b;\" x=\"217.378067\" xlink:href=\"#C0_0_916ce35478\" y=\"110.420065\"/>\r\n    </g>\r\n    <g clip-path=\"url(#p30da47ca3b)\">\r\n     <use style=\"fill:#23898e;stroke:#23898e;\" x=\"134.271487\" xlink:href=\"#C0_0_916ce35478\" y=\"128.799002\"/>\r\n    </g>\r\n    <g clip-path=\"url(#p30da47ca3b)\">\r\n     <use style=\"fill:#f1e51d;stroke:#f1e51d;\" x=\"154.260662\" xlink:href=\"#C0_0_916ce35478\" y=\"167.086947\"/>\r\n    </g>\r\n    <g clip-path=\"url(#p30da47ca3b)\">\r\n     <use style=\"fill:#471063;stroke:#471063;\" x=\"221.454825\" xlink:href=\"#C0_0_916ce35478\" y=\"106.726978\"/>\r\n    </g>\r\n    <g clip-path=\"url(#p30da47ca3b)\">\r\n     <use style=\"fill:#6ccd5a;stroke:#6ccd5a;\" x=\"57.103064\" xlink:href=\"#C0_0_916ce35478\" y=\"190.560358\"/>\r\n    </g>\r\n    <g clip-path=\"url(#p30da47ca3b)\">\r\n     <use style=\"fill:#423f85;stroke:#423f85;\" x=\"213.496578\" xlink:href=\"#C0_0_916ce35478\" y=\"75.128939\"/>\r\n    </g>\r\n    <g clip-path=\"url(#p30da47ca3b)\">\r\n     <use style=\"fill:#471063;stroke:#471063;\" x=\"214.494735\" xlink:href=\"#C0_0_916ce35478\" y=\"84.8114\"/>\r\n    </g>\r\n    <g clip-path=\"url(#p30da47ca3b)\">\r\n     <use style=\"fill:#bade28;stroke:#bade28;\" x=\"95.820291\" xlink:href=\"#C0_0_916ce35478\" y=\"240.873746\"/>\r\n    </g>\r\n    <g clip-path=\"url(#p30da47ca3b)\">\r\n     <use style=\"fill:#93d741;stroke:#93d741;\" x=\"74.817216\" xlink:href=\"#C0_0_916ce35478\" y=\"173.669757\"/>\r\n    </g>\r\n    <g clip-path=\"url(#p30da47ca3b)\">\r\n     <use style=\"fill:#20928c;stroke:#20928c;\" x=\"122.905803\" xlink:href=\"#C0_0_916ce35478\" y=\"156.492267\"/>\r\n    </g>\r\n    <g clip-path=\"url(#p30da47ca3b)\">\r\n     <use style=\"fill:#56c667;stroke:#56c667;\" x=\"135.355175\" xlink:href=\"#C0_0_916ce35478\" y=\"117.463629\"/>\r\n    </g>\r\n    <g clip-path=\"url(#p30da47ca3b)\">\r\n     <use style=\"fill:#1f978b;stroke:#1f978b;\" x=\"188.596519\" xlink:href=\"#C0_0_916ce35478\" y=\"162.150029\"/>\r\n    </g>\r\n    <g clip-path=\"url(#p30da47ca3b)\">\r\n     <use style=\"fill:#481d6f;stroke:#481d6f;\" x=\"154.665364\" xlink:href=\"#C0_0_916ce35478\" y=\"115.511991\"/>\r\n    </g>\r\n    <g clip-path=\"url(#p30da47ca3b)\">\r\n     <use style=\"fill:#93d741;stroke:#93d741;\" x=\"296.421307\" xlink:href=\"#C0_0_916ce35478\" y=\"75.178784\"/>\r\n    </g>\r\n    <g clip-path=\"url(#p30da47ca3b)\">\r\n     <use style=\"fill:#404588;stroke:#404588;\" x=\"67.885964\" xlink:href=\"#C0_0_916ce35478\" y=\"210.293779\"/>\r\n    </g>\r\n    <g clip-path=\"url(#p30da47ca3b)\">\r\n     <use style=\"fill:#3c508b;stroke:#3c508b;\" x=\"95.432027\" xlink:href=\"#C0_0_916ce35478\" y=\"238.766376\"/>\r\n    </g>\r\n    <g clip-path=\"url(#p30da47ca3b)\">\r\n     <use style=\"fill:#84d44b;stroke:#84d44b;\" x=\"83.167062\" xlink:href=\"#C0_0_916ce35478\" y=\"174.356594\"/>\r\n    </g>\r\n    <g clip-path=\"url(#p30da47ca3b)\">\r\n     <use style=\"fill:#38b977;stroke:#38b977;\" x=\"209.974833\" xlink:href=\"#C0_0_916ce35478\" y=\"77.810759\"/>\r\n    </g>\r\n    <g clip-path=\"url(#p30da47ca3b)\">\r\n     <use style=\"fill:#60ca60;stroke:#60ca60;\" x=\"106.884165\" xlink:href=\"#C0_0_916ce35478\" y=\"184.077986\"/>\r\n    </g>\r\n    <g clip-path=\"url(#p30da47ca3b)\">\r\n     <use style=\"fill:#77d153;stroke:#77d153;\" x=\"161.810053\" xlink:href=\"#C0_0_916ce35478\" y=\"157.034241\"/>\r\n    </g>\r\n    <g clip-path=\"url(#p30da47ca3b)\">\r\n     <use style=\"fill:#31b57b;stroke:#31b57b;\" x=\"104.59811\" xlink:href=\"#C0_0_916ce35478\" y=\"237.08258\"/>\r\n    </g>\r\n    <g clip-path=\"url(#p30da47ca3b)\">\r\n     <use style=\"fill:#38b977;stroke:#38b977;\" x=\"82.563722\" xlink:href=\"#C0_0_916ce35478\" y=\"190.253835\"/>\r\n    </g>\r\n    <g clip-path=\"url(#p30da47ca3b)\">\r\n     <use style=\"fill:#1f978b;stroke:#1f978b;\" x=\"70.033897\" xlink:href=\"#C0_0_916ce35478\" y=\"225.177026\"/>\r\n    </g>\r\n    <g clip-path=\"url(#p30da47ca3b)\">\r\n     <use style=\"fill:#4ac16d;stroke:#4ac16d;\" x=\"210.80542\" xlink:href=\"#C0_0_916ce35478\" y=\"85.881345\"/>\r\n    </g>\r\n    <g clip-path=\"url(#p30da47ca3b)\">\r\n     <use style=\"fill:#20928c;stroke:#20928c;\" x=\"77.203996\" xlink:href=\"#C0_0_916ce35478\" y=\"177.211171\"/>\r\n    </g>\r\n    <g clip-path=\"url(#p30da47ca3b)\">\r\n     <use style=\"fill:#218e8d;stroke:#218e8d;\" x=\"92.261981\" xlink:href=\"#C0_0_916ce35478\" y=\"154.077032\"/>\r\n    </g>\r\n    <g clip-path=\"url(#p30da47ca3b)\">\r\n     <use style=\"fill:#2d718e;stroke:#2d718e;\" x=\"136.648112\" xlink:href=\"#C0_0_916ce35478\" y=\"131.083225\"/>\r\n    </g>\r\n    <g clip-path=\"url(#p30da47ca3b)\">\r\n     <use style=\"fill:#297a8e;stroke:#297a8e;\" x=\"253.263085\" xlink:href=\"#C0_0_916ce35478\" y=\"124.893978\"/>\r\n    </g>\r\n    <g clip-path=\"url(#p30da47ca3b)\">\r\n     <use style=\"fill:#25ab82;stroke:#25ab82;\" x=\"66.611299\" xlink:href=\"#C0_0_916ce35478\" y=\"237.475514\"/>\r\n    </g>\r\n    <g clip-path=\"url(#p30da47ca3b)\">\r\n     <use style=\"fill:#1fa187;stroke:#1fa187;\" x=\"257.633987\" xlink:href=\"#C0_0_916ce35478\" y=\"47.877129\"/>\r\n    </g>\r\n    <g clip-path=\"url(#p30da47ca3b)\">\r\n     <use style=\"fill:#453882;stroke:#453882;\" x=\"66.352715\" xlink:href=\"#C0_0_916ce35478\" y=\"256.966165\"/>\r\n    </g>\r\n    <g clip-path=\"url(#p30da47ca3b)\">\r\n     <use style=\"fill:#2d718e;stroke:#2d718e;\" x=\"293.349248\" xlink:href=\"#C0_0_916ce35478\" y=\"40.906808\"/>\r\n    </g>\r\n    <g clip-path=\"url(#p30da47ca3b)\">\r\n     <use style=\"fill:#20928c;stroke:#20928c;\" x=\"162.413521\" xlink:href=\"#C0_0_916ce35478\" y=\"192.683335\"/>\r\n    </g>\r\n    <g clip-path=\"url(#p30da47ca3b)\">\r\n     <use style=\"fill:#218e8d;stroke:#218e8d;\" x=\"293.427019\" xlink:href=\"#C0_0_916ce35478\" y=\"73.716829\"/>\r\n    </g>\r\n    <g clip-path=\"url(#p30da47ca3b)\">\r\n     <use style=\"fill:#77d153;stroke:#77d153;\" x=\"197.530519\" xlink:href=\"#C0_0_916ce35478\" y=\"168.460319\"/>\r\n    </g>\r\n    <g clip-path=\"url(#p30da47ca3b)\">\r\n     <use style=\"fill:#a0da39;stroke:#a0da39;\" x=\"232.189519\" xlink:href=\"#C0_0_916ce35478\" y=\"61.562322\"/>\r\n    </g>\r\n    <g clip-path=\"url(#p30da47ca3b)\">\r\n     <use style=\"fill:#1fa187;stroke:#1fa187;\" x=\"51.678608\" xlink:href=\"#C0_0_916ce35478\" y=\"263.265929\"/>\r\n    </g>\r\n    <g clip-path=\"url(#p30da47ca3b)\">\r\n     <use style=\"fill:#218e8d;stroke:#218e8d;\" x=\"114.494547\" xlink:href=\"#C0_0_916ce35478\" y=\"200.94375\"/>\r\n    </g>\r\n    <g clip-path=\"url(#p30da47ca3b)\">\r\n     <use style=\"fill:#2d718e;stroke:#2d718e;\" x=\"72.566299\" xlink:href=\"#C0_0_916ce35478\" y=\"174.577027\"/>\r\n    </g>\r\n    <g clip-path=\"url(#p30da47ca3b)\">\r\n     <use style=\"fill:#481769;stroke:#481769;\" x=\"117.932453\" xlink:href=\"#C0_0_916ce35478\" y=\"161.448345\"/>\r\n    </g>\r\n    <g clip-path=\"url(#p30da47ca3b)\">\r\n     <use style=\"fill:#bade28;stroke:#bade28;\" x=\"72.187566\" xlink:href=\"#C0_0_916ce35478\" y=\"266.645455\"/>\r\n    </g>\r\n    <g clip-path=\"url(#p30da47ca3b)\">\r\n     <use style=\"fill:#2b758e;stroke:#2b758e;\" x=\"123.564553\" xlink:href=\"#C0_0_916ce35478\" y=\"212.238058\"/>\r\n    </g>\r\n    <g clip-path=\"url(#p30da47ca3b)\">\r\n     <use style=\"fill:#cae11f;stroke:#cae11f;\" x=\"148.389804\" xlink:href=\"#C0_0_916ce35478\" y=\"145.75074\"/>\r\n    </g>\r\n    <g clip-path=\"url(#p30da47ca3b)\">\r\n     <use style=\"fill:#440154;stroke:#440154;\" x=\"58.114338\" xlink:href=\"#C0_0_916ce35478\" y=\"221.979275\"/>\r\n    </g>\r\n    <g clip-path=\"url(#p30da47ca3b)\">\r\n     <use style=\"fill:#404588;stroke:#404588;\" x=\"220.124583\" xlink:href=\"#C0_0_916ce35478\" y=\"128.054138\"/>\r\n    </g>\r\n    <g clip-path=\"url(#p30da47ca3b)\">\r\n     <use style=\"fill:#481769;stroke:#481769;\" x=\"187.669485\" xlink:href=\"#C0_0_916ce35478\" y=\"82.532924\"/>\r\n    </g>\r\n    <g clip-path=\"url(#p30da47ca3b)\">\r\n     <use style=\"fill:#472c7a;stroke:#472c7a;\" x=\"110.003543\" xlink:href=\"#C0_0_916ce35478\" y=\"177.006725\"/>\r\n    </g>\r\n    <g clip-path=\"url(#p30da47ca3b)\">\r\n     <use style=\"fill:#1e9d89;stroke:#1e9d89;\" x=\"176.491036\" xlink:href=\"#C0_0_916ce35478\" y=\"132.222308\"/>\r\n    </g>\r\n    <g clip-path=\"url(#p30da47ca3b)\">\r\n     <use style=\"fill:#4ac16d;stroke:#4ac16d;\" x=\"65.796312\" xlink:href=\"#C0_0_916ce35478\" y=\"214.579703\"/>\r\n    </g>\r\n    <g clip-path=\"url(#p30da47ca3b)\">\r\n     <use style=\"fill:#472c7a;stroke:#472c7a;\" x=\"190.079056\" xlink:href=\"#C0_0_916ce35478\" y=\"101.516508\"/>\r\n    </g>\r\n    <g clip-path=\"url(#p30da47ca3b)\">\r\n     <use style=\"fill:#2b758e;stroke:#2b758e;\" x=\"281.188444\" xlink:href=\"#C0_0_916ce35478\" y=\"71.974259\"/>\r\n    </g>\r\n    <g clip-path=\"url(#p30da47ca3b)\">\r\n     <use style=\"fill:#40bd72;stroke:#40bd72;\" x=\"123.715591\" xlink:href=\"#C0_0_916ce35478\" y=\"188.206923\"/>\r\n    </g>\r\n    <g clip-path=\"url(#p30da47ca3b)\">\r\n     <use style=\"fill:#6ccd5a;stroke:#6ccd5a;\" x=\"213.662544\" xlink:href=\"#C0_0_916ce35478\" y=\"136.058345\"/>\r\n    </g>\r\n    <g clip-path=\"url(#p30da47ca3b)\">\r\n     <use style=\"fill:#297a8e;stroke:#297a8e;\" x=\"75.557634\" xlink:href=\"#C0_0_916ce35478\" y=\"248.164359\"/>\r\n    </g>\r\n    <g clip-path=\"url(#p30da47ca3b)\">\r\n     <use style=\"fill:#addc30;stroke:#addc30;\" x=\"226.275493\" xlink:href=\"#C0_0_916ce35478\" y=\"50.831491\"/>\r\n    </g>\r\n    <g clip-path=\"url(#p30da47ca3b)\">\r\n     <use style=\"fill:#440154;stroke:#440154;\" x=\"116.196099\" xlink:href=\"#C0_0_916ce35478\" y=\"159.229707\"/>\r\n    </g>\r\n    <g clip-path=\"url(#p30da47ca3b)\">\r\n     <use style=\"fill:#56c667;stroke:#56c667;\" x=\"88.809182\" xlink:href=\"#C0_0_916ce35478\" y=\"206.485597\"/>\r\n    </g>\r\n    <g clip-path=\"url(#p30da47ca3b)\">\r\n     <use style=\"fill:#cae11f;stroke:#cae11f;\" x=\"192.803557\" xlink:href=\"#C0_0_916ce35478\" y=\"150.825663\"/>\r\n    </g>\r\n    <g clip-path=\"url(#p30da47ca3b)\">\r\n     <use style=\"fill:#93d741;stroke:#93d741;\" x=\"46.758865\" xlink:href=\"#C0_0_916ce35478\" y=\"264.057282\"/>\r\n    </g>\r\n    <g clip-path=\"url(#p30da47ca3b)\">\r\n     <use style=\"fill:#471063;stroke:#471063;\" x=\"255.312126\" xlink:href=\"#C0_0_916ce35478\" y=\"118.524336\"/>\r\n    </g>\r\n    <g clip-path=\"url(#p30da47ca3b)\">\r\n     <use style=\"fill:#38b977;stroke:#38b977;\" x=\"42.784943\" xlink:href=\"#C0_0_916ce35478\" y=\"248.776779\"/>\r\n    </g>\r\n   </g>\r\n   <g id=\"matplotlib.axis_1\">\r\n    <g id=\"xtick_1\">\r\n     <g id=\"line2d_1\">\r\n      <defs>\r\n       <path d=\"M 0 0 \r\nL 0 3.5 \r\n\" id=\"me2018f5dc9\" style=\"stroke:#000000;stroke-width:0.8;\"/>\r\n      </defs>\r\n      <g>\r\n       <use style=\"stroke:#000000;stroke-width:0.8;\" x=\"41.574239\" xlink:href=\"#me2018f5dc9\" y=\"279\"/>\r\n      </g>\r\n     </g>\r\n     <g id=\"text_1\">\r\n      <!-- 0.0 -->\r\n      <defs>\r\n       <path d=\"M 31.78125 66.40625 \r\nQ 24.171875 66.40625 20.328125 58.90625 \r\nQ 16.5 51.421875 16.5 36.375 \r\nQ 16.5 21.390625 20.328125 13.890625 \r\nQ 24.171875 6.390625 31.78125 6.390625 \r\nQ 39.453125 6.390625 43.28125 13.890625 \r\nQ 47.125 21.390625 47.125 36.375 \r\nQ 47.125 51.421875 43.28125 58.90625 \r\nQ 39.453125 66.40625 31.78125 66.40625 \r\nz\r\nM 31.78125 74.21875 \r\nQ 44.046875 74.21875 50.515625 64.515625 \r\nQ 56.984375 54.828125 56.984375 36.375 \r\nQ 56.984375 17.96875 50.515625 8.265625 \r\nQ 44.046875 -1.421875 31.78125 -1.421875 \r\nQ 19.53125 -1.421875 13.0625 8.265625 \r\nQ 6.59375 17.96875 6.59375 36.375 \r\nQ 6.59375 54.828125 13.0625 64.515625 \r\nQ 19.53125 74.21875 31.78125 74.21875 \r\nz\r\n\" id=\"DejaVuSans-48\"/>\r\n       <path d=\"M 10.6875 12.40625 \r\nL 21 12.40625 \r\nL 21 0 \r\nL 10.6875 0 \r\nz\r\n\" id=\"DejaVuSans-46\"/>\r\n      </defs>\r\n      <g transform=\"translate(33.622676 293.598437)scale(0.1 -0.1)\">\r\n       <use xlink:href=\"#DejaVuSans-48\"/>\r\n       <use x=\"63.623047\" xlink:href=\"#DejaVuSans-46\"/>\r\n       <use x=\"95.410156\" xlink:href=\"#DejaVuSans-48\"/>\r\n      </g>\r\n     </g>\r\n    </g>\r\n    <g id=\"xtick_2\">\r\n     <g id=\"line2d_2\">\r\n      <g>\r\n       <use style=\"stroke:#000000;stroke-width:0.8;\" x=\"93.143202\" xlink:href=\"#me2018f5dc9\" y=\"279\"/>\r\n      </g>\r\n     </g>\r\n     <g id=\"text_2\">\r\n      <!-- 0.2 -->\r\n      <defs>\r\n       <path d=\"M 19.1875 8.296875 \r\nL 53.609375 8.296875 \r\nL 53.609375 0 \r\nL 7.328125 0 \r\nL 7.328125 8.296875 \r\nQ 12.9375 14.109375 22.625 23.890625 \r\nQ 32.328125 33.6875 34.8125 36.53125 \r\nQ 39.546875 41.84375 41.421875 45.53125 \r\nQ 43.3125 49.21875 43.3125 52.78125 \r\nQ 43.3125 58.59375 39.234375 62.25 \r\nQ 35.15625 65.921875 28.609375 65.921875 \r\nQ 23.96875 65.921875 18.8125 64.3125 \r\nQ 13.671875 62.703125 7.8125 59.421875 \r\nL 7.8125 69.390625 \r\nQ 13.765625 71.78125 18.9375 73 \r\nQ 24.125 74.21875 28.421875 74.21875 \r\nQ 39.75 74.21875 46.484375 68.546875 \r\nQ 53.21875 62.890625 53.21875 53.421875 \r\nQ 53.21875 48.921875 51.53125 44.890625 \r\nQ 49.859375 40.875 45.40625 35.40625 \r\nQ 44.1875 33.984375 37.640625 27.21875 \r\nQ 31.109375 20.453125 19.1875 8.296875 \r\nz\r\n\" id=\"DejaVuSans-50\"/>\r\n      </defs>\r\n      <g transform=\"translate(85.191639 293.598437)scale(0.1 -0.1)\">\r\n       <use xlink:href=\"#DejaVuSans-48\"/>\r\n       <use x=\"63.623047\" xlink:href=\"#DejaVuSans-46\"/>\r\n       <use x=\"95.410156\" xlink:href=\"#DejaVuSans-50\"/>\r\n      </g>\r\n     </g>\r\n    </g>\r\n    <g id=\"xtick_3\">\r\n     <g id=\"line2d_3\">\r\n      <g>\r\n       <use style=\"stroke:#000000;stroke-width:0.8;\" x=\"144.712164\" xlink:href=\"#me2018f5dc9\" y=\"279\"/>\r\n      </g>\r\n     </g>\r\n     <g id=\"text_3\">\r\n      <!-- 0.4 -->\r\n      <defs>\r\n       <path d=\"M 37.796875 64.3125 \r\nL 12.890625 25.390625 \r\nL 37.796875 25.390625 \r\nz\r\nM 35.203125 72.90625 \r\nL 47.609375 72.90625 \r\nL 47.609375 25.390625 \r\nL 58.015625 25.390625 \r\nL 58.015625 17.1875 \r\nL 47.609375 17.1875 \r\nL 47.609375 0 \r\nL 37.796875 0 \r\nL 37.796875 17.1875 \r\nL 4.890625 17.1875 \r\nL 4.890625 26.703125 \r\nz\r\n\" id=\"DejaVuSans-52\"/>\r\n      </defs>\r\n      <g transform=\"translate(136.760602 293.598437)scale(0.1 -0.1)\">\r\n       <use xlink:href=\"#DejaVuSans-48\"/>\r\n       <use x=\"63.623047\" xlink:href=\"#DejaVuSans-46\"/>\r\n       <use x=\"95.410156\" xlink:href=\"#DejaVuSans-52\"/>\r\n      </g>\r\n     </g>\r\n    </g>\r\n    <g id=\"xtick_4\">\r\n     <g id=\"line2d_4\">\r\n      <g>\r\n       <use style=\"stroke:#000000;stroke-width:0.8;\" x=\"196.281127\" xlink:href=\"#me2018f5dc9\" y=\"279\"/>\r\n      </g>\r\n     </g>\r\n     <g id=\"text_4\">\r\n      <!-- 0.6 -->\r\n      <defs>\r\n       <path d=\"M 33.015625 40.375 \r\nQ 26.375 40.375 22.484375 35.828125 \r\nQ 18.609375 31.296875 18.609375 23.390625 \r\nQ 18.609375 15.53125 22.484375 10.953125 \r\nQ 26.375 6.390625 33.015625 6.390625 \r\nQ 39.65625 6.390625 43.53125 10.953125 \r\nQ 47.40625 15.53125 47.40625 23.390625 \r\nQ 47.40625 31.296875 43.53125 35.828125 \r\nQ 39.65625 40.375 33.015625 40.375 \r\nz\r\nM 52.59375 71.296875 \r\nL 52.59375 62.3125 \r\nQ 48.875 64.0625 45.09375 64.984375 \r\nQ 41.3125 65.921875 37.59375 65.921875 \r\nQ 27.828125 65.921875 22.671875 59.328125 \r\nQ 17.53125 52.734375 16.796875 39.40625 \r\nQ 19.671875 43.65625 24.015625 45.921875 \r\nQ 28.375 48.1875 33.59375 48.1875 \r\nQ 44.578125 48.1875 50.953125 41.515625 \r\nQ 57.328125 34.859375 57.328125 23.390625 \r\nQ 57.328125 12.15625 50.6875 5.359375 \r\nQ 44.046875 -1.421875 33.015625 -1.421875 \r\nQ 20.359375 -1.421875 13.671875 8.265625 \r\nQ 6.984375 17.96875 6.984375 36.375 \r\nQ 6.984375 53.65625 15.1875 63.9375 \r\nQ 23.390625 74.21875 37.203125 74.21875 \r\nQ 40.921875 74.21875 44.703125 73.484375 \r\nQ 48.484375 72.75 52.59375 71.296875 \r\nz\r\n\" id=\"DejaVuSans-54\"/>\r\n      </defs>\r\n      <g transform=\"translate(188.329565 293.598437)scale(0.1 -0.1)\">\r\n       <use xlink:href=\"#DejaVuSans-48\"/>\r\n       <use x=\"63.623047\" xlink:href=\"#DejaVuSans-46\"/>\r\n       <use x=\"95.410156\" xlink:href=\"#DejaVuSans-54\"/>\r\n      </g>\r\n     </g>\r\n    </g>\r\n    <g id=\"xtick_5\">\r\n     <g id=\"line2d_5\">\r\n      <g>\r\n       <use style=\"stroke:#000000;stroke-width:0.8;\" x=\"247.85009\" xlink:href=\"#me2018f5dc9\" y=\"279\"/>\r\n      </g>\r\n     </g>\r\n     <g id=\"text_5\">\r\n      <!-- 0.8 -->\r\n      <defs>\r\n       <path d=\"M 31.78125 34.625 \r\nQ 24.75 34.625 20.71875 30.859375 \r\nQ 16.703125 27.09375 16.703125 20.515625 \r\nQ 16.703125 13.921875 20.71875 10.15625 \r\nQ 24.75 6.390625 31.78125 6.390625 \r\nQ 38.8125 6.390625 42.859375 10.171875 \r\nQ 46.921875 13.96875 46.921875 20.515625 \r\nQ 46.921875 27.09375 42.890625 30.859375 \r\nQ 38.875 34.625 31.78125 34.625 \r\nz\r\nM 21.921875 38.8125 \r\nQ 15.578125 40.375 12.03125 44.71875 \r\nQ 8.5 49.078125 8.5 55.328125 \r\nQ 8.5 64.0625 14.71875 69.140625 \r\nQ 20.953125 74.21875 31.78125 74.21875 \r\nQ 42.671875 74.21875 48.875 69.140625 \r\nQ 55.078125 64.0625 55.078125 55.328125 \r\nQ 55.078125 49.078125 51.53125 44.71875 \r\nQ 48 40.375 41.703125 38.8125 \r\nQ 48.828125 37.15625 52.796875 32.3125 \r\nQ 56.78125 27.484375 56.78125 20.515625 \r\nQ 56.78125 9.90625 50.3125 4.234375 \r\nQ 43.84375 -1.421875 31.78125 -1.421875 \r\nQ 19.734375 -1.421875 13.25 4.234375 \r\nQ 6.78125 9.90625 6.78125 20.515625 \r\nQ 6.78125 27.484375 10.78125 32.3125 \r\nQ 14.796875 37.15625 21.921875 38.8125 \r\nz\r\nM 18.3125 54.390625 \r\nQ 18.3125 48.734375 21.84375 45.5625 \r\nQ 25.390625 42.390625 31.78125 42.390625 \r\nQ 38.140625 42.390625 41.71875 45.5625 \r\nQ 45.3125 48.734375 45.3125 54.390625 \r\nQ 45.3125 60.0625 41.71875 63.234375 \r\nQ 38.140625 66.40625 31.78125 66.40625 \r\nQ 25.390625 66.40625 21.84375 63.234375 \r\nQ 18.3125 60.0625 18.3125 54.390625 \r\nz\r\n\" id=\"DejaVuSans-56\"/>\r\n      </defs>\r\n      <g transform=\"translate(239.898527 293.598437)scale(0.1 -0.1)\">\r\n       <use xlink:href=\"#DejaVuSans-48\"/>\r\n       <use x=\"63.623047\" xlink:href=\"#DejaVuSans-46\"/>\r\n       <use x=\"95.410156\" xlink:href=\"#DejaVuSans-56\"/>\r\n      </g>\r\n     </g>\r\n    </g>\r\n    <g id=\"xtick_6\">\r\n     <g id=\"line2d_6\">\r\n      <g>\r\n       <use style=\"stroke:#000000;stroke-width:0.8;\" x=\"299.419052\" xlink:href=\"#me2018f5dc9\" y=\"279\"/>\r\n      </g>\r\n     </g>\r\n     <g id=\"text_6\">\r\n      <!-- 1.0 -->\r\n      <defs>\r\n       <path d=\"M 12.40625 8.296875 \r\nL 28.515625 8.296875 \r\nL 28.515625 63.921875 \r\nL 10.984375 60.40625 \r\nL 10.984375 69.390625 \r\nL 28.421875 72.90625 \r\nL 38.28125 72.90625 \r\nL 38.28125 8.296875 \r\nL 54.390625 8.296875 \r\nL 54.390625 0 \r\nL 12.40625 0 \r\nz\r\n\" id=\"DejaVuSans-49\"/>\r\n      </defs>\r\n      <g transform=\"translate(291.46749 293.598437)scale(0.1 -0.1)\">\r\n       <use xlink:href=\"#DejaVuSans-49\"/>\r\n       <use x=\"63.623047\" xlink:href=\"#DejaVuSans-46\"/>\r\n       <use x=\"95.410156\" xlink:href=\"#DejaVuSans-48\"/>\r\n      </g>\r\n     </g>\r\n    </g>\r\n   </g>\r\n   <g id=\"matplotlib.axis_2\">\r\n    <g id=\"ytick_1\">\r\n     <g id=\"line2d_7\">\r\n      <defs>\r\n       <path d=\"M 0 0 \r\nL -3.5 0 \r\n\" id=\"mbd1e9e392f\" style=\"stroke:#000000;stroke-width:0.8;\"/>\r\n      </defs>\r\n      <g>\r\n       <use style=\"stroke:#000000;stroke-width:0.8;\" x=\"30.103125\" xlink:href=\"#mbd1e9e392f\" y=\"243.02315\"/>\r\n      </g>\r\n     </g>\r\n     <g id=\"text_7\">\r\n      <!-- 5.5 -->\r\n      <defs>\r\n       <path d=\"M 10.796875 72.90625 \r\nL 49.515625 72.90625 \r\nL 49.515625 64.59375 \r\nL 19.828125 64.59375 \r\nL 19.828125 46.734375 \r\nQ 21.96875 47.46875 24.109375 47.828125 \r\nQ 26.265625 48.1875 28.421875 48.1875 \r\nQ 40.625 48.1875 47.75 41.5 \r\nQ 54.890625 34.8125 54.890625 23.390625 \r\nQ 54.890625 11.625 47.5625 5.09375 \r\nQ 40.234375 -1.421875 26.90625 -1.421875 \r\nQ 22.3125 -1.421875 17.546875 -0.640625 \r\nQ 12.796875 0.140625 7.71875 1.703125 \r\nL 7.71875 11.625 \r\nQ 12.109375 9.234375 16.796875 8.0625 \r\nQ 21.484375 6.890625 26.703125 6.890625 \r\nQ 35.15625 6.890625 40.078125 11.328125 \r\nQ 45.015625 15.765625 45.015625 23.390625 \r\nQ 45.015625 31 40.078125 35.4375 \r\nQ 35.15625 39.890625 26.703125 39.890625 \r\nQ 22.75 39.890625 18.8125 39.015625 \r\nQ 14.890625 38.140625 10.796875 36.28125 \r\nz\r\n\" id=\"DejaVuSans-53\"/>\r\n      </defs>\r\n      <g transform=\"translate(7.2 246.822369)scale(0.1 -0.1)\">\r\n       <use xlink:href=\"#DejaVuSans-53\"/>\r\n       <use x=\"63.623047\" xlink:href=\"#DejaVuSans-46\"/>\r\n       <use x=\"95.410156\" xlink:href=\"#DejaVuSans-53\"/>\r\n      </g>\r\n     </g>\r\n    </g>\r\n    <g id=\"ytick_2\">\r\n     <g id=\"line2d_8\">\r\n      <g>\r\n       <use style=\"stroke:#000000;stroke-width:0.8;\" x=\"30.103125\" xlink:href=\"#mbd1e9e392f\" y=\"191.827382\"/>\r\n      </g>\r\n     </g>\r\n     <g id=\"text_8\">\r\n      <!-- 6.0 -->\r\n      <g transform=\"translate(7.2 195.6266)scale(0.1 -0.1)\">\r\n       <use xlink:href=\"#DejaVuSans-54\"/>\r\n       <use x=\"63.623047\" xlink:href=\"#DejaVuSans-46\"/>\r\n       <use x=\"95.410156\" xlink:href=\"#DejaVuSans-48\"/>\r\n      </g>\r\n     </g>\r\n    </g>\r\n    <g id=\"ytick_3\">\r\n     <g id=\"line2d_9\">\r\n      <g>\r\n       <use style=\"stroke:#000000;stroke-width:0.8;\" x=\"30.103125\" xlink:href=\"#mbd1e9e392f\" y=\"140.631613\"/>\r\n      </g>\r\n     </g>\r\n     <g id=\"text_9\">\r\n      <!-- 6.5 -->\r\n      <g transform=\"translate(7.2 144.430832)scale(0.1 -0.1)\">\r\n       <use xlink:href=\"#DejaVuSans-54\"/>\r\n       <use x=\"63.623047\" xlink:href=\"#DejaVuSans-46\"/>\r\n       <use x=\"95.410156\" xlink:href=\"#DejaVuSans-53\"/>\r\n      </g>\r\n     </g>\r\n    </g>\r\n    <g id=\"ytick_4\">\r\n     <g id=\"line2d_10\">\r\n      <g>\r\n       <use style=\"stroke:#000000;stroke-width:0.8;\" x=\"30.103125\" xlink:href=\"#mbd1e9e392f\" y=\"89.435844\"/>\r\n      </g>\r\n     </g>\r\n     <g id=\"text_10\">\r\n      <!-- 7.0 -->\r\n      <defs>\r\n       <path d=\"M 8.203125 72.90625 \r\nL 55.078125 72.90625 \r\nL 55.078125 68.703125 \r\nL 28.609375 0 \r\nL 18.3125 0 \r\nL 43.21875 64.59375 \r\nL 8.203125 64.59375 \r\nz\r\n\" id=\"DejaVuSans-55\"/>\r\n      </defs>\r\n      <g transform=\"translate(7.2 93.235063)scale(0.1 -0.1)\">\r\n       <use xlink:href=\"#DejaVuSans-55\"/>\r\n       <use x=\"63.623047\" xlink:href=\"#DejaVuSans-46\"/>\r\n       <use x=\"95.410156\" xlink:href=\"#DejaVuSans-48\"/>\r\n      </g>\r\n     </g>\r\n    </g>\r\n    <g id=\"ytick_5\">\r\n     <g id=\"line2d_11\">\r\n      <g>\r\n       <use style=\"stroke:#000000;stroke-width:0.8;\" x=\"30.103125\" xlink:href=\"#mbd1e9e392f\" y=\"38.240076\"/>\r\n      </g>\r\n     </g>\r\n     <g id=\"text_11\">\r\n      <!-- 7.5 -->\r\n      <g transform=\"translate(7.2 42.039295)scale(0.1 -0.1)\">\r\n       <use xlink:href=\"#DejaVuSans-55\"/>\r\n       <use x=\"63.623047\" xlink:href=\"#DejaVuSans-46\"/>\r\n       <use x=\"95.410156\" xlink:href=\"#DejaVuSans-53\"/>\r\n      </g>\r\n     </g>\r\n    </g>\r\n   </g>\r\n   <g id=\"line2d_12\">\r\n    <path clip-path=\"url(#p30da47ca3b)\" d=\"M 42.784943 245.477023 \r\nL 296.421307 32.143922 \r\n\" style=\"fill:none;stroke:#ff0000;stroke-linecap:square;stroke-width:1.5;\"/>\r\n   </g>\r\n   <g id=\"patch_3\">\r\n    <path d=\"M 30.103125 279 \r\nL 30.103125 7.2 \r\n\" style=\"fill:none;stroke:#000000;stroke-linecap:square;stroke-linejoin:miter;stroke-width:0.8;\"/>\r\n   </g>\r\n   <g id=\"patch_4\">\r\n    <path d=\"M 309.103125 279 \r\nL 309.103125 7.2 \r\n\" style=\"fill:none;stroke:#000000;stroke-linecap:square;stroke-linejoin:miter;stroke-width:0.8;\"/>\r\n   </g>\r\n   <g id=\"patch_5\">\r\n    <path d=\"M 30.103125 279 \r\nL 309.103125 279 \r\n\" style=\"fill:none;stroke:#000000;stroke-linecap:square;stroke-linejoin:miter;stroke-width:0.8;\"/>\r\n   </g>\r\n   <g id=\"patch_6\">\r\n    <path d=\"M 30.103125 7.2 \r\nL 309.103125 7.2 \r\n\" style=\"fill:none;stroke:#000000;stroke-linecap:square;stroke-linejoin:miter;stroke-width:0.8;\"/>\r\n   </g>\r\n  </g>\r\n </g>\r\n <defs>\r\n  <clipPath id=\"p30da47ca3b\">\r\n   <rect height=\"271.8\" width=\"279\" x=\"30.103125\" y=\"7.2\"/>\r\n  </clipPath>\r\n </defs>\r\n</svg>\r\n",
      "image/png": "[encoded data removed]"
     },
     "metadata": {
      "needs_background": "light"
     }
    }
   ],
   "source": [
    "c = np.random.randint(0, 50, 100)\n",
    "plt.figure(figsize=(5, 5))\n",
    "plt.scatter(x.data, y.data, c=c)\n",
    "plt.plot([x.data.min(), x.data.max()], [(x.data.min() * W.data + b.data).reshape(-1), (x.data.max() * W.data + b.data).reshape(-1)], c='red')\n",
    "plt.show()"
   ]
  },
  {
   "source": [
    "#### 현재의 mean_squared_error 함수의 경우 diff, diff ** 2, F.sum(diff ** 2). 이렇게 총 3개의 변수가 추가되는데 이 변수들 모두 메모리를 할당하게 됨\n",
    "이 메모리 문제를 해결하기 위해 클래스를 구현함"
   ],
   "cell_type": "markdown",
   "metadata": {}
  },
  {
   "source": [
    "# myPackage/functions.py\n",
    "class MeanSquaredError(Function):\n",
    "    def forward(self, x0, x1):\n",
    "        diff = x0 - x1\n",
    "        y = (diff ** 2).sum() / len(diff)\n",
    "        return y\n",
    "\n",
    "    def backward(self, gy):\n",
    "        x0, x1 = self.inputs\n",
    "        diff = x0 - x1\n",
    "        gx0 = gy * diff * (2. / len(diff))\n",
    "        gx1 = -gx0\n",
    "        return gx0, gx1\n",
    "\n",
    "def mean_squared_error(x0, x1):\n",
    "    return MeanSqauredError()(x0, x1)"
   ],
   "cell_type": "code",
   "metadata": {},
   "execution_count": null,
   "outputs": []
  },
  {
   "source": [
    "#### 위와 같이 function을 설정하되 return 값에 class 객체를 호출하면 중간 과정에 대한 메모리 할당 문제가 해결되어 메모리를 덜 사용하게 된다.\n",
    "정확하게 이야기하면 중간 데이터들은 MeanSquaredError 클래스의 forward 메서드에서만 사용되고 이 변수들은 ndarray 인스턴스로 사용되며 forward 메서드의 범위를 벗어나는 순간 메모리에서 삭제됨"
   ],
   "cell_type": "markdown",
   "metadata": {}
  },
  {
   "source": [
    "## 신경망"
   ],
   "cell_type": "markdown",
   "metadata": {}
  },
  {
   "source": [
    "### linear 함수"
   ],
   "cell_type": "markdown",
   "metadata": {}
  },
  {
   "cell_type": "code",
   "execution_count": 45,
   "metadata": {},
   "outputs": [],
   "source": [
    "def linear_simple(x, W, b=None):\n",
    "    t = matmul(x, W)\n",
    "    if b is None:\n",
    "        return t\n",
    "\n",
    "    y = t + b\n",
    "    t.data = None\n",
    "    return y"
   ]
  },
  {
   "source": [
    "### 비선형 데이터셋"
   ],
   "cell_type": "markdown",
   "metadata": {}
  },
  {
   "cell_type": "code",
   "execution_count": 46,
   "metadata": {},
   "outputs": [],
   "source": [
    "np.random.seed(0)\n",
    "x = np.random.rand(100, 1)\n",
    "y = np.sin(2 * np.pi * x) + np.random.rand(100, 1)"
   ]
  },
  {
   "cell_type": "code",
   "execution_count": 48,
   "metadata": {},
   "outputs": [
    {
     "output_type": "display_data",
     "data": {
      "text/plain": "<Figure size 360x360 with 1 Axes>",
      "image/svg+xml": "<?xml version=\"1.0\" encoding=\"utf-8\" standalone=\"no\"?>\r\n<!DOCTYPE svg PUBLIC \"-//W3C//DTD SVG 1.1//EN\"\r\n  \"http://www.w3.org/Graphics/SVG/1.1/DTD/svg11.dtd\">\r\n<!-- Created with matplotlib (https://matplotlib.org/) -->\r\n<svg height=\"302.878125pt\" version=\"1.1\" viewBox=\"0 0 324.682812 302.878125\" width=\"324.682812pt\" xmlns=\"http://www.w3.org/2000/svg\" xmlns:xlink=\"http://www.w3.org/1999/xlink\">\r\n <defs>\r\n  <style type=\"text/css\">\r\n*{stroke-linecap:butt;stroke-linejoin:round;}\r\n  </style>\r\n </defs>\r\n <g id=\"figure_1\">\r\n  <g id=\"patch_1\">\r\n   <path d=\"M 0 302.878125 \r\nL 324.682812 302.878125 \r\nL 324.682812 0 \r\nL 0 0 \r\nz\r\n\" style=\"fill:none;\"/>\r\n  </g>\r\n  <g id=\"axes_1\">\r\n   <g id=\"patch_2\">\r\n    <path d=\"M 38.482813 279 \r\nL 317.482813 279 \r\nL 317.482813 7.2 \r\nL 38.482813 7.2 \r\nz\r\n\" style=\"fill:#ffffff;\"/>\r\n   </g>\r\n   <g id=\"PathCollection_1\">\r\n    <defs>\r\n     <path d=\"M 0 3 \r\nC 0.795609 3 1.55874 2.683901 2.12132 2.12132 \r\nC 2.683901 1.55874 3 0.795609 3 0 \r\nC 3 -0.795609 2.683901 -1.55874 2.12132 -2.12132 \r\nC 1.55874 -2.683901 0.795609 -3 0 -3 \r\nC -0.795609 -3 -1.55874 -2.683901 -2.12132 -2.12132 \r\nC -2.683901 -1.55874 -3 -0.795609 -3 0 \r\nC -3 0.795609 -2.683901 1.55874 -2.12132 2.12132 \r\nC -1.55874 2.683901 -0.795609 3 0 3 \r\nz\r\n\" id=\"C0_0_ec05d4c79f\"/>\r\n    </defs>\r\n    <g clip-path=\"url(#p57c8c95a6f)\">\r\n     <use style=\"fill:#472c7a;stroke:#472c7a;\" x=\"191.462642\" xlink:href=\"#C0_0_ec05d4c79f\" y=\"155.299476\"/>\r\n    </g>\r\n    <g clip-path=\"url(#p57c8c95a6f)\">\r\n     <use style=\"fill:#46327e;stroke:#46327e;\" x=\"234.361795\" xlink:href=\"#C0_0_ec05d4c79f\" y=\"250.442976\"/>\r\n    </g>\r\n    <g clip-path=\"url(#p57c8c95a6f)\">\r\n     <use style=\"fill:#2d718e;stroke:#2d718e;\" x=\"205.373337\" xlink:href=\"#C0_0_ec05d4c79f\" y=\"176.617261\"/>\r\n    </g>\r\n    <g clip-path=\"url(#p57c8c95a6f)\">\r\n     <use style=\"fill:#1fa187;stroke:#1fa187;\" x=\"190.449229\" xlink:href=\"#C0_0_ec05d4c79f\" y=\"128.217393\"/>\r\n    </g>\r\n    <g clip-path=\"url(#p57c8c95a6f)\">\r\n     <use style=\"fill:#addc30;stroke:#addc30;\" x=\"159.191119\" xlink:href=\"#C0_0_ec05d4c79f\" y=\"125.899981\"/>\r\n    </g>\r\n    <g clip-path=\"url(#p57c8c95a6f)\">\r\n     <use style=\"fill:#2b758e;stroke:#2b758e;\" x=\"216.494374\" xlink:href=\"#C0_0_ec05d4c79f\" y=\"207.469287\"/>\r\n    </g>\r\n    <g clip-path=\"url(#p57c8c95a6f)\">\r\n     <use style=\"fill:#fde725;stroke:#fde725;\" x=\"162.783519\" xlink:href=\"#C0_0_ec05d4c79f\" y=\"102.690529\"/>\r\n    </g>\r\n    <g clip-path=\"url(#p57c8c95a6f)\">\r\n     <use style=\"fill:#93d741;stroke:#93d741;\" x=\"279.892969\" xlink:href=\"#C0_0_ec05d4c79f\" y=\"193.323548\"/>\r\n    </g>\r\n    <g clip-path=\"url(#p57c8c95a6f)\">\r\n     <use style=\"fill:#21a685;stroke:#21a685;\" x=\"298.429371\" xlink:href=\"#C0_0_ec05d4c79f\" y=\"188.637397\"/>\r\n    </g>\r\n    <g clip-path=\"url(#p57c8c95a6f)\">\r\n     <use style=\"fill:#d8e219;stroke:#d8e219;\" x=\"148.822333\" xlink:href=\"#C0_0_ec05d4c79f\" y=\"45.787691\"/>\r\n    </g>\r\n    <g clip-path=\"url(#p57c8c95a6f)\">\r\n     <use style=\"fill:#277f8e;stroke:#277f8e;\" x=\"254.096121\" xlink:href=\"#C0_0_ec05d4c79f\" y=\"233.959867\"/>\r\n    </g>\r\n    <g clip-path=\"url(#p57c8c95a6f)\">\r\n     <use style=\"fill:#423f85;stroke:#423f85;\" x=\"186.326738\" xlink:href=\"#C0_0_ec05d4c79f\" y=\"129.804496\"/>\r\n    </g>\r\n    <g clip-path=\"url(#p57c8c95a6f)\">\r\n     <use style=\"fill:#20928c;stroke:#20928c;\" x=\"196.42127\" xlink:href=\"#C0_0_ec05d4c79f\" y=\"163.305225\"/>\r\n    </g>\r\n    <g clip-path=\"url(#p57c8c95a6f)\">\r\n     <use style=\"fill:#31b57b;stroke:#31b57b;\" x=\"288.614219\" xlink:href=\"#C0_0_ec05d4c79f\" y=\"201.822727\"/>\r\n    </g>\r\n    <g clip-path=\"url(#p57c8c95a6f)\">\r\n     <use style=\"fill:#1e9d89;stroke:#1e9d89;\" x=\"68.270206\" xlink:href=\"#C0_0_ec05d4c79f\" y=\"78.841106\"/>\r\n    </g>\r\n    <g clip-path=\"url(#p57c8c95a6f)\">\r\n     <use style=\"fill:#423f85;stroke:#423f85;\" x=\"72.419765\" xlink:href=\"#C0_0_ec05d4c79f\" y=\"107.720177\"/>\r\n    </g>\r\n    <g clip-path=\"url(#p57c8c95a6f)\">\r\n     <use style=\"fill:#1fa187;stroke:#1fa187;\" x=\"55.167135\" xlink:href=\"#C0_0_ec05d4c79f\" y=\"99.738036\"/>\r\n    </g>\r\n    <g clip-path=\"url(#p57c8c95a6f)\">\r\n     <use style=\"fill:#addc30;stroke:#addc30;\" x=\"264.640635\" xlink:href=\"#C0_0_ec05d4c79f\" y=\"213.58526\"/>\r\n    </g>\r\n    <g clip-path=\"url(#p57c8c95a6f)\">\r\n     <use style=\"fill:#2f6b8e;stroke:#2f6b8e;\" x=\"250.597609\" xlink:href=\"#C0_0_ec05d4c79f\" y=\"197.377628\"/>\r\n    </g>\r\n    <g clip-path=\"url(#p57c8c95a6f)\">\r\n     <use style=\"fill:#93d741;stroke:#93d741;\" x=\"274.282046\" xlink:href=\"#C0_0_ec05d4c79f\" y=\"191.550546\"/>\r\n    </g>\r\n    <g clip-path=\"url(#p57c8c95a6f)\">\r\n     <use style=\"fill:#440154;stroke:#440154;\" x=\"302.28559\" xlink:href=\"#C0_0_ec05d4c79f\" y=\"136.358547\"/>\r\n    </g>\r\n    <g clip-path=\"url(#p57c8c95a6f)\">\r\n     <use style=\"fill:#25838e;stroke:#25838e;\" x=\"256.012817\" xlink:href=\"#C0_0_ec05d4c79f\" y=\"228.037687\"/>\r\n    </g>\r\n    <g clip-path=\"url(#p57c8c95a6f)\">\r\n     <use style=\"fill:#31668e;stroke:#31668e;\" x=\"168.943987\" xlink:href=\"#C0_0_ec05d4c79f\" y=\"83.210971\"/>\r\n    </g>\r\n    <g clip-path=\"url(#p57c8c95a6f)\">\r\n     <use style=\"fill:#a0da39;stroke:#a0da39;\" x=\"251.209326\" xlink:href=\"#C0_0_ec05d4c79f\" y=\"218.041722\"/>\r\n    </g>\r\n    <g clip-path=\"url(#p57c8c95a6f)\">\r\n     <use style=\"fill:#56c667;stroke:#56c667;\" x=\"80.450374\" xlink:href=\"#C0_0_ec05d4c79f\" y=\"91.59059\"/>\r\n    </g>\r\n    <g clip-path=\"url(#p57c8c95a6f)\">\r\n     <use style=\"fill:#25ab82;stroke:#25ab82;\" x=\"214.954243\" xlink:href=\"#C0_0_ec05d4c79f\" y=\"202.754184\"/>\r\n    </g>\r\n    <g clip-path=\"url(#p57c8c95a6f)\">\r\n     <use style=\"fill:#218e8d;stroke:#218e8d;\" x=\"86.916828\" xlink:href=\"#C0_0_ec05d4c79f\" y=\"117.748537\"/>\r\n    </g>\r\n    <g clip-path=\"url(#p57c8c95a6f)\">\r\n     <use style=\"fill:#481769;stroke:#481769;\" x=\"293.531907\" xlink:href=\"#C0_0_ec05d4c79f\" y=\"191.791015\"/>\r\n    </g>\r\n    <g clip-path=\"url(#p57c8c95a6f)\">\r\n     <use style=\"fill:#453882;stroke:#453882;\" x=\"184.50981\" xlink:href=\"#C0_0_ec05d4c79f\" y=\"142.336385\"/>\r\n    </g>\r\n    <g clip-path=\"url(#p57c8c95a6f)\">\r\n     <use style=\"fill:#1e9d89;stroke:#1e9d89;\" x=\"156.872357\" xlink:href=\"#C0_0_ec05d4c79f\" y=\"117.926006\"/>\r\n    </g>\r\n    <g clip-path=\"url(#p57c8c95a6f)\">\r\n     <use style=\"fill:#21a685;stroke:#21a685;\" x=\"118.168219\" xlink:href=\"#C0_0_ec05d4c79f\" y=\"46.450492\"/>\r\n    </g>\r\n    <g clip-path=\"url(#p57c8c95a6f)\">\r\n     <use style=\"fill:#d8e219;stroke:#d8e219;\" x=\"249.586068\" xlink:href=\"#C0_0_ec05d4c79f\" y=\"237.561027\"/>\r\n    </g>\r\n    <g clip-path=\"url(#p57c8c95a6f)\">\r\n     <use style=\"fill:#23898e;stroke:#23898e;\" x=\"167.569924\" xlink:href=\"#C0_0_ec05d4c79f\" y=\"152.519291\"/>\r\n    </g>\r\n    <g clip-path=\"url(#p57c8c95a6f)\">\r\n     <use style=\"fill:#31b57b;stroke:#31b57b;\" x=\"196.521672\" xlink:href=\"#C0_0_ec05d4c79f\" y=\"198.777179\"/>\r\n    </g>\r\n    <g clip-path=\"url(#p57c8c95a6f)\">\r\n     <use style=\"fill:#2b758e;stroke:#2b758e;\" x=\"54.798779\" xlink:href=\"#C0_0_ec05d4c79f\" y=\"127.879022\"/>\r\n    </g>\r\n    <g clip-path=\"url(#p57c8c95a6f)\">\r\n     <use style=\"fill:#453882;stroke:#453882;\" x=\"209.208036\" xlink:href=\"#C0_0_ec05d4c79f\" y=\"195.629018\"/>\r\n    </g>\r\n    <g clip-path=\"url(#p57c8c95a6f)\">\r\n     <use style=\"fill:#46327e;stroke:#46327e;\" x=\"207.779634\" xlink:href=\"#C0_0_ec05d4c79f\" y=\"194.786668\"/>\r\n    </g>\r\n    <g clip-path=\"url(#p57c8c95a6f)\">\r\n     <use style=\"fill:#23898e;stroke:#23898e;\" x=\"209.027158\" xlink:href=\"#C0_0_ec05d4c79f\" y=\"189.861659\"/>\r\n    </g>\r\n    <g clip-path=\"url(#p57c8c95a6f)\">\r\n     <use style=\"fill:#39558c;stroke:#39558c;\" x=\"293.294474\" xlink:href=\"#C0_0_ec05d4c79f\" y=\"161.447666\"/>\r\n    </g>\r\n    <g clip-path=\"url(#p57c8c95a6f)\">\r\n     <use style=\"fill:#2f6b8e;stroke:#2f6b8e;\" x=\"225.757754\" xlink:href=\"#C0_0_ec05d4c79f\" y=\"230.399996\"/>\r\n    </g>\r\n    <g clip-path=\"url(#p57c8c95a6f)\">\r\n     <use style=\"fill:#440154;stroke:#440154;\" x=\"142.651174\" xlink:href=\"#C0_0_ec05d4c79f\" y=\"41.597699\"/>\r\n    </g>\r\n    <g clip-path=\"url(#p57c8c95a6f)\">\r\n     <use style=\"fill:#3e4a89;stroke:#3e4a89;\" x=\"162.640349\" xlink:href=\"#C0_0_ec05d4c79f\" y=\"122.145264\"/>\r\n    </g>\r\n    <g clip-path=\"url(#p57c8c95a6f)\">\r\n     <use style=\"fill:#1fa187;stroke:#1fa187;\" x=\"229.834512\" xlink:href=\"#C0_0_ec05d4c79f\" y=\"233.237249\"/>\r\n    </g>\r\n    <g clip-path=\"url(#p57c8c95a6f)\">\r\n     <use style=\"fill:#56c667;stroke:#56c667;\" x=\"65.482752\" xlink:href=\"#C0_0_ec05d4c79f\" y=\"77.442486\"/>\r\n    </g>\r\n    <g clip-path=\"url(#p57c8c95a6f)\">\r\n     <use style=\"fill:#20928c;stroke:#20928c;\" x=\"221.876266\" xlink:href=\"#C0_0_ec05d4c79f\" y=\"193.639774\"/>\r\n    </g>\r\n    <g clip-path=\"url(#p57c8c95a6f)\">\r\n     <use style=\"fill:#31b57b;stroke:#31b57b;\" x=\"222.874423\" xlink:href=\"#C0_0_ec05d4c79f\" y=\"203.680786\"/>\r\n    </g>\r\n    <g clip-path=\"url(#p57c8c95a6f)\">\r\n     <use style=\"fill:#a0da39;stroke:#a0da39;\" x=\"104.199979\" xlink:href=\"#C0_0_ec05d4c79f\" y=\"94.321051\"/>\r\n    </g>\r\n    <g clip-path=\"url(#p57c8c95a6f)\">\r\n     <use style=\"fill:#365c8d;stroke:#365c8d;\" x=\"83.196904\" xlink:href=\"#C0_0_ec05d4c79f\" y=\"43.814398\"/>\r\n    </g>\r\n    <g clip-path=\"url(#p57c8c95a6f)\">\r\n     <use style=\"fill:#25838e;stroke:#25838e;\" x=\"131.285491\" xlink:href=\"#C0_0_ec05d4c79f\" y=\"44.948034\"/>\r\n    </g>\r\n    <g clip-path=\"url(#p57c8c95a6f)\">\r\n     <use style=\"fill:#1fa187;stroke:#1fa187;\" x=\"143.734862\" xlink:href=\"#C0_0_ec05d4c79f\" y=\"34.100697\"/>\r\n    </g>\r\n    <g clip-path=\"url(#p57c8c95a6f)\">\r\n     <use style=\"fill:#297a8e;stroke:#297a8e;\" x=\"196.976206\" xlink:href=\"#C0_0_ec05d4c79f\" y=\"212.746785\"/>\r\n    </g>\r\n    <g clip-path=\"url(#p57c8c95a6f)\">\r\n     <use style=\"fill:#2d718e;stroke:#2d718e;\" x=\"163.045052\" xlink:href=\"#C0_0_ec05d4c79f\" y=\"78.93361\"/>\r\n    </g>\r\n    <g clip-path=\"url(#p57c8c95a6f)\">\r\n     <use style=\"fill:#481d6f;stroke:#481d6f;\" x=\"304.800994\" xlink:href=\"#C0_0_ec05d4c79f\" y=\"180.481041\"/>\r\n    </g>\r\n    <g clip-path=\"url(#p57c8c95a6f)\">\r\n     <use style=\"fill:#25838e;stroke:#25838e;\" x=\"76.265652\" xlink:href=\"#C0_0_ec05d4c79f\" y=\"81.634394\"/>\r\n    </g>\r\n    <g clip-path=\"url(#p57c8c95a6f)\">\r\n     <use style=\"fill:#4ac16d;stroke:#4ac16d;\" x=\"103.811715\" xlink:href=\"#C0_0_ec05d4c79f\" y=\"92.455326\"/>\r\n    </g>\r\n    <g clip-path=\"url(#p57c8c95a6f)\">\r\n     <use style=\"fill:#2b758e;stroke:#2b758e;\" x=\"91.546749\" xlink:href=\"#C0_0_ec05d4c79f\" y=\"39.163049\"/>\r\n    </g>\r\n    <g clip-path=\"url(#p57c8c95a6f)\">\r\n     <use style=\"fill:#46327e;stroke:#46327e;\" x=\"218.354521\" xlink:href=\"#C0_0_ec05d4c79f\" y=\"189.496362\"/>\r\n    </g>\r\n    <g clip-path=\"url(#p57c8c95a6f)\">\r\n     <use style=\"fill:#453882;stroke:#453882;\" x=\"115.263852\" xlink:href=\"#C0_0_ec05d4c79f\" y=\"50.402787\"/>\r\n    </g>\r\n    <g clip-path=\"url(#p57c8c95a6f)\">\r\n     <use style=\"fill:#39558c;stroke:#39558c;\" x=\"170.189741\" xlink:href=\"#C0_0_ec05d4c79f\" y=\"134.075186\"/>\r\n    </g>\r\n    <g clip-path=\"url(#p57c8c95a6f)\">\r\n     <use style=\"fill:#482576;stroke:#482576;\" x=\"112.977798\" xlink:href=\"#C0_0_ec05d4c79f\" y=\"94.395908\"/>\r\n    </g>\r\n    <g clip-path=\"url(#p57c8c95a6f)\">\r\n     <use style=\"fill:#440154;stroke:#440154;\" x=\"90.943409\" xlink:href=\"#C0_0_ec05d4c79f\" y=\"53.094864\"/>\r\n    </g>\r\n    <g clip-path=\"url(#p57c8c95a6f)\">\r\n     <use style=\"fill:#453882;stroke:#453882;\" x=\"78.413584\" xlink:href=\"#C0_0_ec05d4c79f\" y=\"92.265651\"/>\r\n    </g>\r\n    <g clip-path=\"url(#p57c8c95a6f)\">\r\n     <use style=\"fill:#34618d;stroke:#34618d;\" x=\"219.185107\" xlink:href=\"#C0_0_ec05d4c79f\" y=\"197.996253\"/>\r\n    </g>\r\n    <g clip-path=\"url(#p57c8c95a6f)\">\r\n     <use style=\"fill:#34618d;stroke:#34618d;\" x=\"85.583684\" xlink:href=\"#C0_0_ec05d4c79f\" y=\"45.067227\"/>\r\n    </g>\r\n    <g clip-path=\"url(#p57c8c95a6f)\">\r\n     <use style=\"fill:#3e4a89;stroke:#3e4a89;\" x=\"100.641669\" xlink:href=\"#C0_0_ec05d4c79f\" y=\"19.554545\"/>\r\n    </g>\r\n    <g clip-path=\"url(#p57c8c95a6f)\">\r\n     <use style=\"fill:#481d6f;stroke:#481d6f;\" x=\"145.027799\" xlink:href=\"#C0_0_ec05d4c79f\" y=\"48.525984\"/>\r\n    </g>\r\n    <g clip-path=\"url(#p57c8c95a6f)\">\r\n     <use style=\"fill:#77d153;stroke:#77d153;\" x=\"261.642773\" xlink:href=\"#C0_0_ec05d4c79f\" y=\"266.645455\"/>\r\n    </g>\r\n    <g clip-path=\"url(#p57c8c95a6f)\">\r\n     <use style=\"fill:#1fa187;stroke:#1fa187;\" x=\"74.990987\" xlink:href=\"#C0_0_ec05d4c79f\" y=\"106.320817\"/>\r\n    </g>\r\n    <g clip-path=\"url(#p57c8c95a6f)\">\r\n     <use style=\"fill:#cae11f;stroke:#cae11f;\" x=\"266.013675\" xlink:href=\"#C0_0_ec05d4c79f\" y=\"199.006887\"/>\r\n    </g>\r\n    <g clip-path=\"url(#p57c8c95a6f)\">\r\n     <use style=\"fill:#1f978b;stroke:#1f978b;\" x=\"74.732403\" xlink:href=\"#C0_0_ec05d4c79f\" y=\"123.336937\"/>\r\n    </g>\r\n    <g clip-path=\"url(#p57c8c95a6f)\">\r\n     <use style=\"fill:#404588;stroke:#404588;\" x=\"301.728935\" xlink:href=\"#C0_0_ec05d4c79f\" y=\"155.495765\"/>\r\n    </g>\r\n    <g clip-path=\"url(#p57c8c95a6f)\">\r\n     <use style=\"fill:#d8e219;stroke:#d8e219;\" x=\"170.793208\" xlink:href=\"#C0_0_ec05d4c79f\" y=\"166.366143\"/>\r\n    </g>\r\n    <g clip-path=\"url(#p57c8c95a6f)\">\r\n     <use style=\"fill:#fde725;stroke:#fde725;\" x=\"301.806707\" xlink:href=\"#C0_0_ec05d4c79f\" y=\"183.559223\"/>\r\n    </g>\r\n    <g clip-path=\"url(#p57c8c95a6f)\">\r\n     <use style=\"fill:#1e9d89;stroke:#1e9d89;\" x=\"205.910207\" xlink:href=\"#C0_0_ec05d4c79f\" y=\"240.546753\"/>\r\n    </g>\r\n    <g clip-path=\"url(#p57c8c95a6f)\">\r\n     <use style=\"fill:#4ac16d;stroke:#4ac16d;\" x=\"240.569206\" xlink:href=\"#C0_0_ec05d4c79f\" y=\"206.291002\"/>\r\n    </g>\r\n    <g clip-path=\"url(#p57c8c95a6f)\">\r\n     <use style=\"fill:#93d741;stroke:#93d741;\" x=\"60.058295\" xlink:href=\"#C0_0_ec05d4c79f\" y=\"147.230333\"/>\r\n    </g>\r\n    <g clip-path=\"url(#p57c8c95a6f)\">\r\n     <use style=\"fill:#2d718e;stroke:#2d718e;\" x=\"122.874235\" xlink:href=\"#C0_0_ec05d4c79f\" y=\"71.91915\"/>\r\n    </g>\r\n    <g clip-path=\"url(#p57c8c95a6f)\">\r\n     <use style=\"fill:#40bd72;stroke:#40bd72;\" x=\"80.945986\" xlink:href=\"#C0_0_ec05d4c79f\" y=\"46.477583\"/>\r\n    </g>\r\n    <g clip-path=\"url(#p57c8c95a6f)\">\r\n     <use style=\"fill:#25ab82;stroke:#25ab82;\" x=\"126.31214\" xlink:href=\"#C0_0_ec05d4c79f\" y=\"42.155361\"/>\r\n    </g>\r\n    <g clip-path=\"url(#p57c8c95a6f)\">\r\n     <use style=\"fill:#addc30;stroke:#addc30;\" x=\"80.567253\" xlink:href=\"#C0_0_ec05d4c79f\" y=\"125.875483\"/>\r\n    </g>\r\n    <g clip-path=\"url(#p57c8c95a6f)\">\r\n     <use style=\"fill:#2d718e;stroke:#2d718e;\" x=\"131.94424\" xlink:href=\"#C0_0_ec05d4c79f\" y=\"93.842822\"/>\r\n    </g>\r\n    <g clip-path=\"url(#p57c8c95a6f)\">\r\n     <use style=\"fill:#cae11f;stroke:#cae11f;\" x=\"156.769491\" xlink:href=\"#C0_0_ec05d4c79f\" y=\"88.597384\"/>\r\n    </g>\r\n    <g clip-path=\"url(#p57c8c95a6f)\">\r\n     <use style=\"fill:#23898e;stroke:#23898e;\" x=\"66.494026\" xlink:href=\"#C0_0_ec05d4c79f\" y=\"103.109429\"/>\r\n    </g>\r\n    <g clip-path=\"url(#p57c8c95a6f)\">\r\n     <use style=\"fill:#46085c;stroke:#46085c;\" x=\"228.504271\" xlink:href=\"#C0_0_ec05d4c79f\" y=\"249.679907\"/>\r\n    </g>\r\n    <g clip-path=\"url(#p57c8c95a6f)\">\r\n     <use style=\"fill:#472c7a;stroke:#472c7a;\" x=\"196.049173\" xlink:href=\"#C0_0_ec05d4c79f\" y=\"141.938559\"/>\r\n    </g>\r\n    <g clip-path=\"url(#p57c8c95a6f)\">\r\n     <use style=\"fill:#a0da39;stroke:#a0da39;\" x=\"118.38323\" xlink:href=\"#C0_0_ec05d4c79f\" y=\"46.849829\"/>\r\n    </g>\r\n    <g clip-path=\"url(#p57c8c95a6f)\">\r\n     <use style=\"fill:#f1e51d;stroke:#f1e51d;\" x=\"184.870723\" xlink:href=\"#C0_0_ec05d4c79f\" y=\"154.052512\"/>\r\n    </g>\r\n    <g clip-path=\"url(#p57c8c95a6f)\">\r\n     <use style=\"fill:#25ab82;stroke:#25ab82;\" x=\"74.176\" xlink:href=\"#C0_0_ec05d4c79f\" y=\"87.544461\"/>\r\n    </g>\r\n    <g clip-path=\"url(#p57c8c95a6f)\">\r\n     <use style=\"fill:#31668e;stroke:#31668e;\" x=\"198.458743\" xlink:href=\"#C0_0_ec05d4c79f\" y=\"164.536926\"/>\r\n    </g>\r\n    <g clip-path=\"url(#p57c8c95a6f)\">\r\n     <use style=\"fill:#1f978b;stroke:#1f978b;\" x=\"289.568131\" xlink:href=\"#C0_0_ec05d4c79f\" y=\"198.711953\"/>\r\n    </g>\r\n    <g clip-path=\"url(#p57c8c95a6f)\">\r\n     <use style=\"fill:#4ac16d;stroke:#4ac16d;\" x=\"132.095279\" xlink:href=\"#C0_0_ec05d4c79f\" y=\"73.443962\"/>\r\n    </g>\r\n    <g clip-path=\"url(#p57c8c95a6f)\">\r\n     <use style=\"fill:#fde725;stroke:#fde725;\" x=\"222.042231\" xlink:href=\"#C0_0_ec05d4c79f\" y=\"246.252431\"/>\r\n    </g>\r\n    <g clip-path=\"url(#p57c8c95a6f)\">\r\n     <use style=\"fill:#a0da39;stroke:#a0da39;\" x=\"83.937322\" xlink:href=\"#C0_0_ec05d4c79f\" y=\"107.207482\"/>\r\n    </g>\r\n    <g clip-path=\"url(#p57c8c95a6f)\">\r\n     <use style=\"fill:#423f85;stroke:#423f85;\" x=\"234.655181\" xlink:href=\"#C0_0_ec05d4c79f\" y=\"191.281904\"/>\r\n    </g>\r\n    <g clip-path=\"url(#p57c8c95a6f)\">\r\n     <use style=\"fill:#bade28;stroke:#bade28;\" x=\"124.575787\" xlink:href=\"#C0_0_ec05d4c79f\" y=\"38.078114\"/>\r\n    </g>\r\n    <g clip-path=\"url(#p57c8c95a6f)\">\r\n     <use style=\"fill:#39558c;stroke:#39558c;\" x=\"97.188869\" xlink:href=\"#C0_0_ec05d4c79f\" y=\"64.932461\"/>\r\n    </g>\r\n    <g clip-path=\"url(#p57c8c95a6f)\">\r\n     <use style=\"fill:#472c7a;stroke:#472c7a;\" x=\"201.183245\" xlink:href=\"#C0_0_ec05d4c79f\" y=\"213.831511\"/>\r\n    </g>\r\n    <g clip-path=\"url(#p57c8c95a6f)\">\r\n     <use style=\"fill:#6ccd5a;stroke:#6ccd5a;\" x=\"55.138553\" xlink:href=\"#C0_0_ec05d4c79f\" y=\"154.90715\"/>\r\n    </g>\r\n    <g clip-path=\"url(#p57c8c95a6f)\">\r\n     <use style=\"fill:#77d153;stroke:#77d153;\" x=\"263.691814\" xlink:href=\"#C0_0_ec05d4c79f\" y=\"260.580936\"/>\r\n    </g>\r\n    <g clip-path=\"url(#p57c8c95a6f)\">\r\n     <use style=\"fill:#453882;stroke:#453882;\" x=\"51.164631\" xlink:href=\"#C0_0_ec05d4c79f\" y=\"147.560373\"/>\r\n    </g>\r\n   </g>\r\n   <g id=\"matplotlib.axis_1\">\r\n    <g id=\"xtick_1\">\r\n     <g id=\"line2d_1\">\r\n      <defs>\r\n       <path d=\"M 0 0 \r\nL 0 3.5 \r\n\" id=\"m7a2dc6e15d\" style=\"stroke:#000000;stroke-width:0.8;\"/>\r\n      </defs>\r\n      <g>\r\n       <use style=\"stroke:#000000;stroke-width:0.8;\" x=\"49.953926\" xlink:href=\"#m7a2dc6e15d\" y=\"279\"/>\r\n      </g>\r\n     </g>\r\n     <g id=\"text_1\">\r\n      <!-- 0.0 -->\r\n      <defs>\r\n       <path d=\"M 31.78125 66.40625 \r\nQ 24.171875 66.40625 20.328125 58.90625 \r\nQ 16.5 51.421875 16.5 36.375 \r\nQ 16.5 21.390625 20.328125 13.890625 \r\nQ 24.171875 6.390625 31.78125 6.390625 \r\nQ 39.453125 6.390625 43.28125 13.890625 \r\nQ 47.125 21.390625 47.125 36.375 \r\nQ 47.125 51.421875 43.28125 58.90625 \r\nQ 39.453125 66.40625 31.78125 66.40625 \r\nz\r\nM 31.78125 74.21875 \r\nQ 44.046875 74.21875 50.515625 64.515625 \r\nQ 56.984375 54.828125 56.984375 36.375 \r\nQ 56.984375 17.96875 50.515625 8.265625 \r\nQ 44.046875 -1.421875 31.78125 -1.421875 \r\nQ 19.53125 -1.421875 13.0625 8.265625 \r\nQ 6.59375 17.96875 6.59375 36.375 \r\nQ 6.59375 54.828125 13.0625 64.515625 \r\nQ 19.53125 74.21875 31.78125 74.21875 \r\nz\r\n\" id=\"DejaVuSans-48\"/>\r\n       <path d=\"M 10.6875 12.40625 \r\nL 21 12.40625 \r\nL 21 0 \r\nL 10.6875 0 \r\nz\r\n\" id=\"DejaVuSans-46\"/>\r\n      </defs>\r\n      <g transform=\"translate(42.002364 293.598437)scale(0.1 -0.1)\">\r\n       <use xlink:href=\"#DejaVuSans-48\"/>\r\n       <use x=\"63.623047\" xlink:href=\"#DejaVuSans-46\"/>\r\n       <use x=\"95.410156\" xlink:href=\"#DejaVuSans-48\"/>\r\n      </g>\r\n     </g>\r\n    </g>\r\n    <g id=\"xtick_2\">\r\n     <g id=\"line2d_2\">\r\n      <g>\r\n       <use style=\"stroke:#000000;stroke-width:0.8;\" x=\"101.522889\" xlink:href=\"#m7a2dc6e15d\" y=\"279\"/>\r\n      </g>\r\n     </g>\r\n     <g id=\"text_2\">\r\n      <!-- 0.2 -->\r\n      <defs>\r\n       <path d=\"M 19.1875 8.296875 \r\nL 53.609375 8.296875 \r\nL 53.609375 0 \r\nL 7.328125 0 \r\nL 7.328125 8.296875 \r\nQ 12.9375 14.109375 22.625 23.890625 \r\nQ 32.328125 33.6875 34.8125 36.53125 \r\nQ 39.546875 41.84375 41.421875 45.53125 \r\nQ 43.3125 49.21875 43.3125 52.78125 \r\nQ 43.3125 58.59375 39.234375 62.25 \r\nQ 35.15625 65.921875 28.609375 65.921875 \r\nQ 23.96875 65.921875 18.8125 64.3125 \r\nQ 13.671875 62.703125 7.8125 59.421875 \r\nL 7.8125 69.390625 \r\nQ 13.765625 71.78125 18.9375 73 \r\nQ 24.125 74.21875 28.421875 74.21875 \r\nQ 39.75 74.21875 46.484375 68.546875 \r\nQ 53.21875 62.890625 53.21875 53.421875 \r\nQ 53.21875 48.921875 51.53125 44.890625 \r\nQ 49.859375 40.875 45.40625 35.40625 \r\nQ 44.1875 33.984375 37.640625 27.21875 \r\nQ 31.109375 20.453125 19.1875 8.296875 \r\nz\r\n\" id=\"DejaVuSans-50\"/>\r\n      </defs>\r\n      <g transform=\"translate(93.571327 293.598437)scale(0.1 -0.1)\">\r\n       <use xlink:href=\"#DejaVuSans-48\"/>\r\n       <use x=\"63.623047\" xlink:href=\"#DejaVuSans-46\"/>\r\n       <use x=\"95.410156\" xlink:href=\"#DejaVuSans-50\"/>\r\n      </g>\r\n     </g>\r\n    </g>\r\n    <g id=\"xtick_3\">\r\n     <g id=\"line2d_3\">\r\n      <g>\r\n       <use style=\"stroke:#000000;stroke-width:0.8;\" x=\"153.091852\" xlink:href=\"#m7a2dc6e15d\" y=\"279\"/>\r\n      </g>\r\n     </g>\r\n     <g id=\"text_3\">\r\n      <!-- 0.4 -->\r\n      <defs>\r\n       <path d=\"M 37.796875 64.3125 \r\nL 12.890625 25.390625 \r\nL 37.796875 25.390625 \r\nz\r\nM 35.203125 72.90625 \r\nL 47.609375 72.90625 \r\nL 47.609375 25.390625 \r\nL 58.015625 25.390625 \r\nL 58.015625 17.1875 \r\nL 47.609375 17.1875 \r\nL 47.609375 0 \r\nL 37.796875 0 \r\nL 37.796875 17.1875 \r\nL 4.890625 17.1875 \r\nL 4.890625 26.703125 \r\nz\r\n\" id=\"DejaVuSans-52\"/>\r\n      </defs>\r\n      <g transform=\"translate(145.140289 293.598437)scale(0.1 -0.1)\">\r\n       <use xlink:href=\"#DejaVuSans-48\"/>\r\n       <use x=\"63.623047\" xlink:href=\"#DejaVuSans-46\"/>\r\n       <use x=\"95.410156\" xlink:href=\"#DejaVuSans-52\"/>\r\n      </g>\r\n     </g>\r\n    </g>\r\n    <g id=\"xtick_4\">\r\n     <g id=\"line2d_4\">\r\n      <g>\r\n       <use style=\"stroke:#000000;stroke-width:0.8;\" x=\"204.660815\" xlink:href=\"#m7a2dc6e15d\" y=\"279\"/>\r\n      </g>\r\n     </g>\r\n     <g id=\"text_4\">\r\n      <!-- 0.6 -->\r\n      <defs>\r\n       <path d=\"M 33.015625 40.375 \r\nQ 26.375 40.375 22.484375 35.828125 \r\nQ 18.609375 31.296875 18.609375 23.390625 \r\nQ 18.609375 15.53125 22.484375 10.953125 \r\nQ 26.375 6.390625 33.015625 6.390625 \r\nQ 39.65625 6.390625 43.53125 10.953125 \r\nQ 47.40625 15.53125 47.40625 23.390625 \r\nQ 47.40625 31.296875 43.53125 35.828125 \r\nQ 39.65625 40.375 33.015625 40.375 \r\nz\r\nM 52.59375 71.296875 \r\nL 52.59375 62.3125 \r\nQ 48.875 64.0625 45.09375 64.984375 \r\nQ 41.3125 65.921875 37.59375 65.921875 \r\nQ 27.828125 65.921875 22.671875 59.328125 \r\nQ 17.53125 52.734375 16.796875 39.40625 \r\nQ 19.671875 43.65625 24.015625 45.921875 \r\nQ 28.375 48.1875 33.59375 48.1875 \r\nQ 44.578125 48.1875 50.953125 41.515625 \r\nQ 57.328125 34.859375 57.328125 23.390625 \r\nQ 57.328125 12.15625 50.6875 5.359375 \r\nQ 44.046875 -1.421875 33.015625 -1.421875 \r\nQ 20.359375 -1.421875 13.671875 8.265625 \r\nQ 6.984375 17.96875 6.984375 36.375 \r\nQ 6.984375 53.65625 15.1875 63.9375 \r\nQ 23.390625 74.21875 37.203125 74.21875 \r\nQ 40.921875 74.21875 44.703125 73.484375 \r\nQ 48.484375 72.75 52.59375 71.296875 \r\nz\r\n\" id=\"DejaVuSans-54\"/>\r\n      </defs>\r\n      <g transform=\"translate(196.709252 293.598437)scale(0.1 -0.1)\">\r\n       <use xlink:href=\"#DejaVuSans-48\"/>\r\n       <use x=\"63.623047\" xlink:href=\"#DejaVuSans-46\"/>\r\n       <use x=\"95.410156\" xlink:href=\"#DejaVuSans-54\"/>\r\n      </g>\r\n     </g>\r\n    </g>\r\n    <g id=\"xtick_5\">\r\n     <g id=\"line2d_5\">\r\n      <g>\r\n       <use style=\"stroke:#000000;stroke-width:0.8;\" x=\"256.229777\" xlink:href=\"#m7a2dc6e15d\" y=\"279\"/>\r\n      </g>\r\n     </g>\r\n     <g id=\"text_5\">\r\n      <!-- 0.8 -->\r\n      <defs>\r\n       <path d=\"M 31.78125 34.625 \r\nQ 24.75 34.625 20.71875 30.859375 \r\nQ 16.703125 27.09375 16.703125 20.515625 \r\nQ 16.703125 13.921875 20.71875 10.15625 \r\nQ 24.75 6.390625 31.78125 6.390625 \r\nQ 38.8125 6.390625 42.859375 10.171875 \r\nQ 46.921875 13.96875 46.921875 20.515625 \r\nQ 46.921875 27.09375 42.890625 30.859375 \r\nQ 38.875 34.625 31.78125 34.625 \r\nz\r\nM 21.921875 38.8125 \r\nQ 15.578125 40.375 12.03125 44.71875 \r\nQ 8.5 49.078125 8.5 55.328125 \r\nQ 8.5 64.0625 14.71875 69.140625 \r\nQ 20.953125 74.21875 31.78125 74.21875 \r\nQ 42.671875 74.21875 48.875 69.140625 \r\nQ 55.078125 64.0625 55.078125 55.328125 \r\nQ 55.078125 49.078125 51.53125 44.71875 \r\nQ 48 40.375 41.703125 38.8125 \r\nQ 48.828125 37.15625 52.796875 32.3125 \r\nQ 56.78125 27.484375 56.78125 20.515625 \r\nQ 56.78125 9.90625 50.3125 4.234375 \r\nQ 43.84375 -1.421875 31.78125 -1.421875 \r\nQ 19.734375 -1.421875 13.25 4.234375 \r\nQ 6.78125 9.90625 6.78125 20.515625 \r\nQ 6.78125 27.484375 10.78125 32.3125 \r\nQ 14.796875 37.15625 21.921875 38.8125 \r\nz\r\nM 18.3125 54.390625 \r\nQ 18.3125 48.734375 21.84375 45.5625 \r\nQ 25.390625 42.390625 31.78125 42.390625 \r\nQ 38.140625 42.390625 41.71875 45.5625 \r\nQ 45.3125 48.734375 45.3125 54.390625 \r\nQ 45.3125 60.0625 41.71875 63.234375 \r\nQ 38.140625 66.40625 31.78125 66.40625 \r\nQ 25.390625 66.40625 21.84375 63.234375 \r\nQ 18.3125 60.0625 18.3125 54.390625 \r\nz\r\n\" id=\"DejaVuSans-56\"/>\r\n      </defs>\r\n      <g transform=\"translate(248.278215 293.598437)scale(0.1 -0.1)\">\r\n       <use xlink:href=\"#DejaVuSans-48\"/>\r\n       <use x=\"63.623047\" xlink:href=\"#DejaVuSans-46\"/>\r\n       <use x=\"95.410156\" xlink:href=\"#DejaVuSans-56\"/>\r\n      </g>\r\n     </g>\r\n    </g>\r\n    <g id=\"xtick_6\">\r\n     <g id=\"line2d_6\">\r\n      <g>\r\n       <use style=\"stroke:#000000;stroke-width:0.8;\" x=\"307.79874\" xlink:href=\"#m7a2dc6e15d\" y=\"279\"/>\r\n      </g>\r\n     </g>\r\n     <g id=\"text_6\">\r\n      <!-- 1.0 -->\r\n      <defs>\r\n       <path d=\"M 12.40625 8.296875 \r\nL 28.515625 8.296875 \r\nL 28.515625 63.921875 \r\nL 10.984375 60.40625 \r\nL 10.984375 69.390625 \r\nL 28.421875 72.90625 \r\nL 38.28125 72.90625 \r\nL 38.28125 8.296875 \r\nL 54.390625 8.296875 \r\nL 54.390625 0 \r\nL 12.40625 0 \r\nz\r\n\" id=\"DejaVuSans-49\"/>\r\n      </defs>\r\n      <g transform=\"translate(299.847177 293.598437)scale(0.1 -0.1)\">\r\n       <use xlink:href=\"#DejaVuSans-49\"/>\r\n       <use x=\"63.623047\" xlink:href=\"#DejaVuSans-46\"/>\r\n       <use x=\"95.410156\" xlink:href=\"#DejaVuSans-48\"/>\r\n      </g>\r\n     </g>\r\n    </g>\r\n   </g>\r\n   <g id=\"matplotlib.axis_2\">\r\n    <g id=\"ytick_1\">\r\n     <g id=\"line2d_7\">\r\n      <defs>\r\n       <path d=\"M 0 0 \r\nL -3.5 0 \r\n\" id=\"m1c8fd31484\" style=\"stroke:#000000;stroke-width:0.8;\"/>\r\n      </defs>\r\n      <g>\r\n       <use style=\"stroke:#000000;stroke-width:0.8;\" x=\"38.482813\" xlink:href=\"#m1c8fd31484\" y=\"276.278963\"/>\r\n      </g>\r\n     </g>\r\n     <g id=\"text_7\">\r\n      <!-- −1.0 -->\r\n      <defs>\r\n       <path d=\"M 10.59375 35.5 \r\nL 73.1875 35.5 \r\nL 73.1875 27.203125 \r\nL 10.59375 27.203125 \r\nz\r\n\" id=\"DejaVuSans-8722\"/>\r\n      </defs>\r\n      <g transform=\"translate(7.2 280.078182)scale(0.1 -0.1)\">\r\n       <use xlink:href=\"#DejaVuSans-8722\"/>\r\n       <use x=\"83.789062\" xlink:href=\"#DejaVuSans-49\"/>\r\n       <use x=\"147.412109\" xlink:href=\"#DejaVuSans-46\"/>\r\n       <use x=\"179.199219\" xlink:href=\"#DejaVuSans-48\"/>\r\n      </g>\r\n     </g>\r\n    </g>\r\n    <g id=\"ytick_2\">\r\n     <g id=\"line2d_8\">\r\n      <g>\r\n       <use style=\"stroke:#000000;stroke-width:0.8;\" x=\"38.482813\" xlink:href=\"#m1c8fd31484\" y=\"232.31514\"/>\r\n      </g>\r\n     </g>\r\n     <g id=\"text_8\">\r\n      <!-- −0.5 -->\r\n      <defs>\r\n       <path d=\"M 10.796875 72.90625 \r\nL 49.515625 72.90625 \r\nL 49.515625 64.59375 \r\nL 19.828125 64.59375 \r\nL 19.828125 46.734375 \r\nQ 21.96875 47.46875 24.109375 47.828125 \r\nQ 26.265625 48.1875 28.421875 48.1875 \r\nQ 40.625 48.1875 47.75 41.5 \r\nQ 54.890625 34.8125 54.890625 23.390625 \r\nQ 54.890625 11.625 47.5625 5.09375 \r\nQ 40.234375 -1.421875 26.90625 -1.421875 \r\nQ 22.3125 -1.421875 17.546875 -0.640625 \r\nQ 12.796875 0.140625 7.71875 1.703125 \r\nL 7.71875 11.625 \r\nQ 12.109375 9.234375 16.796875 8.0625 \r\nQ 21.484375 6.890625 26.703125 6.890625 \r\nQ 35.15625 6.890625 40.078125 11.328125 \r\nQ 45.015625 15.765625 45.015625 23.390625 \r\nQ 45.015625 31 40.078125 35.4375 \r\nQ 35.15625 39.890625 26.703125 39.890625 \r\nQ 22.75 39.890625 18.8125 39.015625 \r\nQ 14.890625 38.140625 10.796875 36.28125 \r\nz\r\n\" id=\"DejaVuSans-53\"/>\r\n      </defs>\r\n      <g transform=\"translate(7.2 236.114359)scale(0.1 -0.1)\">\r\n       <use xlink:href=\"#DejaVuSans-8722\"/>\r\n       <use x=\"83.789062\" xlink:href=\"#DejaVuSans-48\"/>\r\n       <use x=\"147.412109\" xlink:href=\"#DejaVuSans-46\"/>\r\n       <use x=\"179.199219\" xlink:href=\"#DejaVuSans-53\"/>\r\n      </g>\r\n     </g>\r\n    </g>\r\n    <g id=\"ytick_3\">\r\n     <g id=\"line2d_9\">\r\n      <g>\r\n       <use style=\"stroke:#000000;stroke-width:0.8;\" x=\"38.482813\" xlink:href=\"#m1c8fd31484\" y=\"188.351317\"/>\r\n      </g>\r\n     </g>\r\n     <g id=\"text_9\">\r\n      <!-- 0.0 -->\r\n      <g transform=\"translate(15.579688 192.150536)scale(0.1 -0.1)\">\r\n       <use xlink:href=\"#DejaVuSans-48\"/>\r\n       <use x=\"63.623047\" xlink:href=\"#DejaVuSans-46\"/>\r\n       <use x=\"95.410156\" xlink:href=\"#DejaVuSans-48\"/>\r\n      </g>\r\n     </g>\r\n    </g>\r\n    <g id=\"ytick_4\">\r\n     <g id=\"line2d_10\">\r\n      <g>\r\n       <use style=\"stroke:#000000;stroke-width:0.8;\" x=\"38.482813\" xlink:href=\"#m1c8fd31484\" y=\"144.387494\"/>\r\n      </g>\r\n     </g>\r\n     <g id=\"text_10\">\r\n      <!-- 0.5 -->\r\n      <g transform=\"translate(15.579688 148.186713)scale(0.1 -0.1)\">\r\n       <use xlink:href=\"#DejaVuSans-48\"/>\r\n       <use x=\"63.623047\" xlink:href=\"#DejaVuSans-46\"/>\r\n       <use x=\"95.410156\" xlink:href=\"#DejaVuSans-53\"/>\r\n      </g>\r\n     </g>\r\n    </g>\r\n    <g id=\"ytick_5\">\r\n     <g id=\"line2d_11\">\r\n      <g>\r\n       <use style=\"stroke:#000000;stroke-width:0.8;\" x=\"38.482813\" xlink:href=\"#m1c8fd31484\" y=\"100.423671\"/>\r\n      </g>\r\n     </g>\r\n     <g id=\"text_11\">\r\n      <!-- 1.0 -->\r\n      <g transform=\"translate(15.579688 104.22289)scale(0.1 -0.1)\">\r\n       <use xlink:href=\"#DejaVuSans-49\"/>\r\n       <use x=\"63.623047\" xlink:href=\"#DejaVuSans-46\"/>\r\n       <use x=\"95.410156\" xlink:href=\"#DejaVuSans-48\"/>\r\n      </g>\r\n     </g>\r\n    </g>\r\n    <g id=\"ytick_6\">\r\n     <g id=\"line2d_12\">\r\n      <g>\r\n       <use style=\"stroke:#000000;stroke-width:0.8;\" x=\"38.482813\" xlink:href=\"#m1c8fd31484\" y=\"56.459848\"/>\r\n      </g>\r\n     </g>\r\n     <g id=\"text_12\">\r\n      <!-- 1.5 -->\r\n      <g transform=\"translate(15.579688 60.259067)scale(0.1 -0.1)\">\r\n       <use xlink:href=\"#DejaVuSans-49\"/>\r\n       <use x=\"63.623047\" xlink:href=\"#DejaVuSans-46\"/>\r\n       <use x=\"95.410156\" xlink:href=\"#DejaVuSans-53\"/>\r\n      </g>\r\n     </g>\r\n    </g>\r\n    <g id=\"ytick_7\">\r\n     <g id=\"line2d_13\">\r\n      <g>\r\n       <use style=\"stroke:#000000;stroke-width:0.8;\" x=\"38.482813\" xlink:href=\"#m1c8fd31484\" y=\"12.496025\"/>\r\n      </g>\r\n     </g>\r\n     <g id=\"text_13\">\r\n      <!-- 2.0 -->\r\n      <g transform=\"translate(15.579688 16.295244)scale(0.1 -0.1)\">\r\n       <use xlink:href=\"#DejaVuSans-50\"/>\r\n       <use x=\"63.623047\" xlink:href=\"#DejaVuSans-46\"/>\r\n       <use x=\"95.410156\" xlink:href=\"#DejaVuSans-48\"/>\r\n      </g>\r\n     </g>\r\n    </g>\r\n   </g>\r\n   <g id=\"patch_3\">\r\n    <path d=\"M 38.482813 279 \r\nL 38.482813 7.2 \r\n\" style=\"fill:none;stroke:#000000;stroke-linecap:square;stroke-linejoin:miter;stroke-width:0.8;\"/>\r\n   </g>\r\n   <g id=\"patch_4\">\r\n    <path d=\"M 317.482813 279 \r\nL 317.482813 7.2 \r\n\" style=\"fill:none;stroke:#000000;stroke-linecap:square;stroke-linejoin:miter;stroke-width:0.8;\"/>\r\n   </g>\r\n   <g id=\"patch_5\">\r\n    <path d=\"M 38.482813 279 \r\nL 317.482813 279 \r\n\" style=\"fill:none;stroke:#000000;stroke-linecap:square;stroke-linejoin:miter;stroke-width:0.8;\"/>\r\n   </g>\r\n   <g id=\"patch_6\">\r\n    <path d=\"M 38.482813 7.2 \r\nL 317.482813 7.2 \r\n\" style=\"fill:none;stroke:#000000;stroke-linecap:square;stroke-linejoin:miter;stroke-width:0.8;\"/>\r\n   </g>\r\n  </g>\r\n </g>\r\n <defs>\r\n  <clipPath id=\"p57c8c95a6f\">\r\n   <rect height=\"271.8\" width=\"279\" x=\"38.482813\" y=\"7.2\"/>\r\n  </clipPath>\r\n </defs>\r\n</svg>\r\n",
      "image/png": "[encoded data removed]"
     },
     "metadata": {
      "needs_background": "light"
     }
    }
   ],
   "source": [
    "plt.figure(figsize=(5, 5))\n",
    "plt.scatter(x, y, c=np.random.randint(0, 50, 100))\n",
    "plt.show()"
   ]
  },
  {
   "source": [
    "### 활성화 함수와 신경망"
   ],
   "cell_type": "markdown",
   "metadata": {}
  },
  {
   "cell_type": "code",
   "execution_count": 49,
   "metadata": {},
   "outputs": [],
   "source": [
    "def sigmoid_simple(x):\n",
    "    x = as_variable(x)\n",
    "    y = 1 / (1 + exp(-x))\n",
    "    return y"
   ]
  },
  {
   "cell_type": "code",
   "execution_count": null,
   "metadata": {},
   "outputs": [],
   "source": [
    "def predict(x):\n",
    "    y = F.linear(x, W1, b1)\n",
    "    y = F.sigmoid(y)\n",
    "    y = F.linear(y, W2, b2)\n",
    "    return y"
   ]
  },
  {
   "source": [
    "# 데이터셋\n",
    "np.random.seed(0)\n",
    "x = np.random.rand(100, 1)\n",
    "y = np.sin(2 * np.pi * x) + np.random.rand(100, 1)\n",
    "\n",
    "# 가중치 초기화\n",
    "I, H, O = 1, 10, 1\n",
    "W1 = Variable(0.01 * np.random.randn(I, H))\n",
    "b1 = Variable(np.zeros(H))\n",
    "W2 = Variable(0.01 * np.random.randn(H, O))\n",
    "b2 = Variable(np.zeros(O))\n",
    "\n",
    "# 신경망 추론\n",
    "def predict(x):\n",
    "    y = F.linear(x, W1, b1)\n",
    "    y = F.sigmoid(y)\n",
    "    y = F.linear(y, W2, b2)\n",
    "    return y\n",
    "\n",
    "lr = 0.2\n",
    "iters = 10000\n",
    "\n",
    "# 신경망 학습\n",
    "for i in range(iters):\n",
    "    y_pred = predict(x)\n",
    "    loss = F.mean_squared_error(y, y_pred)\n",
    "\n",
    "    W1.cleargrad()\n",
    "    b1.cleargrad()\n",
    "    W2.cleargrad()\n",
    "    b2.cleargrad()\n",
    "    loss.backward()\n",
    "\n",
    "    W1.data -= lr * W1.grad.data\n",
    "    b1.data -= lr * b1.grad.data\n",
    "    W2.data -= lr * W2.grad.data\n",
    "    b2.data -= lr * b2.grad.data\n",
    "    if i % 1000 == 0:\n",
    "        print(loss)"
   ],
   "cell_type": "code",
   "metadata": {},
   "execution_count": 55,
   "outputs": [
    {
     "output_type": "stream",
     "name": "stdout",
     "text": [
      "variable(0.8473695850105871) from class's __repr__\n",
      "variable(0.2514286285183606) from class's __repr__\n",
      "variable(0.24759485466749875) from class's __repr__\n",
      "variable(0.2378612044705482) from class's __repr__\n",
      "variable(0.21222231333102937) from class's __repr__\n",
      "variable(0.16742181117834185) from class's __repr__\n",
      "variable(0.0968193261999268) from class's __repr__\n",
      "variable(0.07849528290602337) from class's __repr__\n",
      "variable(0.07749729552991154) from class's __repr__\n",
      "variable(0.07722132399559314) from class's __repr__\n"
     ]
    }
   ]
  },
  {
   "cell_type": "code",
   "execution_count": 102,
   "metadata": {},
   "outputs": [
    {
     "output_type": "display_data",
     "data": {
      "text/plain": "<Figure size 432x288 with 1 Axes>",
      "image/svg+xml": "<?xml version=\"1.0\" encoding=\"utf-8\" standalone=\"no\"?>\r\n<!DOCTYPE svg PUBLIC \"-//W3C//DTD SVG 1.1//EN\"\r\n  \"http://www.w3.org/Graphics/SVG/1.1/DTD/svg11.dtd\">\r\n<!-- Created with matplotlib (https://matplotlib.org/) -->\r\n<svg height=\"262.19625pt\" version=\"1.1\" viewBox=\"0 0 394.160937 262.19625\" width=\"394.160937pt\" xmlns=\"http://www.w3.org/2000/svg\" xmlns:xlink=\"http://www.w3.org/1999/xlink\">\r\n <defs>\r\n  <style type=\"text/css\">\r\n*{stroke-linecap:butt;stroke-linejoin:round;}\r\n  </style>\r\n </defs>\r\n <g id=\"figure_1\">\r\n  <g id=\"patch_1\">\r\n   <path d=\"M 0 262.19625 \r\nL 394.160937 262.19625 \r\nL 394.160937 0 \r\nL 0 0 \r\nz\r\n\" style=\"fill:none;\"/>\r\n  </g>\r\n  <g id=\"axes_1\">\r\n   <g id=\"patch_2\">\r\n    <path d=\"M 52.160938 224.64 \r\nL 386.960938 224.64 \r\nL 386.960938 7.2 \r\nL 52.160938 7.2 \r\nz\r\n\" style=\"fill:#ffffff;\"/>\r\n   </g>\r\n   <g id=\"PathCollection_1\">\r\n    <defs>\r\n     <path d=\"M 0 1.581139 \r\nC 0.419323 1.581139 0.821528 1.41454 1.118034 1.118034 \r\nC 1.41454 0.821528 1.581139 0.419323 1.581139 0 \r\nC 1.581139 -0.419323 1.41454 -0.821528 1.118034 -1.118034 \r\nC 0.821528 -1.41454 0.419323 -1.581139 0 -1.581139 \r\nC -0.419323 -1.581139 -0.821528 -1.41454 -1.118034 -1.118034 \r\nC -1.41454 -0.821528 -1.581139 -0.419323 -1.581139 0 \r\nC -1.581139 0.419323 -1.41454 0.821528 -1.118034 1.118034 \r\nC -0.821528 1.41454 -0.419323 1.581139 0 1.581139 \r\nz\r\n\" id=\"m925936440d\" style=\"stroke:#1f77b4;\"/>\r\n    </defs>\r\n    <g clip-path=\"url(#p7ab0787cb2)\">\r\n     <use style=\"fill:#1f77b4;stroke:#1f77b4;\" x=\"236.105254\" xlink:href=\"#m925936440d\" y=\"125.679581\"/>\r\n     <use style=\"fill:#1f77b4;stroke:#1f77b4;\" x=\"287.25552\" xlink:href=\"#m925936440d\" y=\"201.794381\"/>\r\n     <use style=\"fill:#1f77b4;stroke:#1f77b4;\" x=\"252.691496\" xlink:href=\"#m925936440d\" y=\"142.733809\"/>\r\n     <use style=\"fill:#1f77b4;stroke:#1f77b4;\" x=\"234.896924\" xlink:href=\"#m925936440d\" y=\"104.013915\"/>\r\n     <use style=\"fill:#1f77b4;stroke:#1f77b4;\" x=\"197.626711\" xlink:href=\"#m925936440d\" y=\"102.159985\"/>\r\n     <use style=\"fill:#1f77b4;stroke:#1f77b4;\" x=\"265.951524\" xlink:href=\"#m925936440d\" y=\"167.41543\"/>\r\n     <use style=\"fill:#1f77b4;stroke:#1f77b4;\" x=\"201.910064\" xlink:href=\"#m925936440d\" y=\"83.592423\"/>\r\n     <use style=\"fill:#1f77b4;stroke:#1f77b4;\" x=\"341.544042\" xlink:href=\"#m925936440d\" y=\"156.098839\"/>\r\n     <use style=\"fill:#1f77b4;stroke:#1f77b4;\" x=\"363.645687\" xlink:href=\"#m925936440d\" y=\"152.349918\"/>\r\n     <use style=\"fill:#1f77b4;stroke:#1f77b4;\" x=\"185.263619\" xlink:href=\"#m925936440d\" y=\"38.070153\"/>\r\n     <use style=\"fill:#1f77b4;stroke:#1f77b4;\" x=\"310.785495\" xlink:href=\"#m925936440d\" y=\"188.607894\"/>\r\n     <use style=\"fill:#1f77b4;stroke:#1f77b4;\" x=\"229.981524\" xlink:href=\"#m925936440d\" y=\"105.283597\"/>\r\n     <use style=\"fill:#1f77b4;stroke:#1f77b4;\" x=\"242.017612\" xlink:href=\"#m925936440d\" y=\"132.08418\"/>\r\n     <use style=\"fill:#1f77b4;stroke:#1f77b4;\" x=\"351.942714\" xlink:href=\"#m925936440d\" y=\"162.898182\"/>\r\n     <use style=\"fill:#1f77b4;stroke:#1f77b4;\" x=\"89.218304\" xlink:href=\"#m925936440d\" y=\"64.512885\"/>\r\n     <use style=\"fill:#1f77b4;stroke:#1f77b4;\" x=\"94.165978\" xlink:href=\"#m925936440d\" y=\"87.616141\"/>\r\n     <use style=\"fill:#1f77b4;stroke:#1f77b4;\" x=\"73.595023\" xlink:href=\"#m925936440d\" y=\"81.230429\"/>\r\n     <use style=\"fill:#1f77b4;stroke:#1f77b4;\" x=\"323.358113\" xlink:href=\"#m925936440d\" y=\"172.308208\"/>\r\n     <use style=\"fill:#1f77b4;stroke:#1f77b4;\" x=\"306.614087\" xlink:href=\"#m925936440d\" y=\"159.342102\"/>\r\n     <use style=\"fill:#1f77b4;stroke:#1f77b4;\" x=\"334.853929\" xlink:href=\"#m925936440d\" y=\"154.680437\"/>\r\n     <use style=\"fill:#1f77b4;stroke:#1f77b4;\" x=\"368.243601\" xlink:href=\"#m925936440d\" y=\"110.526837\"/>\r\n     <use style=\"fill:#1f77b4;stroke:#1f77b4;\" x=\"313.070843\" xlink:href=\"#m925936440d\" y=\"183.870149\"/>\r\n     <use style=\"fill:#1f77b4;stroke:#1f77b4;\" x=\"209.255419\" xlink:href=\"#m925936440d\" y=\"68.008777\"/>\r\n     <use style=\"fill:#1f77b4;stroke:#1f77b4;\" x=\"307.343461\" xlink:href=\"#m925936440d\" y=\"175.873378\"/>\r\n     <use style=\"fill:#1f77b4;stroke:#1f77b4;\" x=\"103.741174\" xlink:href=\"#m925936440d\" y=\"74.712472\"/>\r\n     <use style=\"fill:#1f77b4;stroke:#1f77b4;\" x=\"264.115169\" xlink:href=\"#m925936440d\" y=\"163.643347\"/>\r\n     <use style=\"fill:#1f77b4;stroke:#1f77b4;\" x=\"111.45137\" xlink:href=\"#m925936440d\" y=\"95.638829\"/>\r\n     <use style=\"fill:#1f77b4;stroke:#1f77b4;\" x=\"357.806257\" xlink:href=\"#m925936440d\" y=\"154.872812\"/>\r\n     <use style=\"fill:#1f77b4;stroke:#1f77b4;\" x=\"227.815132\" xlink:href=\"#m925936440d\" y=\"115.309108\"/>\r\n     <use style=\"fill:#1f77b4;stroke:#1f77b4;\" x=\"194.861964\" xlink:href=\"#m925936440d\" y=\"95.780805\"/>\r\n     <use style=\"fill:#1f77b4;stroke:#1f77b4;\" x=\"148.713572\" xlink:href=\"#m925936440d\" y=\"38.600394\"/>\r\n     <use style=\"fill:#1f77b4;stroke:#1f77b4;\" x=\"305.407989\" xlink:href=\"#m925936440d\" y=\"191.488821\"/>\r\n     <use style=\"fill:#1f77b4;stroke:#1f77b4;\" x=\"207.617073\" xlink:href=\"#m925936440d\" y=\"123.455433\"/>\r\n     <use style=\"fill:#1f77b4;stroke:#1f77b4;\" x=\"242.137325\" xlink:href=\"#m925936440d\" y=\"160.461743\"/>\r\n     <use style=\"fill:#1f77b4;stroke:#1f77b4;\" x=\"73.155818\" xlink:href=\"#m925936440d\" y=\"103.743218\"/>\r\n     <use style=\"fill:#1f77b4;stroke:#1f77b4;\" x=\"257.263751\" xlink:href=\"#m925936440d\" y=\"157.943214\"/>\r\n     <use style=\"fill:#1f77b4;stroke:#1f77b4;\" x=\"255.560614\" xlink:href=\"#m925936440d\" y=\"157.269334\"/>\r\n     <use style=\"fill:#1f77b4;stroke:#1f77b4;\" x=\"257.048084\" xlink:href=\"#m925936440d\" y=\"153.329327\"/>\r\n     <use style=\"fill:#1f77b4;stroke:#1f77b4;\" x=\"357.523157\" xlink:href=\"#m925936440d\" y=\"130.598133\"/>\r\n     <use style=\"fill:#1f77b4;stroke:#1f77b4;\" x=\"276.9966\" xlink:href=\"#m925936440d\" y=\"185.759997\"/>\r\n     <use style=\"fill:#1f77b4;stroke:#1f77b4;\" x=\"177.905515\" xlink:href=\"#m925936440d\" y=\"34.718159\"/>\r\n     <use style=\"fill:#1f77b4;stroke:#1f77b4;\" x=\"201.739356\" xlink:href=\"#m925936440d\" y=\"99.156211\"/>\r\n     <use style=\"fill:#1f77b4;stroke:#1f77b4;\" x=\"281.85747\" xlink:href=\"#m925936440d\" y=\"188.029799\"/>\r\n     <use style=\"fill:#1f77b4;stroke:#1f77b4;\" x=\"85.894719\" xlink:href=\"#m925936440d\" y=\"63.393988\"/>\r\n     <use style=\"fill:#1f77b4;stroke:#1f77b4;\" x=\"272.368556\" xlink:href=\"#m925936440d\" y=\"156.35182\"/>\r\n     <use style=\"fill:#1f77b4;stroke:#1f77b4;\" x=\"273.558696\" xlink:href=\"#m925936440d\" y=\"164.384629\"/>\r\n     <use style=\"fill:#1f77b4;stroke:#1f77b4;\" x=\"132.058717\" xlink:href=\"#m925936440d\" y=\"76.896841\"/>\r\n     <use style=\"fill:#1f77b4;stroke:#1f77b4;\" x=\"107.015965\" xlink:href=\"#m925936440d\" y=\"36.491518\"/>\r\n     <use style=\"fill:#1f77b4;stroke:#1f77b4;\" x=\"164.353786\" xlink:href=\"#m925936440d\" y=\"37.398427\"/>\r\n     <use style=\"fill:#1f77b4;stroke:#1f77b4;\" x=\"179.197637\" xlink:href=\"#m925936440d\" y=\"28.720558\"/>\r\n     <use style=\"fill:#1f77b4;stroke:#1f77b4;\" x=\"242.679283\" xlink:href=\"#m925936440d\" y=\"171.637428\"/>\r\n     <use style=\"fill:#1f77b4;stroke:#1f77b4;\" x=\"202.221899\" xlink:href=\"#m925936440d\" y=\"64.586888\"/>\r\n     <use style=\"fill:#1f77b4;stroke:#1f77b4;\" x=\"371.242812\" xlink:href=\"#m925936440d\" y=\"145.824833\"/>\r\n     <use style=\"fill:#1f77b4;stroke:#1f77b4;\" x=\"98.751574\" xlink:href=\"#m925936440d\" y=\"66.747515\"/>\r\n     <use style=\"fill:#1f77b4;stroke:#1f77b4;\" x=\"131.595775\" xlink:href=\"#m925936440d\" y=\"75.40426\"/>\r\n     <use style=\"fill:#1f77b4;stroke:#1f77b4;\" x=\"116.971798\" xlink:href=\"#m925936440d\" y=\"32.770439\"/>\r\n     <use style=\"fill:#1f77b4;stroke:#1f77b4;\" x=\"268.169447\" xlink:href=\"#m925936440d\" y=\"153.037089\"/>\r\n     <use style=\"fill:#1f77b4;stroke:#1f77b4;\" x=\"145.250587\" xlink:href=\"#m925936440d\" y=\"41.76223\"/>\r\n     <use style=\"fill:#1f77b4;stroke:#1f77b4;\" x=\"210.740778\" xlink:href=\"#m925936440d\" y=\"108.700149\"/>\r\n     <use style=\"fill:#1f77b4;stroke:#1f77b4;\" x=\"142.524839\" xlink:href=\"#m925936440d\" y=\"76.956726\"/>\r\n     <use style=\"fill:#1f77b4;stroke:#1f77b4;\" x=\"116.252413\" xlink:href=\"#m925936440d\" y=\"43.915891\"/>\r\n     <use style=\"fill:#1f77b4;stroke:#1f77b4;\" x=\"101.312634\" xlink:href=\"#m925936440d\" y=\"75.252521\"/>\r\n     <use style=\"fill:#1f77b4;stroke:#1f77b4;\" x=\"269.159786\" xlink:href=\"#m925936440d\" y=\"159.837003\"/>\r\n     <use style=\"fill:#1f77b4;stroke:#1f77b4;\" x=\"109.861812\" xlink:href=\"#m925936440d\" y=\"37.493782\"/>\r\n     <use style=\"fill:#1f77b4;stroke:#1f77b4;\" x=\"127.816011\" xlink:href=\"#m925936440d\" y=\"17.083636\"/>\r\n     <use style=\"fill:#1f77b4;stroke:#1f77b4;\" x=\"180.739254\" xlink:href=\"#m925936440d\" y=\"40.260787\"/>\r\n     <use style=\"fill:#1f77b4;stroke:#1f77b4;\" x=\"319.783649\" xlink:href=\"#m925936440d\" y=\"214.756364\"/>\r\n     <use style=\"fill:#1f77b4;stroke:#1f77b4;\" x=\"97.231743\" xlink:href=\"#m925936440d\" y=\"86.496654\"/>\r\n     <use style=\"fill:#1f77b4;stroke:#1f77b4;\" x=\"324.99524\" xlink:href=\"#m925936440d\" y=\"160.64551\"/>\r\n     <use style=\"fill:#1f77b4;stroke:#1f77b4;\" x=\"96.923423\" xlink:href=\"#m925936440d\" y=\"100.10955\"/>\r\n     <use style=\"fill:#1f77b4;stroke:#1f77b4;\" x=\"367.57988\" xlink:href=\"#m925936440d\" y=\"125.836612\"/>\r\n     <use style=\"fill:#1f77b4;stroke:#1f77b4;\" x=\"211.460315\" xlink:href=\"#m925936440d\" y=\"134.532914\"/>\r\n     <use style=\"fill:#1f77b4;stroke:#1f77b4;\" x=\"367.672611\" xlink:href=\"#m925936440d\" y=\"148.287379\"/>\r\n     <use style=\"fill:#1f77b4;stroke:#1f77b4;\" x=\"253.331626\" xlink:href=\"#m925936440d\" y=\"193.877402\"/>\r\n     <use style=\"fill:#1f77b4;stroke:#1f77b4;\" x=\"294.656848\" xlink:href=\"#m925936440d\" y=\"166.472802\"/>\r\n     <use style=\"fill:#1f77b4;stroke:#1f77b4;\" x=\"79.426936\" xlink:href=\"#m925936440d\" y=\"119.224266\"/>\r\n     <use style=\"fill:#1f77b4;stroke:#1f77b4;\" x=\"154.324731\" xlink:href=\"#m925936440d\" y=\"58.97532\"/>\r\n     <use style=\"fill:#1f77b4;stroke:#1f77b4;\" x=\"104.332112\" xlink:href=\"#m925936440d\" y=\"38.622066\"/>\r\n     <use style=\"fill:#1f77b4;stroke:#1f77b4;\" x=\"158.423874\" xlink:href=\"#m925936440d\" y=\"35.164289\"/>\r\n     <use style=\"fill:#1f77b4;stroke:#1f77b4;\" x=\"103.880534\" xlink:href=\"#m925936440d\" y=\"102.140387\"/>\r\n     <use style=\"fill:#1f77b4;stroke:#1f77b4;\" x=\"165.139237\" xlink:href=\"#m925936440d\" y=\"76.514258\"/>\r\n     <use style=\"fill:#1f77b4;stroke:#1f77b4;\" x=\"194.739313\" xlink:href=\"#m925936440d\" y=\"72.317907\"/>\r\n     <use style=\"fill:#1f77b4;stroke:#1f77b4;\" x=\"87.100498\" xlink:href=\"#m925936440d\" y=\"83.927543\"/>\r\n     <use style=\"fill:#1f77b4;stroke:#1f77b4;\" x=\"280.271374\" xlink:href=\"#m925936440d\" y=\"201.183926\"/>\r\n     <use style=\"fill:#1f77b4;stroke:#1f77b4;\" x=\"241.573947\" xlink:href=\"#m925936440d\" y=\"114.990847\"/>\r\n     <use style=\"fill:#1f77b4;stroke:#1f77b4;\" x=\"148.969938\" xlink:href=\"#m925936440d\" y=\"38.919863\"/>\r\n     <use style=\"fill:#1f77b4;stroke:#1f77b4;\" x=\"228.245463\" xlink:href=\"#m925936440d\" y=\"124.68201\"/>\r\n     <use style=\"fill:#1f77b4;stroke:#1f77b4;\" x=\"96.260004\" xlink:href=\"#m925936440d\" y=\"71.475569\"/>\r\n     <use style=\"fill:#1f77b4;stroke:#1f77b4;\" x=\"244.446968\" xlink:href=\"#m925936440d\" y=\"133.069541\"/>\r\n     <use style=\"fill:#1f77b4;stroke:#1f77b4;\" x=\"353.080099\" xlink:href=\"#m925936440d\" y=\"160.409562\"/>\r\n     <use style=\"fill:#1f77b4;stroke:#1f77b4;\" x=\"165.319326\" xlink:href=\"#m925936440d\" y=\"60.195169\"/>\r\n     <use style=\"fill:#1f77b4;stroke:#1f77b4;\" x=\"272.566443\" xlink:href=\"#m925936440d\" y=\"198.441945\"/>\r\n     <use style=\"fill:#1f77b4;stroke:#1f77b4;\" x=\"107.898793\" xlink:href=\"#m925936440d\" y=\"87.205985\"/>\r\n     <use style=\"fill:#1f77b4;stroke:#1f77b4;\" x=\"287.605334\" xlink:href=\"#m925936440d\" y=\"154.465524\"/>\r\n     <use style=\"fill:#1f77b4;stroke:#1f77b4;\" x=\"156.353555\" xlink:href=\"#m925936440d\" y=\"31.902491\"/>\r\n     <use style=\"fill:#1f77b4;stroke:#1f77b4;\" x=\"123.699108\" xlink:href=\"#m925936440d\" y=\"53.385969\"/>\r\n     <use style=\"fill:#1f77b4;stroke:#1f77b4;\" x=\"247.695493\" xlink:href=\"#m925936440d\" y=\"172.505209\"/>\r\n     <use style=\"fill:#1f77b4;stroke:#1f77b4;\" x=\"73.560943\" xlink:href=\"#m925936440d\" y=\"125.36572\"/>\r\n     <use style=\"fill:#1f77b4;stroke:#1f77b4;\" x=\"322.226798\" xlink:href=\"#m925936440d\" y=\"209.904749\"/>\r\n     <use style=\"fill:#1f77b4;stroke:#1f77b4;\" x=\"68.822687\" xlink:href=\"#m925936440d\" y=\"119.488298\"/>\r\n    </g>\r\n   </g>\r\n   <g id=\"matplotlib.axis_1\">\r\n    <g id=\"xtick_1\">\r\n     <g id=\"line2d_1\">\r\n      <defs>\r\n       <path d=\"M 0 0 \r\nL 0 3.5 \r\n\" id=\"m7701a3a6bb\" style=\"stroke:#000000;stroke-width:0.8;\"/>\r\n      </defs>\r\n      <g>\r\n       <use style=\"stroke:#000000;stroke-width:0.8;\" x=\"67.379119\" xlink:href=\"#m7701a3a6bb\" y=\"224.64\"/>\r\n      </g>\r\n     </g>\r\n     <g id=\"text_1\">\r\n      <!-- 0.0 -->\r\n      <defs>\r\n       <path d=\"M 31.78125 66.40625 \r\nQ 24.171875 66.40625 20.328125 58.90625 \r\nQ 16.5 51.421875 16.5 36.375 \r\nQ 16.5 21.390625 20.328125 13.890625 \r\nQ 24.171875 6.390625 31.78125 6.390625 \r\nQ 39.453125 6.390625 43.28125 13.890625 \r\nQ 47.125 21.390625 47.125 36.375 \r\nQ 47.125 51.421875 43.28125 58.90625 \r\nQ 39.453125 66.40625 31.78125 66.40625 \r\nz\r\nM 31.78125 74.21875 \r\nQ 44.046875 74.21875 50.515625 64.515625 \r\nQ 56.984375 54.828125 56.984375 36.375 \r\nQ 56.984375 17.96875 50.515625 8.265625 \r\nQ 44.046875 -1.421875 31.78125 -1.421875 \r\nQ 19.53125 -1.421875 13.0625 8.265625 \r\nQ 6.59375 17.96875 6.59375 36.375 \r\nQ 6.59375 54.828125 13.0625 64.515625 \r\nQ 19.53125 74.21875 31.78125 74.21875 \r\nz\r\n\" id=\"DejaVuSans-48\"/>\r\n       <path d=\"M 10.6875 12.40625 \r\nL 21 12.40625 \r\nL 21 0 \r\nL 10.6875 0 \r\nz\r\n\" id=\"DejaVuSans-46\"/>\r\n      </defs>\r\n      <g transform=\"translate(59.427557 239.238437)scale(0.1 -0.1)\">\r\n       <use xlink:href=\"#DejaVuSans-48\"/>\r\n       <use x=\"63.623047\" xlink:href=\"#DejaVuSans-46\"/>\r\n       <use x=\"95.410156\" xlink:href=\"#DejaVuSans-48\"/>\r\n      </g>\r\n     </g>\r\n    </g>\r\n    <g id=\"xtick_2\">\r\n     <g id=\"line2d_2\">\r\n      <g>\r\n       <use style=\"stroke:#000000;stroke-width:0.8;\" x=\"128.866723\" xlink:href=\"#m7701a3a6bb\" y=\"224.64\"/>\r\n      </g>\r\n     </g>\r\n     <g id=\"text_2\">\r\n      <!-- 0.2 -->\r\n      <defs>\r\n       <path d=\"M 19.1875 8.296875 \r\nL 53.609375 8.296875 \r\nL 53.609375 0 \r\nL 7.328125 0 \r\nL 7.328125 8.296875 \r\nQ 12.9375 14.109375 22.625 23.890625 \r\nQ 32.328125 33.6875 34.8125 36.53125 \r\nQ 39.546875 41.84375 41.421875 45.53125 \r\nQ 43.3125 49.21875 43.3125 52.78125 \r\nQ 43.3125 58.59375 39.234375 62.25 \r\nQ 35.15625 65.921875 28.609375 65.921875 \r\nQ 23.96875 65.921875 18.8125 64.3125 \r\nQ 13.671875 62.703125 7.8125 59.421875 \r\nL 7.8125 69.390625 \r\nQ 13.765625 71.78125 18.9375 73 \r\nQ 24.125 74.21875 28.421875 74.21875 \r\nQ 39.75 74.21875 46.484375 68.546875 \r\nQ 53.21875 62.890625 53.21875 53.421875 \r\nQ 53.21875 48.921875 51.53125 44.890625 \r\nQ 49.859375 40.875 45.40625 35.40625 \r\nQ 44.1875 33.984375 37.640625 27.21875 \r\nQ 31.109375 20.453125 19.1875 8.296875 \r\nz\r\n\" id=\"DejaVuSans-50\"/>\r\n      </defs>\r\n      <g transform=\"translate(120.91516 239.238437)scale(0.1 -0.1)\">\r\n       <use xlink:href=\"#DejaVuSans-48\"/>\r\n       <use x=\"63.623047\" xlink:href=\"#DejaVuSans-46\"/>\r\n       <use x=\"95.410156\" xlink:href=\"#DejaVuSans-50\"/>\r\n      </g>\r\n     </g>\r\n    </g>\r\n    <g id=\"xtick_3\">\r\n     <g id=\"line2d_3\">\r\n      <g>\r\n       <use style=\"stroke:#000000;stroke-width:0.8;\" x=\"190.354326\" xlink:href=\"#m7701a3a6bb\" y=\"224.64\"/>\r\n      </g>\r\n     </g>\r\n     <g id=\"text_3\">\r\n      <!-- 0.4 -->\r\n      <defs>\r\n       <path d=\"M 37.796875 64.3125 \r\nL 12.890625 25.390625 \r\nL 37.796875 25.390625 \r\nz\r\nM 35.203125 72.90625 \r\nL 47.609375 72.90625 \r\nL 47.609375 25.390625 \r\nL 58.015625 25.390625 \r\nL 58.015625 17.1875 \r\nL 47.609375 17.1875 \r\nL 47.609375 0 \r\nL 37.796875 0 \r\nL 37.796875 17.1875 \r\nL 4.890625 17.1875 \r\nL 4.890625 26.703125 \r\nz\r\n\" id=\"DejaVuSans-52\"/>\r\n      </defs>\r\n      <g transform=\"translate(182.402763 239.238437)scale(0.1 -0.1)\">\r\n       <use xlink:href=\"#DejaVuSans-48\"/>\r\n       <use x=\"63.623047\" xlink:href=\"#DejaVuSans-46\"/>\r\n       <use x=\"95.410156\" xlink:href=\"#DejaVuSans-52\"/>\r\n      </g>\r\n     </g>\r\n    </g>\r\n    <g id=\"xtick_4\">\r\n     <g id=\"line2d_4\">\r\n      <g>\r\n       <use style=\"stroke:#000000;stroke-width:0.8;\" x=\"251.841929\" xlink:href=\"#m7701a3a6bb\" y=\"224.64\"/>\r\n      </g>\r\n     </g>\r\n     <g id=\"text_4\">\r\n      <!-- 0.6 -->\r\n      <defs>\r\n       <path d=\"M 33.015625 40.375 \r\nQ 26.375 40.375 22.484375 35.828125 \r\nQ 18.609375 31.296875 18.609375 23.390625 \r\nQ 18.609375 15.53125 22.484375 10.953125 \r\nQ 26.375 6.390625 33.015625 6.390625 \r\nQ 39.65625 6.390625 43.53125 10.953125 \r\nQ 47.40625 15.53125 47.40625 23.390625 \r\nQ 47.40625 31.296875 43.53125 35.828125 \r\nQ 39.65625 40.375 33.015625 40.375 \r\nz\r\nM 52.59375 71.296875 \r\nL 52.59375 62.3125 \r\nQ 48.875 64.0625 45.09375 64.984375 \r\nQ 41.3125 65.921875 37.59375 65.921875 \r\nQ 27.828125 65.921875 22.671875 59.328125 \r\nQ 17.53125 52.734375 16.796875 39.40625 \r\nQ 19.671875 43.65625 24.015625 45.921875 \r\nQ 28.375 48.1875 33.59375 48.1875 \r\nQ 44.578125 48.1875 50.953125 41.515625 \r\nQ 57.328125 34.859375 57.328125 23.390625 \r\nQ 57.328125 12.15625 50.6875 5.359375 \r\nQ 44.046875 -1.421875 33.015625 -1.421875 \r\nQ 20.359375 -1.421875 13.671875 8.265625 \r\nQ 6.984375 17.96875 6.984375 36.375 \r\nQ 6.984375 53.65625 15.1875 63.9375 \r\nQ 23.390625 74.21875 37.203125 74.21875 \r\nQ 40.921875 74.21875 44.703125 73.484375 \r\nQ 48.484375 72.75 52.59375 71.296875 \r\nz\r\n\" id=\"DejaVuSans-54\"/>\r\n      </defs>\r\n      <g transform=\"translate(243.890367 239.238437)scale(0.1 -0.1)\">\r\n       <use xlink:href=\"#DejaVuSans-48\"/>\r\n       <use x=\"63.623047\" xlink:href=\"#DejaVuSans-46\"/>\r\n       <use x=\"95.410156\" xlink:href=\"#DejaVuSans-54\"/>\r\n      </g>\r\n     </g>\r\n    </g>\r\n    <g id=\"xtick_5\">\r\n     <g id=\"line2d_5\">\r\n      <g>\r\n       <use style=\"stroke:#000000;stroke-width:0.8;\" x=\"313.329533\" xlink:href=\"#m7701a3a6bb\" y=\"224.64\"/>\r\n      </g>\r\n     </g>\r\n     <g id=\"text_5\">\r\n      <!-- 0.8 -->\r\n      <defs>\r\n       <path d=\"M 31.78125 34.625 \r\nQ 24.75 34.625 20.71875 30.859375 \r\nQ 16.703125 27.09375 16.703125 20.515625 \r\nQ 16.703125 13.921875 20.71875 10.15625 \r\nQ 24.75 6.390625 31.78125 6.390625 \r\nQ 38.8125 6.390625 42.859375 10.171875 \r\nQ 46.921875 13.96875 46.921875 20.515625 \r\nQ 46.921875 27.09375 42.890625 30.859375 \r\nQ 38.875 34.625 31.78125 34.625 \r\nz\r\nM 21.921875 38.8125 \r\nQ 15.578125 40.375 12.03125 44.71875 \r\nQ 8.5 49.078125 8.5 55.328125 \r\nQ 8.5 64.0625 14.71875 69.140625 \r\nQ 20.953125 74.21875 31.78125 74.21875 \r\nQ 42.671875 74.21875 48.875 69.140625 \r\nQ 55.078125 64.0625 55.078125 55.328125 \r\nQ 55.078125 49.078125 51.53125 44.71875 \r\nQ 48 40.375 41.703125 38.8125 \r\nQ 48.828125 37.15625 52.796875 32.3125 \r\nQ 56.78125 27.484375 56.78125 20.515625 \r\nQ 56.78125 9.90625 50.3125 4.234375 \r\nQ 43.84375 -1.421875 31.78125 -1.421875 \r\nQ 19.734375 -1.421875 13.25 4.234375 \r\nQ 6.78125 9.90625 6.78125 20.515625 \r\nQ 6.78125 27.484375 10.78125 32.3125 \r\nQ 14.796875 37.15625 21.921875 38.8125 \r\nz\r\nM 18.3125 54.390625 \r\nQ 18.3125 48.734375 21.84375 45.5625 \r\nQ 25.390625 42.390625 31.78125 42.390625 \r\nQ 38.140625 42.390625 41.71875 45.5625 \r\nQ 45.3125 48.734375 45.3125 54.390625 \r\nQ 45.3125 60.0625 41.71875 63.234375 \r\nQ 38.140625 66.40625 31.78125 66.40625 \r\nQ 25.390625 66.40625 21.84375 63.234375 \r\nQ 18.3125 60.0625 18.3125 54.390625 \r\nz\r\n\" id=\"DejaVuSans-56\"/>\r\n      </defs>\r\n      <g transform=\"translate(305.37797 239.238437)scale(0.1 -0.1)\">\r\n       <use xlink:href=\"#DejaVuSans-48\"/>\r\n       <use x=\"63.623047\" xlink:href=\"#DejaVuSans-46\"/>\r\n       <use x=\"95.410156\" xlink:href=\"#DejaVuSans-56\"/>\r\n      </g>\r\n     </g>\r\n    </g>\r\n    <g id=\"xtick_6\">\r\n     <g id=\"line2d_6\">\r\n      <g>\r\n       <use style=\"stroke:#000000;stroke-width:0.8;\" x=\"374.817136\" xlink:href=\"#m7701a3a6bb\" y=\"224.64\"/>\r\n      </g>\r\n     </g>\r\n     <g id=\"text_6\">\r\n      <!-- 1.0 -->\r\n      <defs>\r\n       <path d=\"M 12.40625 8.296875 \r\nL 28.515625 8.296875 \r\nL 28.515625 63.921875 \r\nL 10.984375 60.40625 \r\nL 10.984375 69.390625 \r\nL 28.421875 72.90625 \r\nL 38.28125 72.90625 \r\nL 38.28125 8.296875 \r\nL 54.390625 8.296875 \r\nL 54.390625 0 \r\nL 12.40625 0 \r\nz\r\n\" id=\"DejaVuSans-49\"/>\r\n      </defs>\r\n      <g transform=\"translate(366.865573 239.238437)scale(0.1 -0.1)\">\r\n       <use xlink:href=\"#DejaVuSans-49\"/>\r\n       <use x=\"63.623047\" xlink:href=\"#DejaVuSans-46\"/>\r\n       <use x=\"95.410156\" xlink:href=\"#DejaVuSans-48\"/>\r\n      </g>\r\n     </g>\r\n    </g>\r\n    <g id=\"text_7\">\r\n     <!-- x -->\r\n     <defs>\r\n      <path d=\"M 54.890625 54.6875 \r\nL 35.109375 28.078125 \r\nL 55.90625 0 \r\nL 45.3125 0 \r\nL 29.390625 21.484375 \r\nL 13.484375 0 \r\nL 2.875 0 \r\nL 24.125 28.609375 \r\nL 4.6875 54.6875 \r\nL 15.28125 54.6875 \r\nL 29.78125 35.203125 \r\nL 44.28125 54.6875 \r\nz\r\n\" id=\"DejaVuSans-120\"/>\r\n     </defs>\r\n     <g transform=\"translate(216.601563 252.916562)scale(0.1 -0.1)\">\r\n      <use xlink:href=\"#DejaVuSans-120\"/>\r\n     </g>\r\n    </g>\r\n   </g>\r\n   <g id=\"matplotlib.axis_2\">\r\n    <g id=\"ytick_1\">\r\n     <g id=\"line2d_7\">\r\n      <defs>\r\n       <path d=\"M 0 0 \r\nL -3.5 0 \r\n\" id=\"m1de95dd6fc\" style=\"stroke:#000000;stroke-width:0.8;\"/>\r\n      </defs>\r\n      <g>\r\n       <use style=\"stroke:#000000;stroke-width:0.8;\" x=\"52.160938\" xlink:href=\"#m1de95dd6fc\" y=\"222.463171\"/>\r\n      </g>\r\n     </g>\r\n     <g id=\"text_8\">\r\n      <!-- −1.0 -->\r\n      <defs>\r\n       <path d=\"M 10.59375 35.5 \r\nL 73.1875 35.5 \r\nL 73.1875 27.203125 \r\nL 10.59375 27.203125 \r\nz\r\n\" id=\"DejaVuSans-8722\"/>\r\n      </defs>\r\n      <g transform=\"translate(20.878125 226.262389)scale(0.1 -0.1)\">\r\n       <use xlink:href=\"#DejaVuSans-8722\"/>\r\n       <use x=\"83.789062\" xlink:href=\"#DejaVuSans-49\"/>\r\n       <use x=\"147.412109\" xlink:href=\"#DejaVuSans-46\"/>\r\n       <use x=\"179.199219\" xlink:href=\"#DejaVuSans-48\"/>\r\n      </g>\r\n     </g>\r\n    </g>\r\n    <g id=\"ytick_2\">\r\n     <g id=\"line2d_8\">\r\n      <g>\r\n       <use style=\"stroke:#000000;stroke-width:0.8;\" x=\"52.160938\" xlink:href=\"#m1de95dd6fc\" y=\"187.292112\"/>\r\n      </g>\r\n     </g>\r\n     <g id=\"text_9\">\r\n      <!-- −0.5 -->\r\n      <defs>\r\n       <path d=\"M 10.796875 72.90625 \r\nL 49.515625 72.90625 \r\nL 49.515625 64.59375 \r\nL 19.828125 64.59375 \r\nL 19.828125 46.734375 \r\nQ 21.96875 47.46875 24.109375 47.828125 \r\nQ 26.265625 48.1875 28.421875 48.1875 \r\nQ 40.625 48.1875 47.75 41.5 \r\nQ 54.890625 34.8125 54.890625 23.390625 \r\nQ 54.890625 11.625 47.5625 5.09375 \r\nQ 40.234375 -1.421875 26.90625 -1.421875 \r\nQ 22.3125 -1.421875 17.546875 -0.640625 \r\nQ 12.796875 0.140625 7.71875 1.703125 \r\nL 7.71875 11.625 \r\nQ 12.109375 9.234375 16.796875 8.0625 \r\nQ 21.484375 6.890625 26.703125 6.890625 \r\nQ 35.15625 6.890625 40.078125 11.328125 \r\nQ 45.015625 15.765625 45.015625 23.390625 \r\nQ 45.015625 31 40.078125 35.4375 \r\nQ 35.15625 39.890625 26.703125 39.890625 \r\nQ 22.75 39.890625 18.8125 39.015625 \r\nQ 14.890625 38.140625 10.796875 36.28125 \r\nz\r\n\" id=\"DejaVuSans-53\"/>\r\n      </defs>\r\n      <g transform=\"translate(20.878125 191.091331)scale(0.1 -0.1)\">\r\n       <use xlink:href=\"#DejaVuSans-8722\"/>\r\n       <use x=\"83.789062\" xlink:href=\"#DejaVuSans-48\"/>\r\n       <use x=\"147.412109\" xlink:href=\"#DejaVuSans-46\"/>\r\n       <use x=\"179.199219\" xlink:href=\"#DejaVuSans-53\"/>\r\n      </g>\r\n     </g>\r\n    </g>\r\n    <g id=\"ytick_3\">\r\n     <g id=\"line2d_9\">\r\n      <g>\r\n       <use style=\"stroke:#000000;stroke-width:0.8;\" x=\"52.160938\" xlink:href=\"#m1de95dd6fc\" y=\"152.121054\"/>\r\n      </g>\r\n     </g>\r\n     <g id=\"text_10\">\r\n      <!-- 0.0 -->\r\n      <g transform=\"translate(29.257812 155.920273)scale(0.1 -0.1)\">\r\n       <use xlink:href=\"#DejaVuSans-48\"/>\r\n       <use x=\"63.623047\" xlink:href=\"#DejaVuSans-46\"/>\r\n       <use x=\"95.410156\" xlink:href=\"#DejaVuSans-48\"/>\r\n      </g>\r\n     </g>\r\n    </g>\r\n    <g id=\"ytick_4\">\r\n     <g id=\"line2d_10\">\r\n      <g>\r\n       <use style=\"stroke:#000000;stroke-width:0.8;\" x=\"52.160938\" xlink:href=\"#m1de95dd6fc\" y=\"116.949995\"/>\r\n      </g>\r\n     </g>\r\n     <g id=\"text_11\">\r\n      <!-- 0.5 -->\r\n      <g transform=\"translate(29.257812 120.749214)scale(0.1 -0.1)\">\r\n       <use xlink:href=\"#DejaVuSans-48\"/>\r\n       <use x=\"63.623047\" xlink:href=\"#DejaVuSans-46\"/>\r\n       <use x=\"95.410156\" xlink:href=\"#DejaVuSans-53\"/>\r\n      </g>\r\n     </g>\r\n    </g>\r\n    <g id=\"ytick_5\">\r\n     <g id=\"line2d_11\">\r\n      <g>\r\n       <use style=\"stroke:#000000;stroke-width:0.8;\" x=\"52.160938\" xlink:href=\"#m1de95dd6fc\" y=\"81.778937\"/>\r\n      </g>\r\n     </g>\r\n     <g id=\"text_12\">\r\n      <!-- 1.0 -->\r\n      <g transform=\"translate(29.257812 85.578156)scale(0.1 -0.1)\">\r\n       <use xlink:href=\"#DejaVuSans-49\"/>\r\n       <use x=\"63.623047\" xlink:href=\"#DejaVuSans-46\"/>\r\n       <use x=\"95.410156\" xlink:href=\"#DejaVuSans-48\"/>\r\n      </g>\r\n     </g>\r\n    </g>\r\n    <g id=\"ytick_6\">\r\n     <g id=\"line2d_12\">\r\n      <g>\r\n       <use style=\"stroke:#000000;stroke-width:0.8;\" x=\"52.160938\" xlink:href=\"#m1de95dd6fc\" y=\"46.607879\"/>\r\n      </g>\r\n     </g>\r\n     <g id=\"text_13\">\r\n      <!-- 1.5 -->\r\n      <g transform=\"translate(29.257812 50.407097)scale(0.1 -0.1)\">\r\n       <use xlink:href=\"#DejaVuSans-49\"/>\r\n       <use x=\"63.623047\" xlink:href=\"#DejaVuSans-46\"/>\r\n       <use x=\"95.410156\" xlink:href=\"#DejaVuSans-53\"/>\r\n      </g>\r\n     </g>\r\n    </g>\r\n    <g id=\"ytick_7\">\r\n     <g id=\"line2d_13\">\r\n      <g>\r\n       <use style=\"stroke:#000000;stroke-width:0.8;\" x=\"52.160938\" xlink:href=\"#m1de95dd6fc\" y=\"11.43682\"/>\r\n      </g>\r\n     </g>\r\n     <g id=\"text_14\">\r\n      <!-- 2.0 -->\r\n      <g transform=\"translate(29.257812 15.236039)scale(0.1 -0.1)\">\r\n       <use xlink:href=\"#DejaVuSans-50\"/>\r\n       <use x=\"63.623047\" xlink:href=\"#DejaVuSans-46\"/>\r\n       <use x=\"95.410156\" xlink:href=\"#DejaVuSans-48\"/>\r\n      </g>\r\n     </g>\r\n    </g>\r\n    <g id=\"text_15\">\r\n     <!-- y -->\r\n     <defs>\r\n      <path d=\"M 32.171875 -5.078125 \r\nQ 28.375 -14.84375 24.75 -17.8125 \r\nQ 21.140625 -20.796875 15.09375 -20.796875 \r\nL 7.90625 -20.796875 \r\nL 7.90625 -13.28125 \r\nL 13.1875 -13.28125 \r\nQ 16.890625 -13.28125 18.9375 -11.515625 \r\nQ 21 -9.765625 23.484375 -3.21875 \r\nL 25.09375 0.875 \r\nL 2.984375 54.6875 \r\nL 12.5 54.6875 \r\nL 29.59375 11.921875 \r\nL 46.6875 54.6875 \r\nL 56.203125 54.6875 \r\nz\r\n\" id=\"DejaVuSans-121\"/>\r\n     </defs>\r\n     <g transform=\"translate(14.798438 118.879375)rotate(-90)scale(0.1 -0.1)\">\r\n      <use xlink:href=\"#DejaVuSans-121\"/>\r\n     </g>\r\n    </g>\r\n   </g>\r\n   <g id=\"line2d_14\">\r\n    <path clip-path=\"url(#p7ab0787cb2)\" d=\"M 67.379119 107.684243 \r\nL 70.453499 104.416971 \r\nL 73.52788 101.17318 \r\nL 76.60226 97.956356 \r\nL 79.67664 94.770261 \r\nL 82.75102 91.618958 \r\nL 85.8254 88.50683 \r\nL 88.89978 85.43861 \r\nL 91.974161 82.419401 \r\nL 95.048541 79.454704 \r\nL 98.122921 76.550445 \r\nL 101.197301 73.713 \r\nL 104.271681 70.949224 \r\nL 107.346061 68.266474 \r\nL 110.420442 65.672631 \r\nL 113.494822 63.176127 \r\nL 116.569202 60.785959 \r\nL 119.643582 58.511704 \r\nL 122.717962 56.363524 \r\nL 125.792342 54.352172 \r\nL 128.866723 52.488974 \r\nL 131.941103 50.785817 \r\nL 135.015483 49.255107 \r\nL 138.089863 47.909723 \r\nL 141.164243 46.762941 \r\nL 144.238623 45.828351 \r\nL 147.313004 45.119734 \r\nL 150.387384 44.650924 \r\nL 153.461764 44.435633 \r\nL 156.536144 44.487253 \r\nL 159.610524 44.81862 \r\nL 162.684904 45.441754 \r\nL 165.759285 46.367559 \r\nL 168.833665 47.605509 \r\nL 171.908045 49.163306 \r\nL 174.982425 51.046525 \r\nL 178.056805 53.258256 \r\nL 181.131185 55.798751 \r\nL 184.205566 58.665101 \r\nL 187.279946 61.850939 \r\nL 190.354326 65.346205 \r\nL 193.428706 69.136977 \r\nL 196.503086 73.205393 \r\nL 199.577466 77.529669 \r\nL 202.651847 82.08423 \r\nL 205.726227 86.839954 \r\nL 208.800607 91.764541 \r\nL 211.874987 96.822981 \r\nL 214.949367 101.97813 \r\nL 218.023747 107.191364 \r\nL 221.098128 112.423287 \r\nL 224.172508 117.634472 \r\nL 227.246888 122.7862 \r\nL 230.321268 127.841179 \r\nL 233.395648 132.764192 \r\nL 236.470028 137.522684 \r\nL 239.544409 142.087236 \r\nL 242.618789 146.431937 \r\nL 245.693169 150.534641 \r\nL 248.767549 154.377096 \r\nL 251.841929 157.944979 \r\nL 254.916309 161.227815 \r\nL 257.99069 164.218819 \r\nL 261.06507 166.914656 \r\nL 264.13945 169.31516 \r\nL 267.21383 171.423002 \r\nL 270.28821 173.243342 \r\nL 273.36259 174.783472 \r\nL 276.436971 176.052458 \r\nL 279.511351 177.060804 \r\nL 282.585731 177.820129 \r\nL 285.660111 178.342869 \r\nL 288.734491 178.642017 \r\nL 291.808871 178.730885 \r\nL 294.883252 178.622902 \r\nL 297.957632 178.331442 \r\nL 301.032012 177.869678 \r\nL 304.106392 177.250468 \r\nL 307.180772 176.486263 \r\nL 310.255152 175.589032 \r\nL 313.329533 174.570217 \r\nL 316.403913 173.44069 \r\nL 319.478293 172.21074 \r\nL 322.552673 170.890057 \r\nL 325.627053 169.487735 \r\nL 328.701433 168.012278 \r\nL 331.775814 166.471616 \r\nL 334.850194 164.873123 \r\nL 337.924574 163.223634 \r\nL 340.998954 161.529478 \r\nL 344.073334 159.796495 \r\nL 347.147714 158.030069 \r\nL 350.222095 156.235152 \r\nL 353.296475 154.416293 \r\nL 356.370855 152.577661 \r\nL 359.445235 150.723074 \r\nL 362.519615 148.856024 \r\nL 365.593995 146.979698 \r\nL 368.668376 145.097002 \r\nL 371.742756 143.210584 \r\n\" style=\"fill:none;stroke:#ff0000;stroke-linecap:square;stroke-width:1.5;\"/>\r\n   </g>\r\n   <g id=\"patch_3\">\r\n    <path d=\"M 52.160938 224.64 \r\nL 52.160938 7.2 \r\n\" style=\"fill:none;stroke:#000000;stroke-linecap:square;stroke-linejoin:miter;stroke-width:0.8;\"/>\r\n   </g>\r\n   <g id=\"patch_4\">\r\n    <path d=\"M 386.960938 224.64 \r\nL 386.960938 7.2 \r\n\" style=\"fill:none;stroke:#000000;stroke-linecap:square;stroke-linejoin:miter;stroke-width:0.8;\"/>\r\n   </g>\r\n   <g id=\"patch_5\">\r\n    <path d=\"M 52.160938 224.64 \r\nL 386.960938 224.64 \r\n\" style=\"fill:none;stroke:#000000;stroke-linecap:square;stroke-linejoin:miter;stroke-width:0.8;\"/>\r\n   </g>\r\n   <g id=\"patch_6\">\r\n    <path d=\"M 52.160938 7.2 \r\nL 386.960938 7.2 \r\n\" style=\"fill:none;stroke:#000000;stroke-linecap:square;stroke-linejoin:miter;stroke-width:0.8;\"/>\r\n   </g>\r\n  </g>\r\n </g>\r\n <defs>\r\n  <clipPath id=\"p7ab0787cb2\">\r\n   <rect height=\"217.44\" width=\"334.8\" x=\"52.160938\" y=\"7.2\"/>\r\n  </clipPath>\r\n </defs>\r\n</svg>\r\n",
      "image/png": "[encoded data removed]"
     },
     "metadata": {
      "needs_background": "light"
     }
    }
   ],
   "source": [
    "# Plot\n",
    "plt.scatter(x, y, s=10)\n",
    "plt.xlabel('x')\n",
    "plt.ylabel('y')\n",
    "t = np.arange(0, 1, .01)[:, np.newaxis]\n",
    "y_pred = predict(t)\n",
    "plt.plot(t, y_pred.data, color='r')\n",
    "plt.show()"
   ]
  },
  {
   "source": [
    "## 매개변수를 모아두는 계층"
   ],
   "cell_type": "markdown",
   "metadata": {}
  },
  {
   "source": [
    "Parameter 클래스 구현"
   ],
   "cell_type": "markdown",
   "metadata": {}
  },
  {
   "cell_type": "code",
   "execution_count": null,
   "metadata": {},
   "outputs": [],
   "source": [
    "# myPackage/core_complex.py\n",
    "class Parameter(Variable):\n",
    "    \"\"\"\n",
    "    입력 파라미터를 관리하는 클래스\n",
    "    \"\"\"\n",
    "    pass"
   ]
  },
  {
   "cell_type": "code",
   "execution_count": null,
   "metadata": {},
   "outputs": [],
   "source": [
    "# myPackage/layers.py\n",
    "from myPackage.core_complex import Parameter\n",
    "import weakref\n",
    "\n",
    "class Layer:\n",
    "    \"\"\"\n",
    "    Layer class\n",
    "    -----------\n",
    "    input, hidden, output layer에 대한 기반클래스\n",
    "\n",
    "    Args\n",
    "    ----\n",
    "    name: Layer's name.\n",
    "    value: Layer's value is put in name's attritube.\n",
    "    inputs: This parameter means layer's input data.\n",
    "\n",
    "    Method\n",
    "    ------\n",
    "    __setattr__: Get parameter(name, value) and check a value's type in Parameter instance. Then, set attribute value about name.\n",
    "    __call__: Make callable function instance with inputs value(get variable argument)(This method use weakref.ref for help to circular reference.).\n",
    "    forward: It will be necessary method from derived class.\n",
    "    params: Yield a layer instances value using iterator.\n",
    "    cleargrad: Clear all value's gradient.\n",
    "    \"\"\"\n",
    "    def __init__(self):\n",
    "        self._params = set()\n",
    "\n",
    "    def __setattr__(self, name, value):\n",
    "        if isinstance(value, Parameter):\n",
    "            self._params.add(name)\n",
    "        super().__setattr__(name, value)\n",
    "\n",
    "    def __call__(self, *inputs):\n",
    "        outputs = self.forward(*inputs)\n",
    "        if not isinstance(outputs, tuple):\n",
    "            outputs = (outputs,)\n",
    "        self.inputs = [weakref.ref(x) for x in inputs]\n",
    "        self.outputs = [weakref.ref(y) for y in outputs]\n",
    "        return outputs if len(outputs) > 1 else outputs[0]\n",
    "\n",
    "    def forward(self, inputs):\n",
    "        raise NotImplementedError()\n",
    "\n",
    "    def params(self):\n",
    "        for name in self._params:\n",
    "            yield self.__dict__[name]\n",
    "        \n",
    "    def cleargrads(self):\n",
    "        for param in self.params():\n",
    "            param.cleargrad()"
   ]
  },
  {
   "source": [
    "return의 경우 처리를 종료하고 값을 반환하는 형식.  \n",
    "yield의 경우 처리를 '일시 중지'하고 값을 반환하는 형식."
   ],
   "cell_type": "markdown",
   "metadata": {}
  },
  {
   "cell_type": "code",
   "execution_count": 24,
   "metadata": {},
   "outputs": [
    {
     "output_type": "stream",
     "name": "stdout",
     "text": [
      "(1, '123')\n(2, '234')\n"
     ]
    }
   ],
   "source": [
    "test = {1: '123', 2: '234'}\n",
    "\n",
    "def temp():\n",
    "    for x, y in test.items():\n",
    "        yield (x, y)\n",
    "\n",
    "for i in temp():\n",
    "    print(i)"
   ]
  },
  {
   "cell_type": "code",
   "execution_count": 25,
   "metadata": {},
   "outputs": [
    {
     "output_type": "stream",
     "name": "stdout",
     "text": [
      "(1, '123')\n(2, '234')\n"
     ]
    }
   ],
   "source": [
    "temptemp = temp()\n",
    "print(next(temptemp))\n",
    "print(next(temptemp))"
   ]
  },
  {
   "cell_type": "code",
   "execution_count": null,
   "metadata": {},
   "outputs": [],
   "source": [
    "import numpy as np\n",
    "import myPackage.functions as F\n",
    "from myPackage.core_complex import Parameter\n",
    "\n",
    "class Linear(Layer):\n",
    "    \"\"\"\n",
    "    Linear Class\n",
    "    \n",
    "    Args\n",
    "    ----\n",
    "    in_size, out_size: input array's size, output array's size\n",
    "    nobias: Flag select to use bias or not.\n",
    "\n",
    "    Method\n",
    "    ------\n",
    "    __init__: Initialize the weight ndarray and set dtype. Then according to nobias config, self.b is decided from config.\n",
    "    forward: Work linear forward propagation.\n",
    "    \"\"\"\n",
    "    def __init__(self, in_size, out_size, nobias=False, dtype=np.float32):\n",
    "        super().__init__()\n",
    "\n",
    "        I, O = in_size, out_size\n",
    "        W_data = np.random.randn(I, O).astype(dtype) * np.sqrt(1 / I)\n",
    "        self.W = Parameter(W_data, name='W')\n",
    "        if nobias:\n",
    "            self.b = None\n",
    "        else:\n",
    "            self.b = Parameter(np.zeros(0, dtype=dtype), name='b')\n",
    "\n",
    "    def forward(self, x):\n",
    "        y = F.linear(x, self.W, self.b)\n",
    "        return y"
   ]
  },
  {
   "source": [
    "현재 Linear class의 경우 가중치가 초기화 당시에 결정되도록 설정되어 있으나 이 가중치 W를  새성하는 시점을 늦춰서 입력 크기를 자동으로 결정하도록 설정할 수 있음"
   ],
   "cell_type": "markdown",
   "metadata": {}
  },
  {
   "cell_type": "code",
   "execution_count": null,
   "metadata": {},
   "outputs": [],
   "source": [
    "class Linear(Layer):\n",
    "    \"\"\"\n",
    "    Linear Class\n",
    "    \n",
    "    Args\n",
    "    ----\n",
    "    in_size, out_size: input array's size, output array's size\n",
    "    nobias: Flag select to use bias or not.\n",
    "\n",
    "    Method\n",
    "    ------\n",
    "    __init__: Set argument from the paramter. Then according to nobias config, self.b is decided from config.\n",
    "    _init_W: Initialize the weight ndarray and set dtype.\n",
    "    forward: Work linear forward propagation.\n",
    "    \"\"\"\n",
    "    def __init__(self, out_size, nobias=False, dtype=np.float32, in_size=None):\n",
    "        super().__init__()\n",
    "        self.in_size = in_size\n",
    "        self.out_size = out_size\n",
    "        self.dtype = dtype\n",
    "\n",
    "        self.W = Parameter(None, name='W')\n",
    "        if self.in_size is not None: # in_size가 정의되지 않은 경우 나중으로 연기\n",
    "            self._init_W()\n",
    "\n",
    "        if nobias:\n",
    "            self.b = None\n",
    "        else:\n",
    "            self.b = Parameter(np.zeros(out_size, dtype=dtype), name='b')\n",
    "\n",
    "\n",
    "    def _init_W(self):\n",
    "        I, O = self.in_size, self.out_size\n",
    "        W_data = np.random.randn(I, O).astype(self.dtype) * np.sqrt(1 / I)\n",
    "        self.W.data = W_data\n",
    "\n",
    "\n",
    "    def forward(self, x):\n",
    "        # 데이터를 흘려보내는 시점에 가중치를 초기화\n",
    "        if self.W.data is None:\n",
    "            self.in_size = x.shape[1]\n",
    "            self._init_W()\n",
    "\n",
    "        y = F.linear(x, self.W, self.b)\n",
    "        return y"
   ]
  },
  {
   "source": [
    "## Layer를 이용한 신경망 구현"
   ],
   "cell_type": "markdown",
   "metadata": {}
  },
  {
   "cell_type": "code",
   "execution_count": 5,
   "metadata": {},
   "outputs": [
    {
     "output_type": "stream",
     "name": "stdout",
     "text": [
      "__file__ in globals at layers.py\n__file__ in globals at utils.py\n__file__ in globals at models.py\n"
     ]
    }
   ],
   "source": [
    "import numpy as np\n",
    "from myPackage import Variable\n",
    "import myPackage.functions as F\n",
    "import myPackage.layers as L"
   ]
  },
  {
   "cell_type": "code",
   "execution_count": 12,
   "metadata": {
    "tags": []
   },
   "outputs": [
    {
     "output_type": "stream",
     "name": "stdout",
     "text": [
      "variable(0.8165178492839196)\n",
      "variable(0.24990280802148895)\n",
      "variable(0.24609876581126014)\n",
      "variable(0.23721590814318072)\n",
      "variable(0.20793216413350174)\n",
      "variable(0.12311905720649353)\n",
      "variable(0.07888166506355153)\n",
      "variable(0.07655073683421634)\n",
      "variable(0.07637803086238225)\n",
      "variable(0.07618764131185568)\n"
     ]
    }
   ],
   "source": [
    "np.random.seed(0)\n",
    "x = np.random.rand(100, 1)\n",
    "y = np.sin(2 * np.pi * x) + np.random.rand(100, 1)\n",
    "\n",
    "l1 = L.Linear(10)\n",
    "l2 = L.Linear(1)\n",
    "\n",
    "def predict(x):\n",
    "    y = l1(x)\n",
    "    y = F.sigmoid(y)\n",
    "    y = l2(y)\n",
    "    return y\n",
    "\n",
    "lr = 0.2\n",
    "iters = 10000\n",
    "\n",
    "for i in range(iters):\n",
    "    y_pred = predict(x)\n",
    "    loss = F.mean_squared_error(y, y_pred)\n",
    "\n",
    "    l1.cleargrads()\n",
    "    l2.cleargrads()\n",
    "    loss.backward()\n",
    "\n",
    "    for l in [l1, l2]:\n",
    "        for p in l.params():\n",
    "            p.data -= lr * p.grad.data\n",
    "    if i % 1000 == 0:\n",
    "        print(loss)"
   ]
  },
  {
   "source": [
    "## 계층을 모아두는 계층"
   ],
   "cell_type": "markdown",
   "metadata": {}
  },
  {
   "source": [
    "Layer 클래스 확장"
   ],
   "cell_type": "markdown",
   "metadata": {}
  },
  {
   "cell_type": "code",
   "execution_count": null,
   "metadata": {},
   "outputs": [],
   "source": [
    "class Layer:\n",
    "    def __init__(self):\n",
    "        self._params = set()\n",
    "\n",
    "    def __setattr__(self, name, value):\n",
    "        if isinstance(value, (Parameter, Layer)): # Layer 추가\n",
    "            self._params.add(name)\n",
    "        super().__setattr__(name, value)\n",
    "\n",
    "    def params(self):\n",
    "        for name in self._params:\n",
    "            obj = self.__dict__[name]\n",
    "\n",
    "            if isinstance(obj, Layer): # Layer인 경우 함수를 메서드를 재호출하여 내부 parameter yield\n",
    "                yield from obj.params()\n",
    "            else:\n",
    "                yield obj"
   ]
  },
  {
   "source": [
    "yield를 사용한 함수를 제너레이터(generator)라고 하며, 제너레이터를 사용하여 또 다른 제너레이터를 생성하고자 할 때는 yield from을 사용해야 한다."
   ],
   "cell_type": "markdown",
   "metadata": {}
  },
  {
   "source": [
    "#### Layer 클래스 상속 후 모델 전체를 하나의 클래스로 정의"
   ],
   "cell_type": "markdown",
   "metadata": {}
  },
  {
   "cell_type": "code",
   "execution_count": null,
   "metadata": {},
   "outputs": [],
   "source": [
    "class TwoLayerNet(Layer):\n",
    "    def __init__(self, hidden_size, out_size):\n",
    "        super().__init__()\n",
    "        self.l1 = L.Linear(hidden_size)\n",
    "        self.l2 = L.Linear(out_size)\n",
    "\n",
    "    def forward(self, x):\n",
    "        y = F.sigmoid(self.l1(x))\n",
    "        y = self.l2(y)\n",
    "        return y"
   ]
  },
  {
   "source": [
    "## Model 클래스"
   ],
   "cell_type": "markdown",
   "metadata": {}
  },
  {
   "cell_type": "code",
   "execution_count": null,
   "metadata": {},
   "outputs": [],
   "source": [
    "# myPackage/models.py\n",
    "from myPackage import Layer\n",
    "from myPackage import utils\n",
    "\n",
    "class Model(Layer):\n",
    "    def plot(self, *inputs, to_file='model.png'):\n",
    "        y = self.forward(*inputs)\n",
    "        return utils.plot_dot_graph(y, verbose=True, to_file=to_file)"
   ]
  },
  {
   "cell_type": "code",
   "execution_count": 7,
   "metadata": {},
   "outputs": [
    {
     "output_type": "stream",
     "name": "stdout",
     "text": [
      "variable(0.8165178492839196)\n",
      "variable(0.24990280802148895)\n",
      "variable(0.24609876581126014)\n",
      "variable(0.23721590814318072)\n",
      "variable(0.20793216413350174)\n",
      "variable(0.12311905720649353)\n",
      "variable(0.07888166506355153)\n",
      "variable(0.07655073683421634)\n",
      "variable(0.07637803086238225)\n",
      "variable(0.07618764131185568)\n"
     ]
    }
   ],
   "source": [
    "import numpy as np\n",
    "import myPackage.layers as L\n",
    "import myPackage.functions as F\n",
    "from myPackage import Variable, Model, Layer\n",
    "\n",
    "np.random.seed(0)\n",
    "x = np.random.rand(100, 1)\n",
    "y = np.sin(2 * np.pi * x) + np.random.rand(100, 1)\n",
    "\n",
    "lr = 0.2\n",
    "max_iter = 10000\n",
    "hidden_size = 10\n",
    "\n",
    "class TwoLayerNet(Layer):\n",
    "    def __init__(self, hidden_size, out_size):\n",
    "        super().__init__()\n",
    "        self.l1 = L.Linear(hidden_size)\n",
    "        self.l2 = L.Linear(out_size)\n",
    "\n",
    "    def forward(self, x):\n",
    "        y = F.sigmoid(self.l1(x))\n",
    "        y = self.l2(y)\n",
    "        return y\n",
    "\n",
    "model = TwoLayerNet(hidden_size, 1)\n",
    "\n",
    "for i in range(max_iter):\n",
    "    y_pred = model(x)\n",
    "    loss = F.mean_squared_error(y, y_pred)\n",
    "    \n",
    "    model.cleargrads()\n",
    "    loss.backward()\n",
    "\n",
    "    for p in model.params():\n",
    "        p.data -= lr * p.grad.data\n",
    "    if i % 1000 == 0:\n",
    "        print(loss)"
   ]
  },
  {
   "source": [
    "## Optimizer로 수행하는 매개변수 갱신"
   ],
   "cell_type": "markdown",
   "metadata": {}
  },
  {
   "cell_type": "code",
   "execution_count": null,
   "metadata": {},
   "outputs": [],
   "source": [
    "class Optimizer:\n",
    "    \"\"\"\n",
    "    Optimizer class\n",
    "    \n",
    "    Args\n",
    "    ----\n",
    "    target: This is optimized by hooks(func).\n",
    "    hooks: There is option list including preprocessing params.\n",
    "\n",
    "    Methods\n",
    "    -------\n",
    "    setup: This exists for update target.\n",
    "    update: This exists for update params.\n",
    "    \"\"\"\n",
    "    def __init__(self):\n",
    "        self.target = None\n",
    "        self.hooks = []\n",
    "\n",
    "    def setup(self, target):\n",
    "        self.target = target\n",
    "        return self\n",
    "\n",
    "    def update(self):\n",
    "        # None 이외의 매개변수 리스트에 모으기\n",
    "        params = [p for p in self.target.params() if p.grad is not None]\n",
    "\n",
    "        # 전처리(옵션)\n",
    "        for f in self.hooks:\n",
    "            f(params)\n",
    "\n",
    "        # 매개변수 갱신\n",
    "        for param in params:\n",
    "            self.update_one(param)\n",
    "\n",
    "    def update_one(self, param):\n",
    "        raise NotImplementedError()\n",
    "\n",
    "    def add_hook(self, f):\n",
    "        self.hooks.append(f)"
   ]
  },
  {
   "source": [
    "### SGD 클래스 구현"
   ],
   "cell_type": "markdown",
   "metadata": {}
  },
  {
   "cell_type": "code",
   "execution_count": null,
   "metadata": {},
   "outputs": [],
   "source": [
    "class SGD(Optimizer):\n",
    "    def __init__(self, lr=0.01):\n",
    "        super().__init__()\n",
    "        self.lr = lr\n",
    "\n",
    "    def update_one(self, param):\n",
    "        param.data -= self.lr * param.grad.data"
   ]
  },
  {
   "cell_type": "code",
   "execution_count": null,
   "metadata": {},
   "outputs": [],
   "source": [
    "class MomentumSGD(Optimizer):\n",
    "    def __init__(self, lr = 0.01, momentum = 0.9):\n",
    "        super().__init__()\n",
    "        self.lr = lr\n",
    "        self.momentum = momentum\n",
    "        self.vs = {}\n",
    "\n",
    "    def update_one(self, param):\n",
    "        v_key = id(param)\n",
    "        if v_key not in self.vs:\n",
    "            self.vs[v_key] = np.zeros_like(param.data)\n",
    "\n",
    "            v = self.vs[v_key]\n",
    "            v *= self.momentum\n",
    "            v -= self.lr * param.grad.data\n",
    "            param.data += v"
   ]
  },
  {
   "source": [
    "## 소프트맥스 & 교차 엔트로피 오차"
   ],
   "cell_type": "markdown",
   "metadata": {}
  },
  {
   "source": [
    "#### 슬라이스 조작 함수"
   ],
   "cell_type": "markdown",
   "metadata": {}
  },
  {
   "cell_type": "code",
   "execution_count": 1,
   "metadata": {},
   "outputs": [
    {
     "output_type": "stream",
     "name": "stdout",
     "text": [
      "[[0. 0. 0.]\n [1. 1. 1.]]\n"
     ]
    }
   ],
   "source": [
    "import numpy as np\n",
    "\n",
    "a = np.zeros((2, 3))\n",
    "b = np.ones((3,))\n",
    "slices = 1\n",
    "\n",
    "np.add.at(a, slices, b)\n",
    "print(a)"
   ]
  },
  {
   "cell_type": "code",
   "execution_count": 66,
   "metadata": {},
   "outputs": [
    {
     "output_type": "stream",
     "name": "stdout",
     "text": [
      "[[0. 0. 0.]\n [1. 1. 1.]]\n[[0. 2. 0.]\n [1. 0. 0.]]\n[[0. 4. 0.]\n [2. 0. 0.]]\n"
     ]
    }
   ],
   "source": [
    "import numpy as np\n",
    "\n",
    "a = np.zeros((2, 3))\n",
    "b = 1\n",
    "\n",
    "slices = ([1], [1], [1]), ([0], [1], [2]) # (1, 0), (1, 1), (1, 2) 위치에 add\n",
    "np.add.at(a, slices, b)\n",
    "print(a)\n",
    "\n",
    "a = np.zeros((2, 3))\n",
    "b = 1\n",
    "\n",
    "slices = ([1], [0], [0]), ([0], [1], [1]) # (1, 0), (0, 1)*2 위치에 add\n",
    "np.add.at(a, slices, b)\n",
    "print(a)\n",
    "\n",
    "slices = ([1], [0], [0]), ([0], [1], [1]) # (1, 0), (0, 1)*2 위치에 add\n",
    "np.add.at(a, slices, b)\n",
    "print(a) # reference 형태로 받아서 바로 반환. (복사 X)"
   ]
  },
  {
   "cell_type": "code",
   "execution_count": 67,
   "metadata": {},
   "outputs": [
    {
     "output_type": "stream",
     "name": "stdout",
     "text": [
      "variable([[1 2 3]\n          [1 2 3]\n          [4 5 6]])\n"
     ]
    }
   ],
   "source": [
    "x = Variable(np.array([[1, 2, 3], [4, 5, 6]]))\n",
    "indices = np.array([0, 0, 1])\n",
    "y = F.get_item(x, indices)\n",
    "print(y)"
   ]
  },
  {
   "source": [
    "### 소프트맥스 함수"
   ],
   "cell_type": "markdown",
   "metadata": {}
  },
  {
   "cell_type": "code",
   "execution_count": null,
   "metadata": {},
   "outputs": [],
   "source": [
    "def softmax1d(x):\n",
    "    x = as_variable(x)\n",
    "    y = F.exp(x)\n",
    "    sum_y = F.sum(y)\n",
    "    return y / sum_y"
   ]
  },
  {
   "cell_type": "code",
   "execution_count": null,
   "metadata": {},
   "outputs": [],
   "source": [
    "# myPackage/functions.py\n",
    "def softmax_simple(x, axis=1):\n",
    "    x = as_variable(x)\n",
    "    y = exp(x)\n",
    "    sum_y = sum(y, axis=axis, keepdims=True)\n",
    "    return y / sum_y"
   ]
  },
  {
   "source": [
    "### 교차 엔트로피 오차"
   ],
   "cell_type": "markdown",
   "metadata": {}
  },
  {
   "cell_type": "code",
   "execution_count": null,
   "metadata": {},
   "outputs": [],
   "source": [
    "def softmax_cross_entropy_simple(x, t):\n",
    "    x, t = as_variable(x), as_variable(t)\n",
    "    N = x.shape[0]\n",
    "    p = softmax(x)\n",
    "    p = clip(p, 1e-15, 1.0)  # To avoid log(0)\n",
    "    log_p = log(p)\n",
    "    tlog_p = log_p[np.arange(N), t.data]\n",
    "    y = -1 * sum(tlog_p) / N\n",
    "    return y"
   ]
  },
  {
   "source": [
    "## 다중 클래스 분류"
   ],
   "cell_type": "markdown",
   "metadata": {}
  },
  {
   "source": [
    "### 스파이럴 데이터셋\n",
    "spiral: 나선형, 소용돌이 모양"
   ],
   "cell_type": "markdown",
   "metadata": {}
  },
  {
   "cell_type": "code",
   "execution_count": 10,
   "metadata": {},
   "outputs": [],
   "source": [
    "import matplotlib.pyplot"
   ]
  },
  {
   "cell_type": "code",
   "execution_count": null,
   "metadata": {},
   "outputs": [],
   "source": []
  },
  {
   "cell_type": "code",
   "execution_count": null,
   "metadata": {},
   "outputs": [],
   "source": []
  },
  {
   "cell_type": "code",
   "execution_count": null,
   "metadata": {},
   "outputs": [],
   "source": []
  },
  {
   "cell_type": "code",
   "execution_count": null,
   "metadata": {},
   "outputs": [],
   "source": []
  },
  {
   "cell_type": "code",
   "execution_count": null,
   "metadata": {},
   "outputs": [],
   "source": []
  },
  {
   "cell_type": "code",
   "execution_count": null,
   "metadata": {},
   "outputs": [],
   "source": []
  }
 ]
}