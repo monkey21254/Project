{
  "nbformat": 4,
  "nbformat_minor": 0,
  "metadata": {
    "colab": {
      "name": "myCutMix.ipynb",
      "provenance": [],
      "collapsed_sections": [],
      "mount_file_id": "1cy4tci8c7h8DAO-V-7F3JLEUgvtP1aa3",
      "authorship_tag": "ABX9TyP5fZhifLQ4kAE6oaNKQ807",
      "include_colab_link": true
    },
    "kernelspec": {
      "name": "python3",
      "display_name": "Python 3"
    },
    "accelerator": "GPU"
  },
  "cells": [
    {
      "cell_type": "markdown",
      "metadata": {
        "id": "view-in-github",
        "colab_type": "text"
      },
      "source": [
        "<a href=\"https://colab.research.google.com/github/monkey21254/Project/blob/main/myCutMix.ipynb\" target=\"_parent\"><img src=\"https://colab.research.google.com/assets/colab-badge.svg\" alt=\"Open In Colab\"/></a>"
      ]
    },
    {
      "cell_type": "code",
      "metadata": {
        "colab": {
          "base_uri": "https://localhost:8080/"
        },
        "id": "FCSgUGwrObIK",
        "outputId": "914ba941-1f5d-4164-de8a-ac8477d53d6d"
      },
      "source": [
        "from google.colab import drive\n",
        "drive.mount('/content/drive')"
      ],
      "execution_count": null,
      "outputs": [
        {
          "output_type": "stream",
          "text": [
            "Mounted at /content/drive\n"
          ],
          "name": "stdout"
        }
      ]
    },
    {
      "cell_type": "code",
      "metadata": {
        "colab": {
          "base_uri": "https://localhost:8080/"
        },
        "id": "DyGLaoePOc9T",
        "outputId": "3bc56bad-d505-466b-f940-3532cc862dfb"
      },
      "source": [
        "# git clone\r\n",
        "!git clone https://github.com/Britefury/cutmix-semisup-seg"
      ],
      "execution_count": 23,
      "outputs": [
        {
          "output_type": "stream",
          "text": [
            "Cloning into 'cutmix-semisup-seg'...\n",
            "remote: Enumerating objects: 103, done.\u001b[K\n",
            "remote: Counting objects: 100% (103/103), done.\u001b[K\n",
            "remote: Compressing objects: 100% (76/76), done.\u001b[K\n",
            "remote: Total 103 (delta 36), reused 85 (delta 21), pack-reused 0\u001b[K\n",
            "Receiving objects: 100% (103/103), 3.58 MiB | 6.58 MiB/s, done.\n",
            "Resolving deltas: 100% (36/36), done.\n"
          ],
          "name": "stdout"
        }
      ]
    },
    {
      "cell_type": "code",
      "metadata": {
        "colab": {
          "base_uri": "https://localhost:8080/"
        },
        "id": "S6nQgfcVO3sa",
        "outputId": "f25c0408-b21c-4b62-a263-134ac66441e3"
      },
      "source": [
        "# 파이썬 버전 확인\r\n",
        "import sys\r\n",
        "sys.version_info"
      ],
      "execution_count": 2,
      "outputs": [
        {
          "output_type": "execute_result",
          "data": {
            "text/plain": [
              "sys.version_info(major=3, minor=6, micro=9, releaselevel='final', serial=0)"
            ]
          },
          "metadata": {
            "tags": []
          },
          "execution_count": 2
        }
      ]
    },
    {
      "cell_type": "code",
      "metadata": {
        "colab": {
          "base_uri": "https://localhost:8080/"
        },
        "id": "AkoArOboP9ir",
        "outputId": "fb8bb3c0-67d1-49ff-ddda-6bf4edc11143"
      },
      "source": [
        "# 디스크 용량\r\n",
        "!df -h"
      ],
      "execution_count": 3,
      "outputs": [
        {
          "output_type": "stream",
          "text": [
            "Filesystem      Size  Used Avail Use% Mounted on\n",
            "overlay          69G   33G   37G  48% /\n",
            "tmpfs            64M     0   64M   0% /dev\n",
            "tmpfs           6.4G     0  6.4G   0% /sys/fs/cgroup\n",
            "shm             5.8G     0  5.8G   0% /dev/shm\n",
            "tmpfs           6.4G   20K  6.4G   1% /var/colab\n",
            "/dev/sda1        75G   34G   41G  46% /opt/bin\n",
            "tmpfs           6.4G     0  6.4G   0% /proc/acpi\n",
            "tmpfs           6.4G     0  6.4G   0% /proc/scsi\n",
            "tmpfs           6.4G     0  6.4G   0% /sys/firmware\n",
            "drive            15G  7.5G  7.6G  50% /content/drive\n"
          ],
          "name": "stdout"
        }
      ]
    },
    {
      "cell_type": "code",
      "metadata": {
        "colab": {
          "base_uri": "https://localhost:8080/"
        },
        "id": "N1YmPeQAP_iZ",
        "outputId": "0eda20be-9caa-4715-ad32-f4c0cd8bbaef"
      },
      "source": [
        "# 메모리 정보\r\n",
        "!cat /proc/meminfo"
      ],
      "execution_count": 4,
      "outputs": [
        {
          "output_type": "stream",
          "text": [
            "MemTotal:       13333596 kB\n",
            "MemFree:        10524888 kB\n",
            "MemAvailable:   12439544 kB\n",
            "Buffers:           82036 kB\n",
            "Cached:          1981988 kB\n",
            "SwapCached:            0 kB\n",
            "Active:           981948 kB\n",
            "Inactive:        1493536 kB\n",
            "Active(anon):     386668 kB\n",
            "Inactive(anon):      356 kB\n",
            "Active(file):     595280 kB\n",
            "Inactive(file):  1493180 kB\n",
            "Unevictable:           0 kB\n",
            "Mlocked:               0 kB\n",
            "SwapTotal:             0 kB\n",
            "SwapFree:              0 kB\n",
            "Dirty:              7228 kB\n",
            "Writeback:             0 kB\n",
            "AnonPages:        411560 kB\n",
            "Mapped:           241636 kB\n",
            "Shmem:              1008 kB\n",
            "Slab:             179656 kB\n",
            "SReclaimable:     133908 kB\n",
            "SUnreclaim:        45748 kB\n",
            "KernelStack:        5056 kB\n",
            "PageTables:         6048 kB\n",
            "NFS_Unstable:          0 kB\n",
            "Bounce:                0 kB\n",
            "WritebackTmp:          0 kB\n",
            "CommitLimit:     6666796 kB\n",
            "Committed_AS:    3359476 kB\n",
            "VmallocTotal:   34359738367 kB\n",
            "VmallocUsed:           0 kB\n",
            "VmallocChunk:          0 kB\n",
            "Percpu:             1048 kB\n",
            "AnonHugePages:         0 kB\n",
            "ShmemHugePages:        0 kB\n",
            "ShmemPmdMapped:        0 kB\n",
            "HugePages_Total:       0\n",
            "HugePages_Free:        0\n",
            "HugePages_Rsvd:        0\n",
            "HugePages_Surp:        0\n",
            "Hugepagesize:       2048 kB\n",
            "Hugetlb:               0 kB\n",
            "DirectMap4k:      140520 kB\n",
            "DirectMap2M:     6150144 kB\n",
            "DirectMap1G:     9437184 kB\n"
          ],
          "name": "stdout"
        }
      ]
    },
    {
      "cell_type": "code",
      "metadata": {
        "colab": {
          "base_uri": "https://localhost:8080/"
        },
        "id": "5eHexU-iQFLa",
        "outputId": "50cc3984-b3d0-44c3-985c-c6a042bf2718"
      },
      "source": [
        "# GPU 사용가능여부 확인\r\n",
        "!nvidia-smi"
      ],
      "execution_count": 5,
      "outputs": [
        {
          "output_type": "stream",
          "text": [
            "Tue Feb 16 06:30:36 2021       \n",
            "+-----------------------------------------------------------------------------+\n",
            "| NVIDIA-SMI 460.39       Driver Version: 460.32.03    CUDA Version: 11.2     |\n",
            "|-------------------------------+----------------------+----------------------+\n",
            "| GPU  Name        Persistence-M| Bus-Id        Disp.A | Volatile Uncorr. ECC |\n",
            "| Fan  Temp  Perf  Pwr:Usage/Cap|         Memory-Usage | GPU-Util  Compute M. |\n",
            "|                               |                      |               MIG M. |\n",
            "|===============================+======================+======================|\n",
            "|   0  Tesla T4            Off  | 00000000:00:04.0 Off |                    0 |\n",
            "| N/A   35C    P8     9W /  70W |      0MiB / 15109MiB |      0%      Default |\n",
            "|                               |                      |                  N/A |\n",
            "+-------------------------------+----------------------+----------------------+\n",
            "                                                                               \n",
            "+-----------------------------------------------------------------------------+\n",
            "| Processes:                                                                  |\n",
            "|  GPU   GI   CI        PID   Type   Process name                  GPU Memory |\n",
            "|        ID   ID                                                   Usage      |\n",
            "|=============================================================================|\n",
            "|  No running processes found                                                 |\n",
            "+-----------------------------------------------------------------------------+\n"
          ],
          "name": "stdout"
        }
      ]
    },
    {
      "cell_type": "code",
      "metadata": {
        "colab": {
          "base_uri": "https://localhost:8080/"
        },
        "id": "ZEf4HrfFQMwB",
        "outputId": "51cc30ef-72e3-4bd7-a8f8-15b73a973d20"
      },
      "source": [
        "# %cd ..\r\n",
        "%cd cutmix-semisup-seg\r\n",
        "# %pip install -qr requirements.txt"
      ],
      "execution_count": 6,
      "outputs": [
        {
          "output_type": "stream",
          "text": [
            "/content/cutmix-semisup-seg\n"
          ],
          "name": "stdout"
        }
      ]
    },
    {
      "cell_type": "code",
      "metadata": {
        "colab": {
          "base_uri": "https://localhost:8080/"
        },
        "id": "ijpLrGfySlZR",
        "outputId": "28cd276d-dc8f-4192-8728-fb8a0779bf63"
      },
      "source": [
        "import torch\r\n",
        "from IPython.display import Image, clear_output\r\n",
        "\r\n",
        "clear_output()\r\n",
        "print('Setup complete. Using torch %s %s' % (torch.__version__, torch.cuda.get_device_properties(0) if torch.cuda.is_available() else 'CPU'))"
      ],
      "execution_count": 8,
      "outputs": [
        {
          "output_type": "stream",
          "text": [
            "Setup complete. Using torch 1.7.0+cu101 _CudaDeviceProperties(name='Tesla T4', major=7, minor=5, total_memory=15109MB, multi_processor_count=40)\n"
          ],
          "name": "stdout"
        }
      ]
    },
    {
      "cell_type": "code",
      "metadata": {
        "colab": {
          "base_uri": "https://localhost:8080/"
        },
        "id": "esFaYYmCTeKZ",
        "outputId": "7bc1a61b-ad9f-4b22-f315-5ed822af5b8c"
      },
      "source": [
        "%pip install git+https://github.com/Britefury/semantic-segmentation-pytorch.git@logits-from-models"
      ],
      "execution_count": 9,
      "outputs": [
        {
          "output_type": "stream",
          "text": [
            "Collecting git+https://github.com/Britefury/semantic-segmentation-pytorch.git@logits-from-models\n",
            "  Cloning https://github.com/Britefury/semantic-segmentation-pytorch.git (to revision logits-from-models) to /tmp/pip-req-build-z5hsu4rg\n",
            "  Running command git clone -q https://github.com/Britefury/semantic-segmentation-pytorch.git /tmp/pip-req-build-z5hsu4rg\n",
            "  Running command git checkout -b logits-from-models --track origin/logits-from-models\n",
            "  Switched to a new branch 'logits-from-models'\n",
            "  Branch 'logits-from-models' set up to track remote branch 'logits-from-models' from 'origin'.\n",
            "Requirement already satisfied: numpy in /usr/local/lib/python3.6/dist-packages (from mit-semseg==1.0.0) (1.19.5)\n",
            "Requirement already satisfied: torch>=0.4.1 in /usr/local/lib/python3.6/dist-packages (from mit-semseg==1.0.0) (1.7.0+cu101)\n",
            "Requirement already satisfied: torchvision in /usr/local/lib/python3.6/dist-packages (from mit-semseg==1.0.0) (0.8.1+cu101)\n",
            "Requirement already satisfied: opencv-python in /usr/local/lib/python3.6/dist-packages (from mit-semseg==1.0.0) (4.1.2.30)\n",
            "Collecting yacs\n",
            "  Downloading https://files.pythonhosted.org/packages/38/4f/fe9a4d472aa867878ce3bb7efb16654c5d63672b86dc0e6e953a67018433/yacs-0.1.8-py3-none-any.whl\n",
            "Requirement already satisfied: scipy in /usr/local/lib/python3.6/dist-packages (from mit-semseg==1.0.0) (1.4.1)\n",
            "Requirement already satisfied: tqdm in /usr/local/lib/python3.6/dist-packages (from mit-semseg==1.0.0) (4.41.1)\n",
            "Requirement already satisfied: future in /usr/local/lib/python3.6/dist-packages (from torch>=0.4.1->mit-semseg==1.0.0) (0.16.0)\n",
            "Requirement already satisfied: dataclasses in /usr/local/lib/python3.6/dist-packages (from torch>=0.4.1->mit-semseg==1.0.0) (0.8)\n",
            "Requirement already satisfied: typing-extensions in /usr/local/lib/python3.6/dist-packages (from torch>=0.4.1->mit-semseg==1.0.0) (3.7.4.3)\n",
            "Requirement already satisfied: pillow>=4.1.1 in /usr/local/lib/python3.6/dist-packages (from torchvision->mit-semseg==1.0.0) (7.0.0)\n",
            "Requirement already satisfied: PyYAML in /usr/local/lib/python3.6/dist-packages (from yacs->mit-semseg==1.0.0) (3.13)\n",
            "Building wheels for collected packages: mit-semseg\n",
            "  Building wheel for mit-semseg (setup.py) ... \u001b[?25l\u001b[?25hdone\n",
            "  Created wheel for mit-semseg: filename=mit_semseg-1.0.0-cp36-none-any.whl size=46732 sha256=0cdda3c39856a2ce88cd9187b56338e2cb87473d2252be145c9998291cd311e3\n",
            "  Stored in directory: /tmp/pip-ephem-wheel-cache-ewf_sku5/wheels/02/2a/b0/5fbf7ecd42ac24c2a373706abe9a1c55721120ec3b094e1fa9\n",
            "Successfully built mit-semseg\n",
            "Installing collected packages: yacs, mit-semseg\n",
            "Successfully installed mit-semseg-1.0.0 yacs-0.1.8\n"
          ],
          "name": "stdout"
        }
      ]
    },
    {
      "cell_type": "code",
      "metadata": {
        "colab": {
          "base_uri": "https://localhost:8080/",
          "height": 35
        },
        "id": "Qz7Zs6vfT27x",
        "outputId": "95451f63-0d4c-4f8e-cff5-fa2a004ee335"
      },
      "source": [
        "import os\r\n",
        "os.getcwd()"
      ],
      "execution_count": 10,
      "outputs": [
        {
          "output_type": "execute_result",
          "data": {
            "application/vnd.google.colaboratory.intrinsic+json": {
              "type": "string"
            },
            "text/plain": [
              "'/content/cutmix-semisup-seg'"
            ]
          },
          "metadata": {
            "tags": []
          },
          "execution_count": 10
        }
      ]
    },
    {
      "cell_type": "code",
      "metadata": {
        "id": "hqEhQdWYVO7i"
      },
      "source": [
        "def make_dir(name):\r\n",
        "  if not os.path.isdir(name):\r\n",
        "    os.mkdir(name)\r\n",
        "  else:\r\n",
        "    print(\"Already exists.\")"
      ],
      "execution_count": 11,
      "outputs": []
    },
    {
      "cell_type": "markdown",
      "metadata": {
        "id": "Lc4trE0QdJgH"
      },
      "source": [
        "#### cfg 파일 작성"
      ]
    },
    {
      "cell_type": "code",
      "metadata": {
        "id": "TIEXy8aHWK-8"
      },
      "source": [
        "make_path = ['[paths]\\n',\r\n",
        "'camvid=/datasets/camvid/CamVidData.zip\\n',\r\n",
        "'cityscapes=/datasets/cityscapes\\cityscapes_segmentation.zip\\n',\r\n",
        "'isic2017=/datasets/isic2017/isic2017_segmentation_248x248.zip\\n',\r\n",
        "'pascal_voc=/content/cutmix-semisup-seg/VOCdevkit/VOC2012']\r\n",
        "# 'pascal_voc=/datasets/pascal_voc2012/VOCdevkit/VOC2012'에서 수정"
      ],
      "execution_count": 28,
      "outputs": []
    },
    {
      "cell_type": "code",
      "metadata": {
        "id": "3YVs1lFnVjpI"
      },
      "source": [
        "with open(\"semantic_segmentation.cfg\", 'w') as f:\r\n",
        "    f.writelines(make_path)"
      ],
      "execution_count": 29,
      "outputs": []
    },
    {
      "cell_type": "markdown",
      "metadata": {
        "id": "6iHiznd0dOLN"
      },
      "source": [
        "#### tar 파일 압축풀기"
      ]
    },
    {
      "cell_type": "code",
      "metadata": {
        "id": "G00jn5ljV1jQ"
      },
      "source": [
        "# tar 파일 압축 풀기\r\n",
        "!tar -xvf /content/drive/MyDrive/temp/VOCtrainval_11-May-2012.tar -C ."
      ],
      "execution_count": null,
      "outputs": []
    },
    {
      "cell_type": "code",
      "metadata": {
        "id": "8fd91c6mdVmi"
      },
      "source": [
        "# zip 파일 압축 풀기\r\n",
        "!unzip /content/drive/MyDrive/temp/SegmentationClassAug.zip -d /content/cutmix-semisup-seg/VOCdevkit/VOC2012"
      ],
      "execution_count": null,
      "outputs": []
    },
    {
      "cell_type": "code",
      "metadata": {
        "id": "bOA7sI6BdV8X"
      },
      "source": [
        "!python download_pascal_aug_names.py"
      ],
      "execution_count": 31,
      "outputs": []
    },
    {
      "cell_type": "code",
      "metadata": {
        "colab": {
          "base_uri": "https://localhost:8080/"
        },
        "id": "7SuRFoNidWI3",
        "outputId": "cee4e646-8e0f-4ee3-864f-e29f0b11d481"
      },
      "source": [
        "!sh run_pascal_aug_deeplab3plus_experiments.sh 1000 5"
      ],
      "execution_count": null,
      "outputs": [
        {
          "output_type": "stream",
          "text": [
            "[NO dnnlib] logging to results/train_seg_semisup_mask_mt/log_pascalaug_deeplab3plusi_lr1e-5_sup_5_split0.txt\n",
            "Loaded data\n",
            "Built network\n",
            "Settings:\n",
            "arch=resnet101_deeplabv3plus_imagenet, aug_hflip=True, aug_hvflip=False, aug_max_scale=1.0, aug_rot_mag=0.0, aug_scale_hung=True, aug_scale_non_uniform=False, aug_vflip=False, batch_size=10, bin_fill_holes=False, boxmask_by_size=False, boxmask_fixed_aspect_ratio=False, boxmask_n_boxes=1, boxmask_no_invert=False, boxmask_outside_bounds=False, conf_per_pixel=False, conf_thresh=0.97, cons_loss_fn=var, cons_weight=0.0, crop_size=321,321, dataset=pascal_aug, freeze_bn=True, iters_per_epoch=1000, learning_rate=1e-05, lr_poly_power=0.9, lr_sched=none, lr_step_epochs=, lr_step_gamma=0.1, mask_mode=mix, mask_prop_range=0.5, model=mean_teacher, n_sup=1000, n_unsup=-1, n_val=-1, num_epochs=40, num_workers=4, opt_type=adam, rampup=-1, save_model=False, save_preds=False, sgd_momentum=0.9, sgd_nesterov=False, sgd_weight_decay=0.0005, split_path=./data/splits/pascal_aug/split_0.pkl, split_seed=12345, teacher_alpha=0.99, unsup_batch_ratio=1, val_seed=131\n",
            "Dataset:\n",
            "len(sup_ndx)=1000\n",
            "len(unsup_ndx)=10582\n",
            "len(val_ndx)=1449\n",
            "sup_ndx=[4041, 10987, 1393, 1340, 10725, 11221, 5444, 6425, 2462, 9129, 664, 1328, 4216, 6189, 11252, 8603, 2846, 1343, 10626, 4905, 4596, 5926, 2943, 7293, 6702, 9725, 5538, 7175, 2849, 7003, 5821, 7980, 8742, 4818, 2644, 1154, 832, 7127, 5611, 7147, 2912, 7607, 8001, 4127, 7246, 5401, 6498, 6063, 4657, 8542, 5465, 3534, 10944, 8031, 6732, 8988, 7848, 1146, 10066, 9518, 4710, 5087, 3179, 7597, 3887, 6032, 5498, 1323, 298, 9570, 11578, 6578, 11746, 1166, 1241, 2738, 2110, 2485, 7494, 12017, 9544, 10115, 6921, 4615, 2351, 10663, 5997, 9124, 5847, 7235, 7373, 2242, 6079, 2487, 8117, 2836, 6146, 8595, 6859, 8009, 7644, 5163, 5262, 2643, 11689, 3942, 9099, 7453, 3684, 7955, 3665, 4525, 1044, 2620, 10530, 6381, 9307, 9500, 10615, 10438, 1912, 8809, 7227, 6196, 5573, 3048, 1521, 2622, 5574, 821, 995, 8208, 4958, 3437, 7843, 8627, 8182, 9451, 10417, 4896, 10913, 7781, 5413, 8533, 9804, 2252, 3510, 8496, 10465, 7123, 2266, 8673, 773, 6704, 8771, 6100, 11315, 6112, 8521, 8382, 4342, 8667, 1023, 11107, 10907, 9011, 11668, 9123, 2963, 4535, 4781, 5192, 1522, 10628, 5365, 1657, 819, 7953, 9864, 7024, 4285, 9249, 10598, 8646, 5947, 777, 9957, 10085, 2589, 8944, 8633, 7500, 5517, 8570, 9694, 8674, 9580, 8659, 7465, 2183, 1492, 4441, 1583, 8406, 9418, 4466, 7834, 10061, 6608, 8917, 3551, 5636, 6149, 6851, 6522, 11568, 8745, 10191, 2318, 5555, 2178, 285, 8205, 5822, 4825, 2700, 6804, 6087, 1419, 3846, 8149, 7882, 324, 11844, 9066, 3754, 7567, 4100, 9467, 7434, 4379, 11947, 6113, 5370, 3927, 11390, 8107, 2124, 9542, 8186, 9431, 11861, 9071, 6912, 7354, 2934, 7952, 10020, 5367, 10815, 5124, 12016, 10733, 5775, 11639, 2291, 5708, 11887, 4806, 705, 6823, 6382, 9057, 11207, 6406, 4201, 121, 5180, 11387, 205, 7519, 2609, 10741, 824, 8275, 2853, 2382, 10992, 5324, 10754, 6052, 9566, 4774, 9031, 5503, 11938, 11537, 8946, 6811, 4468, 908, 947, 5878, 1624, 2599, 1339, 7257, 10358, 11536, 4794, 300, 3049, 515, 10981, 6591, 1157, 8791, 2968, 7938, 12014, 9742, 9081, 3589, 8572, 2459, 1308, 9010, 2095, 10135, 1431, 7451, 1462, 9686, 2856, 3430, 11484, 9752, 666, 4821, 5920, 10730, 9523, 2155, 6932, 5594, 6709, 6384, 10410, 9936, 8968, 3079, 11709, 7384, 3660, 8770, 5620, 10674, 1622, 720, 7517, 1650, 3628, 8736, 9671, 2322, 11940, 7241, 1909, 7688, 7313, 2928, 3288, 11885, 2112, 11303, 354, 11952, 5645, 6989, 11218, 10689, 10467, 6178, 5062, 4095, 1855, 7476, 8769, 5453, 6810, 1397, 7502, 8285, 10903, 5622, 992, 9559, 11208, 294, 5305, 11907, 9001, 9854, 1356, 5601, 8810, 3747, 6431, 8365, 1837, 3875, 10134, 2859, 7839, 413, 11404, 5583, 938, 9156, 4271, 863, 1121, 6992, 10976, 3760, 7639, 5172, 5657, 1134, 867, 4156, 6768, 10107, 11863, 9894, 7119, 10528, 7329, 7708, 11276, 10652, 3513, 9816, 418, 5945, 9510, 4946, 3322, 8623, 9809, 2199, 7345, 2601, 8042, 3809, 4693, 9477, 10919, 3051, 9853, 10897, 2039, 4220, 4438, 11978, 7769, 10224, 10298, 2962, 2179, 5265, 9656, 5589, 5668, 951, 2811, 2562, 10972, 7695, 797, 6493, 12004, 8783, 11191, 5540, 3635, 4610, 9386, 1952, 9181, 5217, 9012, 7455, 7513, 1904, 4168, 6985, 9962, 3092, 9419, 228, 5646, 3012, 8279, 10445, 1778, 11565, 306, 1862, 11678, 6693, 1659, 374, 10182, 11891, 1628, 2685, 8656, 3089, 11994, 9615, 2575, 1304, 4328, 4605, 10839, 1808, 401, 3514, 4830, 11826, 4576, 2477, 3696, 207, 7590, 11823, 4158, 5434, 10632, 10926, 2771, 9264, 9947, 2978, 5290, 6326, 1885, 5973, 2083, 3617, 4993, 8300, 5849, 2699, 9669, 1050, 9838, 5649, 8606, 7740, 4418, 7347, 2763, 2747, 4160, 10964, 3516, 6710, 7410, 9297, 10039, 1194, 1022, 3302, 4939, 4790, 7336, 2230, 10893, 8008, 2985, 3189, 3373, 2337, 4149, 4985, 1437, 5916, 1620, 7604, 2185, 11641, 8682, 4699, 10077, 6262, 5044, 6837, 9690, 11202, 1354, 5123, 4617, 722, 2132, 9508, 6190, 10389, 8740, 3452, 791, 2397, 10552, 7818, 5315, 6738, 7056, 3411, 3425, 3998, 7267, 8116, 5771, 9120, 5073, 86, 1410, 2001, 3178, 11331, 10207, 1199, 5325, 1856, 7419, 5633, 10363, 4621, 6278, 11518, 5000, 9062, 11502, 10679, 7093, 7573, 5677, 4518, 4917, 2741, 9750, 1589, 7810, 8815, 9969, 9420, 7954, 2394, 11458, 1618, 7049, 5710, 7510, 994, 6529, 2084, 2346, 237, 2000, 11761, 801, 10580, 2088, 7136, 8103, 1979, 4948, 406, 4516, 4554, 10502, 6216, 7362, 8642, 1036, 11530, 3799, 8344, 4254, 5231, 10240, 6785, 1637, 2881, 6603, 3915, 1575, 3572, 10402, 4276, 10312, 7626, 7877, 10127, 514, 9781, 1374, 1630, 7168, 6987, 11588, 10823, 9506, 3552, 3397, 8585, 2398, 5584, 3220, 4124, 9013, 6232, 10150, 4154, 10336, 916, 6102, 7118, 1301, 4565, 7743, 9421, 1081, 11090, 4677, 1494, 9065, 8514, 4377, 5933, 10239, 10396, 6917, 851, 7881, 7495, 1935, 9137, 1383, 7941, 4859, 4834, 10259, 8457, 9244, 4333, 4456, 9271, 2213, 10709, 8046, 11717, 8246, 9468, 5746, 6821, 4301, 9974, 4001, 6683, 5760, 11316, 9109, 11193, 11030, 3801, 2923, 9061, 8181, 6865, 6248, 8932, 4430, 11376, 917, 6025, 3367, 287, 8237, 10918, 1582, 8316, 1270, 10858, 5519, 656, 7835, 176, 5879, 8277, 2384, 4882, 10086, 7951, 8967, 10494, 1706, 5733, 10464, 1274, 3575, 2661, 582, 3989, 8427, 3980, 2249, 904, 2637, 4478, 9619, 2430, 10168, 4820, 3270, 1967, 4812, 11431, 8028, 4573, 10835, 5590, 4731, 1727, 11731, 6292, 7579, 3938, 9720, 4081, 7196, 8167, 5181, 9380, 11582, 4153, 6107, 3631, 7693, 5749, 1921, 11175, 896, 550, 8188, 892, 10927, 1452, 7867, 6910, 6903, 1651, 454, 6798, 4388, 7633, 4660, 8629, 11698, 8350, 4588, 1929, 2551, 6715, 8269, 2450, 3451, 10900, 135, 2719, 6305, 2689, 2778, 8448, 7244, 3614, 3477, 4974, 1537, 114, 813, 7288, 2554, 9968, 3440, 1753, 1149, 4134, 5128, 3255, 5222, 8800, 9978, 10373, 5316, 7584, 8286, 3841, 3878, 4585, 3610, 6418, 4600, 11403, 5101, 3778, 6933, 11060, 2123, 2861, 10759, 5422, 7817, 2925, 4556, 7725, 8567, 1507, 11248, 3736, 2509, 10680, 5437, 9745, 2310, 3861, 3950, 5962, 5727, 4666, 8272, 1730, 5635, 5691, 10348, 2057, 3854, 5938, 1347, 7640, 737, 1173, 10344, 3127, 5049, 3506, 9489, 4622, 11409, 7651, 5889, 9512, 510, 127, 1148, 258, 1941, 405, 1218, 11279, 4192, 1617, 4277, 9695, 9616, 750, 11052, 4145, 1989, 5521, 9337, 1652, 5661, 8271, 1024, 9638, 10864, 3269, 9966, 11399, 695, 6218, 4956, 11149, 7618, 11937, 9977, 9210, 10564]\n",
            "Training...\n",
            "Epoch 1: took 2812.698s, TRAIN clf loss=0.839178, consistency loss=0.000000, conf rate=0.000%, VAL mIoU=57.832%\n",
            "-- 90.198%, 74.150%, 28.655%, 76.444%, 53.527%, 38.734%, 78.793%, 71.358%, 83.004%, 20.932%, 51.344%, 34.074%, 74.168%, 55.942%, 66.418%, 76.891%, 21.809%, 60.209%, 30.218%, 68.811%, 58.803%\n",
            "Epoch 2: took 2824.710s, TRAIN clf loss=0.304861, consistency loss=0.000000, conf rate=0.000%, VAL mIoU=62.876%\n",
            "-- 91.211%, 81.878%, 32.484%, 82.045%, 56.818%, 58.387%, 83.325%, 75.141%, 86.103%, 21.192%, 53.762%, 36.696%, 79.233%, 58.784%, 71.938%, 79.485%, 36.466%, 67.463%, 30.309%, 74.612%, 63.062%\n"
          ],
          "name": "stdout"
        }
      ]
    },
    {
      "cell_type": "code",
      "metadata": {
        "id": "bDT00wCNdWMF"
      },
      "source": [
        "0# !rm -r ./results"
      ],
      "execution_count": 30,
      "outputs": []
    },
    {
      "cell_type": "code",
      "metadata": {
        "id": "xEKyYYFcdWPt"
      },
      "source": [
        ""
      ],
      "execution_count": null,
      "outputs": []
    },
    {
      "cell_type": "code",
      "metadata": {
        "id": "HE8nMNRIdWTF"
      },
      "source": [
        ""
      ],
      "execution_count": null,
      "outputs": []
    }
  ]
}