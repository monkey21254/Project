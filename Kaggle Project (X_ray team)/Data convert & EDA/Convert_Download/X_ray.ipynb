{
 "cells": [
  {
   "cell_type": "code",
   "execution_count": 10,
   "id": "protecting-spelling",
   "metadata": {},
   "outputs": [],
   "source": [
    "import numpy as np\n",
    "import pandas as pd\n",
    "import os\n",
    "from glob import glob\n",
    "import shutil\n",
    "import matplotlib.pyplot as plt\n",
    "import seaborn as sns"
   ]
  },
  {
   "cell_type": "code",
   "execution_count": 11,
   "id": "military-jacksonville",
   "metadata": {},
   "outputs": [],
   "source": [
    "start_root = 'C:/Users/monke/Downloads/vinbigdata/'"
   ]
  },
  {
   "cell_type": "code",
   "execution_count": 12,
   "id": "adjacent-sauce",
   "metadata": {},
   "outputs": [],
   "source": [
    "train_df = pd.read_csv(f'{start_root}train.csv')"
   ]
  },
  {
   "cell_type": "code",
   "execution_count": 13,
   "id": "following-summary",
   "metadata": {},
   "outputs": [
    {
     "data": {
      "text/html": [
       "<div>\n",
       "<style scoped>\n",
       "    .dataframe tbody tr th:only-of-type {\n",
       "        vertical-align: middle;\n",
       "    }\n",
       "\n",
       "    .dataframe tbody tr th {\n",
       "        vertical-align: top;\n",
       "    }\n",
       "\n",
       "    .dataframe thead th {\n",
       "        text-align: right;\n",
       "    }\n",
       "</style>\n",
       "<table border=\"1\" class=\"dataframe\">\n",
       "  <thead>\n",
       "    <tr style=\"text-align: right;\">\n",
       "      <th></th>\n",
       "      <th>image_id</th>\n",
       "      <th>class_name</th>\n",
       "      <th>class_id</th>\n",
       "      <th>rad_id</th>\n",
       "      <th>x_min</th>\n",
       "      <th>y_min</th>\n",
       "      <th>x_max</th>\n",
       "      <th>y_max</th>\n",
       "    </tr>\n",
       "  </thead>\n",
       "  <tbody>\n",
       "    <tr>\n",
       "      <th>0</th>\n",
       "      <td>50a418190bc3fb1ef1633bf9678929b3</td>\n",
       "      <td>No finding</td>\n",
       "      <td>14</td>\n",
       "      <td>R11</td>\n",
       "      <td>NaN</td>\n",
       "      <td>NaN</td>\n",
       "      <td>NaN</td>\n",
       "      <td>NaN</td>\n",
       "    </tr>\n",
       "    <tr>\n",
       "      <th>1</th>\n",
       "      <td>21a10246a5ec7af151081d0cd6d65dc9</td>\n",
       "      <td>No finding</td>\n",
       "      <td>14</td>\n",
       "      <td>R7</td>\n",
       "      <td>NaN</td>\n",
       "      <td>NaN</td>\n",
       "      <td>NaN</td>\n",
       "      <td>NaN</td>\n",
       "    </tr>\n",
       "    <tr>\n",
       "      <th>2</th>\n",
       "      <td>9a5094b2563a1ef3ff50dc5c7ff71345</td>\n",
       "      <td>Cardiomegaly</td>\n",
       "      <td>3</td>\n",
       "      <td>R10</td>\n",
       "      <td>691.0</td>\n",
       "      <td>1375.0</td>\n",
       "      <td>1653.0</td>\n",
       "      <td>1831.0</td>\n",
       "    </tr>\n",
       "    <tr>\n",
       "      <th>3</th>\n",
       "      <td>051132a778e61a86eb147c7c6f564dfe</td>\n",
       "      <td>Aortic enlargement</td>\n",
       "      <td>0</td>\n",
       "      <td>R10</td>\n",
       "      <td>1264.0</td>\n",
       "      <td>743.0</td>\n",
       "      <td>1611.0</td>\n",
       "      <td>1019.0</td>\n",
       "    </tr>\n",
       "    <tr>\n",
       "      <th>4</th>\n",
       "      <td>063319de25ce7edb9b1c6b8881290140</td>\n",
       "      <td>No finding</td>\n",
       "      <td>14</td>\n",
       "      <td>R10</td>\n",
       "      <td>NaN</td>\n",
       "      <td>NaN</td>\n",
       "      <td>NaN</td>\n",
       "      <td>NaN</td>\n",
       "    </tr>\n",
       "    <tr>\n",
       "      <th>...</th>\n",
       "      <td>...</td>\n",
       "      <td>...</td>\n",
       "      <td>...</td>\n",
       "      <td>...</td>\n",
       "      <td>...</td>\n",
       "      <td>...</td>\n",
       "      <td>...</td>\n",
       "      <td>...</td>\n",
       "    </tr>\n",
       "    <tr>\n",
       "      <th>67909</th>\n",
       "      <td>936fd5cff1c058d39817a08f58b72cae</td>\n",
       "      <td>No finding</td>\n",
       "      <td>14</td>\n",
       "      <td>R1</td>\n",
       "      <td>NaN</td>\n",
       "      <td>NaN</td>\n",
       "      <td>NaN</td>\n",
       "      <td>NaN</td>\n",
       "    </tr>\n",
       "    <tr>\n",
       "      <th>67910</th>\n",
       "      <td>ca7e72954550eeb610fe22bf0244b7fa</td>\n",
       "      <td>No finding</td>\n",
       "      <td>14</td>\n",
       "      <td>R1</td>\n",
       "      <td>NaN</td>\n",
       "      <td>NaN</td>\n",
       "      <td>NaN</td>\n",
       "      <td>NaN</td>\n",
       "    </tr>\n",
       "    <tr>\n",
       "      <th>67911</th>\n",
       "      <td>aa17d5312a0fb4a2939436abca7f9579</td>\n",
       "      <td>No finding</td>\n",
       "      <td>14</td>\n",
       "      <td>R8</td>\n",
       "      <td>NaN</td>\n",
       "      <td>NaN</td>\n",
       "      <td>NaN</td>\n",
       "      <td>NaN</td>\n",
       "    </tr>\n",
       "    <tr>\n",
       "      <th>67912</th>\n",
       "      <td>4b56bc6d22b192f075f13231419dfcc8</td>\n",
       "      <td>Cardiomegaly</td>\n",
       "      <td>3</td>\n",
       "      <td>R8</td>\n",
       "      <td>771.0</td>\n",
       "      <td>979.0</td>\n",
       "      <td>1680.0</td>\n",
       "      <td>1311.0</td>\n",
       "    </tr>\n",
       "    <tr>\n",
       "      <th>67913</th>\n",
       "      <td>5e272e3adbdaafb07a7e84a9e62b1a4c</td>\n",
       "      <td>No finding</td>\n",
       "      <td>14</td>\n",
       "      <td>R16</td>\n",
       "      <td>NaN</td>\n",
       "      <td>NaN</td>\n",
       "      <td>NaN</td>\n",
       "      <td>NaN</td>\n",
       "    </tr>\n",
       "  </tbody>\n",
       "</table>\n",
       "<p>67914 rows × 8 columns</p>\n",
       "</div>"
      ],
      "text/plain": [
       "                               image_id          class_name  class_id rad_id  \\\n",
       "0      50a418190bc3fb1ef1633bf9678929b3          No finding        14    R11   \n",
       "1      21a10246a5ec7af151081d0cd6d65dc9          No finding        14     R7   \n",
       "2      9a5094b2563a1ef3ff50dc5c7ff71345        Cardiomegaly         3    R10   \n",
       "3      051132a778e61a86eb147c7c6f564dfe  Aortic enlargement         0    R10   \n",
       "4      063319de25ce7edb9b1c6b8881290140          No finding        14    R10   \n",
       "...                                 ...                 ...       ...    ...   \n",
       "67909  936fd5cff1c058d39817a08f58b72cae          No finding        14     R1   \n",
       "67910  ca7e72954550eeb610fe22bf0244b7fa          No finding        14     R1   \n",
       "67911  aa17d5312a0fb4a2939436abca7f9579          No finding        14     R8   \n",
       "67912  4b56bc6d22b192f075f13231419dfcc8        Cardiomegaly         3     R8   \n",
       "67913  5e272e3adbdaafb07a7e84a9e62b1a4c          No finding        14    R16   \n",
       "\n",
       "        x_min   y_min   x_max   y_max  \n",
       "0         NaN     NaN     NaN     NaN  \n",
       "1         NaN     NaN     NaN     NaN  \n",
       "2       691.0  1375.0  1653.0  1831.0  \n",
       "3      1264.0   743.0  1611.0  1019.0  \n",
       "4         NaN     NaN     NaN     NaN  \n",
       "...       ...     ...     ...     ...  \n",
       "67909     NaN     NaN     NaN     NaN  \n",
       "67910     NaN     NaN     NaN     NaN  \n",
       "67911     NaN     NaN     NaN     NaN  \n",
       "67912   771.0   979.0  1680.0  1311.0  \n",
       "67913     NaN     NaN     NaN     NaN  \n",
       "\n",
       "[67914 rows x 8 columns]"
      ]
     },
     "execution_count": 13,
     "metadata": {},
     "output_type": "execute_result"
    }
   ],
   "source": [
    "train_df"
   ]
  },
  {
   "cell_type": "code",
   "execution_count": 14,
   "id": "engaged-wyoming",
   "metadata": {},
   "outputs": [
    {
     "data": {
      "text/plain": [
       "15000"
      ]
     },
     "execution_count": 14,
     "metadata": {},
     "output_type": "execute_result"
    }
   ],
   "source": [
    "train_df.image_id.nunique()"
   ]
  },
  {
   "cell_type": "code",
   "execution_count": 15,
   "id": "sized-greenhouse",
   "metadata": {},
   "outputs": [
    {
     "name": "stdout",
     "output_type": "stream",
     "text": [
      "No finding 10606\n",
      "Cardiomegaly 2300\n",
      "Aortic enlargement 3067\n",
      "Pleural thickening 1981\n",
      "ILD 386\n",
      "Nodule/Mass 826\n",
      "Pulmonary fibrosis 1617\n",
      "Lung Opacity 1322\n",
      "Atelectasis 186\n",
      "Other lesion 1134\n",
      "Infiltration 613\n",
      "Pleural effusion 1032\n",
      "Calcification 452\n",
      "Consolidation 353\n",
      "Pneumothorax 96\n"
     ]
    }
   ],
   "source": [
    "for item in train_df.class_name.unique():\n",
    "    num = train_df[train_df.class_name == item].image_id.nunique()\n",
    "    print(item, num)"
   ]
  },
  {
   "cell_type": "code",
   "execution_count": 16,
   "id": "motivated-yacht",
   "metadata": {},
   "outputs": [
    {
     "data": {
      "image/png": "[encoded data removed]",
      "text/plain": [
       "<Figure size 1872x576 with 1 Axes>"
      ]
     },
     "metadata": {
      "needs_background": "light"
     },
     "output_type": "display_data"
    }
   ],
   "source": [
    "plt.figure(figsize = (26, 8))\n",
    "sns.countplot(x = 'class_name', data = train_df)\n",
    "plt.title(\"Class Name Distribution\")\n",
    "plt.show()"
   ]
  },
  {
   "cell_type": "code",
   "execution_count": 17,
   "id": "associate-medline",
   "metadata": {},
   "outputs": [
    {
     "data": {
      "text/plain": [
       "'C:\\\\Xray'"
      ]
     },
     "execution_count": 17,
     "metadata": {},
     "output_type": "execute_result"
    }
   ],
   "source": [
    "os.getcwd()"
   ]
  },
  {
   "cell_type": "code",
   "execution_count": 21,
   "id": "conditional-somalia",
   "metadata": {},
   "outputs": [],
   "source": [
    "data_path = 'C:/Xray/data'"
   ]
  },
  {
   "cell_type": "code",
   "execution_count": 22,
   "id": "simplified-reggae",
   "metadata": {},
   "outputs": [],
   "source": [
    "def make_dir(name):\n",
    "    if not os.path.isdir(name):\n",
    "        os.mkdir(name)\n",
    "        print(name, \"active\")\n",
    "    else:\n",
    "        print(\"Already exists\")"
   ]
  },
  {
   "cell_type": "code",
   "execution_count": 23,
   "id": "artificial-germany",
   "metadata": {},
   "outputs": [
    {
     "name": "stdout",
     "output_type": "stream",
     "text": [
      "C:/Xray/data active\n"
     ]
    }
   ],
   "source": [
    "make_dir(data_path)"
   ]
  },
  {
   "cell_type": "code",
   "execution_count": 28,
   "id": "liberal-anime",
   "metadata": {},
   "outputs": [],
   "source": [
    "import pydicom\n",
    "from tqdm import tqdm\n",
    "from PIL import Image\n",
    "from pydicom.pixel_data_handlers.util import apply_voi_lut"
   ]
  },
  {
   "cell_type": "code",
   "execution_count": 29,
   "id": "convertible-citation",
   "metadata": {},
   "outputs": [],
   "source": [
    "train_dir = 'C:/Users/monke/Downloads/vinbigdata/train'"
   ]
  },
  {
   "cell_type": "code",
   "execution_count": 30,
   "id": "improved-spring",
   "metadata": {},
   "outputs": [
    {
     "name": "stdout",
     "output_type": "stream",
     "text": [
      "Number of train files: 15000\n"
     ]
    }
   ],
   "source": [
    "train_dicom_files = glob(f\"{train_dir}/*.dicom\")\n",
    "print(f\"Number of train files: {len(train_dicom_files)}\")"
   ]
  },
  {
   "cell_type": "code",
   "execution_count": 31,
   "id": "appropriate-support",
   "metadata": {},
   "outputs": [
    {
     "name": "stdout",
     "output_type": "stream",
     "text": [
      "C:/Xray/data/train active\n"
     ]
    }
   ],
   "source": [
    "make_dir(f'{data_path}/train')"
   ]
  },
  {
   "cell_type": "code",
   "execution_count": 32,
   "id": "neither-singer",
   "metadata": {},
   "outputs": [],
   "source": [
    "import shutil\n",
    "\n",
    "# shutil.rmtree(f'{data_path}/train')\n",
    "# shutil.rmtree(f'{data_path}/test')\n",
    "# shutil.rmtree(f'{data_path}/hist')"
   ]
  },
  {
   "cell_type": "code",
   "execution_count": 37,
   "id": "pleasant-lemon",
   "metadata": {},
   "outputs": [],
   "source": [
    "input_data_path = 'C:/Users/monke/Downloads/vinbigdata'\n",
    "output_data_path = 'C:/Xray/data'"
   ]
  },
  {
   "cell_type": "code",
   "execution_count": 34,
   "id": "intense-today",
   "metadata": {},
   "outputs": [],
   "source": [
    "def dicomToImage(inPath, outPath, subDir, patientId, imageType = 'png', voi_lut=True, fix_monochrome=True, inputImageType = 'dicom'):\n",
    "    dicom = pydicom.read_file(f\"{inPath}/{subDir}/{patientId}.{inputImageType}\")\n",
    "    # VOI LUT (if available by DICOM device) is used to\n",
    "    # transform raw DICOM data to \"human-friendly\" view\n",
    "    if voi_lut:\n",
    "        data = apply_voi_lut(dicom.pixel_array, dicom)\n",
    "    else:\n",
    "        data = dicom.pixel_array\n",
    "    # depending on this value, X-ray may look inverted - fix that:\n",
    "    if fix_monochrome and dicom.PhotometricInterpretation == \"MONOCHROME1\":\n",
    "        data = np.amax(data) - data\n",
    "    data = data - np.min(data)\n",
    "    data = data / np.max(data)\n",
    "    data = (data * 255).astype(np.uint8)\n",
    "\n",
    "    result_image = Image.fromarray(data)\n",
    "    result_image.save(f\"{outPath}/{subDir}/{patientId}.{imageType}\")\n",
    "    \n",
    "    return data"
   ]
  },
  {
   "cell_type": "code",
   "execution_count": 35,
   "id": "pressing-profile",
   "metadata": {},
   "outputs": [
    {
     "data": {
      "text/plain": [
       "array(['0005e8e3701dfb1dd93d53e2ff537b6e',\n",
       "       '0007d316f756b3fa0baea2ff514ce945',\n",
       "       '000d68e42b71d3eac10ccc077aba07c1', ...,\n",
       "       'ffceb71a80efba3b83c88e11f4b9694b',\n",
       "       'ffe6f9fe648a7ec29a50feb92d6c15a4',\n",
       "       'ffeffc54594debf3716d6fcd2402a99f'], dtype=object)"
      ]
     },
     "execution_count": 35,
     "metadata": {},
     "output_type": "execute_result"
    }
   ],
   "source": [
    "lesion_patient_ndarray = np.sort(train_df[train_df.class_id != 14].image_id.unique())\n",
    "lesion_patient_ndarray"
   ]
  },
  {
   "cell_type": "code",
   "execution_count": 38,
   "id": "promotional-galaxy",
   "metadata": {},
   "outputs": [
    {
     "name": "stderr",
     "output_type": "stream",
     "text": [
      "  0%|                                                                              | 5/15000 [00:02<1:45:06,  2.38it/s]D:\\Anaconda3\\envs\\kaggle\\lib\\site-packages\\pydicom\\pixel_data_handlers\\pillow_handler.py:176: UserWarning: The (0028,0101) 'Bits Stored' value (12-bit) doesn't match the JPEG 2000 data (16-bit). It's recommended that you change the 'Bits Stored' value\n",
      "  warnings.warn(\n",
      "  1%|▍                                                                            | 85/15000 [00:33<2:09:29,  1.92it/s]D:\\Anaconda3\\envs\\kaggle\\lib\\site-packages\\pydicom\\pixel_data_handlers\\pillow_handler.py:176: UserWarning: The (0028,0101) 'Bits Stored' value (14-bit) doesn't match the JPEG 2000 data (16-bit). It's recommended that you change the 'Bits Stored' value\n",
      "  warnings.warn(\n",
      "100%|██████████████████████████████████████████████████████████████████████████| 15000/15000 [1:38:10<00:00,  2.55it/s]\n"
     ]
    }
   ],
   "source": [
    "for file in tqdm(train_dicom_files):\n",
    "    basename = os.path.splitext(os.path.basename(file))\n",
    "    patientId = basename[0]\n",
    "    if patientId in lesion_patient_ndarray:\n",
    "        dicomToImage(input_data_path, output_data_path, 'train', patientId, 'png')"
   ]
  },
  {
   "cell_type": "code",
   "execution_count": 39,
   "id": "genetic-indonesia",
   "metadata": {},
   "outputs": [],
   "source": [
    "test_dir = 'C:/Users/monke/Downloads/vinbigdata/test'"
   ]
  },
  {
   "cell_type": "code",
   "execution_count": 40,
   "id": "overall-charleston",
   "metadata": {},
   "outputs": [
    {
     "name": "stdout",
     "output_type": "stream",
     "text": [
      "Number of train files: 3000\n"
     ]
    }
   ],
   "source": [
    "test_dicom_files = glob(f\"{test_dir}/*.dicom\")\n",
    "print(f\"Number of train files: {len(test_dicom_files)}\")"
   ]
  },
  {
   "cell_type": "code",
   "execution_count": 41,
   "id": "enclosed-assessment",
   "metadata": {},
   "outputs": [
    {
     "name": "stdout",
     "output_type": "stream",
     "text": [
      "C:/Xray/data/test active\n"
     ]
    }
   ],
   "source": [
    "make_dir(f'{data_path}/test')"
   ]
  },
  {
   "cell_type": "code",
   "execution_count": 42,
   "id": "peripheral-cincinnati",
   "metadata": {},
   "outputs": [
    {
     "name": "stderr",
     "output_type": "stream",
     "text": [
      "100%|████████████████████████████████████████████████████████████████████████████| 3000/3000 [1:04:39<00:00,  1.29s/it]\n"
     ]
    }
   ],
   "source": [
    "for file in tqdm(test_dicom_files):\n",
    "    basename = os.path.splitext(os.path.basename(file))\n",
    "    patientId = basename[0]\n",
    "    dicomToImage(input_data_path, output_data_path, 'test', patientId, 'png')"
   ]
  },
  {
   "cell_type": "code",
   "execution_count": null,
   "id": "devoted-apache",
   "metadata": {},
   "outputs": [],
   "source": []
  }
 ],
 "metadata": {
  "kernelspec": {
   "display_name": "kaggle",
   "language": "python",
   "name": "kaggle"
  },
  "language_info": {
   "codemirror_mode": {
    "name": "ipython",
    "version": 3
   },
   "file_extension": ".py",
   "mimetype": "text/x-python",
   "name": "python",
   "nbconvert_exporter": "python",
   "pygments_lexer": "ipython3",
   "version": "3.8.5"
  }
 },
 "nbformat": 4,
 "nbformat_minor": 5
}
