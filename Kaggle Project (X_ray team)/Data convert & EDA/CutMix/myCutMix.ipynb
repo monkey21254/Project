{
  "nbformat": 4,
  "nbformat_minor": 0,
  "metadata": {
    "colab": {
      "name": "myCutMix.ipynb",
      "provenance": [],
      "collapsed_sections": []
    },
    "kernelspec": {
      "name": "python3",
      "display_name": "Python 3"
    }
  },
  "cells": [
    {
      "cell_type": "code",
      "metadata": {
        "colab": {
          "base_uri": "https://localhost:8080/"
        },
        "id": "FCSgUGwrObIK",
        "outputId": "8aa8d334-de7b-42db-a095-41adf11c7291"
      },
      "source": [
        "from google.colab import drive\n",
        "drive.mount('/content/drive')"
      ],
      "execution_count": null,
      "outputs": [
        {
          "output_type": "stream",
          "text": [
            "Drive already mounted at /content/drive; to attempt to forcibly remount, call drive.mount(\"/content/drive\", force_remount=True).\n"
          ],
          "name": "stdout"
        }
      ]
    },
    {
      "cell_type": "code",
      "metadata": {
        "colab": {
          "base_uri": "https://localhost:8080/"
        },
        "id": "f-yqs--XSEvT",
        "outputId": "0371a349-67f4-40de-f50a-e2fcdd70c9a4"
      },
      "source": [
        "!pwd"
      ],
      "execution_count": null,
      "outputs": [
        {
          "output_type": "stream",
          "text": [
            "/content\n"
          ],
          "name": "stdout"
        }
      ]
    },
    {
      "cell_type": "code",
      "metadata": {
        "colab": {
          "base_uri": "https://localhost:8080/"
        },
        "id": "DyGLaoePOc9T",
        "outputId": "9a0e5fd3-8917-4598-9950-01de86f9884e"
      },
      "source": [
        "# git clone\r\n",
        "!git clone https://github.com/Britefury/cutmix-semisup-seg"
      ],
      "execution_count": null,
      "outputs": [
        {
          "output_type": "stream",
          "text": [
            "Cloning into 'cutmix-semisup-seg'...\n",
            "remote: Enumerating objects: 103, done.\u001b[K\n",
            "remote: Counting objects: 100% (103/103), done.\u001b[K\n",
            "remote: Compressing objects: 100% (76/76), done.\u001b[K\n",
            "remote: Total 103 (delta 36), reused 85 (delta 21), pack-reused 0\u001b[K\n",
            "Receiving objects: 100% (103/103), 3.58 MiB | 6.83 MiB/s, done.\n",
            "Resolving deltas: 100% (36/36), done.\n"
          ],
          "name": "stdout"
        }
      ]
    },
    {
      "cell_type": "code",
      "metadata": {
        "colab": {
          "base_uri": "https://localhost:8080/"
        },
        "id": "S6nQgfcVO3sa",
        "outputId": "2abb83e2-cf87-417f-8f60-cc92502ebf8d"
      },
      "source": [
        "# 파이썬 버전 확인\r\n",
        "import sys\r\n",
        "sys.version_info"
      ],
      "execution_count": null,
      "outputs": [
        {
          "output_type": "execute_result",
          "data": {
            "text/plain": [
              "sys.version_info(major=3, minor=6, micro=9, releaselevel='final', serial=0)"
            ]
          },
          "metadata": {
            "tags": []
          },
          "execution_count": 4
        }
      ]
    },
    {
      "cell_type": "code",
      "metadata": {
        "colab": {
          "base_uri": "https://localhost:8080/"
        },
        "id": "AkoArOboP9ir",
        "outputId": "e67e5b94-a0d7-472e-90d7-dc7e9b621d3c"
      },
      "source": [
        "# 디스크 용량\r\n",
        "!df -h"
      ],
      "execution_count": null,
      "outputs": [
        {
          "output_type": "stream",
          "text": [
            "Filesystem      Size  Used Avail Use% Mounted on\n",
            "overlay          69G   33G   37G  48% /\n",
            "tmpfs            64M     0   64M   0% /dev\n",
            "tmpfs           6.4G     0  6.4G   0% /sys/fs/cgroup\n",
            "shm             5.8G     0  5.8G   0% /dev/shm\n",
            "tmpfs           6.4G   20K  6.4G   1% /var/colab\n",
            "/dev/sda1        75G   34G   41G  46% /opt/bin\n",
            "tmpfs           6.4G     0  6.4G   0% /proc/acpi\n",
            "tmpfs           6.4G     0  6.4G   0% /proc/scsi\n",
            "tmpfs           6.4G     0  6.4G   0% /sys/firmware\n",
            "drive            15G  7.5G  7.6G  50% /content/drive\n"
          ],
          "name": "stdout"
        }
      ]
    },
    {
      "cell_type": "code",
      "metadata": {
        "colab": {
          "base_uri": "https://localhost:8080/"
        },
        "id": "N1YmPeQAP_iZ",
        "outputId": "f2c40f66-0774-4cd7-b9d1-308ae8044e62"
      },
      "source": [
        "# 메모리 정보\r\n",
        "!cat /proc/meminfo"
      ],
      "execution_count": null,
      "outputs": [
        {
          "output_type": "stream",
          "text": [
            "MemTotal:       13333580 kB\n",
            "MemFree:        10525136 kB\n",
            "MemAvailable:   12454588 kB\n",
            "Buffers:           83572 kB\n",
            "Cached:          1986808 kB\n",
            "SwapCached:            0 kB\n",
            "Active:           976496 kB\n",
            "Inactive:        1512040 kB\n",
            "Active(anon):     384756 kB\n",
            "Inactive(anon):      360 kB\n",
            "Active(file):     591740 kB\n",
            "Inactive(file):  1511680 kB\n",
            "Unevictable:           0 kB\n",
            "Mlocked:               0 kB\n",
            "SwapTotal:             0 kB\n",
            "SwapFree:              0 kB\n",
            "Dirty:              5852 kB\n",
            "Writeback:             0 kB\n",
            "AnonPages:        418220 kB\n",
            "Mapped:           243476 kB\n",
            "Shmem:              1008 kB\n",
            "Slab:             179568 kB\n",
            "SReclaimable:     133768 kB\n",
            "SUnreclaim:        45800 kB\n",
            "KernelStack:        4660 kB\n",
            "PageTables:         5976 kB\n",
            "NFS_Unstable:          0 kB\n",
            "Bounce:                0 kB\n",
            "WritebackTmp:          0 kB\n",
            "CommitLimit:     6666788 kB\n",
            "Committed_AS:    3210492 kB\n",
            "VmallocTotal:   34359738367 kB\n",
            "VmallocUsed:           0 kB\n",
            "VmallocChunk:          0 kB\n",
            "Percpu:             1048 kB\n",
            "AnonHugePages:         0 kB\n",
            "ShmemHugePages:        0 kB\n",
            "ShmemPmdMapped:        0 kB\n",
            "HugePages_Total:       0\n",
            "HugePages_Free:        0\n",
            "HugePages_Rsvd:        0\n",
            "HugePages_Surp:        0\n",
            "Hugepagesize:       2048 kB\n",
            "Hugetlb:               0 kB\n",
            "DirectMap4k:      144616 kB\n",
            "DirectMap2M:     5097472 kB\n",
            "DirectMap1G:    10485760 kB\n"
          ],
          "name": "stdout"
        }
      ]
    },
    {
      "cell_type": "code",
      "metadata": {
        "colab": {
          "base_uri": "https://localhost:8080/"
        },
        "id": "5eHexU-iQFLa",
        "outputId": "3dbcbb60-6f5f-45a0-f314-836f25858430"
      },
      "source": [
        "# GPU 사용가능여부 확인\r\n",
        "!nvidia-smi"
      ],
      "execution_count": null,
      "outputs": [
        {
          "output_type": "stream",
          "text": [
            "Wed Feb 17 01:57:45 2021       \n",
            "+-----------------------------------------------------------------------------+\n",
            "| NVIDIA-SMI 460.39       Driver Version: 460.32.03    CUDA Version: 11.2     |\n",
            "|-------------------------------+----------------------+----------------------+\n",
            "| GPU  Name        Persistence-M| Bus-Id        Disp.A | Volatile Uncorr. ECC |\n",
            "| Fan  Temp  Perf  Pwr:Usage/Cap|         Memory-Usage | GPU-Util  Compute M. |\n",
            "|                               |                      |               MIG M. |\n",
            "|===============================+======================+======================|\n",
            "|   0  Tesla T4            Off  | 00000000:00:04.0 Off |                    0 |\n",
            "| N/A   33C    P8    10W /  70W |      0MiB / 15109MiB |      0%      Default |\n",
            "|                               |                      |                  N/A |\n",
            "+-------------------------------+----------------------+----------------------+\n",
            "                                                                               \n",
            "+-----------------------------------------------------------------------------+\n",
            "| Processes:                                                                  |\n",
            "|  GPU   GI   CI        PID   Type   Process name                  GPU Memory |\n",
            "|        ID   ID                                                   Usage      |\n",
            "|=============================================================================|\n",
            "|  No running processes found                                                 |\n",
            "+-----------------------------------------------------------------------------+\n"
          ],
          "name": "stdout"
        }
      ]
    },
    {
      "cell_type": "code",
      "metadata": {
        "colab": {
          "base_uri": "https://localhost:8080/"
        },
        "id": "ZEf4HrfFQMwB",
        "outputId": "0b6be633-f5a0-493a-b4ff-7d5ebe456294"
      },
      "source": [
        "# %cd ..\r\n",
        "%cd cutmix-semisup-seg\r\n",
        "# %pip install -qr requirements.txt"
      ],
      "execution_count": null,
      "outputs": [
        {
          "output_type": "stream",
          "text": [
            "/content/cutmix-semisup-seg\n"
          ],
          "name": "stdout"
        }
      ]
    },
    {
      "cell_type": "code",
      "metadata": {
        "colab": {
          "base_uri": "https://localhost:8080/"
        },
        "id": "ijpLrGfySlZR",
        "outputId": "d1a4c52a-6644-4a21-a6e0-04aa9cc9a216"
      },
      "source": [
        "import torch\r\n",
        "from IPython.display import Image, clear_output\r\n",
        "\r\n",
        "clear_output()\r\n",
        "print('Setup complete. Using torch %s %s' % (torch.__version__, torch.cuda.get_device_properties(0) if torch.cuda.is_available() else 'CPU'))"
      ],
      "execution_count": null,
      "outputs": [
        {
          "output_type": "stream",
          "text": [
            "Setup complete. Using torch 1.7.0+cu101 _CudaDeviceProperties(name='Tesla T4', major=7, minor=5, total_memory=15109MB, multi_processor_count=40)\n"
          ],
          "name": "stdout"
        }
      ]
    },
    {
      "cell_type": "code",
      "metadata": {
        "colab": {
          "base_uri": "https://localhost:8080/"
        },
        "id": "esFaYYmCTeKZ",
        "outputId": "3ead632b-642f-4da8-9a99-cb2a2655b84a"
      },
      "source": [
        "%pip install git+https://github.com/Britefury/semantic-segmentation-pytorch.git@logits-from-models"
      ],
      "execution_count": null,
      "outputs": [
        {
          "output_type": "stream",
          "text": [
            "Collecting git+https://github.com/Britefury/semantic-segmentation-pytorch.git@logits-from-models\n",
            "  Cloning https://github.com/Britefury/semantic-segmentation-pytorch.git (to revision logits-from-models) to /tmp/pip-req-build-82ovwe24\n",
            "  Running command git clone -q https://github.com/Britefury/semantic-segmentation-pytorch.git /tmp/pip-req-build-82ovwe24\n",
            "  Running command git checkout -b logits-from-models --track origin/logits-from-models\n",
            "  Switched to a new branch 'logits-from-models'\n",
            "  Branch 'logits-from-models' set up to track remote branch 'logits-from-models' from 'origin'.\n",
            "Requirement already satisfied: numpy in /usr/local/lib/python3.6/dist-packages (from mit-semseg==1.0.0) (1.19.5)\n",
            "Requirement already satisfied: torch>=0.4.1 in /usr/local/lib/python3.6/dist-packages (from mit-semseg==1.0.0) (1.7.0+cu101)\n",
            "Requirement already satisfied: torchvision in /usr/local/lib/python3.6/dist-packages (from mit-semseg==1.0.0) (0.8.1+cu101)\n",
            "Requirement already satisfied: opencv-python in /usr/local/lib/python3.6/dist-packages (from mit-semseg==1.0.0) (4.1.2.30)\n",
            "Collecting yacs\n",
            "  Downloading https://files.pythonhosted.org/packages/38/4f/fe9a4d472aa867878ce3bb7efb16654c5d63672b86dc0e6e953a67018433/yacs-0.1.8-py3-none-any.whl\n",
            "Requirement already satisfied: scipy in /usr/local/lib/python3.6/dist-packages (from mit-semseg==1.0.0) (1.4.1)\n",
            "Requirement already satisfied: tqdm in /usr/local/lib/python3.6/dist-packages (from mit-semseg==1.0.0) (4.41.1)\n",
            "Requirement already satisfied: future in /usr/local/lib/python3.6/dist-packages (from torch>=0.4.1->mit-semseg==1.0.0) (0.16.0)\n",
            "Requirement already satisfied: dataclasses in /usr/local/lib/python3.6/dist-packages (from torch>=0.4.1->mit-semseg==1.0.0) (0.8)\n",
            "Requirement already satisfied: typing-extensions in /usr/local/lib/python3.6/dist-packages (from torch>=0.4.1->mit-semseg==1.0.0) (3.7.4.3)\n",
            "Requirement already satisfied: pillow>=4.1.1 in /usr/local/lib/python3.6/dist-packages (from torchvision->mit-semseg==1.0.0) (7.0.0)\n",
            "Requirement already satisfied: PyYAML in /usr/local/lib/python3.6/dist-packages (from yacs->mit-semseg==1.0.0) (3.13)\n",
            "Building wheels for collected packages: mit-semseg\n",
            "  Building wheel for mit-semseg (setup.py) ... \u001b[?25l\u001b[?25hdone\n",
            "  Created wheel for mit-semseg: filename=mit_semseg-1.0.0-cp36-none-any.whl size=46732 sha256=78d6c929905dd9e71f65f85202020076a45846012120234c35c24fb3da611a87\n",
            "  Stored in directory: /tmp/pip-ephem-wheel-cache-xeql66ef/wheels/02/2a/b0/5fbf7ecd42ac24c2a373706abe9a1c55721120ec3b094e1fa9\n",
            "Successfully built mit-semseg\n",
            "Installing collected packages: yacs, mit-semseg\n",
            "Successfully installed mit-semseg-1.0.0 yacs-0.1.8\n"
          ],
          "name": "stdout"
        }
      ]
    },
    {
      "cell_type": "code",
      "metadata": {
        "colab": {
          "base_uri": "https://localhost:8080/",
          "height": 35
        },
        "id": "Qz7Zs6vfT27x",
        "outputId": "1d62fd21-cea6-4ede-828d-1353d062d146"
      },
      "source": [
        "import os\r\n",
        "os.getcwd()"
      ],
      "execution_count": null,
      "outputs": [
        {
          "output_type": "execute_result",
          "data": {
            "application/vnd.google.colaboratory.intrinsic+json": {
              "type": "string"
            },
            "text/plain": [
              "'/content/cutmix-semisup-seg'"
            ]
          },
          "metadata": {
            "tags": []
          },
          "execution_count": 11
        }
      ]
    },
    {
      "cell_type": "code",
      "metadata": {
        "id": "hqEhQdWYVO7i"
      },
      "source": [
        "def make_dir(name):\r\n",
        "  if not os.path.isdir(name):\r\n",
        "    os.mkdir(name)\r\n",
        "  else:\r\n",
        "    print(\"Already exists.\")"
      ],
      "execution_count": null,
      "outputs": []
    },
    {
      "cell_type": "markdown",
      "metadata": {
        "id": "Lc4trE0QdJgH"
      },
      "source": [
        "#### cfg 파일 작성"
      ]
    },
    {
      "cell_type": "code",
      "metadata": {
        "id": "TIEXy8aHWK-8"
      },
      "source": [
        "make_path = ['[paths]\\n',\r\n",
        "'camvid=/datasets/camvid/CamVidData.zip\\n',\r\n",
        "'cityscapes=/datasets/cityscapes\\cityscapes_segmentation.zip\\n',\r\n",
        "'isic2017=/datasets/isic2017/isic2017_segmentation_248x248.zip\\n',\r\n",
        "'pascal_voc=/content/cutmix-semisup-seg/VOCdevkit/VOC2012']\r\n",
        "# 'pascal_voc=/datasets/pascal_voc2012/VOCdevkit/VOC2012'에서 수정"
      ],
      "execution_count": null,
      "outputs": []
    },
    {
      "cell_type": "code",
      "metadata": {
        "id": "3YVs1lFnVjpI"
      },
      "source": [
        "with open(\"semantic_segmentation.cfg\", 'w') as f:\r\n",
        "    f.writelines(make_path)"
      ],
      "execution_count": null,
      "outputs": []
    },
    {
      "cell_type": "markdown",
      "metadata": {
        "id": "6iHiznd0dOLN"
      },
      "source": [
        "#### tar 파일 압축풀기"
      ]
    },
    {
      "cell_type": "code",
      "metadata": {
        "id": "G00jn5ljV1jQ"
      },
      "source": [
        "# tar 파일 압축 풀기\r\n",
        "!tar -xvf /content/drive/MyDrive/temp/VOCtrainval_11-May-2012.tar -C ."
      ],
      "execution_count": null,
      "outputs": []
    },
    {
      "cell_type": "code",
      "metadata": {
        "id": "8fd91c6mdVmi"
      },
      "source": [
        "# zip 파일 압축 풀기\r\n",
        "!unzip /content/drive/MyDrive/temp/SegmentationClassAug.zip -d /content/cutmix-semisup-seg/VOCdevkit/VOC2012"
      ],
      "execution_count": null,
      "outputs": []
    },
    {
      "cell_type": "code",
      "metadata": {
        "id": "bOA7sI6BdV8X"
      },
      "source": [
        "!python download_pascal_aug_names.py"
      ],
      "execution_count": null,
      "outputs": []
    },
    {
      "cell_type": "code",
      "metadata": {
        "colab": {
          "base_uri": "https://localhost:8080/"
        },
        "id": "7SuRFoNidWI3",
        "outputId": "bb09640c-7c26-4e17-a050-17ac635d7e11"
      },
      "source": [
        "# 샘플데이터 학습\r\n",
        "!sh run_pascal_aug_deeplab3plus_experiments.sh 10 2"
      ],
      "execution_count": null,
      "outputs": [
        {
          "output_type": "stream",
          "text": [
            "[NO dnnlib] logging to results/train_seg_semisup_mask_mt/log_pascalaug_deeplab3plusi_lr1e-5_sup_2_split0.txt\n",
            "Loaded data\n",
            "Built network\n",
            "Settings:\n",
            "arch=resnet101_deeplabv3plus_imagenet, aug_hflip=True, aug_hvflip=False, aug_max_scale=1.0, aug_rot_mag=0.0, aug_scale_hung=True, aug_scale_non_uniform=False, aug_vflip=False, batch_size=10, bin_fill_holes=False, boxmask_by_size=False, boxmask_fixed_aspect_ratio=False, boxmask_n_boxes=1, boxmask_no_invert=False, boxmask_outside_bounds=False, conf_per_pixel=False, conf_thresh=0.97, cons_loss_fn=var, cons_weight=0.0, crop_size=321,321, dataset=pascal_aug, freeze_bn=True, iters_per_epoch=1000, learning_rate=1e-05, lr_poly_power=0.9, lr_sched=none, lr_step_epochs=, lr_step_gamma=0.1, mask_mode=mix, mask_prop_range=0.5, model=mean_teacher, n_sup=10, n_unsup=-1, n_val=-1, num_epochs=40, num_workers=4, opt_type=adam, rampup=-1, save_model=False, save_preds=False, sgd_momentum=0.9, sgd_nesterov=False, sgd_weight_decay=0.0005, split_path=./data/splits/pascal_aug/split_0.pkl, split_seed=12345, teacher_alpha=0.99, unsup_batch_ratio=1, val_seed=131\n",
            "Dataset:\n",
            "len(sup_ndx)=10\n",
            "len(unsup_ndx)=10582\n",
            "len(val_ndx)=1449\n",
            "sup_ndx=[4041, 10987, 1393, 1340, 10725, 11221, 5444, 6425, 2462, 9129]\n",
            "Training...\n",
            "Epoch 1: took 2783.964s, TRAIN clf loss=0.254013, consistency loss=0.000000, conf rate=0.000%, VAL mIoU=12.922%\n",
            "-- 83.424%, 37.356%, 0.000%, 30.806%, 1.012%, 0.011%, 0.000%, 0.000%, 37.414%, 4.359%, 0.000%, 0.056%, 18.741%, 0.000%, 0.000%, 35.450%, 16.229%, 0.000%, 0.000%, 0.000%, 6.494%\n",
            "\n",
            "Aborted!\n",
            "^C\n"
          ],
          "name": "stdout"
        }
      ]
    },
    {
      "cell_type": "code",
      "metadata": {
        "id": "bDT00wCNdWMF"
      },
      "source": [
        "# !rm -r ./results"
      ],
      "execution_count": null,
      "outputs": []
    },
    {
      "cell_type": "code",
      "metadata": {
        "id": "xEKyYYFcdWPt"
      },
      "source": [
        ""
      ],
      "execution_count": null,
      "outputs": []
    },
    {
      "cell_type": "code",
      "metadata": {
        "id": "HE8nMNRIdWTF"
      },
      "source": [
        ""
      ],
      "execution_count": null,
      "outputs": []
    }
  ]
}